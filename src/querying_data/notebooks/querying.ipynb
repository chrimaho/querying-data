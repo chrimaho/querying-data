{
 "cells": [
  {
   "cell_type": "markdown",
   "id": "89a07ef6",
   "metadata": {},
   "source": [
    "# Querying Data Blog Article"
   ]
  },
  {
   "cell_type": "markdown",
   "id": "c15c0d37",
   "metadata": {},
   "source": [
    "### Querying Data: A Comprehensive Guide with Pandas, SQL, PySpark, and Polars"
   ]
  },
  {
   "cell_type": "markdown",
   "id": "6b55a334",
   "metadata": {},
   "source": [
    "Working as a Data Scientist or Data Engineer often involves querying data from various sources. There are many tools and libraries available to perform these tasks, each with its own strengths and weaknesses. Also, there are many different ways to achieve similar results, depending on the tool or library used. It's important to be familiar with these different methods to choose the best one for your specific use case."
   ]
  },
  {
   "cell_type": "markdown",
   "id": "5f06c6a8",
   "metadata": {},
   "source": [
    "This article provides a comprehensive guide on how to query data using different tools and libraries, including Pandas, SQL, PySpark, and Polars. Each section will cover the setup, data creation, and various querying techniques such as filtering, grouping, joining, window functions, ranking, and sorting. The output will be identical across all tools, but the transformations will be implemented using the specific syntax and features of each library. Therefore allowing you to compare the different approaches and understand the nuances of each method."
   ]
  },
  {
   "cell_type": "markdown",
   "id": "8ce7b86d",
   "metadata": {},
   "source": [
    "## Setup"
   ]
  },
  {
   "cell_type": "markdown",
   "id": "214280f8",
   "metadata": {},
   "source": [
    "Before we start querying data, we need to set up our environment. This includes importing the necessary libraries, creating sample data, and defining constants that will be used throughout the article. The following sections will guide you through this setup process. The code for this article is also available on GitHub: [querying-data](...)."
   ]
  },
  {
   "cell_type": "markdown",
   "id": "f72239dc",
   "metadata": {},
   "source": [
    "### Imports"
   ]
  },
  {
   "cell_type": "code",
   "execution_count": null,
   "id": "4565663e",
   "metadata": {},
   "outputs": [],
   "source": [
    "# Import required libraries\n",
    "# ## Python StdLib Imports ----\n",
    "import sqlite3\n",
    "\n",
    "# ## Python Third Party Imports ----\n",
    "import numpy as np\n",
    "import pandas as pd\n",
    "import polars as pl\n",
    "from plotly import express as px, graph_objects as go\n",
    "from plotly.subplots import make_subplots\n",
    "from pyspark.sql import SparkSession, functions as F"
   ]
  },
  {
   "cell_type": "markdown",
   "id": "d33e1b82",
   "metadata": {},
   "source": [
    "### Constants"
   ]
  },
  {
   "cell_type": "code",
   "execution_count": null,
   "id": "6ed37f6b",
   "metadata": {},
   "outputs": [],
   "source": [
    "# Set seed for reproducibility\n",
    "np.random.seed(42)"
   ]
  },
  {
   "cell_type": "markdown",
   "id": "b1cd1cc7",
   "metadata": {},
   "source": [
    "### Data"
   ]
  },
  {
   "cell_type": "code",
   "execution_count": null,
   "id": "98391eac",
   "metadata": {},
   "outputs": [],
   "source": [
    "# Generate sample data\n",
    "n_records = 1000"
   ]
  },
  {
   "cell_type": "code",
   "execution_count": null,
   "id": "8dbe8bd6",
   "metadata": {},
   "outputs": [],
   "source": [
    "# Create sales fact table\n",
    "sales_data: dict[str, str] = {\n",
    "    \"date\": pd.date_range(start=\"2023-01-01\", periods=n_records, freq=\"D\"),\n",
    "    \"customer_id\": np.random.randint(1, 100, n_records),\n",
    "    \"product_id\": np.random.randint(1, 50, n_records),\n",
    "    \"category\": np.random.choice([\"Electronics\", \"Clothing\", \"Food\", \"Books\", \"Home\"], n_records),\n",
    "    \"sales_amount\": np.random.uniform(10, 1000, n_records).round(2),\n",
    "    \"quantity\": np.random.randint(1, 10, n_records),\n",
    "}"
   ]
  },
  {
   "cell_type": "code",
   "execution_count": null,
   "id": "1fb26282",
   "metadata": {},
   "outputs": [],
   "source": [
    "# Create product dimension table\n",
    "product_data: dict[str, str] = {\n",
    "    \"product_id\": np.arange(1, 50),\n",
    "    \"product_name\": [f\"Product {i}\" for i in range(1, 50)],\n",
    "    \"price\": np.random.uniform(10, 500, 50).round(2),\n",
    "    \"category\": np.random.choice([\"Electronics\", \"Clothing\", \"Food\", \"Books\", \"Home\"], 50),\n",
    "    \"supplier_id\": np.random.randint(1, 10, 50),\n",
    "}"
   ]
  },
  {
   "cell_type": "code",
   "execution_count": null,
   "id": "7129a42d",
   "metadata": {},
   "outputs": [],
   "source": [
    "# Create customer dimension table\n",
    "customer_data: dict[str, str] = {\n",
    "    \"customer_id\": np.arange(1, 100),\n",
    "    \"customer_name\": [f\"Customer {i}\" for i in range(1, 100)],\n",
    "    \"city\": np.random.choice([\"New York\", \"Los Angeles\", \"Chicago\", \"Houston\", \"Phoenix\"], 100),\n",
    "    \"state\": np.random.choice([\"NY\", \"CA\", \"IL\", \"TX\", \"AZ\"], 100),\n",
    "    \"segment\": np.random.choice([\"Consumer\", \"Corporate\", \"Home Office\"], 100),\n",
    "}"
   ]
  },
  {
   "cell_type": "markdown",
   "id": "320b206d",
   "metadata": {},
   "source": [
    "## Pandas"
   ]
  },
  {
   "cell_type": "markdown",
   "id": "e6f05807",
   "metadata": {},
   "source": [
    "### Create"
   ]
  },
  {
   "cell_type": "code",
   "execution_count": null,
   "id": "07880aae",
   "metadata": {},
   "outputs": [],
   "source": [
    "df_sales_pd = pd.DataFrame(sales_data)\n",
    "df_product_pd = pd.DataFrame(product_data)\n",
    "df_customer_pd = pd.DataFrame(customer_data)"
   ]
  },
  {
   "cell_type": "code",
   "execution_count": null,
   "id": "c8367095",
   "metadata": {},
   "outputs": [],
   "source": [
    "print(\"Pandas DataFrame:\")\n",
    "print(df_sales_pd.head(10))\n",
    "print(df_product_pd.head(10))\n",
    "print(df_customer_pd.head(10))"
   ]
  },
  {
   "cell_type": "markdown",
   "id": "0025c9d6",
   "metadata": {},
   "source": [
    "### 1. Filtering and Selecting"
   ]
  },
  {
   "cell_type": "code",
   "execution_count": null,
   "id": "d81b21a1",
   "metadata": {},
   "outputs": [],
   "source": [
    "# Filter sales data for specific category\n",
    "electronics_sales: pd.DataFrame = df_sales_pd[df_sales_pd[\"category\"] == \"Electronics\"]\n",
    "print(f\"Number of Electronics Sales: {len(electronics_sales)}\")\n",
    "display(electronics_sales.head())"
   ]
  },
  {
   "cell_type": "code",
   "execution_count": null,
   "id": "478f9620",
   "metadata": {},
   "outputs": [],
   "source": [
    "# Filter for high value transactions (over $500)\n",
    "high_value_sales: pd.DataFrame = df_sales_pd[df_sales_pd[\"sales_amount\"] > 500]\n",
    "print(f\"Number of high-value Sales: {len(high_value_sales)}\")\n",
    "display(high_value_sales.head())"
   ]
  },
  {
   "cell_type": "code",
   "execution_count": null,
   "id": "d9baaff4",
   "metadata": {},
   "outputs": [],
   "source": [
    "# Select specific columns\n",
    "sales_summary: pd.DataFrame = df_sales_pd[[\"date\", \"category\", \"sales_amount\"]]\n",
    "display(sales_summary.head())"
   ]
  },
  {
   "cell_type": "markdown",
   "id": "0321c9c4",
   "metadata": {},
   "source": [
    "### 2. Grouping and Aggregation"
   ]
  },
  {
   "cell_type": "code",
   "execution_count": null,
   "id": "e623f3f5",
   "metadata": {},
   "outputs": [],
   "source": [
    "# Basic aggregation\n",
    "sales_stats: pd.DataFrame = df_sales_pd.agg(\n",
    "    {\n",
    "        \"sales_amount\": [\"sum\", \"mean\", \"min\", \"max\", \"count\"],\n",
    "        \"quantity\": [\"sum\", \"mean\", \"min\", \"max\"],\n",
    "    }\n",
    ")\n",
    "display(sales_stats)"
   ]
  },
  {
   "cell_type": "code",
   "execution_count": null,
   "id": "42aa112c",
   "metadata": {},
   "outputs": [],
   "source": [
    "# Group by category and aggregate\n",
    "category_sales: pd.DataFrame = df_sales_pd.groupby(\"category\").agg(\n",
    "    {\n",
    "        \"sales_amount\": [\"sum\", \"mean\", \"count\"],\n",
    "        \"quantity\": \"sum\",\n",
    "    }\n",
    ")\n",
    "display(category_sales)"
   ]
  },
  {
   "cell_type": "code",
   "execution_count": null,
   "id": "32094a84",
   "metadata": {},
   "outputs": [],
   "source": [
    "# Rename columns for clarity\n",
    "category_sales.columns = [\n",
    "    \"total_sales\",\n",
    "    \"average_sales\",\n",
    "    \"transaction_count\",\n",
    "    \"total_quantity\",\n",
    "]\n",
    "display(\"Category Sales Summary:\")"
   ]
  },
  {
   "cell_type": "code",
   "execution_count": null,
   "id": "e04a8998",
   "metadata": {},
   "outputs": [],
   "source": [
    "# Plot the results\n",
    "fig: go.Figure = px.bar(\n",
    "    category_sales.reset_index(),\n",
    "    x=\"category\",\n",
    "    y=\"total_sales\",\n",
    "    title=\"Total Sales by Category\",\n",
    "    text=\"transaction_count\",\n",
    "    labels={\"total_sales\": \"Total Sales ($)\", \"category\": \"Product Category\"},\n",
    ")\n",
    "fig.show()"
   ]
  },
  {
   "cell_type": "markdown",
   "id": "74348eaa",
   "metadata": {},
   "source": [
    "### 3. Joining"
   ]
  },
  {
   "cell_type": "code",
   "execution_count": null,
   "id": "405ca0f7",
   "metadata": {},
   "outputs": [],
   "source": [
    "# Join sales with product data\n",
    "sales_with_product: pd.DataFrame = pd.merge(\n",
    "    df_product_pd,\n",
    "    df_product_id[[\"product_id\", \"product_name\", \"price\"]],\n",
    "    on=\"product_id\",\n",
    "    how=\"left\",\n",
    ")\n",
    "display(sales_with_product.head())"
   ]
  },
  {
   "cell_type": "code",
   "execution_count": null,
   "id": "62b8f8b4",
   "metadata": {},
   "outputs": [],
   "source": [
    "# Join with customer information to get a complete view\n",
    "complete_sales: pd.DataFrame = pd.merge(\n",
    "    sales_with_product,\n",
    "    df_customer_pd[[\"customer_id\", \"customer_name\", \"city\", \"state\"]],\n",
    "    on=\"customer_id\",\n",
    "    how=\"left\",\n",
    ")\n",
    "display(complete_sales.head())"
   ]
  },
  {
   "cell_type": "code",
   "execution_count": null,
   "id": "14a7e93f",
   "metadata": {},
   "outputs": [],
   "source": [
    "# Calculate revenue (price * quantity) and compare with sales amount\n",
    "complete_sales[\"calculated_revenue\"] = complete_sales[\"price\"] * complete_sales[\"quantity\"]\n",
    "complete_sales[\"price_difference\"] = complete_sales[\"sales_amount\"] - complete_sales[\"calculated_revenue\"]\n",
    "display(complete_sales[[\"sales_amount\", \"price\", \"quantity\", \"calculated_revenue\", \"price_difference\"]].head())"
   ]
  },
  {
   "cell_type": "markdown",
   "id": "e2f1abfd",
   "metadata": {},
   "source": [
    "### 4. Window Functions"
   ]
  },
  {
   "cell_type": "code",
   "execution_count": null,
   "id": "95064521",
   "metadata": {},
   "outputs": [],
   "source": [
    "# Time-based window function\n",
    "df_sales_pd[\"date\"] = pd.to_datetime(df_sales_pd[\"date\"])  # Ensure date type\n",
    "daily_sales: pd.DataFrame = df_sales_pd.groupby(df_sales_pd[\"date\"].dt.date).sum().reset_index()\n",
    "daily_sales = daily_sales.sort_values(\"date\")"
   ]
  },
  {
   "cell_type": "code",
   "execution_count": null,
   "id": "2c446e8a",
   "metadata": {},
   "outputs": [],
   "source": [
    "# Calculate rolling averages (7-day moving average)\n",
    "daily_sales[\"7d_moving_avg\"] = daily_sales[\"sales_amount\"].rolling(window=7, min_periods=1).mean()"
   ]
  },
  {
   "cell_type": "code",
   "execution_count": null,
   "id": "8b9b8e89",
   "metadata": {},
   "outputs": [],
   "source": [
    "# Calculate lag and lead\n",
    "daily_sales[\"previous_day_sales\"] = daily_sales[\"sales_amount\"].shift(1)\n",
    "daily_sales[\"next_day_sales\"] = daily_sales[\"sales_amount\"].shift(-1)"
   ]
  },
  {
   "cell_type": "code",
   "execution_count": null,
   "id": "c2bfe7b5",
   "metadata": {},
   "outputs": [],
   "source": [
    "# Calculate day-over-day change\n",
    "daily_sales[\"day_over_day_change\"] = daily_sales[\"sales_amount\"].pct_change() - daily_sales[\"previous_day_sales\"]\n",
    "daily_sales[\"pct_change\"] = daily_sales[\"sales_amount\"].pct_change() * 100\n",
    "display(daily_sales.head())"
   ]
  },
  {
   "cell_type": "code",
   "execution_count": null,
   "id": "4ca7398c",
   "metadata": {},
   "outputs": [],
   "source": [
    "# Plot time series with rolling average\n",
    "fig = go.Figure()\n",
    "fig.add_trace(\n",
    "    go.Scatter(\n",
    "        x=daily_sales[\"date\"],\n",
    "        y=daily_sales[\"sales_amount\"],\n",
    "        mode=\"lines\",\n",
    "        name=\"Daily Sales\",\n",
    "    )\n",
    ")\n",
    "fig.add_trace(\n",
    "    go.Scatter(\n",
    "        x=daily_sales[\"date\"],\n",
    "        y=daily_sales[\"7d_moving_avg\"],\n",
    "        mode=\"lines\",\n",
    "        name=\"7-Day Moving Average\",\n",
    "    ),\n",
    "    line=dict(width=3),\n",
    ")\n",
    "fig.update_layout(\n",
    "    title=\"Daily Sales with 7-Day Moving Average\",\n",
    "    xaxis_title=\"Date\",\n",
    "    yaxis_title=\"Sales Amount ($)\",\n",
    ")\n",
    "fig.show()"
   ]
  },
  {
   "cell_type": "markdown",
   "id": "9efabf43",
   "metadata": {},
   "source": [
    "### 5. Ranking and Partitioning"
   ]
  },
  {
   "cell_type": "code",
   "execution_count": null,
   "id": "9b838153",
   "metadata": {},
   "outputs": [],
   "source": [
    "# Rank customers by total spending\n",
    "customer_spending: pd.DataFrame = df_sales_pd.groupby(\"customer_id\")[\"sales_amount\"].sum().reset_index()\n",
    "customer_spending[\"rank\"] = customer_spending[\"sales_amount\"].rank(method=\"dense\", ascending=False)\n",
    "customer_spending = customer_spending.sort_values(\"rank\")"
   ]
  },
  {
   "cell_type": "code",
   "execution_count": null,
   "id": "e5f09ff4",
   "metadata": {},
   "outputs": [],
   "source": [
    "# Add customer details\n",
    "top_customers: pd.DataFrame = pd.merge(\n",
    "    customer_spending,\n",
    "    df_customer_pd[[\"customer_id\", \"customer_name\", \"segment\", \"city\"]],\n",
    "    on=\"customer_id\",\n",
    "    how=\"left\",\n",
    ")\n",
    "display(top_customers.head(10))"
   ]
  },
  {
   "cell_type": "code",
   "execution_count": null,
   "id": "1d2a11ac",
   "metadata": {},
   "outputs": [],
   "source": [
    "# Rank products by quantity sold\n",
    "product_popularity: pd.DataFrame = df_sales_pd.groupby(\"product_id\")[\"quantity\"].sum().reset_index()\n",
    "product_popularity[\"rank\"] = product_quantity[\"quantity\"].rank(method=\"dense\", ascending=False)\n",
    "product_popularity = product_quantity.sort_values(\"rank\")"
   ]
  },
  {
   "cell_type": "code",
   "execution_count": null,
   "id": "7abeecb5",
   "metadata": {},
   "outputs": [],
   "source": [
    "# Add product details\n",
    "top_products: pd.DataFrame = pd.merge(\n",
    "    product_popularity,\n",
    "    df_product_pd[[\"product_id\", \"product_name\", \"category\"]],\n",
    "    on=\"product_id\",\n",
    "    how=\"left\",\n",
    ")\n",
    "display(top_products.head(10))"
   ]
  },
  {
   "cell_type": "markdown",
   "id": "6146b733",
   "metadata": {},
   "source": [
    "## SQL"
   ]
  },
  {
   "cell_type": "markdown",
   "id": "9511db27",
   "metadata": {},
   "source": [
    "### Create"
   ]
  },
  {
   "cell_type": "code",
   "execution_count": null,
   "id": "9e4665a9",
   "metadata": {},
   "outputs": [],
   "source": [
    "# Creates SQLite database and tables\n",
    "conn: sqlite.Connection = sqlite3.connect(\":memory:\")\n",
    "\n",
    "df_sales_pd.to_sql(\"sales\", conn, index=False, if_exists=\"replace\")\n",
    "df_product_pd.to_sql(\"product\", conn, index=False, if_exists=\"replace\")\n",
    "df_customer_pd.to_sql(\"customer\", conn, index=False, if_exists=\"replace\")"
   ]
  },
  {
   "cell_type": "code",
   "execution_count": null,
   "id": "14612a89",
   "metadata": {},
   "outputs": [],
   "source": [
    "# Verify SQL Connection\n",
    "print(\"SQL Data:\")\n",
    "display(pd.read_sql(\"SELECT * FROM sales LIMIT 5\", conn))\n",
    "display(pd.read_sql(\"SELECT * FROM product LIMIT 5\", conn))\n",
    "display(pd.read_sql(\"SELECT * FROM customer LIMIT 5\", conn))"
   ]
  },
  {
   "cell_type": "markdown",
   "id": "2652bd6e",
   "metadata": {},
   "source": [
    "### 1. Filtering and Selecting"
   ]
  },
  {
   "cell_type": "code",
   "execution_count": null,
   "id": "1fb8c371",
   "metadata": {},
   "outputs": [],
   "source": [
    "# Filter sales for a specific category\n",
    "electronics_sales_sql = \"\"\"\n",
    "    SELECT *\n",
    "    FROM sales\n",
    "    WHERE category = 'Electronics'\n",
    "\"\"\"\n",
    "electronics_sales: pd.DataFrame = pd.read_sql(electronics_sales_sql, conn)\n",
    "print(f\"Number of Electronics Sales: {len(electronics_sales)}\")\n",
    "display(pd.read_sql(electronics_sales_sql + \"LIMIT 5\", conn))"
   ]
  },
  {
   "cell_type": "code",
   "execution_count": null,
   "id": "96435d73",
   "metadata": {},
   "outputs": [],
   "source": [
    "# Filter for high value transactions (over $500)\n",
    "high_value_sales_sql = \"\"\"\n",
    "    SELECT *\n",
    "    FROM sales\n",
    "    WHERE sales_amount > 500\n",
    "\"\"\"\n",
    "high_value_sales: pd.DataFrame = pd.read_sql(high_value_sales_sql, conn)\n",
    "print(f\"Number of high-value Sales: {len(high_value_sales)}\")\n",
    "display(pd.read_sql(high_value_sales_sql + \"LIMIT 5\", conn))"
   ]
  },
  {
   "cell_type": "code",
   "execution_count": null,
   "id": "1aca4944",
   "metadata": {},
   "outputs": [],
   "source": [
    "# Select specific columns\n",
    "sales_summary_sql = \"\"\"\n",
    "    SELECT date, category, sales_amount\n",
    "    FROM sales\n",
    "\"\"\"\n",
    "sales_summary: pd.DataFrame = pd.read_sql(sales_summary_sql, conn)\n",
    "print(\"Selected columns in Sales:\")\n",
    "display(pd.read_sql(sales_summary_sql + \"LIMIT 5\", conn))"
   ]
  },
  {
   "cell_type": "markdown",
   "id": "7e35b9aa",
   "metadata": {},
   "source": [
    "### 2. Grouping and Aggregation"
   ]
  },
  {
   "cell_type": "code",
   "execution_count": null,
   "id": "654b2718",
   "metadata": {},
   "outputs": [],
   "source": [
    "# Basic aggregation\n",
    "sales_stats_sql = \"\"\"\n",
    "    SELECT\n",
    "        SUM(sales_amount) AS sales_sum,\n",
    "        AVG(sales_amount) AS sales_mean,\n",
    "        MIN(sales_amount) AS sales_min,\n",
    "        MAX(sales_amount) AS sales_max,\n",
    "        COUNT(*) AS sales_count,\n",
    "        SUM(quantity) AS quantity_sum,\n",
    "        AVG(quantity) AS quantity_mean,\n",
    "        MIN(quantity) AS quantity_min,\n",
    "        MAX(quantity) AS quantity_max\n",
    "    FROM sales\n",
    "\"\"\"\n",
    "print(f\"Sales Statistics: {len(pd.read_sql(sales_stats_sql, conn))}\")\n",
    "display(pd.read_sql(sales_stats_sql, conn))"
   ]
  },
  {
   "cell_type": "code",
   "execution_count": null,
   "id": "7bafd789",
   "metadata": {},
   "outputs": [],
   "source": [
    "# Group by category and aggregate\n",
    "category_sales_sql = \"\"\"\n",
    "    SELECT\n",
    "        category,\n",
    "        SUM(sales_amount) AS total_sales,\n",
    "        AVG(sales_amount) AS average_sales,\n",
    "        COUNT(*) AS transaction_count,\n",
    "        SUM(quantity) AS total_quantity\n",
    "    FROM sales\n",
    "    GROUP BY category\n",
    "\"\"\"\n",
    "print(f\"Category Sales Summary: {len(pd.read_sql(category_sales_sql, conn))}\")\n",
    "display(pd.read_sql(category_sales_sql + \"LIMIT 5\", conn))"
   ]
  },
  {
   "cell_type": "code",
   "execution_count": null,
   "id": "452bb0a1",
   "metadata": {},
   "outputs": [],
   "source": [
    "# Plot the results\n",
    "fig: go.Figure = px.bar(\n",
    "    pd.read_sql(category_sales_sql, conn),\n",
    "    x=\"category\",\n",
    "    y=\"total_sales\",\n",
    "    title=\"Total Sales by Category\",\n",
    "    text=\"transaction_count\",\n",
    "    labels={\"total_sales\": \"Total Sales ($)\", \"category\": \"Product Category\"},\n",
    ")\n",
    "fig.show()"
   ]
  },
  {
   "cell_type": "markdown",
   "id": "7512e10c",
   "metadata": {},
   "source": [
    "### 3. Joining"
   ]
  },
  {
   "cell_type": "code",
   "execution_count": null,
   "id": "fcfc4d4c",
   "metadata": {},
   "outputs": [],
   "source": [
    "# Join sales with product data\n",
    "sales_with_product_sql = \"\"\"\n",
    "    SELECT s.*, p.product_name, p.price\n",
    "    FROM sales s\n",
    "    LEFT JOIN product p ON s.product_id = p.product_id\n",
    "\"\"\"\n",
    "print(f\"Sales with Product Data: {len(pd.read_sql(sales_with_product_sql, conn))}\")\n",
    "display(pd.read_sql(sales_with_product_sql + \"LIMIT 5\", conn))"
   ]
  },
  {
   "cell_type": "code",
   "execution_count": null,
   "id": "a2e1fdc2",
   "metadata": {},
   "outputs": [],
   "source": [
    "# Join with customer information to get a complete view\n",
    "complete_sales_sql = \"\"\"\n",
    "    SELECT\n",
    "        s.*,\n",
    "        p.product_name,\n",
    "        p.price,\n",
    "        c.customer_name,\n",
    "        c.city,\n",
    "        c.state\n",
    "    FROM sales s\n",
    "    LEFT JOIN product p ON s.product_id = p.product_id\n",
    "    LEFT JOIN customer c ON s.customer_id = c.customer_id\n",
    "\"\"\"\n",
    "print(f\"Complete Sales Data: {len(pd.read_sql(complete_sales_sql, conn))}\")\n",
    "display(pd.read_sql(complete_sales_sql + \"LIMIT 5\", conn))"
   ]
  },
  {
   "cell_type": "code",
   "execution_count": null,
   "id": "80c9658c",
   "metadata": {},
   "outputs": [],
   "source": [
    "# Calculate revenue and price difference\n",
    "revenue_comparison_sql = \"\"\"\n",
    "    SELECT\n",
    "        s.sales_amount,\n",
    "        p.price,\n",
    "        s.quantity,\n",
    "        (p.price * s.quantity) AS calculated_revenue,\n",
    "        (s.sales_amount - (p.price * s.quantity)) AS price_difference\n",
    "    FROM sales s\n",
    "    LEFT JOIN product p ON s.product_id = p.product_id\n",
    "\"\"\"\n",
    "print(f\"Revenue Comparison: {len(pd.read_sql(revenue_comparison_sql, conn))}\")\n",
    "display(pd.read_sql(revenue_comparison_sql + \"LIMIT 5\", conn))"
   ]
  },
  {
   "cell_type": "markdown",
   "id": "bd2b4f4a",
   "metadata": {},
   "source": [
    "### 4. Window Functions"
   ]
  },
  {
   "cell_type": "code",
   "execution_count": null,
   "id": "56c389e9",
   "metadata": {},
   "outputs": [],
   "source": [
    "# Time-based window function\n",
    "daily_sales_sql = \"\"\"\n",
    "    SELECT\n",
    "        date,\n",
    "        SUM(sales_amount) AS total_sales\n",
    "    FROM sales\n",
    "    GROUP BY date\n",
    "    ORDER BY date\n",
    "\"\"\"\n",
    "print(f\"Daily Sales Data: {len(pd.read_sql(daily_sales_sql, conn))}\")\n",
    "daily_sales: pd.DataFrame = pd.read_sql(daily_sales_sql + \"LIMIT 5\", conn)"
   ]
  },
  {
   "cell_type": "code",
   "execution_count": null,
   "id": "a8c24ea5",
   "metadata": {},
   "outputs": [],
   "source": [
    "# Window functions for lead and lag\n",
    "window_sql = \"\"\"\n",
    "    SELECT\n",
    "        date AS sale_date,\n",
    "        SUM(sales_amount) AS sales_amount,\n",
    "        SUM(sales_amount) OVER (ORDER BY date ROWS BETWEEN 6 PRECEDING AND CURRENT ROW) AS rolling_7d_avg,\n",
    "        LAG(SUM(sales_amount)) OVER (ORDER BY date) AS previous_day_sales,\n",
    "        LEAD(SUM(sales_amount)) OVER (ORDER BY date) AS next_day_sales,\n",
    "        SUM(sales_amount) - LAG(SUM(sales_amount)) OVER (ORDER BY date) AS day_over_day_change,\n",
    "    FROM sales\n",
    "    GROUP BY date\n",
    "    ORDER BY date\n",
    "\"\"\"\n",
    "window_df: pd.DataFrame = pd.read_sql(window_sql, conn)\n",
    "print(f\"Window Functions: {len(window_df)}\")\n",
    "display(pd.read_sql(window_sql + \"LIMIT 5\", conn))"
   ]
  },
  {
   "cell_type": "code",
   "execution_count": null,
   "id": "861b404f",
   "metadata": {},
   "outputs": [],
   "source": [
    "# Plot time series with rolling average\n",
    "fig = go.Figure()\n",
    "fig.add_trace(\n",
    "    go.Scatter(\n",
    "        x=window_df[\"sale_date\"],\n",
    "        y=window_df[\"7d_moving_avg\"],\n",
    "        mode=\"lines\",\n",
    "        name=\"7-Day Moving Average\",\n",
    "        line=dict(width=3),\n",
    "    )\n",
    ")\n",
    "fig.update_layout(\n",
    "    title=\"Daily Sales with 7-Day Moving Average\",\n",
    "    xaxis_title=\"Date\",\n",
    "    yaxis_title=\"Sales Amount ($)\",\n",
    ")\n",
    "fig.show()"
   ]
  },
  {
   "cell_type": "markdown",
   "id": "db9af4df",
   "metadata": {},
   "source": [
    "### 5. Ranking and Partitioning"
   ]
  },
  {
   "cell_type": "code",
   "execution_count": null,
   "id": "687ff124",
   "metadata": {},
   "outputs": [],
   "source": [
    "# Rank customers by total spending\n",
    "customer_spending_sql = \"\"\"\n",
    "    SELECT\n",
    "        c.customer_id,\n",
    "        c.customer_name,\n",
    "        c.segment,\n",
    "        c.city,\n",
    "        SUM(s.sales_amount) AS total_spending,\n",
    "        RANK() OVER (ORDER BY SUM(s.sales_amount) DESC) AS rank\n",
    "    FROM sales s\n",
    "    JOIN customer c ON s.customer_id = c.customer_id\n",
    "    GROUP BY c.customer_id, c.customer_name, c.segment, c.city\n",
    "    ORDER BY rank\n",
    "\"\"\"\n",
    "print(f\"Customer Spending: {len(pd.read_sql(customer_spending_sql, conn))}\")\n",
    "display(pd.read_sql(customer_spending_sql + \"LIMIT 10\", conn))"
   ]
  },
  {
   "cell_type": "code",
   "execution_count": null,
   "id": "817cd6fe",
   "metadata": {},
   "outputs": [],
   "source": [
    "# Rank products by quantity sold\n",
    "product_popularity_sql = \"\"\"\n",
    "    SELECT\n",
    "        p.product_id,\n",
    "        p.product_name,\n",
    "        p.category,\n",
    "        SUM(s.quantity) AS total_quantity,\n",
    "        RANK() OVER (ORDER BY SUM(s.quantity) DESC) AS rank\n",
    "    FROM sales s\n",
    "    JOIN product p ON s.product_id = p.product_id\n",
    "    GROUP BY p.product_id, p.product_name, p.category\n",
    "    ORDER BY rank\n",
    "\"\"\"\n",
    "print(f\"Product Popularity: {len(pd.read_sql(product_popularity_sql, conn))}\")\n",
    "display(pd.read_sql(product_popularity_sql + \"LIMIT 10\", conn))"
   ]
  },
  {
   "cell_type": "markdown",
   "id": "ed1c158c",
   "metadata": {},
   "source": [
    "## PySpark\n",
    "\n",
    "```py\n",
    "\n",
    "```"
   ]
  },
  {
   "cell_type": "markdown",
   "id": "e6449a90",
   "metadata": {},
   "source": [
    "### Create\n",
    "\n",
    "```py\n",
    "\n",
    "```"
   ]
  },
  {
   "cell_type": "markdown",
   "id": "72b12d08",
   "metadata": {},
   "source": [
    "### 1. Filtering and Selecting\n",
    "\n",
    "```py\n",
    "\n",
    "```"
   ]
  },
  {
   "cell_type": "markdown",
   "id": "923c28b3",
   "metadata": {},
   "source": [
    "### 2. Grouping and Aggregation\n",
    "\n",
    "```py\n",
    "\n",
    "```"
   ]
  },
  {
   "cell_type": "markdown",
   "id": "fdea88b5",
   "metadata": {},
   "source": [
    "### 3. Joining\n",
    "\n",
    "```py\n",
    "\n",
    "```"
   ]
  },
  {
   "cell_type": "markdown",
   "id": "1f99a2ad",
   "metadata": {},
   "source": [
    "### 4. Window Functions\n",
    "\n",
    "```py\n",
    "\n",
    "```"
   ]
  },
  {
   "cell_type": "markdown",
   "id": "42153efd",
   "metadata": {},
   "source": [
    "### 5. Ranking and Partitioning\n",
    "\n",
    "```py\n",
    "\n",
    "```"
   ]
  },
  {
   "cell_type": "markdown",
   "id": "d1a66d1a",
   "metadata": {},
   "source": [
    "### 6. Sorting\n",
    "\n",
    "```py\n",
    "\n",
    "```"
   ]
  },
  {
   "cell_type": "markdown",
   "id": "1b964254",
   "metadata": {},
   "source": [
    "## Polars\n",
    "\n",
    "```py\n",
    "\n",
    "```"
   ]
  },
  {
   "cell_type": "markdown",
   "id": "f919d7a5",
   "metadata": {},
   "source": [
    "### Create\n",
    "\n",
    "```py\n",
    "\n",
    "```"
   ]
  },
  {
   "cell_type": "markdown",
   "id": "55064d8b",
   "metadata": {},
   "source": [
    "### 1. Filtering and Selecting\n",
    "\n",
    "```py\n",
    "\n",
    "```"
   ]
  },
  {
   "cell_type": "markdown",
   "id": "04a7c2a0",
   "metadata": {},
   "source": [
    "### 2. Grouping and Aggregation\n",
    "\n",
    "```py\n",
    "\n",
    "```"
   ]
  },
  {
   "cell_type": "markdown",
   "id": "a40327b8",
   "metadata": {},
   "source": [
    "### 3. Joining\n",
    "\n",
    "```py\n",
    "\n",
    "```"
   ]
  },
  {
   "cell_type": "markdown",
   "id": "9850ee88",
   "metadata": {},
   "source": [
    "### 4. Window Functions\n",
    "\n",
    "```py\n",
    "\n",
    "```"
   ]
  },
  {
   "cell_type": "markdown",
   "id": "387fd7d9",
   "metadata": {},
   "source": [
    "### 5. Ranking and Partitioning\n",
    "\n",
    "```py\n",
    "\n",
    "```"
   ]
  },
  {
   "cell_type": "markdown",
   "id": "27c991d5",
   "metadata": {},
   "source": [
    "### 6. Sorting\n",
    "\n",
    "```py\n",
    "\n",
    "```\n",
    "\n",
    "## Conclusion"
   ]
  }
 ],
 "metadata": {
  "jupytext": {
   "cell_metadata_filter": "-all",
   "main_language": "python",
   "notebook_metadata_filter": "-all"
  },
  "kernelspec": {
   "display_name": ".venv",
   "language": "python",
   "name": "python3"
  },
  "language_info": {
   "name": "python",
   "version": "3.13.2"
  }
 },
 "nbformat": 4,
 "nbformat_minor": 5
}
