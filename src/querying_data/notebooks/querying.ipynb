{
 "cells": [
  {
   "cell_type": "markdown",
   "id": "89a07ef6",
   "metadata": {},
   "source": [
    "# Data Querying for Data Scientists"
   ]
  },
  {
   "cell_type": "markdown",
   "id": "c15c0d37",
   "metadata": {},
   "source": [
    "### A Comprehensive Guide of using Pandas, SQL, PySpark, and Polars for Data Manipulation Techniques, with Practical Examples and Visualisations"
   ]
  },
  {
   "cell_type": "markdown",
   "id": "6b55a334",
   "metadata": {},
   "source": [
    "Working as a Data Scientist or Data Engineer often involves querying data from various sources. There are many tools and libraries available to perform these tasks, each with its own strengths and weaknesses. Also, there are many different ways to achieve similar results, depending on the tool or library used. It's important to be familiar with these different methods to choose the best one for your specific use case."
   ]
  },
  {
   "cell_type": "markdown",
   "id": "5f06c6a8",
   "metadata": {},
   "source": [
    "This article provides a comprehensive guide on how to query data using different tools and libraries, including Pandas, SQL, PySpark, and Polars. Each section will cover the setup, data creation, and various querying techniques such as filtering, grouping, joining, window functions, ranking, and sorting. The output will be identical across all tools, but the transformations will be implemented using the specific syntax and features of each library. Therefore allowing you to compare the different approaches and understand the nuances of each method."
   ]
  },
  {
   "cell_type": "markdown",
   "id": "8ce7b86d",
   "metadata": {},
   "source": [
    "## Setup"
   ]
  },
  {
   "cell_type": "markdown",
   "id": "214280f8",
   "metadata": {},
   "source": [
    "Before we start querying data, we need to set up our environment. This includes importing the necessary libraries, creating sample data, and defining constants that will be used throughout the article. The following sections will guide you through this setup process. The code for this article is also available on GitHub: [querying-data](...)."
   ]
  },
  {
   "cell_type": "markdown",
   "id": "f72239dc",
   "metadata": {},
   "source": [
    "### Imports"
   ]
  },
  {
   "cell_type": "code",
   "execution_count": null,
   "id": "4565663e",
   "metadata": {},
   "outputs": [],
   "source": [
    "# Python StdLib Imports\n",
    "import sqlite3\n",
    "\n",
    "# Python Third Party Imports\n",
    "import numpy as np\n",
    "import pandas as pd\n",
    "import polars as pl\n",
    "from plotly import express as px, graph_objects as go\n",
    "from plotly.subplots import make_subplots\n",
    "from pyspark.sql import (\n",
    "    DataFrame as psDataFrame,\n",
    "    SparkSession,\n",
    "    Window,\n",
    "    functions as F,\n",
    "    types as T,\n",
    ")"
   ]
  },
  {
   "cell_type": "markdown",
   "id": "d33e1b82",
   "metadata": {},
   "source": [
    "### Constants"
   ]
  },
  {
   "cell_type": "code",
   "execution_count": null,
   "id": "6ed37f6b",
   "metadata": {},
   "outputs": [],
   "source": [
    "# Set seed for reproducibility\n",
    "np.random.seed(42)"
   ]
  },
  {
   "cell_type": "markdown",
   "id": "b1cd1cc7",
   "metadata": {},
   "source": [
    "### Data"
   ]
  },
  {
   "cell_type": "code",
   "execution_count": null,
   "id": "98391eac",
   "metadata": {},
   "outputs": [],
   "source": [
    "# Generate sample data\n",
    "n_records = 1000"
   ]
  },
  {
   "cell_type": "code",
   "execution_count": null,
   "id": "8dbe8bd6",
   "metadata": {},
   "outputs": [],
   "source": [
    "# Create sales fact table\n",
    "sales_data: dict[str, str] = {\n",
    "    \"date\": pd.date_range(start=\"2023-01-01\", periods=n_records, freq=\"D\"),\n",
    "    \"customer_id\": np.random.randint(1, 100, n_records),\n",
    "    \"product_id\": np.random.randint(1, 50, n_records),\n",
    "    \"category\": np.random.choice([\"Electronics\", \"Clothing\", \"Food\", \"Books\", \"Home\"], n_records),\n",
    "    \"sales_amount\": np.random.uniform(10, 1000, n_records).round(2),\n",
    "    \"quantity\": np.random.randint(1, 10, n_records),\n",
    "}"
   ]
  },
  {
   "cell_type": "code",
   "execution_count": null,
   "id": "1fb26282",
   "metadata": {},
   "outputs": [],
   "source": [
    "# Create product dimension table\n",
    "product_data: dict[str, str] = {\n",
    "    \"product_id\": np.arange(1, 51),\n",
    "    \"product_name\": [f\"Product {i}\" for i in range(1, 51)],\n",
    "    \"price\": np.random.uniform(10, 500, 50).round(2),\n",
    "    \"category\": np.random.choice([\"Electronics\", \"Clothing\", \"Food\", \"Books\", \"Home\"], 50),\n",
    "    \"supplier_id\": np.random.randint(1, 10, 50),\n",
    "}"
   ]
  },
  {
   "cell_type": "code",
   "execution_count": null,
   "id": "7129a42d",
   "metadata": {},
   "outputs": [],
   "source": [
    "# Create customer dimension table\n",
    "customer_data: dict[str, str] = {\n",
    "    \"customer_id\": np.arange(1, 101),\n",
    "    \"customer_name\": [f\"Customer {i}\" for i in range(1, 101)],\n",
    "    \"city\": np.random.choice([\"New York\", \"Los Angeles\", \"Chicago\", \"Houston\", \"Phoenix\"], 100),\n",
    "    \"state\": np.random.choice([\"NY\", \"CA\", \"IL\", \"TX\", \"AZ\"], 100),\n",
    "    \"segment\": np.random.choice([\"Consumer\", \"Corporate\", \"Home Office\"], 100),\n",
    "}"
   ]
  },
  {
   "cell_type": "markdown",
   "id": "320b206d",
   "metadata": {},
   "source": [
    "## Pandas"
   ]
  },
  {
   "cell_type": "markdown",
   "id": "e6f05807",
   "metadata": {},
   "source": [
    "### Create"
   ]
  },
  {
   "cell_type": "code",
   "execution_count": null,
   "id": "07880aae",
   "metadata": {},
   "outputs": [],
   "source": [
    "df_sales_pd = pd.DataFrame(sales_data)\n",
    "df_product_pd = pd.DataFrame(product_data)\n",
    "df_customer_pd = pd.DataFrame(customer_data)"
   ]
  },
  {
   "cell_type": "code",
   "execution_count": null,
   "id": "c8367095",
   "metadata": {},
   "outputs": [
    {
     "name": "stdout",
     "output_type": "stream",
     "text": [
      "Sales DataFrame: 1000\n"
     ]
    },
    {
     "data": {
      "text/html": [
       "<div>\n",
       "<style scoped>\n",
       "    .dataframe tbody tr th:only-of-type {\n",
       "        vertical-align: middle;\n",
       "    }\n",
       "\n",
       "    .dataframe tbody tr th {\n",
       "        vertical-align: top;\n",
       "    }\n",
       "\n",
       "    .dataframe thead th {\n",
       "        text-align: right;\n",
       "    }\n",
       "</style>\n",
       "<table border=\"1\" class=\"dataframe\">\n",
       "  <thead>\n",
       "    <tr style=\"text-align: right;\">\n",
       "      <th></th>\n",
       "      <th>date</th>\n",
       "      <th>customer_id</th>\n",
       "      <th>product_id</th>\n",
       "      <th>category</th>\n",
       "      <th>sales_amount</th>\n",
       "      <th>quantity</th>\n",
       "    </tr>\n",
       "  </thead>\n",
       "  <tbody>\n",
       "    <tr>\n",
       "      <th>0</th>\n",
       "      <td>2023-01-01</td>\n",
       "      <td>52</td>\n",
       "      <td>34</td>\n",
       "      <td>Books</td>\n",
       "      <td>319.23</td>\n",
       "      <td>2</td>\n",
       "    </tr>\n",
       "    <tr>\n",
       "      <th>1</th>\n",
       "      <td>2023-01-02</td>\n",
       "      <td>93</td>\n",
       "      <td>45</td>\n",
       "      <td>Food</td>\n",
       "      <td>646.25</td>\n",
       "      <td>6</td>\n",
       "    </tr>\n",
       "    <tr>\n",
       "      <th>2</th>\n",
       "      <td>2023-01-03</td>\n",
       "      <td>15</td>\n",
       "      <td>6</td>\n",
       "      <td>Food</td>\n",
       "      <td>203.88</td>\n",
       "      <td>2</td>\n",
       "    </tr>\n",
       "    <tr>\n",
       "      <th>3</th>\n",
       "      <td>2023-01-04</td>\n",
       "      <td>72</td>\n",
       "      <td>37</td>\n",
       "      <td>Books</td>\n",
       "      <td>897.99</td>\n",
       "      <td>3</td>\n",
       "    </tr>\n",
       "    <tr>\n",
       "      <th>4</th>\n",
       "      <td>2023-01-05</td>\n",
       "      <td>61</td>\n",
       "      <td>33</td>\n",
       "      <td>Books</td>\n",
       "      <td>524.99</td>\n",
       "      <td>4</td>\n",
       "    </tr>\n",
       "    <tr>\n",
       "      <th>5</th>\n",
       "      <td>2023-01-06</td>\n",
       "      <td>21</td>\n",
       "      <td>22</td>\n",
       "      <td>Clothing</td>\n",
       "      <td>453.13</td>\n",
       "      <td>5</td>\n",
       "    </tr>\n",
       "    <tr>\n",
       "      <th>6</th>\n",
       "      <td>2023-01-07</td>\n",
       "      <td>83</td>\n",
       "      <td>21</td>\n",
       "      <td>Clothing</td>\n",
       "      <td>562.24</td>\n",
       "      <td>9</td>\n",
       "    </tr>\n",
       "    <tr>\n",
       "      <th>7</th>\n",
       "      <td>2023-01-08</td>\n",
       "      <td>87</td>\n",
       "      <td>6</td>\n",
       "      <td>Food</td>\n",
       "      <td>174.37</td>\n",
       "      <td>4</td>\n",
       "    </tr>\n",
       "    <tr>\n",
       "      <th>8</th>\n",
       "      <td>2023-01-09</td>\n",
       "      <td>75</td>\n",
       "      <td>6</td>\n",
       "      <td>Electronics</td>\n",
       "      <td>617.34</td>\n",
       "      <td>9</td>\n",
       "    </tr>\n",
       "    <tr>\n",
       "      <th>9</th>\n",
       "      <td>2023-01-10</td>\n",
       "      <td>75</td>\n",
       "      <td>48</td>\n",
       "      <td>Books</td>\n",
       "      <td>369.47</td>\n",
       "      <td>3</td>\n",
       "    </tr>\n",
       "  </tbody>\n",
       "</table>\n",
       "</div>"
      ],
      "text/plain": [
       "        date  customer_id  product_id     category  sales_amount  quantity\n",
       "0 2023-01-01           52          34        Books        319.23         2\n",
       "1 2023-01-02           93          45         Food        646.25         6\n",
       "2 2023-01-03           15           6         Food        203.88         2\n",
       "3 2023-01-04           72          37        Books        897.99         3\n",
       "4 2023-01-05           61          33        Books        524.99         4\n",
       "5 2023-01-06           21          22     Clothing        453.13         5\n",
       "6 2023-01-07           83          21     Clothing        562.24         9\n",
       "7 2023-01-08           87           6         Food        174.37         4\n",
       "8 2023-01-09           75           6  Electronics        617.34         9\n",
       "9 2023-01-10           75          48        Books        369.47         3"
      ]
     },
     "metadata": {},
     "output_type": "display_data"
    }
   ],
   "source": [
    "print(f\"Sales DataFrame: {len(df_sales_pd)}\")\n",
    "display(df_sales_pd.head(10))"
   ]
  },
  {
   "cell_type": "code",
   "execution_count": null,
   "id": "58444085",
   "metadata": {},
   "outputs": [
    {
     "name": "stdout",
     "output_type": "stream",
     "text": [
      "Product DataFrame: 50\n"
     ]
    },
    {
     "data": {
      "text/html": [
       "<div>\n",
       "<style scoped>\n",
       "    .dataframe tbody tr th:only-of-type {\n",
       "        vertical-align: middle;\n",
       "    }\n",
       "\n",
       "    .dataframe tbody tr th {\n",
       "        vertical-align: top;\n",
       "    }\n",
       "\n",
       "    .dataframe thead th {\n",
       "        text-align: right;\n",
       "    }\n",
       "</style>\n",
       "<table border=\"1\" class=\"dataframe\">\n",
       "  <thead>\n",
       "    <tr style=\"text-align: right;\">\n",
       "      <th></th>\n",
       "      <th>product_id</th>\n",
       "      <th>product_name</th>\n",
       "      <th>price</th>\n",
       "      <th>category</th>\n",
       "      <th>supplier_id</th>\n",
       "    </tr>\n",
       "  </thead>\n",
       "  <tbody>\n",
       "    <tr>\n",
       "      <th>0</th>\n",
       "      <td>1</td>\n",
       "      <td>Product 1</td>\n",
       "      <td>293.13</td>\n",
       "      <td>Food</td>\n",
       "      <td>6</td>\n",
       "    </tr>\n",
       "    <tr>\n",
       "      <th>1</th>\n",
       "      <td>2</td>\n",
       "      <td>Product 2</td>\n",
       "      <td>434.39</td>\n",
       "      <td>Food</td>\n",
       "      <td>3</td>\n",
       "    </tr>\n",
       "    <tr>\n",
       "      <th>2</th>\n",
       "      <td>3</td>\n",
       "      <td>Product 3</td>\n",
       "      <td>151.83</td>\n",
       "      <td>Electronics</td>\n",
       "      <td>7</td>\n",
       "    </tr>\n",
       "    <tr>\n",
       "      <th>3</th>\n",
       "      <td>4</td>\n",
       "      <td>Product 4</td>\n",
       "      <td>239.16</td>\n",
       "      <td>Clothing</td>\n",
       "      <td>5</td>\n",
       "    </tr>\n",
       "    <tr>\n",
       "      <th>4</th>\n",
       "      <td>5</td>\n",
       "      <td>Product 5</td>\n",
       "      <td>313.50</td>\n",
       "      <td>Clothing</td>\n",
       "      <td>4</td>\n",
       "    </tr>\n",
       "    <tr>\n",
       "      <th>5</th>\n",
       "      <td>6</td>\n",
       "      <td>Product 6</td>\n",
       "      <td>211.48</td>\n",
       "      <td>Electronics</td>\n",
       "      <td>5</td>\n",
       "    </tr>\n",
       "    <tr>\n",
       "      <th>6</th>\n",
       "      <td>7</td>\n",
       "      <td>Product 7</td>\n",
       "      <td>219.47</td>\n",
       "      <td>Clothing</td>\n",
       "      <td>8</td>\n",
       "    </tr>\n",
       "    <tr>\n",
       "      <th>7</th>\n",
       "      <td>8</td>\n",
       "      <td>Product 8</td>\n",
       "      <td>171.84</td>\n",
       "      <td>Books</td>\n",
       "      <td>3</td>\n",
       "    </tr>\n",
       "    <tr>\n",
       "      <th>8</th>\n",
       "      <td>9</td>\n",
       "      <td>Product 9</td>\n",
       "      <td>286.47</td>\n",
       "      <td>Electronics</td>\n",
       "      <td>7</td>\n",
       "    </tr>\n",
       "    <tr>\n",
       "      <th>9</th>\n",
       "      <td>10</td>\n",
       "      <td>Product 10</td>\n",
       "      <td>426.78</td>\n",
       "      <td>Books</td>\n",
       "      <td>6</td>\n",
       "    </tr>\n",
       "  </tbody>\n",
       "</table>\n",
       "</div>"
      ],
      "text/plain": [
       "   product_id product_name   price     category  supplier_id\n",
       "0           1    Product 1  293.13         Food            6\n",
       "1           2    Product 2  434.39         Food            3\n",
       "2           3    Product 3  151.83  Electronics            7\n",
       "3           4    Product 4  239.16     Clothing            5\n",
       "4           5    Product 5  313.50     Clothing            4\n",
       "5           6    Product 6  211.48  Electronics            5\n",
       "6           7    Product 7  219.47     Clothing            8\n",
       "7           8    Product 8  171.84        Books            3\n",
       "8           9    Product 9  286.47  Electronics            7\n",
       "9          10   Product 10  426.78        Books            6"
      ]
     },
     "metadata": {},
     "output_type": "display_data"
    }
   ],
   "source": [
    "print(f\"Product DataFrame: {len(df_product_pd)}\")\n",
    "display(df_product_pd.head(10))"
   ]
  },
  {
   "cell_type": "code",
   "execution_count": null,
   "id": "8bcefa02",
   "metadata": {},
   "outputs": [
    {
     "name": "stdout",
     "output_type": "stream",
     "text": [
      "Customer DataFrame: 100\n"
     ]
    },
    {
     "data": {
      "text/html": [
       "<div>\n",
       "<style scoped>\n",
       "    .dataframe tbody tr th:only-of-type {\n",
       "        vertical-align: middle;\n",
       "    }\n",
       "\n",
       "    .dataframe tbody tr th {\n",
       "        vertical-align: top;\n",
       "    }\n",
       "\n",
       "    .dataframe thead th {\n",
       "        text-align: right;\n",
       "    }\n",
       "</style>\n",
       "<table border=\"1\" class=\"dataframe\">\n",
       "  <thead>\n",
       "    <tr style=\"text-align: right;\">\n",
       "      <th></th>\n",
       "      <th>customer_id</th>\n",
       "      <th>customer_name</th>\n",
       "      <th>city</th>\n",
       "      <th>state</th>\n",
       "      <th>segment</th>\n",
       "    </tr>\n",
       "  </thead>\n",
       "  <tbody>\n",
       "    <tr>\n",
       "      <th>0</th>\n",
       "      <td>1</td>\n",
       "      <td>Customer 1</td>\n",
       "      <td>Chicago</td>\n",
       "      <td>AZ</td>\n",
       "      <td>Consumer</td>\n",
       "    </tr>\n",
       "    <tr>\n",
       "      <th>1</th>\n",
       "      <td>2</td>\n",
       "      <td>Customer 2</td>\n",
       "      <td>New York</td>\n",
       "      <td>IL</td>\n",
       "      <td>Home Office</td>\n",
       "    </tr>\n",
       "    <tr>\n",
       "      <th>2</th>\n",
       "      <td>3</td>\n",
       "      <td>Customer 3</td>\n",
       "      <td>Los Angeles</td>\n",
       "      <td>NY</td>\n",
       "      <td>Corporate</td>\n",
       "    </tr>\n",
       "    <tr>\n",
       "      <th>3</th>\n",
       "      <td>4</td>\n",
       "      <td>Customer 4</td>\n",
       "      <td>Phoenix</td>\n",
       "      <td>TX</td>\n",
       "      <td>Consumer</td>\n",
       "    </tr>\n",
       "    <tr>\n",
       "      <th>4</th>\n",
       "      <td>5</td>\n",
       "      <td>Customer 5</td>\n",
       "      <td>New York</td>\n",
       "      <td>IL</td>\n",
       "      <td>Home Office</td>\n",
       "    </tr>\n",
       "    <tr>\n",
       "      <th>5</th>\n",
       "      <td>6</td>\n",
       "      <td>Customer 6</td>\n",
       "      <td>New York</td>\n",
       "      <td>TX</td>\n",
       "      <td>Corporate</td>\n",
       "    </tr>\n",
       "    <tr>\n",
       "      <th>6</th>\n",
       "      <td>7</td>\n",
       "      <td>Customer 7</td>\n",
       "      <td>Los Angeles</td>\n",
       "      <td>NY</td>\n",
       "      <td>Home Office</td>\n",
       "    </tr>\n",
       "    <tr>\n",
       "      <th>7</th>\n",
       "      <td>8</td>\n",
       "      <td>Customer 8</td>\n",
       "      <td>Phoenix</td>\n",
       "      <td>IL</td>\n",
       "      <td>Consumer</td>\n",
       "    </tr>\n",
       "    <tr>\n",
       "      <th>8</th>\n",
       "      <td>9</td>\n",
       "      <td>Customer 9</td>\n",
       "      <td>Houston</td>\n",
       "      <td>TX</td>\n",
       "      <td>Corporate</td>\n",
       "    </tr>\n",
       "    <tr>\n",
       "      <th>9</th>\n",
       "      <td>10</td>\n",
       "      <td>Customer 10</td>\n",
       "      <td>Phoenix</td>\n",
       "      <td>AZ</td>\n",
       "      <td>Corporate</td>\n",
       "    </tr>\n",
       "  </tbody>\n",
       "</table>\n",
       "</div>"
      ],
      "text/plain": [
       "   customer_id customer_name         city state      segment\n",
       "0            1    Customer 1      Chicago    AZ     Consumer\n",
       "1            2    Customer 2     New York    IL  Home Office\n",
       "2            3    Customer 3  Los Angeles    NY    Corporate\n",
       "3            4    Customer 4      Phoenix    TX     Consumer\n",
       "4            5    Customer 5     New York    IL  Home Office\n",
       "5            6    Customer 6     New York    TX    Corporate\n",
       "6            7    Customer 7  Los Angeles    NY  Home Office\n",
       "7            8    Customer 8      Phoenix    IL     Consumer\n",
       "8            9    Customer 9      Houston    TX    Corporate\n",
       "9           10   Customer 10      Phoenix    AZ    Corporate"
      ]
     },
     "metadata": {},
     "output_type": "display_data"
    }
   ],
   "source": [
    "print(f\"Customer DataFrame: {len(df_customer_pd)}\")\n",
    "display(df_customer_pd.head(10))"
   ]
  },
  {
   "cell_type": "markdown",
   "id": "0025c9d6",
   "metadata": {},
   "source": [
    "### 1. Filtering and Selecting"
   ]
  },
  {
   "cell_type": "code",
   "execution_count": null,
   "id": "d81b21a1",
   "metadata": {},
   "outputs": [
    {
     "name": "stdout",
     "output_type": "stream",
     "text": [
      "Number of Electronics Sales: 188\n"
     ]
    },
    {
     "data": {
      "text/html": [
       "<div>\n",
       "<style scoped>\n",
       "    .dataframe tbody tr th:only-of-type {\n",
       "        vertical-align: middle;\n",
       "    }\n",
       "\n",
       "    .dataframe tbody tr th {\n",
       "        vertical-align: top;\n",
       "    }\n",
       "\n",
       "    .dataframe thead th {\n",
       "        text-align: right;\n",
       "    }\n",
       "</style>\n",
       "<table border=\"1\" class=\"dataframe\">\n",
       "  <thead>\n",
       "    <tr style=\"text-align: right;\">\n",
       "      <th></th>\n",
       "      <th>date</th>\n",
       "      <th>customer_id</th>\n",
       "      <th>product_id</th>\n",
       "      <th>category</th>\n",
       "      <th>sales_amount</th>\n",
       "      <th>quantity</th>\n",
       "    </tr>\n",
       "  </thead>\n",
       "  <tbody>\n",
       "    <tr>\n",
       "      <th>8</th>\n",
       "      <td>2023-01-09</td>\n",
       "      <td>75</td>\n",
       "      <td>6</td>\n",
       "      <td>Electronics</td>\n",
       "      <td>617.34</td>\n",
       "      <td>9</td>\n",
       "    </tr>\n",
       "    <tr>\n",
       "      <th>16</th>\n",
       "      <td>2023-01-17</td>\n",
       "      <td>88</td>\n",
       "      <td>9</td>\n",
       "      <td>Electronics</td>\n",
       "      <td>735.31</td>\n",
       "      <td>8</td>\n",
       "    </tr>\n",
       "    <tr>\n",
       "      <th>31</th>\n",
       "      <td>2023-02-01</td>\n",
       "      <td>42</td>\n",
       "      <td>6</td>\n",
       "      <td>Electronics</td>\n",
       "      <td>979.98</td>\n",
       "      <td>7</td>\n",
       "    </tr>\n",
       "    <tr>\n",
       "      <th>40</th>\n",
       "      <td>2023-02-10</td>\n",
       "      <td>51</td>\n",
       "      <td>45</td>\n",
       "      <td>Electronics</td>\n",
       "      <td>973.72</td>\n",
       "      <td>7</td>\n",
       "    </tr>\n",
       "    <tr>\n",
       "      <th>42</th>\n",
       "      <td>2023-02-12</td>\n",
       "      <td>64</td>\n",
       "      <td>5</td>\n",
       "      <td>Electronics</td>\n",
       "      <td>303.52</td>\n",
       "      <td>8</td>\n",
       "    </tr>\n",
       "  </tbody>\n",
       "</table>\n",
       "</div>"
      ],
      "text/plain": [
       "         date  customer_id  product_id     category  sales_amount  quantity\n",
       "8  2023-01-09           75           6  Electronics        617.34         9\n",
       "16 2023-01-17           88           9  Electronics        735.31         8\n",
       "31 2023-02-01           42           6  Electronics        979.98         7\n",
       "40 2023-02-10           51          45  Electronics        973.72         7\n",
       "42 2023-02-12           64           5  Electronics        303.52         8"
      ]
     },
     "metadata": {},
     "output_type": "display_data"
    }
   ],
   "source": [
    "# Filter sales data for specific category\n",
    "electronics_sales: pd.DataFrame = df_sales_pd[df_sales_pd[\"category\"] == \"Electronics\"]\n",
    "print(f\"Number of Electronics Sales: {len(electronics_sales)}\")\n",
    "display(electronics_sales.head())"
   ]
  },
  {
   "cell_type": "code",
   "execution_count": null,
   "id": "478f9620",
   "metadata": {},
   "outputs": [
    {
     "name": "stdout",
     "output_type": "stream",
     "text": [
      "Number of high-value Sales: 525\n"
     ]
    },
    {
     "data": {
      "text/html": [
       "<div>\n",
       "<style scoped>\n",
       "    .dataframe tbody tr th:only-of-type {\n",
       "        vertical-align: middle;\n",
       "    }\n",
       "\n",
       "    .dataframe tbody tr th {\n",
       "        vertical-align: top;\n",
       "    }\n",
       "\n",
       "    .dataframe thead th {\n",
       "        text-align: right;\n",
       "    }\n",
       "</style>\n",
       "<table border=\"1\" class=\"dataframe\">\n",
       "  <thead>\n",
       "    <tr style=\"text-align: right;\">\n",
       "      <th></th>\n",
       "      <th>date</th>\n",
       "      <th>customer_id</th>\n",
       "      <th>product_id</th>\n",
       "      <th>category</th>\n",
       "      <th>sales_amount</th>\n",
       "      <th>quantity</th>\n",
       "    </tr>\n",
       "  </thead>\n",
       "  <tbody>\n",
       "    <tr>\n",
       "      <th>1</th>\n",
       "      <td>2023-01-02</td>\n",
       "      <td>93</td>\n",
       "      <td>45</td>\n",
       "      <td>Food</td>\n",
       "      <td>646.25</td>\n",
       "      <td>6</td>\n",
       "    </tr>\n",
       "    <tr>\n",
       "      <th>3</th>\n",
       "      <td>2023-01-04</td>\n",
       "      <td>72</td>\n",
       "      <td>37</td>\n",
       "      <td>Books</td>\n",
       "      <td>897.99</td>\n",
       "      <td>3</td>\n",
       "    </tr>\n",
       "    <tr>\n",
       "      <th>4</th>\n",
       "      <td>2023-01-05</td>\n",
       "      <td>61</td>\n",
       "      <td>33</td>\n",
       "      <td>Books</td>\n",
       "      <td>524.99</td>\n",
       "      <td>4</td>\n",
       "    </tr>\n",
       "    <tr>\n",
       "      <th>6</th>\n",
       "      <td>2023-01-07</td>\n",
       "      <td>83</td>\n",
       "      <td>21</td>\n",
       "      <td>Clothing</td>\n",
       "      <td>562.24</td>\n",
       "      <td>9</td>\n",
       "    </tr>\n",
       "    <tr>\n",
       "      <th>8</th>\n",
       "      <td>2023-01-09</td>\n",
       "      <td>75</td>\n",
       "      <td>6</td>\n",
       "      <td>Electronics</td>\n",
       "      <td>617.34</td>\n",
       "      <td>9</td>\n",
       "    </tr>\n",
       "  </tbody>\n",
       "</table>\n",
       "</div>"
      ],
      "text/plain": [
       "        date  customer_id  product_id     category  sales_amount  quantity\n",
       "1 2023-01-02           93          45         Food        646.25         6\n",
       "3 2023-01-04           72          37        Books        897.99         3\n",
       "4 2023-01-05           61          33        Books        524.99         4\n",
       "6 2023-01-07           83          21     Clothing        562.24         9\n",
       "8 2023-01-09           75           6  Electronics        617.34         9"
      ]
     },
     "metadata": {},
     "output_type": "display_data"
    }
   ],
   "source": [
    "# Filter for high value transactions (over $500)\n",
    "high_value_sales: pd.DataFrame = df_sales_pd[df_sales_pd[\"sales_amount\"] > 500]\n",
    "print(f\"Number of high-value Sales: {len(high_value_sales)}\")\n",
    "display(high_value_sales.head())"
   ]
  },
  {
   "cell_type": "code",
   "execution_count": null,
   "id": "d9baaff4",
   "metadata": {},
   "outputs": [
    {
     "name": "stdout",
     "output_type": "stream",
     "text": [
      "Sales Summary DataFrame: 1000\n"
     ]
    },
    {
     "data": {
      "text/html": [
       "<div>\n",
       "<style scoped>\n",
       "    .dataframe tbody tr th:only-of-type {\n",
       "        vertical-align: middle;\n",
       "    }\n",
       "\n",
       "    .dataframe tbody tr th {\n",
       "        vertical-align: top;\n",
       "    }\n",
       "\n",
       "    .dataframe thead th {\n",
       "        text-align: right;\n",
       "    }\n",
       "</style>\n",
       "<table border=\"1\" class=\"dataframe\">\n",
       "  <thead>\n",
       "    <tr style=\"text-align: right;\">\n",
       "      <th></th>\n",
       "      <th>date</th>\n",
       "      <th>category</th>\n",
       "      <th>sales_amount</th>\n",
       "    </tr>\n",
       "  </thead>\n",
       "  <tbody>\n",
       "    <tr>\n",
       "      <th>0</th>\n",
       "      <td>2023-01-01</td>\n",
       "      <td>Books</td>\n",
       "      <td>319.23</td>\n",
       "    </tr>\n",
       "    <tr>\n",
       "      <th>1</th>\n",
       "      <td>2023-01-02</td>\n",
       "      <td>Food</td>\n",
       "      <td>646.25</td>\n",
       "    </tr>\n",
       "    <tr>\n",
       "      <th>2</th>\n",
       "      <td>2023-01-03</td>\n",
       "      <td>Food</td>\n",
       "      <td>203.88</td>\n",
       "    </tr>\n",
       "    <tr>\n",
       "      <th>3</th>\n",
       "      <td>2023-01-04</td>\n",
       "      <td>Books</td>\n",
       "      <td>897.99</td>\n",
       "    </tr>\n",
       "    <tr>\n",
       "      <th>4</th>\n",
       "      <td>2023-01-05</td>\n",
       "      <td>Books</td>\n",
       "      <td>524.99</td>\n",
       "    </tr>\n",
       "  </tbody>\n",
       "</table>\n",
       "</div>"
      ],
      "text/plain": [
       "        date category  sales_amount\n",
       "0 2023-01-01    Books        319.23\n",
       "1 2023-01-02     Food        646.25\n",
       "2 2023-01-03     Food        203.88\n",
       "3 2023-01-04    Books        897.99\n",
       "4 2023-01-05    Books        524.99"
      ]
     },
     "metadata": {},
     "output_type": "display_data"
    }
   ],
   "source": [
    "# Select specific columns\n",
    "sales_summary: pd.DataFrame = df_sales_pd[[\"date\", \"category\", \"sales_amount\"]]\n",
    "print(f\"Sales Summary DataFrame: {len(sales_summary)}\")\n",
    "display(sales_summary.head())"
   ]
  },
  {
   "cell_type": "markdown",
   "id": "0321c9c4",
   "metadata": {},
   "source": [
    "### 2. Grouping and Aggregation"
   ]
  },
  {
   "cell_type": "code",
   "execution_count": null,
   "id": "e623f3f5",
   "metadata": {},
   "outputs": [
    {
     "name": "stdout",
     "output_type": "stream",
     "text": [
      "Sales Statistics: 5\n"
     ]
    },
    {
     "data": {
      "text/html": [
       "<div>\n",
       "<style scoped>\n",
       "    .dataframe tbody tr th:only-of-type {\n",
       "        vertical-align: middle;\n",
       "    }\n",
       "\n",
       "    .dataframe tbody tr th {\n",
       "        vertical-align: top;\n",
       "    }\n",
       "\n",
       "    .dataframe thead th {\n",
       "        text-align: right;\n",
       "    }\n",
       "</style>\n",
       "<table border=\"1\" class=\"dataframe\">\n",
       "  <thead>\n",
       "    <tr style=\"text-align: right;\">\n",
       "      <th></th>\n",
       "      <th>sales_amount</th>\n",
       "      <th>quantity</th>\n",
       "    </tr>\n",
       "  </thead>\n",
       "  <tbody>\n",
       "    <tr>\n",
       "      <th>sum</th>\n",
       "      <td>512657.67000</td>\n",
       "      <td>5035.000</td>\n",
       "    </tr>\n",
       "    <tr>\n",
       "      <th>mean</th>\n",
       "      <td>512.65767</td>\n",
       "      <td>5.035</td>\n",
       "    </tr>\n",
       "    <tr>\n",
       "      <th>min</th>\n",
       "      <td>10.19000</td>\n",
       "      <td>1.000</td>\n",
       "    </tr>\n",
       "    <tr>\n",
       "      <th>max</th>\n",
       "      <td>999.72000</td>\n",
       "      <td>9.000</td>\n",
       "    </tr>\n",
       "    <tr>\n",
       "      <th>count</th>\n",
       "      <td>1000.00000</td>\n",
       "      <td>NaN</td>\n",
       "    </tr>\n",
       "  </tbody>\n",
       "</table>\n",
       "</div>"
      ],
      "text/plain": [
       "       sales_amount  quantity\n",
       "sum    512657.67000  5035.000\n",
       "mean      512.65767     5.035\n",
       "min        10.19000     1.000\n",
       "max       999.72000     9.000\n",
       "count    1000.00000       NaN"
      ]
     },
     "metadata": {},
     "output_type": "display_data"
    }
   ],
   "source": [
    "# Basic aggregation\n",
    "sales_stats: pd.DataFrame = df_sales_pd.agg(\n",
    "    {\n",
    "        \"sales_amount\": [\"sum\", \"mean\", \"min\", \"max\", \"count\"],\n",
    "        \"quantity\": [\"sum\", \"mean\", \"min\", \"max\"],\n",
    "    }\n",
    ")\n",
    "print(f\"Sales Statistics: {len(sales_stats)}\")\n",
    "display(sales_stats)"
   ]
  },
  {
   "cell_type": "code",
   "execution_count": null,
   "id": "42aa112c",
   "metadata": {},
   "outputs": [
    {
     "name": "stdout",
     "output_type": "stream",
     "text": [
      "Category Sales Summary: 5\n"
     ]
    },
    {
     "data": {
      "text/html": [
       "<div>\n",
       "<style scoped>\n",
       "    .dataframe tbody tr th:only-of-type {\n",
       "        vertical-align: middle;\n",
       "    }\n",
       "\n",
       "    .dataframe tbody tr th {\n",
       "        vertical-align: top;\n",
       "    }\n",
       "\n",
       "    .dataframe thead tr th {\n",
       "        text-align: left;\n",
       "    }\n",
       "\n",
       "    .dataframe thead tr:last-of-type th {\n",
       "        text-align: right;\n",
       "    }\n",
       "</style>\n",
       "<table border=\"1\" class=\"dataframe\">\n",
       "  <thead>\n",
       "    <tr>\n",
       "      <th></th>\n",
       "      <th colspan=\"3\" halign=\"left\">sales_amount</th>\n",
       "      <th>quantity</th>\n",
       "    </tr>\n",
       "    <tr>\n",
       "      <th></th>\n",
       "      <th>sum</th>\n",
       "      <th>mean</th>\n",
       "      <th>count</th>\n",
       "      <th>sum</th>\n",
       "    </tr>\n",
       "    <tr>\n",
       "      <th>category</th>\n",
       "      <th></th>\n",
       "      <th></th>\n",
       "      <th></th>\n",
       "      <th></th>\n",
       "    </tr>\n",
       "  </thead>\n",
       "  <tbody>\n",
       "    <tr>\n",
       "      <th>Books</th>\n",
       "      <td>112424.59</td>\n",
       "      <td>504.146143</td>\n",
       "      <td>223</td>\n",
       "      <td>1157</td>\n",
       "    </tr>\n",
       "    <tr>\n",
       "      <th>Clothing</th>\n",
       "      <td>112682.26</td>\n",
       "      <td>536.582190</td>\n",
       "      <td>210</td>\n",
       "      <td>992</td>\n",
       "    </tr>\n",
       "    <tr>\n",
       "      <th>Electronics</th>\n",
       "      <td>90232.28</td>\n",
       "      <td>479.958936</td>\n",
       "      <td>188</td>\n",
       "      <td>946</td>\n",
       "    </tr>\n",
       "    <tr>\n",
       "      <th>Food</th>\n",
       "      <td>85217.49</td>\n",
       "      <td>504.245503</td>\n",
       "      <td>169</td>\n",
       "      <td>847</td>\n",
       "    </tr>\n",
       "    <tr>\n",
       "      <th>Home</th>\n",
       "      <td>112101.05</td>\n",
       "      <td>533.814524</td>\n",
       "      <td>210</td>\n",
       "      <td>1093</td>\n",
       "    </tr>\n",
       "  </tbody>\n",
       "</table>\n",
       "</div>"
      ],
      "text/plain": [
       "            sales_amount                   quantity\n",
       "                     sum        mean count      sum\n",
       "category                                           \n",
       "Books          112424.59  504.146143   223     1157\n",
       "Clothing       112682.26  536.582190   210      992\n",
       "Electronics     90232.28  479.958936   188      946\n",
       "Food            85217.49  504.245503   169      847\n",
       "Home           112101.05  533.814524   210     1093"
      ]
     },
     "metadata": {},
     "output_type": "display_data"
    }
   ],
   "source": [
    "# Group by category and aggregate\n",
    "category_sales: pd.DataFrame = df_sales_pd.groupby(\"category\").agg(\n",
    "    {\n",
    "        \"sales_amount\": [\"sum\", \"mean\", \"count\"],\n",
    "        \"quantity\": \"sum\",\n",
    "    }\n",
    ")\n",
    "print(f\"Category Sales Summary: {len(category_sales)}\")\n",
    "display(category_sales)"
   ]
  },
  {
   "cell_type": "code",
   "execution_count": null,
   "id": "32094a84",
   "metadata": {},
   "outputs": [
    {
     "name": "stdout",
     "output_type": "stream",
     "text": [
      "Renamed Category Sales Summary: 5\n"
     ]
    },
    {
     "data": {
      "text/html": [
       "<div>\n",
       "<style scoped>\n",
       "    .dataframe tbody tr th:only-of-type {\n",
       "        vertical-align: middle;\n",
       "    }\n",
       "\n",
       "    .dataframe tbody tr th {\n",
       "        vertical-align: top;\n",
       "    }\n",
       "\n",
       "    .dataframe thead th {\n",
       "        text-align: right;\n",
       "    }\n",
       "</style>\n",
       "<table border=\"1\" class=\"dataframe\">\n",
       "  <thead>\n",
       "    <tr style=\"text-align: right;\">\n",
       "      <th></th>\n",
       "      <th>date</th>\n",
       "      <th>customer_id</th>\n",
       "      <th>product_id</th>\n",
       "      <th>category</th>\n",
       "      <th>sales_amount</th>\n",
       "      <th>quantity</th>\n",
       "    </tr>\n",
       "  </thead>\n",
       "  <tbody>\n",
       "    <tr>\n",
       "      <th>0</th>\n",
       "      <td>2023-01-01</td>\n",
       "      <td>52</td>\n",
       "      <td>34</td>\n",
       "      <td>Books</td>\n",
       "      <td>319.23</td>\n",
       "      <td>2</td>\n",
       "    </tr>\n",
       "    <tr>\n",
       "      <th>1</th>\n",
       "      <td>2023-01-02</td>\n",
       "      <td>93</td>\n",
       "      <td>45</td>\n",
       "      <td>Food</td>\n",
       "      <td>646.25</td>\n",
       "      <td>6</td>\n",
       "    </tr>\n",
       "    <tr>\n",
       "      <th>2</th>\n",
       "      <td>2023-01-03</td>\n",
       "      <td>15</td>\n",
       "      <td>6</td>\n",
       "      <td>Food</td>\n",
       "      <td>203.88</td>\n",
       "      <td>2</td>\n",
       "    </tr>\n",
       "    <tr>\n",
       "      <th>3</th>\n",
       "      <td>2023-01-04</td>\n",
       "      <td>72</td>\n",
       "      <td>37</td>\n",
       "      <td>Books</td>\n",
       "      <td>897.99</td>\n",
       "      <td>3</td>\n",
       "    </tr>\n",
       "    <tr>\n",
       "      <th>4</th>\n",
       "      <td>2023-01-05</td>\n",
       "      <td>61</td>\n",
       "      <td>33</td>\n",
       "      <td>Books</td>\n",
       "      <td>524.99</td>\n",
       "      <td>4</td>\n",
       "    </tr>\n",
       "    <tr>\n",
       "      <th>5</th>\n",
       "      <td>2023-01-06</td>\n",
       "      <td>21</td>\n",
       "      <td>22</td>\n",
       "      <td>Clothing</td>\n",
       "      <td>453.13</td>\n",
       "      <td>5</td>\n",
       "    </tr>\n",
       "    <tr>\n",
       "      <th>6</th>\n",
       "      <td>2023-01-07</td>\n",
       "      <td>83</td>\n",
       "      <td>21</td>\n",
       "      <td>Clothing</td>\n",
       "      <td>562.24</td>\n",
       "      <td>9</td>\n",
       "    </tr>\n",
       "    <tr>\n",
       "      <th>7</th>\n",
       "      <td>2023-01-08</td>\n",
       "      <td>87</td>\n",
       "      <td>6</td>\n",
       "      <td>Food</td>\n",
       "      <td>174.37</td>\n",
       "      <td>4</td>\n",
       "    </tr>\n",
       "    <tr>\n",
       "      <th>8</th>\n",
       "      <td>2023-01-09</td>\n",
       "      <td>75</td>\n",
       "      <td>6</td>\n",
       "      <td>Electronics</td>\n",
       "      <td>617.34</td>\n",
       "      <td>9</td>\n",
       "    </tr>\n",
       "    <tr>\n",
       "      <th>9</th>\n",
       "      <td>2023-01-10</td>\n",
       "      <td>75</td>\n",
       "      <td>48</td>\n",
       "      <td>Books</td>\n",
       "      <td>369.47</td>\n",
       "      <td>3</td>\n",
       "    </tr>\n",
       "  </tbody>\n",
       "</table>\n",
       "</div>"
      ],
      "text/plain": [
       "        date  customer_id  product_id     category  sales_amount  quantity\n",
       "0 2023-01-01           52          34        Books        319.23         2\n",
       "1 2023-01-02           93          45         Food        646.25         6\n",
       "2 2023-01-03           15           6         Food        203.88         2\n",
       "3 2023-01-04           72          37        Books        897.99         3\n",
       "4 2023-01-05           61          33        Books        524.99         4\n",
       "5 2023-01-06           21          22     Clothing        453.13         5\n",
       "6 2023-01-07           83          21     Clothing        562.24         9\n",
       "7 2023-01-08           87           6         Food        174.37         4\n",
       "8 2023-01-09           75           6  Electronics        617.34         9\n",
       "9 2023-01-10           75          48        Books        369.47         3"
      ]
     },
     "metadata": {},
     "output_type": "display_data"
    }
   ],
   "source": [
    "# Rename columns for clarity\n",
    "category_sales.columns = [\n",
    "    \"total_sales\",\n",
    "    \"average_sales\",\n",
    "    \"transaction_count\",\n",
    "    \"total_quantity\",\n",
    "]\n",
    "print(f\"Renamed Category Sales Summary: {len(category_sales)}\")\n",
    "display(df_sales_pd.head(10))"
   ]
  },
  {
   "cell_type": "code",
   "execution_count": null,
   "id": "e04a8998",
   "metadata": {},
   "outputs": [
    {
     "data": {
      "application/vnd.plotly.v1+json": {
       "config": {
        "plotlyServerURL": "https://plot.ly"
       },
       "data": [
        {
         "hovertemplate": "Product Category=%{x}<br>Total Sales ($)=%{y}<br>transaction_count=%{text}<extra></extra>",
         "legendgroup": "",
         "marker": {
          "color": "#636efa",
          "pattern": {
           "shape": ""
          }
         },
         "name": "",
         "orientation": "v",
         "showlegend": false,
         "text": {
          "bdata": "AAAAAADga0AAAAAAAEBqQAAAAAAAgGdAAAAAAAAgZUAAAAAAAEBqQA==",
          "dtype": "f8"
         },
         "textposition": "auto",
         "type": "bar",
         "x": [
          "Books",
          "Clothing",
          "Electronics",
          "Food",
          "Home"
         ],
         "xaxis": "x",
         "y": {
          "bdata": "CtejcIly+0CPwvUopIL7QK5H4XqEB/ZAcT0K1xfO9EDNzMzMUF77QA==",
          "dtype": "f8"
         },
         "yaxis": "y"
        }
       ],
       "layout": {
        "barmode": "relative",
        "legend": {
         "tracegroupgap": 0
        },
        "template": {
         "data": {
          "bar": [
           {
            "error_x": {
             "color": "#2a3f5f"
            },
            "error_y": {
             "color": "#2a3f5f"
            },
            "marker": {
             "line": {
              "color": "#E5ECF6",
              "width": 0.5
             },
             "pattern": {
              "fillmode": "overlay",
              "size": 10,
              "solidity": 0.2
             }
            },
            "type": "bar"
           }
          ],
          "barpolar": [
           {
            "marker": {
             "line": {
              "color": "#E5ECF6",
              "width": 0.5
             },
             "pattern": {
              "fillmode": "overlay",
              "size": 10,
              "solidity": 0.2
             }
            },
            "type": "barpolar"
           }
          ],
          "carpet": [
           {
            "aaxis": {
             "endlinecolor": "#2a3f5f",
             "gridcolor": "white",
             "linecolor": "white",
             "minorgridcolor": "white",
             "startlinecolor": "#2a3f5f"
            },
            "baxis": {
             "endlinecolor": "#2a3f5f",
             "gridcolor": "white",
             "linecolor": "white",
             "minorgridcolor": "white",
             "startlinecolor": "#2a3f5f"
            },
            "type": "carpet"
           }
          ],
          "choropleth": [
           {
            "colorbar": {
             "outlinewidth": 0,
             "ticks": ""
            },
            "type": "choropleth"
           }
          ],
          "contour": [
           {
            "colorbar": {
             "outlinewidth": 0,
             "ticks": ""
            },
            "colorscale": [
             [
              0,
              "#0d0887"
             ],
             [
              0.1111111111111111,
              "#46039f"
             ],
             [
              0.2222222222222222,
              "#7201a8"
             ],
             [
              0.3333333333333333,
              "#9c179e"
             ],
             [
              0.4444444444444444,
              "#bd3786"
             ],
             [
              0.5555555555555556,
              "#d8576b"
             ],
             [
              0.6666666666666666,
              "#ed7953"
             ],
             [
              0.7777777777777778,
              "#fb9f3a"
             ],
             [
              0.8888888888888888,
              "#fdca26"
             ],
             [
              1,
              "#f0f921"
             ]
            ],
            "type": "contour"
           }
          ],
          "contourcarpet": [
           {
            "colorbar": {
             "outlinewidth": 0,
             "ticks": ""
            },
            "type": "contourcarpet"
           }
          ],
          "heatmap": [
           {
            "colorbar": {
             "outlinewidth": 0,
             "ticks": ""
            },
            "colorscale": [
             [
              0,
              "#0d0887"
             ],
             [
              0.1111111111111111,
              "#46039f"
             ],
             [
              0.2222222222222222,
              "#7201a8"
             ],
             [
              0.3333333333333333,
              "#9c179e"
             ],
             [
              0.4444444444444444,
              "#bd3786"
             ],
             [
              0.5555555555555556,
              "#d8576b"
             ],
             [
              0.6666666666666666,
              "#ed7953"
             ],
             [
              0.7777777777777778,
              "#fb9f3a"
             ],
             [
              0.8888888888888888,
              "#fdca26"
             ],
             [
              1,
              "#f0f921"
             ]
            ],
            "type": "heatmap"
           }
          ],
          "histogram": [
           {
            "marker": {
             "pattern": {
              "fillmode": "overlay",
              "size": 10,
              "solidity": 0.2
             }
            },
            "type": "histogram"
           }
          ],
          "histogram2d": [
           {
            "colorbar": {
             "outlinewidth": 0,
             "ticks": ""
            },
            "colorscale": [
             [
              0,
              "#0d0887"
             ],
             [
              0.1111111111111111,
              "#46039f"
             ],
             [
              0.2222222222222222,
              "#7201a8"
             ],
             [
              0.3333333333333333,
              "#9c179e"
             ],
             [
              0.4444444444444444,
              "#bd3786"
             ],
             [
              0.5555555555555556,
              "#d8576b"
             ],
             [
              0.6666666666666666,
              "#ed7953"
             ],
             [
              0.7777777777777778,
              "#fb9f3a"
             ],
             [
              0.8888888888888888,
              "#fdca26"
             ],
             [
              1,
              "#f0f921"
             ]
            ],
            "type": "histogram2d"
           }
          ],
          "histogram2dcontour": [
           {
            "colorbar": {
             "outlinewidth": 0,
             "ticks": ""
            },
            "colorscale": [
             [
              0,
              "#0d0887"
             ],
             [
              0.1111111111111111,
              "#46039f"
             ],
             [
              0.2222222222222222,
              "#7201a8"
             ],
             [
              0.3333333333333333,
              "#9c179e"
             ],
             [
              0.4444444444444444,
              "#bd3786"
             ],
             [
              0.5555555555555556,
              "#d8576b"
             ],
             [
              0.6666666666666666,
              "#ed7953"
             ],
             [
              0.7777777777777778,
              "#fb9f3a"
             ],
             [
              0.8888888888888888,
              "#fdca26"
             ],
             [
              1,
              "#f0f921"
             ]
            ],
            "type": "histogram2dcontour"
           }
          ],
          "mesh3d": [
           {
            "colorbar": {
             "outlinewidth": 0,
             "ticks": ""
            },
            "type": "mesh3d"
           }
          ],
          "parcoords": [
           {
            "line": {
             "colorbar": {
              "outlinewidth": 0,
              "ticks": ""
             }
            },
            "type": "parcoords"
           }
          ],
          "pie": [
           {
            "automargin": true,
            "type": "pie"
           }
          ],
          "scatter": [
           {
            "fillpattern": {
             "fillmode": "overlay",
             "size": 10,
             "solidity": 0.2
            },
            "type": "scatter"
           }
          ],
          "scatter3d": [
           {
            "line": {
             "colorbar": {
              "outlinewidth": 0,
              "ticks": ""
             }
            },
            "marker": {
             "colorbar": {
              "outlinewidth": 0,
              "ticks": ""
             }
            },
            "type": "scatter3d"
           }
          ],
          "scattercarpet": [
           {
            "marker": {
             "colorbar": {
              "outlinewidth": 0,
              "ticks": ""
             }
            },
            "type": "scattercarpet"
           }
          ],
          "scattergeo": [
           {
            "marker": {
             "colorbar": {
              "outlinewidth": 0,
              "ticks": ""
             }
            },
            "type": "scattergeo"
           }
          ],
          "scattergl": [
           {
            "marker": {
             "colorbar": {
              "outlinewidth": 0,
              "ticks": ""
             }
            },
            "type": "scattergl"
           }
          ],
          "scattermap": [
           {
            "marker": {
             "colorbar": {
              "outlinewidth": 0,
              "ticks": ""
             }
            },
            "type": "scattermap"
           }
          ],
          "scattermapbox": [
           {
            "marker": {
             "colorbar": {
              "outlinewidth": 0,
              "ticks": ""
             }
            },
            "type": "scattermapbox"
           }
          ],
          "scatterpolar": [
           {
            "marker": {
             "colorbar": {
              "outlinewidth": 0,
              "ticks": ""
             }
            },
            "type": "scatterpolar"
           }
          ],
          "scatterpolargl": [
           {
            "marker": {
             "colorbar": {
              "outlinewidth": 0,
              "ticks": ""
             }
            },
            "type": "scatterpolargl"
           }
          ],
          "scatterternary": [
           {
            "marker": {
             "colorbar": {
              "outlinewidth": 0,
              "ticks": ""
             }
            },
            "type": "scatterternary"
           }
          ],
          "surface": [
           {
            "colorbar": {
             "outlinewidth": 0,
             "ticks": ""
            },
            "colorscale": [
             [
              0,
              "#0d0887"
             ],
             [
              0.1111111111111111,
              "#46039f"
             ],
             [
              0.2222222222222222,
              "#7201a8"
             ],
             [
              0.3333333333333333,
              "#9c179e"
             ],
             [
              0.4444444444444444,
              "#bd3786"
             ],
             [
              0.5555555555555556,
              "#d8576b"
             ],
             [
              0.6666666666666666,
              "#ed7953"
             ],
             [
              0.7777777777777778,
              "#fb9f3a"
             ],
             [
              0.8888888888888888,
              "#fdca26"
             ],
             [
              1,
              "#f0f921"
             ]
            ],
            "type": "surface"
           }
          ],
          "table": [
           {
            "cells": {
             "fill": {
              "color": "#EBF0F8"
             },
             "line": {
              "color": "white"
             }
            },
            "header": {
             "fill": {
              "color": "#C8D4E3"
             },
             "line": {
              "color": "white"
             }
            },
            "type": "table"
           }
          ]
         },
         "layout": {
          "annotationdefaults": {
           "arrowcolor": "#2a3f5f",
           "arrowhead": 0,
           "arrowwidth": 1
          },
          "autotypenumbers": "strict",
          "coloraxis": {
           "colorbar": {
            "outlinewidth": 0,
            "ticks": ""
           }
          },
          "colorscale": {
           "diverging": [
            [
             0,
             "#8e0152"
            ],
            [
             0.1,
             "#c51b7d"
            ],
            [
             0.2,
             "#de77ae"
            ],
            [
             0.3,
             "#f1b6da"
            ],
            [
             0.4,
             "#fde0ef"
            ],
            [
             0.5,
             "#f7f7f7"
            ],
            [
             0.6,
             "#e6f5d0"
            ],
            [
             0.7,
             "#b8e186"
            ],
            [
             0.8,
             "#7fbc41"
            ],
            [
             0.9,
             "#4d9221"
            ],
            [
             1,
             "#276419"
            ]
           ],
           "sequential": [
            [
             0,
             "#0d0887"
            ],
            [
             0.1111111111111111,
             "#46039f"
            ],
            [
             0.2222222222222222,
             "#7201a8"
            ],
            [
             0.3333333333333333,
             "#9c179e"
            ],
            [
             0.4444444444444444,
             "#bd3786"
            ],
            [
             0.5555555555555556,
             "#d8576b"
            ],
            [
             0.6666666666666666,
             "#ed7953"
            ],
            [
             0.7777777777777778,
             "#fb9f3a"
            ],
            [
             0.8888888888888888,
             "#fdca26"
            ],
            [
             1,
             "#f0f921"
            ]
           ],
           "sequentialminus": [
            [
             0,
             "#0d0887"
            ],
            [
             0.1111111111111111,
             "#46039f"
            ],
            [
             0.2222222222222222,
             "#7201a8"
            ],
            [
             0.3333333333333333,
             "#9c179e"
            ],
            [
             0.4444444444444444,
             "#bd3786"
            ],
            [
             0.5555555555555556,
             "#d8576b"
            ],
            [
             0.6666666666666666,
             "#ed7953"
            ],
            [
             0.7777777777777778,
             "#fb9f3a"
            ],
            [
             0.8888888888888888,
             "#fdca26"
            ],
            [
             1,
             "#f0f921"
            ]
           ]
          },
          "colorway": [
           "#636efa",
           "#EF553B",
           "#00cc96",
           "#ab63fa",
           "#FFA15A",
           "#19d3f3",
           "#FF6692",
           "#B6E880",
           "#FF97FF",
           "#FECB52"
          ],
          "font": {
           "color": "#2a3f5f"
          },
          "geo": {
           "bgcolor": "white",
           "lakecolor": "white",
           "landcolor": "#E5ECF6",
           "showlakes": true,
           "showland": true,
           "subunitcolor": "white"
          },
          "hoverlabel": {
           "align": "left"
          },
          "hovermode": "closest",
          "mapbox": {
           "style": "light"
          },
          "paper_bgcolor": "white",
          "plot_bgcolor": "#E5ECF6",
          "polar": {
           "angularaxis": {
            "gridcolor": "white",
            "linecolor": "white",
            "ticks": ""
           },
           "bgcolor": "#E5ECF6",
           "radialaxis": {
            "gridcolor": "white",
            "linecolor": "white",
            "ticks": ""
           }
          },
          "scene": {
           "xaxis": {
            "backgroundcolor": "#E5ECF6",
            "gridcolor": "white",
            "gridwidth": 2,
            "linecolor": "white",
            "showbackground": true,
            "ticks": "",
            "zerolinecolor": "white"
           },
           "yaxis": {
            "backgroundcolor": "#E5ECF6",
            "gridcolor": "white",
            "gridwidth": 2,
            "linecolor": "white",
            "showbackground": true,
            "ticks": "",
            "zerolinecolor": "white"
           },
           "zaxis": {
            "backgroundcolor": "#E5ECF6",
            "gridcolor": "white",
            "gridwidth": 2,
            "linecolor": "white",
            "showbackground": true,
            "ticks": "",
            "zerolinecolor": "white"
           }
          },
          "shapedefaults": {
           "line": {
            "color": "#2a3f5f"
           }
          },
          "ternary": {
           "aaxis": {
            "gridcolor": "white",
            "linecolor": "white",
            "ticks": ""
           },
           "baxis": {
            "gridcolor": "white",
            "linecolor": "white",
            "ticks": ""
           },
           "bgcolor": "#E5ECF6",
           "caxis": {
            "gridcolor": "white",
            "linecolor": "white",
            "ticks": ""
           }
          },
          "title": {
           "x": 0.05
          },
          "xaxis": {
           "automargin": true,
           "gridcolor": "white",
           "linecolor": "white",
           "ticks": "",
           "title": {
            "standoff": 15
           },
           "zerolinecolor": "white",
           "zerolinewidth": 2
          },
          "yaxis": {
           "automargin": true,
           "gridcolor": "white",
           "linecolor": "white",
           "ticks": "",
           "title": {
            "standoff": 15
           },
           "zerolinecolor": "white",
           "zerolinewidth": 2
          }
         }
        },
        "title": {
         "text": "Total Sales by Category"
        },
        "xaxis": {
         "anchor": "y",
         "domain": [
          0,
          1
         ],
         "title": {
          "text": "Product Category"
         }
        },
        "yaxis": {
         "anchor": "x",
         "domain": [
          0,
          1
         ],
         "title": {
          "text": "Total Sales ($)"
         }
        }
       }
      }
     },
     "metadata": {},
     "output_type": "display_data"
    }
   ],
   "source": [
    "# Plot the results\n",
    "fig: go.Figure = px.bar(\n",
    "    category_sales.reset_index(),\n",
    "    x=\"category\",\n",
    "    y=\"total_sales\",\n",
    "    title=\"Total Sales by Category\",\n",
    "    text=\"transaction_count\",\n",
    "    labels={\"total_sales\": \"Total Sales ($)\", \"category\": \"Product Category\"},\n",
    ")\n",
    "fig.show()"
   ]
  },
  {
   "cell_type": "markdown",
   "id": "74348eaa",
   "metadata": {},
   "source": [
    "### 3. Joining"
   ]
  },
  {
   "cell_type": "code",
   "execution_count": null,
   "id": "405ca0f7",
   "metadata": {},
   "outputs": [
    {
     "name": "stdout",
     "output_type": "stream",
     "text": [
      "Sales with Product Information: 1000\n"
     ]
    },
    {
     "data": {
      "text/html": [
       "<div>\n",
       "<style scoped>\n",
       "    .dataframe tbody tr th:only-of-type {\n",
       "        vertical-align: middle;\n",
       "    }\n",
       "\n",
       "    .dataframe tbody tr th {\n",
       "        vertical-align: top;\n",
       "    }\n",
       "\n",
       "    .dataframe thead th {\n",
       "        text-align: right;\n",
       "    }\n",
       "</style>\n",
       "<table border=\"1\" class=\"dataframe\">\n",
       "  <thead>\n",
       "    <tr style=\"text-align: right;\">\n",
       "      <th></th>\n",
       "      <th>date</th>\n",
       "      <th>customer_id</th>\n",
       "      <th>product_id</th>\n",
       "      <th>category</th>\n",
       "      <th>sales_amount</th>\n",
       "      <th>quantity</th>\n",
       "      <th>product_name</th>\n",
       "      <th>price</th>\n",
       "    </tr>\n",
       "  </thead>\n",
       "  <tbody>\n",
       "    <tr>\n",
       "      <th>0</th>\n",
       "      <td>2023-01-01</td>\n",
       "      <td>52</td>\n",
       "      <td>34</td>\n",
       "      <td>Books</td>\n",
       "      <td>319.23</td>\n",
       "      <td>2</td>\n",
       "      <td>Product 34</td>\n",
       "      <td>301.18</td>\n",
       "    </tr>\n",
       "    <tr>\n",
       "      <th>1</th>\n",
       "      <td>2023-01-02</td>\n",
       "      <td>93</td>\n",
       "      <td>45</td>\n",
       "      <td>Food</td>\n",
       "      <td>646.25</td>\n",
       "      <td>6</td>\n",
       "      <td>Product 45</td>\n",
       "      <td>376.07</td>\n",
       "    </tr>\n",
       "    <tr>\n",
       "      <th>2</th>\n",
       "      <td>2023-01-03</td>\n",
       "      <td>15</td>\n",
       "      <td>6</td>\n",
       "      <td>Food</td>\n",
       "      <td>203.88</td>\n",
       "      <td>2</td>\n",
       "      <td>Product 6</td>\n",
       "      <td>211.48</td>\n",
       "    </tr>\n",
       "    <tr>\n",
       "      <th>3</th>\n",
       "      <td>2023-01-04</td>\n",
       "      <td>72</td>\n",
       "      <td>37</td>\n",
       "      <td>Books</td>\n",
       "      <td>897.99</td>\n",
       "      <td>3</td>\n",
       "      <td>Product 37</td>\n",
       "      <td>291.93</td>\n",
       "    </tr>\n",
       "    <tr>\n",
       "      <th>4</th>\n",
       "      <td>2023-01-05</td>\n",
       "      <td>61</td>\n",
       "      <td>33</td>\n",
       "      <td>Books</td>\n",
       "      <td>524.99</td>\n",
       "      <td>4</td>\n",
       "      <td>Product 33</td>\n",
       "      <td>341.48</td>\n",
       "    </tr>\n",
       "  </tbody>\n",
       "</table>\n",
       "</div>"
      ],
      "text/plain": [
       "        date  customer_id  product_id category  sales_amount  quantity  \\\n",
       "0 2023-01-01           52          34    Books        319.23         2   \n",
       "1 2023-01-02           93          45     Food        646.25         6   \n",
       "2 2023-01-03           15           6     Food        203.88         2   \n",
       "3 2023-01-04           72          37    Books        897.99         3   \n",
       "4 2023-01-05           61          33    Books        524.99         4   \n",
       "\n",
       "  product_name   price  \n",
       "0   Product 34  301.18  \n",
       "1   Product 45  376.07  \n",
       "2    Product 6  211.48  \n",
       "3   Product 37  291.93  \n",
       "4   Product 33  341.48  "
      ]
     },
     "metadata": {},
     "output_type": "display_data"
    }
   ],
   "source": [
    "# Join sales with product data\n",
    "sales_with_product: pd.DataFrame = pd.merge(\n",
    "    df_sales_pd,\n",
    "    df_product_pd[[\"product_id\", \"product_name\", \"price\"]],\n",
    "    on=\"product_id\",\n",
    "    how=\"left\",\n",
    ")\n",
    "print(f\"Sales with Product Information: {len(sales_with_product)}\")\n",
    "display(sales_with_product.head())"
   ]
  },
  {
   "cell_type": "code",
   "execution_count": null,
   "id": "62b8f8b4",
   "metadata": {},
   "outputs": [
    {
     "name": "stdout",
     "output_type": "stream",
     "text": [
      "Complete Sales Data with Customer Information: 1000\n"
     ]
    },
    {
     "data": {
      "text/html": [
       "<div>\n",
       "<style scoped>\n",
       "    .dataframe tbody tr th:only-of-type {\n",
       "        vertical-align: middle;\n",
       "    }\n",
       "\n",
       "    .dataframe tbody tr th {\n",
       "        vertical-align: top;\n",
       "    }\n",
       "\n",
       "    .dataframe thead th {\n",
       "        text-align: right;\n",
       "    }\n",
       "</style>\n",
       "<table border=\"1\" class=\"dataframe\">\n",
       "  <thead>\n",
       "    <tr style=\"text-align: right;\">\n",
       "      <th></th>\n",
       "      <th>date</th>\n",
       "      <th>customer_id</th>\n",
       "      <th>product_id</th>\n",
       "      <th>category</th>\n",
       "      <th>sales_amount</th>\n",
       "      <th>quantity</th>\n",
       "      <th>product_name</th>\n",
       "      <th>price</th>\n",
       "      <th>customer_name</th>\n",
       "      <th>city</th>\n",
       "      <th>state</th>\n",
       "    </tr>\n",
       "  </thead>\n",
       "  <tbody>\n",
       "    <tr>\n",
       "      <th>0</th>\n",
       "      <td>2023-01-01</td>\n",
       "      <td>52</td>\n",
       "      <td>34</td>\n",
       "      <td>Books</td>\n",
       "      <td>319.23</td>\n",
       "      <td>2</td>\n",
       "      <td>Product 34</td>\n",
       "      <td>301.18</td>\n",
       "      <td>Customer 52</td>\n",
       "      <td>Houston</td>\n",
       "      <td>CA</td>\n",
       "    </tr>\n",
       "    <tr>\n",
       "      <th>1</th>\n",
       "      <td>2023-01-02</td>\n",
       "      <td>93</td>\n",
       "      <td>45</td>\n",
       "      <td>Food</td>\n",
       "      <td>646.25</td>\n",
       "      <td>6</td>\n",
       "      <td>Product 45</td>\n",
       "      <td>376.07</td>\n",
       "      <td>Customer 93</td>\n",
       "      <td>New York</td>\n",
       "      <td>CA</td>\n",
       "    </tr>\n",
       "    <tr>\n",
       "      <th>2</th>\n",
       "      <td>2023-01-03</td>\n",
       "      <td>15</td>\n",
       "      <td>6</td>\n",
       "      <td>Food</td>\n",
       "      <td>203.88</td>\n",
       "      <td>2</td>\n",
       "      <td>Product 6</td>\n",
       "      <td>211.48</td>\n",
       "      <td>Customer 15</td>\n",
       "      <td>Chicago</td>\n",
       "      <td>IL</td>\n",
       "    </tr>\n",
       "    <tr>\n",
       "      <th>3</th>\n",
       "      <td>2023-01-04</td>\n",
       "      <td>72</td>\n",
       "      <td>37</td>\n",
       "      <td>Books</td>\n",
       "      <td>897.99</td>\n",
       "      <td>3</td>\n",
       "      <td>Product 37</td>\n",
       "      <td>291.93</td>\n",
       "      <td>Customer 72</td>\n",
       "      <td>New York</td>\n",
       "      <td>CA</td>\n",
       "    </tr>\n",
       "    <tr>\n",
       "      <th>4</th>\n",
       "      <td>2023-01-05</td>\n",
       "      <td>61</td>\n",
       "      <td>33</td>\n",
       "      <td>Books</td>\n",
       "      <td>524.99</td>\n",
       "      <td>4</td>\n",
       "      <td>Product 33</td>\n",
       "      <td>341.48</td>\n",
       "      <td>Customer 61</td>\n",
       "      <td>Houston</td>\n",
       "      <td>AZ</td>\n",
       "    </tr>\n",
       "  </tbody>\n",
       "</table>\n",
       "</div>"
      ],
      "text/plain": [
       "        date  customer_id  product_id category  sales_amount  quantity  \\\n",
       "0 2023-01-01           52          34    Books        319.23         2   \n",
       "1 2023-01-02           93          45     Food        646.25         6   \n",
       "2 2023-01-03           15           6     Food        203.88         2   \n",
       "3 2023-01-04           72          37    Books        897.99         3   \n",
       "4 2023-01-05           61          33    Books        524.99         4   \n",
       "\n",
       "  product_name   price customer_name      city state  \n",
       "0   Product 34  301.18   Customer 52   Houston    CA  \n",
       "1   Product 45  376.07   Customer 93  New York    CA  \n",
       "2    Product 6  211.48   Customer 15   Chicago    IL  \n",
       "3   Product 37  291.93   Customer 72  New York    CA  \n",
       "4   Product 33  341.48   Customer 61   Houston    AZ  "
      ]
     },
     "metadata": {},
     "output_type": "display_data"
    }
   ],
   "source": [
    "# Join with customer information to get a complete view\n",
    "complete_sales: pd.DataFrame = pd.merge(\n",
    "    sales_with_product,\n",
    "    df_customer_pd[[\"customer_id\", \"customer_name\", \"city\", \"state\"]],\n",
    "    on=\"customer_id\",\n",
    "    how=\"left\",\n",
    ")\n",
    "print(f\"Complete Sales Data with Customer Information: {len(complete_sales)}\")\n",
    "display(complete_sales.head())"
   ]
  },
  {
   "cell_type": "code",
   "execution_count": null,
   "id": "14a7e93f",
   "metadata": {},
   "outputs": [
    {
     "name": "stdout",
     "output_type": "stream",
     "text": [
      "Complete Sales Data with Calculated Revenue and Price Difference: 1000\n"
     ]
    },
    {
     "data": {
      "text/html": [
       "<div>\n",
       "<style scoped>\n",
       "    .dataframe tbody tr th:only-of-type {\n",
       "        vertical-align: middle;\n",
       "    }\n",
       "\n",
       "    .dataframe tbody tr th {\n",
       "        vertical-align: top;\n",
       "    }\n",
       "\n",
       "    .dataframe thead th {\n",
       "        text-align: right;\n",
       "    }\n",
       "</style>\n",
       "<table border=\"1\" class=\"dataframe\">\n",
       "  <thead>\n",
       "    <tr style=\"text-align: right;\">\n",
       "      <th></th>\n",
       "      <th>sales_amount</th>\n",
       "      <th>price</th>\n",
       "      <th>quantity</th>\n",
       "      <th>calculated_revenue</th>\n",
       "      <th>price_difference</th>\n",
       "    </tr>\n",
       "  </thead>\n",
       "  <tbody>\n",
       "    <tr>\n",
       "      <th>0</th>\n",
       "      <td>319.23</td>\n",
       "      <td>301.18</td>\n",
       "      <td>2</td>\n",
       "      <td>602.36</td>\n",
       "      <td>-283.13</td>\n",
       "    </tr>\n",
       "    <tr>\n",
       "      <th>1</th>\n",
       "      <td>646.25</td>\n",
       "      <td>376.07</td>\n",
       "      <td>6</td>\n",
       "      <td>2256.42</td>\n",
       "      <td>-1610.17</td>\n",
       "    </tr>\n",
       "    <tr>\n",
       "      <th>2</th>\n",
       "      <td>203.88</td>\n",
       "      <td>211.48</td>\n",
       "      <td>2</td>\n",
       "      <td>422.96</td>\n",
       "      <td>-219.08</td>\n",
       "    </tr>\n",
       "    <tr>\n",
       "      <th>3</th>\n",
       "      <td>897.99</td>\n",
       "      <td>291.93</td>\n",
       "      <td>3</td>\n",
       "      <td>875.79</td>\n",
       "      <td>22.20</td>\n",
       "    </tr>\n",
       "    <tr>\n",
       "      <th>4</th>\n",
       "      <td>524.99</td>\n",
       "      <td>341.48</td>\n",
       "      <td>4</td>\n",
       "      <td>1365.92</td>\n",
       "      <td>-840.93</td>\n",
       "    </tr>\n",
       "  </tbody>\n",
       "</table>\n",
       "</div>"
      ],
      "text/plain": [
       "   sales_amount   price  quantity  calculated_revenue  price_difference\n",
       "0        319.23  301.18         2              602.36           -283.13\n",
       "1        646.25  376.07         6             2256.42          -1610.17\n",
       "2        203.88  211.48         2              422.96           -219.08\n",
       "3        897.99  291.93         3              875.79             22.20\n",
       "4        524.99  341.48         4             1365.92           -840.93"
      ]
     },
     "metadata": {},
     "output_type": "display_data"
    }
   ],
   "source": [
    "# Calculate revenue (price * quantity) and compare with sales amount\n",
    "complete_sales[\"calculated_revenue\"] = complete_sales[\"price\"] * complete_sales[\"quantity\"]\n",
    "complete_sales[\"price_difference\"] = complete_sales[\"sales_amount\"] - complete_sales[\"calculated_revenue\"]\n",
    "print(f\"Complete Sales Data with Calculated Revenue and Price Difference: {len(complete_sales)}\")\n",
    "display(complete_sales[[\"sales_amount\", \"price\", \"quantity\", \"calculated_revenue\", \"price_difference\"]].head())"
   ]
  },
  {
   "cell_type": "markdown",
   "id": "e2f1abfd",
   "metadata": {},
   "source": [
    "### 4. Window Functions"
   ]
  },
  {
   "cell_type": "code",
   "execution_count": null,
   "id": "95064521",
   "metadata": {},
   "outputs": [
    {
     "name": "stdout",
     "output_type": "stream",
     "text": [
      "Daily Sales Summary: 1000\n"
     ]
    },
    {
     "data": {
      "text/html": [
       "<div>\n",
       "<style scoped>\n",
       "    .dataframe tbody tr th:only-of-type {\n",
       "        vertical-align: middle;\n",
       "    }\n",
       "\n",
       "    .dataframe tbody tr th {\n",
       "        vertical-align: top;\n",
       "    }\n",
       "\n",
       "    .dataframe thead th {\n",
       "        text-align: right;\n",
       "    }\n",
       "</style>\n",
       "<table border=\"1\" class=\"dataframe\">\n",
       "  <thead>\n",
       "    <tr style=\"text-align: right;\">\n",
       "      <th></th>\n",
       "      <th>date</th>\n",
       "      <th>sales_amount</th>\n",
       "    </tr>\n",
       "  </thead>\n",
       "  <tbody>\n",
       "    <tr>\n",
       "      <th>0</th>\n",
       "      <td>2023-01-01</td>\n",
       "      <td>319.23</td>\n",
       "    </tr>\n",
       "    <tr>\n",
       "      <th>1</th>\n",
       "      <td>2023-01-02</td>\n",
       "      <td>646.25</td>\n",
       "    </tr>\n",
       "    <tr>\n",
       "      <th>2</th>\n",
       "      <td>2023-01-03</td>\n",
       "      <td>203.88</td>\n",
       "    </tr>\n",
       "    <tr>\n",
       "      <th>3</th>\n",
       "      <td>2023-01-04</td>\n",
       "      <td>897.99</td>\n",
       "    </tr>\n",
       "    <tr>\n",
       "      <th>4</th>\n",
       "      <td>2023-01-05</td>\n",
       "      <td>524.99</td>\n",
       "    </tr>\n",
       "  </tbody>\n",
       "</table>\n",
       "</div>"
      ],
      "text/plain": [
       "         date  sales_amount\n",
       "0  2023-01-01        319.23\n",
       "1  2023-01-02        646.25\n",
       "2  2023-01-03        203.88\n",
       "3  2023-01-04        897.99\n",
       "4  2023-01-05        524.99"
      ]
     },
     "metadata": {},
     "output_type": "display_data"
    }
   ],
   "source": [
    "# Time-based window function\n",
    "df_sales_pd[\"date\"] = pd.to_datetime(df_sales_pd[\"date\"])  # Ensure date type\n",
    "daily_sales: pd.DataFrame = (\n",
    "    df_sales_pd.groupby(df_sales_pd[\"date\"].dt.date)[\"sales_amount\"].sum().reset_index().sort_values(\"date\")\n",
    ")\n",
    "print(f\"Daily Sales Summary: {len(daily_sales)}\")\n",
    "display(daily_sales.head())"
   ]
  },
  {
   "cell_type": "code",
   "execution_count": null,
   "id": "2c446e8a",
   "metadata": {},
   "outputs": [
    {
     "name": "stdout",
     "output_type": "stream",
     "text": [
      "Daily Sales with 7-Day Moving Average: 1000\n"
     ]
    },
    {
     "data": {
      "text/html": [
       "<div>\n",
       "<style scoped>\n",
       "    .dataframe tbody tr th:only-of-type {\n",
       "        vertical-align: middle;\n",
       "    }\n",
       "\n",
       "    .dataframe tbody tr th {\n",
       "        vertical-align: top;\n",
       "    }\n",
       "\n",
       "    .dataframe thead th {\n",
       "        text-align: right;\n",
       "    }\n",
       "</style>\n",
       "<table border=\"1\" class=\"dataframe\">\n",
       "  <thead>\n",
       "    <tr style=\"text-align: right;\">\n",
       "      <th></th>\n",
       "      <th>date</th>\n",
       "      <th>sales_amount</th>\n",
       "      <th>7d_moving_avg</th>\n",
       "    </tr>\n",
       "  </thead>\n",
       "  <tbody>\n",
       "    <tr>\n",
       "      <th>0</th>\n",
       "      <td>2023-01-01</td>\n",
       "      <td>319.23</td>\n",
       "      <td>319.230000</td>\n",
       "    </tr>\n",
       "    <tr>\n",
       "      <th>1</th>\n",
       "      <td>2023-01-02</td>\n",
       "      <td>646.25</td>\n",
       "      <td>482.740000</td>\n",
       "    </tr>\n",
       "    <tr>\n",
       "      <th>2</th>\n",
       "      <td>2023-01-03</td>\n",
       "      <td>203.88</td>\n",
       "      <td>389.786667</td>\n",
       "    </tr>\n",
       "    <tr>\n",
       "      <th>3</th>\n",
       "      <td>2023-01-04</td>\n",
       "      <td>897.99</td>\n",
       "      <td>516.837500</td>\n",
       "    </tr>\n",
       "    <tr>\n",
       "      <th>4</th>\n",
       "      <td>2023-01-05</td>\n",
       "      <td>524.99</td>\n",
       "      <td>518.468000</td>\n",
       "    </tr>\n",
       "  </tbody>\n",
       "</table>\n",
       "</div>"
      ],
      "text/plain": [
       "         date  sales_amount  7d_moving_avg\n",
       "0  2023-01-01        319.23     319.230000\n",
       "1  2023-01-02        646.25     482.740000\n",
       "2  2023-01-03        203.88     389.786667\n",
       "3  2023-01-04        897.99     516.837500\n",
       "4  2023-01-05        524.99     518.468000"
      ]
     },
     "metadata": {},
     "output_type": "display_data"
    }
   ],
   "source": [
    "# Calculate rolling averages (7-day moving average)\n",
    "daily_sales[\"7d_moving_avg\"] = daily_sales[\"sales_amount\"].rolling(window=7, min_periods=1).mean()\n",
    "print(f\"Daily Sales with 7-Day Moving Average: {len(daily_sales)}\")\n",
    "display(daily_sales.head())"
   ]
  },
  {
   "cell_type": "code",
   "execution_count": null,
   "id": "8b9b8e89",
   "metadata": {},
   "outputs": [
    {
     "name": "stdout",
     "output_type": "stream",
     "text": [
      "Daily Sales with Lag and Lead: 1000\n"
     ]
    },
    {
     "data": {
      "text/html": [
       "<div>\n",
       "<style scoped>\n",
       "    .dataframe tbody tr th:only-of-type {\n",
       "        vertical-align: middle;\n",
       "    }\n",
       "\n",
       "    .dataframe tbody tr th {\n",
       "        vertical-align: top;\n",
       "    }\n",
       "\n",
       "    .dataframe thead th {\n",
       "        text-align: right;\n",
       "    }\n",
       "</style>\n",
       "<table border=\"1\" class=\"dataframe\">\n",
       "  <thead>\n",
       "    <tr style=\"text-align: right;\">\n",
       "      <th></th>\n",
       "      <th>date</th>\n",
       "      <th>sales_amount</th>\n",
       "      <th>7d_moving_avg</th>\n",
       "      <th>previous_day_sales</th>\n",
       "      <th>next_day_sales</th>\n",
       "    </tr>\n",
       "  </thead>\n",
       "  <tbody>\n",
       "    <tr>\n",
       "      <th>0</th>\n",
       "      <td>2023-01-01</td>\n",
       "      <td>319.23</td>\n",
       "      <td>319.230000</td>\n",
       "      <td>NaN</td>\n",
       "      <td>646.25</td>\n",
       "    </tr>\n",
       "    <tr>\n",
       "      <th>1</th>\n",
       "      <td>2023-01-02</td>\n",
       "      <td>646.25</td>\n",
       "      <td>482.740000</td>\n",
       "      <td>319.23</td>\n",
       "      <td>203.88</td>\n",
       "    </tr>\n",
       "    <tr>\n",
       "      <th>2</th>\n",
       "      <td>2023-01-03</td>\n",
       "      <td>203.88</td>\n",
       "      <td>389.786667</td>\n",
       "      <td>646.25</td>\n",
       "      <td>897.99</td>\n",
       "    </tr>\n",
       "    <tr>\n",
       "      <th>3</th>\n",
       "      <td>2023-01-04</td>\n",
       "      <td>897.99</td>\n",
       "      <td>516.837500</td>\n",
       "      <td>203.88</td>\n",
       "      <td>524.99</td>\n",
       "    </tr>\n",
       "    <tr>\n",
       "      <th>4</th>\n",
       "      <td>2023-01-05</td>\n",
       "      <td>524.99</td>\n",
       "      <td>518.468000</td>\n",
       "      <td>897.99</td>\n",
       "      <td>453.13</td>\n",
       "    </tr>\n",
       "  </tbody>\n",
       "</table>\n",
       "</div>"
      ],
      "text/plain": [
       "         date  sales_amount  7d_moving_avg  previous_day_sales  next_day_sales\n",
       "0  2023-01-01        319.23     319.230000                 NaN          646.25\n",
       "1  2023-01-02        646.25     482.740000              319.23          203.88\n",
       "2  2023-01-03        203.88     389.786667              646.25          897.99\n",
       "3  2023-01-04        897.99     516.837500              203.88          524.99\n",
       "4  2023-01-05        524.99     518.468000              897.99          453.13"
      ]
     },
     "metadata": {},
     "output_type": "display_data"
    }
   ],
   "source": [
    "# Calculate lag and lead\n",
    "daily_sales[\"previous_day_sales\"] = daily_sales[\"sales_amount\"].shift(1)\n",
    "daily_sales[\"next_day_sales\"] = daily_sales[\"sales_amount\"].shift(-1)\n",
    "print(f\"Daily Sales with Lag and Lead: {len(daily_sales)}\")\n",
    "display(daily_sales.head())"
   ]
  },
  {
   "cell_type": "code",
   "execution_count": null,
   "id": "c2bfe7b5",
   "metadata": {},
   "outputs": [
    {
     "name": "stdout",
     "output_type": "stream",
     "text": [
      "Daily Sales with Day-over-Day Change: 1000\n"
     ]
    },
    {
     "data": {
      "text/html": [
       "<div>\n",
       "<style scoped>\n",
       "    .dataframe tbody tr th:only-of-type {\n",
       "        vertical-align: middle;\n",
       "    }\n",
       "\n",
       "    .dataframe tbody tr th {\n",
       "        vertical-align: top;\n",
       "    }\n",
       "\n",
       "    .dataframe thead th {\n",
       "        text-align: right;\n",
       "    }\n",
       "</style>\n",
       "<table border=\"1\" class=\"dataframe\">\n",
       "  <thead>\n",
       "    <tr style=\"text-align: right;\">\n",
       "      <th></th>\n",
       "      <th>date</th>\n",
       "      <th>sales_amount</th>\n",
       "      <th>7d_moving_avg</th>\n",
       "      <th>previous_day_sales</th>\n",
       "      <th>next_day_sales</th>\n",
       "      <th>day_over_day_change</th>\n",
       "      <th>pct_change</th>\n",
       "    </tr>\n",
       "  </thead>\n",
       "  <tbody>\n",
       "    <tr>\n",
       "      <th>0</th>\n",
       "      <td>2023-01-01</td>\n",
       "      <td>319.23</td>\n",
       "      <td>319.230000</td>\n",
       "      <td>NaN</td>\n",
       "      <td>646.25</td>\n",
       "      <td>NaN</td>\n",
       "      <td>NaN</td>\n",
       "    </tr>\n",
       "    <tr>\n",
       "      <th>1</th>\n",
       "      <td>2023-01-02</td>\n",
       "      <td>646.25</td>\n",
       "      <td>482.740000</td>\n",
       "      <td>319.23</td>\n",
       "      <td>203.88</td>\n",
       "      <td>-318.205598</td>\n",
       "      <td>102.440247</td>\n",
       "    </tr>\n",
       "    <tr>\n",
       "      <th>2</th>\n",
       "      <td>2023-01-03</td>\n",
       "      <td>203.88</td>\n",
       "      <td>389.786667</td>\n",
       "      <td>646.25</td>\n",
       "      <td>897.99</td>\n",
       "      <td>-646.934518</td>\n",
       "      <td>-68.451838</td>\n",
       "    </tr>\n",
       "    <tr>\n",
       "      <th>3</th>\n",
       "      <td>2023-01-04</td>\n",
       "      <td>897.99</td>\n",
       "      <td>516.837500</td>\n",
       "      <td>203.88</td>\n",
       "      <td>524.99</td>\n",
       "      <td>-200.475497</td>\n",
       "      <td>340.450265</td>\n",
       "    </tr>\n",
       "    <tr>\n",
       "      <th>4</th>\n",
       "      <td>2023-01-05</td>\n",
       "      <td>524.99</td>\n",
       "      <td>518.468000</td>\n",
       "      <td>897.99</td>\n",
       "      <td>453.13</td>\n",
       "      <td>-898.405372</td>\n",
       "      <td>-41.537211</td>\n",
       "    </tr>\n",
       "  </tbody>\n",
       "</table>\n",
       "</div>"
      ],
      "text/plain": [
       "         date  sales_amount  7d_moving_avg  previous_day_sales  \\\n",
       "0  2023-01-01        319.23     319.230000                 NaN   \n",
       "1  2023-01-02        646.25     482.740000              319.23   \n",
       "2  2023-01-03        203.88     389.786667              646.25   \n",
       "3  2023-01-04        897.99     516.837500              203.88   \n",
       "4  2023-01-05        524.99     518.468000              897.99   \n",
       "\n",
       "   next_day_sales  day_over_day_change  pct_change  \n",
       "0          646.25                  NaN         NaN  \n",
       "1          203.88          -318.205598  102.440247  \n",
       "2          897.99          -646.934518  -68.451838  \n",
       "3          524.99          -200.475497  340.450265  \n",
       "4          453.13          -898.405372  -41.537211  "
      ]
     },
     "metadata": {},
     "output_type": "display_data"
    }
   ],
   "source": [
    "# Calculate day-over-day change\n",
    "daily_sales[\"day_over_day_change\"] = daily_sales[\"sales_amount\"].pct_change() - daily_sales[\"previous_day_sales\"]\n",
    "daily_sales[\"pct_change\"] = daily_sales[\"sales_amount\"].pct_change() * 100\n",
    "print(f\"Daily Sales with Day-over-Day Change: {len(daily_sales)}\")\n",
    "display(daily_sales.head())"
   ]
  },
  {
   "cell_type": "code",
   "execution_count": null,
   "id": "4ca7398c",
   "metadata": {},
   "outputs": [
    {
     "data": {
      "application/vnd.plotly.v1+json": {
       "config": {
        "plotlyServerURL": "https://plot.ly"
       },
       "data": [
        {
         "mode": "lines",
         "name": "Daily Sales",
         "type": "scatter",
         "x": [
          "2023-01-01",
          "2023-01-02",
          "2023-01-03",
          "2023-01-04",
          "2023-01-05",
          "2023-01-06",
          "2023-01-07",
          "2023-01-08",
          "2023-01-09",
          "2023-01-10",
          "2023-01-11",
          "2023-01-12",
          "2023-01-13",
          "2023-01-14",
          "2023-01-15",
          "2023-01-16",
          "2023-01-17",
          "2023-01-18",
          "2023-01-19",
          "2023-01-20",
          "2023-01-21",
          "2023-01-22",
          "2023-01-23",
          "2023-01-24",
          "2023-01-25",
          "2023-01-26",
          "2023-01-27",
          "2023-01-28",
          "2023-01-29",
          "2023-01-30",
          "2023-01-31",
          "2023-02-01",
          "2023-02-02",
          "2023-02-03",
          "2023-02-04",
          "2023-02-05",
          "2023-02-06",
          "2023-02-07",
          "2023-02-08",
          "2023-02-09",
          "2023-02-10",
          "2023-02-11",
          "2023-02-12",
          "2023-02-13",
          "2023-02-14",
          "2023-02-15",
          "2023-02-16",
          "2023-02-17",
          "2023-02-18",
          "2023-02-19",
          "2023-02-20",
          "2023-02-21",
          "2023-02-22",
          "2023-02-23",
          "2023-02-24",
          "2023-02-25",
          "2023-02-26",
          "2023-02-27",
          "2023-02-28",
          "2023-03-01",
          "2023-03-02",
          "2023-03-03",
          "2023-03-04",
          "2023-03-05",
          "2023-03-06",
          "2023-03-07",
          "2023-03-08",
          "2023-03-09",
          "2023-03-10",
          "2023-03-11",
          "2023-03-12",
          "2023-03-13",
          "2023-03-14",
          "2023-03-15",
          "2023-03-16",
          "2023-03-17",
          "2023-03-18",
          "2023-03-19",
          "2023-03-20",
          "2023-03-21",
          "2023-03-22",
          "2023-03-23",
          "2023-03-24",
          "2023-03-25",
          "2023-03-26",
          "2023-03-27",
          "2023-03-28",
          "2023-03-29",
          "2023-03-30",
          "2023-03-31",
          "2023-04-01",
          "2023-04-02",
          "2023-04-03",
          "2023-04-04",
          "2023-04-05",
          "2023-04-06",
          "2023-04-07",
          "2023-04-08",
          "2023-04-09",
          "2023-04-10",
          "2023-04-11",
          "2023-04-12",
          "2023-04-13",
          "2023-04-14",
          "2023-04-15",
          "2023-04-16",
          "2023-04-17",
          "2023-04-18",
          "2023-04-19",
          "2023-04-20",
          "2023-04-21",
          "2023-04-22",
          "2023-04-23",
          "2023-04-24",
          "2023-04-25",
          "2023-04-26",
          "2023-04-27",
          "2023-04-28",
          "2023-04-29",
          "2023-04-30",
          "2023-05-01",
          "2023-05-02",
          "2023-05-03",
          "2023-05-04",
          "2023-05-05",
          "2023-05-06",
          "2023-05-07",
          "2023-05-08",
          "2023-05-09",
          "2023-05-10",
          "2023-05-11",
          "2023-05-12",
          "2023-05-13",
          "2023-05-14",
          "2023-05-15",
          "2023-05-16",
          "2023-05-17",
          "2023-05-18",
          "2023-05-19",
          "2023-05-20",
          "2023-05-21",
          "2023-05-22",
          "2023-05-23",
          "2023-05-24",
          "2023-05-25",
          "2023-05-26",
          "2023-05-27",
          "2023-05-28",
          "2023-05-29",
          "2023-05-30",
          "2023-05-31",
          "2023-06-01",
          "2023-06-02",
          "2023-06-03",
          "2023-06-04",
          "2023-06-05",
          "2023-06-06",
          "2023-06-07",
          "2023-06-08",
          "2023-06-09",
          "2023-06-10",
          "2023-06-11",
          "2023-06-12",
          "2023-06-13",
          "2023-06-14",
          "2023-06-15",
          "2023-06-16",
          "2023-06-17",
          "2023-06-18",
          "2023-06-19",
          "2023-06-20",
          "2023-06-21",
          "2023-06-22",
          "2023-06-23",
          "2023-06-24",
          "2023-06-25",
          "2023-06-26",
          "2023-06-27",
          "2023-06-28",
          "2023-06-29",
          "2023-06-30",
          "2023-07-01",
          "2023-07-02",
          "2023-07-03",
          "2023-07-04",
          "2023-07-05",
          "2023-07-06",
          "2023-07-07",
          "2023-07-08",
          "2023-07-09",
          "2023-07-10",
          "2023-07-11",
          "2023-07-12",
          "2023-07-13",
          "2023-07-14",
          "2023-07-15",
          "2023-07-16",
          "2023-07-17",
          "2023-07-18",
          "2023-07-19",
          "2023-07-20",
          "2023-07-21",
          "2023-07-22",
          "2023-07-23",
          "2023-07-24",
          "2023-07-25",
          "2023-07-26",
          "2023-07-27",
          "2023-07-28",
          "2023-07-29",
          "2023-07-30",
          "2023-07-31",
          "2023-08-01",
          "2023-08-02",
          "2023-08-03",
          "2023-08-04",
          "2023-08-05",
          "2023-08-06",
          "2023-08-07",
          "2023-08-08",
          "2023-08-09",
          "2023-08-10",
          "2023-08-11",
          "2023-08-12",
          "2023-08-13",
          "2023-08-14",
          "2023-08-15",
          "2023-08-16",
          "2023-08-17",
          "2023-08-18",
          "2023-08-19",
          "2023-08-20",
          "2023-08-21",
          "2023-08-22",
          "2023-08-23",
          "2023-08-24",
          "2023-08-25",
          "2023-08-26",
          "2023-08-27",
          "2023-08-28",
          "2023-08-29",
          "2023-08-30",
          "2023-08-31",
          "2023-09-01",
          "2023-09-02",
          "2023-09-03",
          "2023-09-04",
          "2023-09-05",
          "2023-09-06",
          "2023-09-07",
          "2023-09-08",
          "2023-09-09",
          "2023-09-10",
          "2023-09-11",
          "2023-09-12",
          "2023-09-13",
          "2023-09-14",
          "2023-09-15",
          "2023-09-16",
          "2023-09-17",
          "2023-09-18",
          "2023-09-19",
          "2023-09-20",
          "2023-09-21",
          "2023-09-22",
          "2023-09-23",
          "2023-09-24",
          "2023-09-25",
          "2023-09-26",
          "2023-09-27",
          "2023-09-28",
          "2023-09-29",
          "2023-09-30",
          "2023-10-01",
          "2023-10-02",
          "2023-10-03",
          "2023-10-04",
          "2023-10-05",
          "2023-10-06",
          "2023-10-07",
          "2023-10-08",
          "2023-10-09",
          "2023-10-10",
          "2023-10-11",
          "2023-10-12",
          "2023-10-13",
          "2023-10-14",
          "2023-10-15",
          "2023-10-16",
          "2023-10-17",
          "2023-10-18",
          "2023-10-19",
          "2023-10-20",
          "2023-10-21",
          "2023-10-22",
          "2023-10-23",
          "2023-10-24",
          "2023-10-25",
          "2023-10-26",
          "2023-10-27",
          "2023-10-28",
          "2023-10-29",
          "2023-10-30",
          "2023-10-31",
          "2023-11-01",
          "2023-11-02",
          "2023-11-03",
          "2023-11-04",
          "2023-11-05",
          "2023-11-06",
          "2023-11-07",
          "2023-11-08",
          "2023-11-09",
          "2023-11-10",
          "2023-11-11",
          "2023-11-12",
          "2023-11-13",
          "2023-11-14",
          "2023-11-15",
          "2023-11-16",
          "2023-11-17",
          "2023-11-18",
          "2023-11-19",
          "2023-11-20",
          "2023-11-21",
          "2023-11-22",
          "2023-11-23",
          "2023-11-24",
          "2023-11-25",
          "2023-11-26",
          "2023-11-27",
          "2023-11-28",
          "2023-11-29",
          "2023-11-30",
          "2023-12-01",
          "2023-12-02",
          "2023-12-03",
          "2023-12-04",
          "2023-12-05",
          "2023-12-06",
          "2023-12-07",
          "2023-12-08",
          "2023-12-09",
          "2023-12-10",
          "2023-12-11",
          "2023-12-12",
          "2023-12-13",
          "2023-12-14",
          "2023-12-15",
          "2023-12-16",
          "2023-12-17",
          "2023-12-18",
          "2023-12-19",
          "2023-12-20",
          "2023-12-21",
          "2023-12-22",
          "2023-12-23",
          "2023-12-24",
          "2023-12-25",
          "2023-12-26",
          "2023-12-27",
          "2023-12-28",
          "2023-12-29",
          "2023-12-30",
          "2023-12-31",
          "2024-01-01",
          "2024-01-02",
          "2024-01-03",
          "2024-01-04",
          "2024-01-05",
          "2024-01-06",
          "2024-01-07",
          "2024-01-08",
          "2024-01-09",
          "2024-01-10",
          "2024-01-11",
          "2024-01-12",
          "2024-01-13",
          "2024-01-14",
          "2024-01-15",
          "2024-01-16",
          "2024-01-17",
          "2024-01-18",
          "2024-01-19",
          "2024-01-20",
          "2024-01-21",
          "2024-01-22",
          "2024-01-23",
          "2024-01-24",
          "2024-01-25",
          "2024-01-26",
          "2024-01-27",
          "2024-01-28",
          "2024-01-29",
          "2024-01-30",
          "2024-01-31",
          "2024-02-01",
          "2024-02-02",
          "2024-02-03",
          "2024-02-04",
          "2024-02-05",
          "2024-02-06",
          "2024-02-07",
          "2024-02-08",
          "2024-02-09",
          "2024-02-10",
          "2024-02-11",
          "2024-02-12",
          "2024-02-13",
          "2024-02-14",
          "2024-02-15",
          "2024-02-16",
          "2024-02-17",
          "2024-02-18",
          "2024-02-19",
          "2024-02-20",
          "2024-02-21",
          "2024-02-22",
          "2024-02-23",
          "2024-02-24",
          "2024-02-25",
          "2024-02-26",
          "2024-02-27",
          "2024-02-28",
          "2024-02-29",
          "2024-03-01",
          "2024-03-02",
          "2024-03-03",
          "2024-03-04",
          "2024-03-05",
          "2024-03-06",
          "2024-03-07",
          "2024-03-08",
          "2024-03-09",
          "2024-03-10",
          "2024-03-11",
          "2024-03-12",
          "2024-03-13",
          "2024-03-14",
          "2024-03-15",
          "2024-03-16",
          "2024-03-17",
          "2024-03-18",
          "2024-03-19",
          "2024-03-20",
          "2024-03-21",
          "2024-03-22",
          "2024-03-23",
          "2024-03-24",
          "2024-03-25",
          "2024-03-26",
          "2024-03-27",
          "2024-03-28",
          "2024-03-29",
          "2024-03-30",
          "2024-03-31",
          "2024-04-01",
          "2024-04-02",
          "2024-04-03",
          "2024-04-04",
          "2024-04-05",
          "2024-04-06",
          "2024-04-07",
          "2024-04-08",
          "2024-04-09",
          "2024-04-10",
          "2024-04-11",
          "2024-04-12",
          "2024-04-13",
          "2024-04-14",
          "2024-04-15",
          "2024-04-16",
          "2024-04-17",
          "2024-04-18",
          "2024-04-19",
          "2024-04-20",
          "2024-04-21",
          "2024-04-22",
          "2024-04-23",
          "2024-04-24",
          "2024-04-25",
          "2024-04-26",
          "2024-04-27",
          "2024-04-28",
          "2024-04-29",
          "2024-04-30",
          "2024-05-01",
          "2024-05-02",
          "2024-05-03",
          "2024-05-04",
          "2024-05-05",
          "2024-05-06",
          "2024-05-07",
          "2024-05-08",
          "2024-05-09",
          "2024-05-10",
          "2024-05-11",
          "2024-05-12",
          "2024-05-13",
          "2024-05-14",
          "2024-05-15",
          "2024-05-16",
          "2024-05-17",
          "2024-05-18",
          "2024-05-19",
          "2024-05-20",
          "2024-05-21",
          "2024-05-22",
          "2024-05-23",
          "2024-05-24",
          "2024-05-25",
          "2024-05-26",
          "2024-05-27",
          "2024-05-28",
          "2024-05-29",
          "2024-05-30",
          "2024-05-31",
          "2024-06-01",
          "2024-06-02",
          "2024-06-03",
          "2024-06-04",
          "2024-06-05",
          "2024-06-06",
          "2024-06-07",
          "2024-06-08",
          "2024-06-09",
          "2024-06-10",
          "2024-06-11",
          "2024-06-12",
          "2024-06-13",
          "2024-06-14",
          "2024-06-15",
          "2024-06-16",
          "2024-06-17",
          "2024-06-18",
          "2024-06-19",
          "2024-06-20",
          "2024-06-21",
          "2024-06-22",
          "2024-06-23",
          "2024-06-24",
          "2024-06-25",
          "2024-06-26",
          "2024-06-27",
          "2024-06-28",
          "2024-06-29",
          "2024-06-30",
          "2024-07-01",
          "2024-07-02",
          "2024-07-03",
          "2024-07-04",
          "2024-07-05",
          "2024-07-06",
          "2024-07-07",
          "2024-07-08",
          "2024-07-09",
          "2024-07-10",
          "2024-07-11",
          "2024-07-12",
          "2024-07-13",
          "2024-07-14",
          "2024-07-15",
          "2024-07-16",
          "2024-07-17",
          "2024-07-18",
          "2024-07-19",
          "2024-07-20",
          "2024-07-21",
          "2024-07-22",
          "2024-07-23",
          "2024-07-24",
          "2024-07-25",
          "2024-07-26",
          "2024-07-27",
          "2024-07-28",
          "2024-07-29",
          "2024-07-30",
          "2024-07-31",
          "2024-08-01",
          "2024-08-02",
          "2024-08-03",
          "2024-08-04",
          "2024-08-05",
          "2024-08-06",
          "2024-08-07",
          "2024-08-08",
          "2024-08-09",
          "2024-08-10",
          "2024-08-11",
          "2024-08-12",
          "2024-08-13",
          "2024-08-14",
          "2024-08-15",
          "2024-08-16",
          "2024-08-17",
          "2024-08-18",
          "2024-08-19",
          "2024-08-20",
          "2024-08-21",
          "2024-08-22",
          "2024-08-23",
          "2024-08-24",
          "2024-08-25",
          "2024-08-26",
          "2024-08-27",
          "2024-08-28",
          "2024-08-29",
          "2024-08-30",
          "2024-08-31",
          "2024-09-01",
          "2024-09-02",
          "2024-09-03",
          "2024-09-04",
          "2024-09-05",
          "2024-09-06",
          "2024-09-07",
          "2024-09-08",
          "2024-09-09",
          "2024-09-10",
          "2024-09-11",
          "2024-09-12",
          "2024-09-13",
          "2024-09-14",
          "2024-09-15",
          "2024-09-16",
          "2024-09-17",
          "2024-09-18",
          "2024-09-19",
          "2024-09-20",
          "2024-09-21",
          "2024-09-22",
          "2024-09-23",
          "2024-09-24",
          "2024-09-25",
          "2024-09-26",
          "2024-09-27",
          "2024-09-28",
          "2024-09-29",
          "2024-09-30",
          "2024-10-01",
          "2024-10-02",
          "2024-10-03",
          "2024-10-04",
          "2024-10-05",
          "2024-10-06",
          "2024-10-07",
          "2024-10-08",
          "2024-10-09",
          "2024-10-10",
          "2024-10-11",
          "2024-10-12",
          "2024-10-13",
          "2024-10-14",
          "2024-10-15",
          "2024-10-16",
          "2024-10-17",
          "2024-10-18",
          "2024-10-19",
          "2024-10-20",
          "2024-10-21",
          "2024-10-22",
          "2024-10-23",
          "2024-10-24",
          "2024-10-25",
          "2024-10-26",
          "2024-10-27",
          "2024-10-28",
          "2024-10-29",
          "2024-10-30",
          "2024-10-31",
          "2024-11-01",
          "2024-11-02",
          "2024-11-03",
          "2024-11-04",
          "2024-11-05",
          "2024-11-06",
          "2024-11-07",
          "2024-11-08",
          "2024-11-09",
          "2024-11-10",
          "2024-11-11",
          "2024-11-12",
          "2024-11-13",
          "2024-11-14",
          "2024-11-15",
          "2024-11-16",
          "2024-11-17",
          "2024-11-18",
          "2024-11-19",
          "2024-11-20",
          "2024-11-21",
          "2024-11-22",
          "2024-11-23",
          "2024-11-24",
          "2024-11-25",
          "2024-11-26",
          "2024-11-27",
          "2024-11-28",
          "2024-11-29",
          "2024-11-30",
          "2024-12-01",
          "2024-12-02",
          "2024-12-03",
          "2024-12-04",
          "2024-12-05",
          "2024-12-06",
          "2024-12-07",
          "2024-12-08",
          "2024-12-09",
          "2024-12-10",
          "2024-12-11",
          "2024-12-12",
          "2024-12-13",
          "2024-12-14",
          "2024-12-15",
          "2024-12-16",
          "2024-12-17",
          "2024-12-18",
          "2024-12-19",
          "2024-12-20",
          "2024-12-21",
          "2024-12-22",
          "2024-12-23",
          "2024-12-24",
          "2024-12-25",
          "2024-12-26",
          "2024-12-27",
          "2024-12-28",
          "2024-12-29",
          "2024-12-30",
          "2024-12-31",
          "2025-01-01",
          "2025-01-02",
          "2025-01-03",
          "2025-01-04",
          "2025-01-05",
          "2025-01-06",
          "2025-01-07",
          "2025-01-08",
          "2025-01-09",
          "2025-01-10",
          "2025-01-11",
          "2025-01-12",
          "2025-01-13",
          "2025-01-14",
          "2025-01-15",
          "2025-01-16",
          "2025-01-17",
          "2025-01-18",
          "2025-01-19",
          "2025-01-20",
          "2025-01-21",
          "2025-01-22",
          "2025-01-23",
          "2025-01-24",
          "2025-01-25",
          "2025-01-26",
          "2025-01-27",
          "2025-01-28",
          "2025-01-29",
          "2025-01-30",
          "2025-01-31",
          "2025-02-01",
          "2025-02-02",
          "2025-02-03",
          "2025-02-04",
          "2025-02-05",
          "2025-02-06",
          "2025-02-07",
          "2025-02-08",
          "2025-02-09",
          "2025-02-10",
          "2025-02-11",
          "2025-02-12",
          "2025-02-13",
          "2025-02-14",
          "2025-02-15",
          "2025-02-16",
          "2025-02-17",
          "2025-02-18",
          "2025-02-19",
          "2025-02-20",
          "2025-02-21",
          "2025-02-22",
          "2025-02-23",
          "2025-02-24",
          "2025-02-25",
          "2025-02-26",
          "2025-02-27",
          "2025-02-28",
          "2025-03-01",
          "2025-03-02",
          "2025-03-03",
          "2025-03-04",
          "2025-03-05",
          "2025-03-06",
          "2025-03-07",
          "2025-03-08",
          "2025-03-09",
          "2025-03-10",
          "2025-03-11",
          "2025-03-12",
          "2025-03-13",
          "2025-03-14",
          "2025-03-15",
          "2025-03-16",
          "2025-03-17",
          "2025-03-18",
          "2025-03-19",
          "2025-03-20",
          "2025-03-21",
          "2025-03-22",
          "2025-03-23",
          "2025-03-24",
          "2025-03-25",
          "2025-03-26",
          "2025-03-27",
          "2025-03-28",
          "2025-03-29",
          "2025-03-30",
          "2025-03-31",
          "2025-04-01",
          "2025-04-02",
          "2025-04-03",
          "2025-04-04",
          "2025-04-05",
          "2025-04-06",
          "2025-04-07",
          "2025-04-08",
          "2025-04-09",
          "2025-04-10",
          "2025-04-11",
          "2025-04-12",
          "2025-04-13",
          "2025-04-14",
          "2025-04-15",
          "2025-04-16",
          "2025-04-17",
          "2025-04-18",
          "2025-04-19",
          "2025-04-20",
          "2025-04-21",
          "2025-04-22",
          "2025-04-23",
          "2025-04-24",
          "2025-04-25",
          "2025-04-26",
          "2025-04-27",
          "2025-04-28",
          "2025-04-29",
          "2025-04-30",
          "2025-05-01",
          "2025-05-02",
          "2025-05-03",
          "2025-05-04",
          "2025-05-05",
          "2025-05-06",
          "2025-05-07",
          "2025-05-08",
          "2025-05-09",
          "2025-05-10",
          "2025-05-11",
          "2025-05-12",
          "2025-05-13",
          "2025-05-14",
          "2025-05-15",
          "2025-05-16",
          "2025-05-17",
          "2025-05-18",
          "2025-05-19",
          "2025-05-20",
          "2025-05-21",
          "2025-05-22",
          "2025-05-23",
          "2025-05-24",
          "2025-05-25",
          "2025-05-26",
          "2025-05-27",
          "2025-05-28",
          "2025-05-29",
          "2025-05-30",
          "2025-05-31",
          "2025-06-01",
          "2025-06-02",
          "2025-06-03",
          "2025-06-04",
          "2025-06-05",
          "2025-06-06",
          "2025-06-07",
          "2025-06-08",
          "2025-06-09",
          "2025-06-10",
          "2025-06-11",
          "2025-06-12",
          "2025-06-13",
          "2025-06-14",
          "2025-06-15",
          "2025-06-16",
          "2025-06-17",
          "2025-06-18",
          "2025-06-19",
          "2025-06-20",
          "2025-06-21",
          "2025-06-22",
          "2025-06-23",
          "2025-06-24",
          "2025-06-25",
          "2025-06-26",
          "2025-06-27",
          "2025-06-28",
          "2025-06-29",
          "2025-06-30",
          "2025-07-01",
          "2025-07-02",
          "2025-07-03",
          "2025-07-04",
          "2025-07-05",
          "2025-07-06",
          "2025-07-07",
          "2025-07-08",
          "2025-07-09",
          "2025-07-10",
          "2025-07-11",
          "2025-07-12",
          "2025-07-13",
          "2025-07-14",
          "2025-07-15",
          "2025-07-16",
          "2025-07-17",
          "2025-07-18",
          "2025-07-19",
          "2025-07-20",
          "2025-07-21",
          "2025-07-22",
          "2025-07-23",
          "2025-07-24",
          "2025-07-25",
          "2025-07-26",
          "2025-07-27",
          "2025-07-28",
          "2025-07-29",
          "2025-07-30",
          "2025-07-31",
          "2025-08-01",
          "2025-08-02",
          "2025-08-03",
          "2025-08-04",
          "2025-08-05",
          "2025-08-06",
          "2025-08-07",
          "2025-08-08",
          "2025-08-09",
          "2025-08-10",
          "2025-08-11",
          "2025-08-12",
          "2025-08-13",
          "2025-08-14",
          "2025-08-15",
          "2025-08-16",
          "2025-08-17",
          "2025-08-18",
          "2025-08-19",
          "2025-08-20",
          "2025-08-21",
          "2025-08-22",
          "2025-08-23",
          "2025-08-24",
          "2025-08-25",
          "2025-08-26",
          "2025-08-27",
          "2025-08-28",
          "2025-08-29",
          "2025-08-30",
          "2025-08-31",
          "2025-09-01",
          "2025-09-02",
          "2025-09-03",
          "2025-09-04",
          "2025-09-05",
          "2025-09-06",
          "2025-09-07",
          "2025-09-08",
          "2025-09-09",
          "2025-09-10",
          "2025-09-11",
          "2025-09-12",
          "2025-09-13",
          "2025-09-14",
          "2025-09-15",
          "2025-09-16",
          "2025-09-17",
          "2025-09-18",
          "2025-09-19",
          "2025-09-20",
          "2025-09-21",
          "2025-09-22",
          "2025-09-23",
          "2025-09-24",
          "2025-09-25",
          "2025-09-26"
         ],
         "y": {
          "bdata": "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",
          "dtype": "f8"
         }
        },
        {
         "line": {
          "width": 3
         },
         "mode": "lines",
         "name": "7-Day Moving Average",
         "type": "scatter",
         "x": [
          "2023-01-01",
          "2023-01-02",
          "2023-01-03",
          "2023-01-04",
          "2023-01-05",
          "2023-01-06",
          "2023-01-07",
          "2023-01-08",
          "2023-01-09",
          "2023-01-10",
          "2023-01-11",
          "2023-01-12",
          "2023-01-13",
          "2023-01-14",
          "2023-01-15",
          "2023-01-16",
          "2023-01-17",
          "2023-01-18",
          "2023-01-19",
          "2023-01-20",
          "2023-01-21",
          "2023-01-22",
          "2023-01-23",
          "2023-01-24",
          "2023-01-25",
          "2023-01-26",
          "2023-01-27",
          "2023-01-28",
          "2023-01-29",
          "2023-01-30",
          "2023-01-31",
          "2023-02-01",
          "2023-02-02",
          "2023-02-03",
          "2023-02-04",
          "2023-02-05",
          "2023-02-06",
          "2023-02-07",
          "2023-02-08",
          "2023-02-09",
          "2023-02-10",
          "2023-02-11",
          "2023-02-12",
          "2023-02-13",
          "2023-02-14",
          "2023-02-15",
          "2023-02-16",
          "2023-02-17",
          "2023-02-18",
          "2023-02-19",
          "2023-02-20",
          "2023-02-21",
          "2023-02-22",
          "2023-02-23",
          "2023-02-24",
          "2023-02-25",
          "2023-02-26",
          "2023-02-27",
          "2023-02-28",
          "2023-03-01",
          "2023-03-02",
          "2023-03-03",
          "2023-03-04",
          "2023-03-05",
          "2023-03-06",
          "2023-03-07",
          "2023-03-08",
          "2023-03-09",
          "2023-03-10",
          "2023-03-11",
          "2023-03-12",
          "2023-03-13",
          "2023-03-14",
          "2023-03-15",
          "2023-03-16",
          "2023-03-17",
          "2023-03-18",
          "2023-03-19",
          "2023-03-20",
          "2023-03-21",
          "2023-03-22",
          "2023-03-23",
          "2023-03-24",
          "2023-03-25",
          "2023-03-26",
          "2023-03-27",
          "2023-03-28",
          "2023-03-29",
          "2023-03-30",
          "2023-03-31",
          "2023-04-01",
          "2023-04-02",
          "2023-04-03",
          "2023-04-04",
          "2023-04-05",
          "2023-04-06",
          "2023-04-07",
          "2023-04-08",
          "2023-04-09",
          "2023-04-10",
          "2023-04-11",
          "2023-04-12",
          "2023-04-13",
          "2023-04-14",
          "2023-04-15",
          "2023-04-16",
          "2023-04-17",
          "2023-04-18",
          "2023-04-19",
          "2023-04-20",
          "2023-04-21",
          "2023-04-22",
          "2023-04-23",
          "2023-04-24",
          "2023-04-25",
          "2023-04-26",
          "2023-04-27",
          "2023-04-28",
          "2023-04-29",
          "2023-04-30",
          "2023-05-01",
          "2023-05-02",
          "2023-05-03",
          "2023-05-04",
          "2023-05-05",
          "2023-05-06",
          "2023-05-07",
          "2023-05-08",
          "2023-05-09",
          "2023-05-10",
          "2023-05-11",
          "2023-05-12",
          "2023-05-13",
          "2023-05-14",
          "2023-05-15",
          "2023-05-16",
          "2023-05-17",
          "2023-05-18",
          "2023-05-19",
          "2023-05-20",
          "2023-05-21",
          "2023-05-22",
          "2023-05-23",
          "2023-05-24",
          "2023-05-25",
          "2023-05-26",
          "2023-05-27",
          "2023-05-28",
          "2023-05-29",
          "2023-05-30",
          "2023-05-31",
          "2023-06-01",
          "2023-06-02",
          "2023-06-03",
          "2023-06-04",
          "2023-06-05",
          "2023-06-06",
          "2023-06-07",
          "2023-06-08",
          "2023-06-09",
          "2023-06-10",
          "2023-06-11",
          "2023-06-12",
          "2023-06-13",
          "2023-06-14",
          "2023-06-15",
          "2023-06-16",
          "2023-06-17",
          "2023-06-18",
          "2023-06-19",
          "2023-06-20",
          "2023-06-21",
          "2023-06-22",
          "2023-06-23",
          "2023-06-24",
          "2023-06-25",
          "2023-06-26",
          "2023-06-27",
          "2023-06-28",
          "2023-06-29",
          "2023-06-30",
          "2023-07-01",
          "2023-07-02",
          "2023-07-03",
          "2023-07-04",
          "2023-07-05",
          "2023-07-06",
          "2023-07-07",
          "2023-07-08",
          "2023-07-09",
          "2023-07-10",
          "2023-07-11",
          "2023-07-12",
          "2023-07-13",
          "2023-07-14",
          "2023-07-15",
          "2023-07-16",
          "2023-07-17",
          "2023-07-18",
          "2023-07-19",
          "2023-07-20",
          "2023-07-21",
          "2023-07-22",
          "2023-07-23",
          "2023-07-24",
          "2023-07-25",
          "2023-07-26",
          "2023-07-27",
          "2023-07-28",
          "2023-07-29",
          "2023-07-30",
          "2023-07-31",
          "2023-08-01",
          "2023-08-02",
          "2023-08-03",
          "2023-08-04",
          "2023-08-05",
          "2023-08-06",
          "2023-08-07",
          "2023-08-08",
          "2023-08-09",
          "2023-08-10",
          "2023-08-11",
          "2023-08-12",
          "2023-08-13",
          "2023-08-14",
          "2023-08-15",
          "2023-08-16",
          "2023-08-17",
          "2023-08-18",
          "2023-08-19",
          "2023-08-20",
          "2023-08-21",
          "2023-08-22",
          "2023-08-23",
          "2023-08-24",
          "2023-08-25",
          "2023-08-26",
          "2023-08-27",
          "2023-08-28",
          "2023-08-29",
          "2023-08-30",
          "2023-08-31",
          "2023-09-01",
          "2023-09-02",
          "2023-09-03",
          "2023-09-04",
          "2023-09-05",
          "2023-09-06",
          "2023-09-07",
          "2023-09-08",
          "2023-09-09",
          "2023-09-10",
          "2023-09-11",
          "2023-09-12",
          "2023-09-13",
          "2023-09-14",
          "2023-09-15",
          "2023-09-16",
          "2023-09-17",
          "2023-09-18",
          "2023-09-19",
          "2023-09-20",
          "2023-09-21",
          "2023-09-22",
          "2023-09-23",
          "2023-09-24",
          "2023-09-25",
          "2023-09-26",
          "2023-09-27",
          "2023-09-28",
          "2023-09-29",
          "2023-09-30",
          "2023-10-01",
          "2023-10-02",
          "2023-10-03",
          "2023-10-04",
          "2023-10-05",
          "2023-10-06",
          "2023-10-07",
          "2023-10-08",
          "2023-10-09",
          "2023-10-10",
          "2023-10-11",
          "2023-10-12",
          "2023-10-13",
          "2023-10-14",
          "2023-10-15",
          "2023-10-16",
          "2023-10-17",
          "2023-10-18",
          "2023-10-19",
          "2023-10-20",
          "2023-10-21",
          "2023-10-22",
          "2023-10-23",
          "2023-10-24",
          "2023-10-25",
          "2023-10-26",
          "2023-10-27",
          "2023-10-28",
          "2023-10-29",
          "2023-10-30",
          "2023-10-31",
          "2023-11-01",
          "2023-11-02",
          "2023-11-03",
          "2023-11-04",
          "2023-11-05",
          "2023-11-06",
          "2023-11-07",
          "2023-11-08",
          "2023-11-09",
          "2023-11-10",
          "2023-11-11",
          "2023-11-12",
          "2023-11-13",
          "2023-11-14",
          "2023-11-15",
          "2023-11-16",
          "2023-11-17",
          "2023-11-18",
          "2023-11-19",
          "2023-11-20",
          "2023-11-21",
          "2023-11-22",
          "2023-11-23",
          "2023-11-24",
          "2023-11-25",
          "2023-11-26",
          "2023-11-27",
          "2023-11-28",
          "2023-11-29",
          "2023-11-30",
          "2023-12-01",
          "2023-12-02",
          "2023-12-03",
          "2023-12-04",
          "2023-12-05",
          "2023-12-06",
          "2023-12-07",
          "2023-12-08",
          "2023-12-09",
          "2023-12-10",
          "2023-12-11",
          "2023-12-12",
          "2023-12-13",
          "2023-12-14",
          "2023-12-15",
          "2023-12-16",
          "2023-12-17",
          "2023-12-18",
          "2023-12-19",
          "2023-12-20",
          "2023-12-21",
          "2023-12-22",
          "2023-12-23",
          "2023-12-24",
          "2023-12-25",
          "2023-12-26",
          "2023-12-27",
          "2023-12-28",
          "2023-12-29",
          "2023-12-30",
          "2023-12-31",
          "2024-01-01",
          "2024-01-02",
          "2024-01-03",
          "2024-01-04",
          "2024-01-05",
          "2024-01-06",
          "2024-01-07",
          "2024-01-08",
          "2024-01-09",
          "2024-01-10",
          "2024-01-11",
          "2024-01-12",
          "2024-01-13",
          "2024-01-14",
          "2024-01-15",
          "2024-01-16",
          "2024-01-17",
          "2024-01-18",
          "2024-01-19",
          "2024-01-20",
          "2024-01-21",
          "2024-01-22",
          "2024-01-23",
          "2024-01-24",
          "2024-01-25",
          "2024-01-26",
          "2024-01-27",
          "2024-01-28",
          "2024-01-29",
          "2024-01-30",
          "2024-01-31",
          "2024-02-01",
          "2024-02-02",
          "2024-02-03",
          "2024-02-04",
          "2024-02-05",
          "2024-02-06",
          "2024-02-07",
          "2024-02-08",
          "2024-02-09",
          "2024-02-10",
          "2024-02-11",
          "2024-02-12",
          "2024-02-13",
          "2024-02-14",
          "2024-02-15",
          "2024-02-16",
          "2024-02-17",
          "2024-02-18",
          "2024-02-19",
          "2024-02-20",
          "2024-02-21",
          "2024-02-22",
          "2024-02-23",
          "2024-02-24",
          "2024-02-25",
          "2024-02-26",
          "2024-02-27",
          "2024-02-28",
          "2024-02-29",
          "2024-03-01",
          "2024-03-02",
          "2024-03-03",
          "2024-03-04",
          "2024-03-05",
          "2024-03-06",
          "2024-03-07",
          "2024-03-08",
          "2024-03-09",
          "2024-03-10",
          "2024-03-11",
          "2024-03-12",
          "2024-03-13",
          "2024-03-14",
          "2024-03-15",
          "2024-03-16",
          "2024-03-17",
          "2024-03-18",
          "2024-03-19",
          "2024-03-20",
          "2024-03-21",
          "2024-03-22",
          "2024-03-23",
          "2024-03-24",
          "2024-03-25",
          "2024-03-26",
          "2024-03-27",
          "2024-03-28",
          "2024-03-29",
          "2024-03-30",
          "2024-03-31",
          "2024-04-01",
          "2024-04-02",
          "2024-04-03",
          "2024-04-04",
          "2024-04-05",
          "2024-04-06",
          "2024-04-07",
          "2024-04-08",
          "2024-04-09",
          "2024-04-10",
          "2024-04-11",
          "2024-04-12",
          "2024-04-13",
          "2024-04-14",
          "2024-04-15",
          "2024-04-16",
          "2024-04-17",
          "2024-04-18",
          "2024-04-19",
          "2024-04-20",
          "2024-04-21",
          "2024-04-22",
          "2024-04-23",
          "2024-04-24",
          "2024-04-25",
          "2024-04-26",
          "2024-04-27",
          "2024-04-28",
          "2024-04-29",
          "2024-04-30",
          "2024-05-01",
          "2024-05-02",
          "2024-05-03",
          "2024-05-04",
          "2024-05-05",
          "2024-05-06",
          "2024-05-07",
          "2024-05-08",
          "2024-05-09",
          "2024-05-10",
          "2024-05-11",
          "2024-05-12",
          "2024-05-13",
          "2024-05-14",
          "2024-05-15",
          "2024-05-16",
          "2024-05-17",
          "2024-05-18",
          "2024-05-19",
          "2024-05-20",
          "2024-05-21",
          "2024-05-22",
          "2024-05-23",
          "2024-05-24",
          "2024-05-25",
          "2024-05-26",
          "2024-05-27",
          "2024-05-28",
          "2024-05-29",
          "2024-05-30",
          "2024-05-31",
          "2024-06-01",
          "2024-06-02",
          "2024-06-03",
          "2024-06-04",
          "2024-06-05",
          "2024-06-06",
          "2024-06-07",
          "2024-06-08",
          "2024-06-09",
          "2024-06-10",
          "2024-06-11",
          "2024-06-12",
          "2024-06-13",
          "2024-06-14",
          "2024-06-15",
          "2024-06-16",
          "2024-06-17",
          "2024-06-18",
          "2024-06-19",
          "2024-06-20",
          "2024-06-21",
          "2024-06-22",
          "2024-06-23",
          "2024-06-24",
          "2024-06-25",
          "2024-06-26",
          "2024-06-27",
          "2024-06-28",
          "2024-06-29",
          "2024-06-30",
          "2024-07-01",
          "2024-07-02",
          "2024-07-03",
          "2024-07-04",
          "2024-07-05",
          "2024-07-06",
          "2024-07-07",
          "2024-07-08",
          "2024-07-09",
          "2024-07-10",
          "2024-07-11",
          "2024-07-12",
          "2024-07-13",
          "2024-07-14",
          "2024-07-15",
          "2024-07-16",
          "2024-07-17",
          "2024-07-18",
          "2024-07-19",
          "2024-07-20",
          "2024-07-21",
          "2024-07-22",
          "2024-07-23",
          "2024-07-24",
          "2024-07-25",
          "2024-07-26",
          "2024-07-27",
          "2024-07-28",
          "2024-07-29",
          "2024-07-30",
          "2024-07-31",
          "2024-08-01",
          "2024-08-02",
          "2024-08-03",
          "2024-08-04",
          "2024-08-05",
          "2024-08-06",
          "2024-08-07",
          "2024-08-08",
          "2024-08-09",
          "2024-08-10",
          "2024-08-11",
          "2024-08-12",
          "2024-08-13",
          "2024-08-14",
          "2024-08-15",
          "2024-08-16",
          "2024-08-17",
          "2024-08-18",
          "2024-08-19",
          "2024-08-20",
          "2024-08-21",
          "2024-08-22",
          "2024-08-23",
          "2024-08-24",
          "2024-08-25",
          "2024-08-26",
          "2024-08-27",
          "2024-08-28",
          "2024-08-29",
          "2024-08-30",
          "2024-08-31",
          "2024-09-01",
          "2024-09-02",
          "2024-09-03",
          "2024-09-04",
          "2024-09-05",
          "2024-09-06",
          "2024-09-07",
          "2024-09-08",
          "2024-09-09",
          "2024-09-10",
          "2024-09-11",
          "2024-09-12",
          "2024-09-13",
          "2024-09-14",
          "2024-09-15",
          "2024-09-16",
          "2024-09-17",
          "2024-09-18",
          "2024-09-19",
          "2024-09-20",
          "2024-09-21",
          "2024-09-22",
          "2024-09-23",
          "2024-09-24",
          "2024-09-25",
          "2024-09-26",
          "2024-09-27",
          "2024-09-28",
          "2024-09-29",
          "2024-09-30",
          "2024-10-01",
          "2024-10-02",
          "2024-10-03",
          "2024-10-04",
          "2024-10-05",
          "2024-10-06",
          "2024-10-07",
          "2024-10-08",
          "2024-10-09",
          "2024-10-10",
          "2024-10-11",
          "2024-10-12",
          "2024-10-13",
          "2024-10-14",
          "2024-10-15",
          "2024-10-16",
          "2024-10-17",
          "2024-10-18",
          "2024-10-19",
          "2024-10-20",
          "2024-10-21",
          "2024-10-22",
          "2024-10-23",
          "2024-10-24",
          "2024-10-25",
          "2024-10-26",
          "2024-10-27",
          "2024-10-28",
          "2024-10-29",
          "2024-10-30",
          "2024-10-31",
          "2024-11-01",
          "2024-11-02",
          "2024-11-03",
          "2024-11-04",
          "2024-11-05",
          "2024-11-06",
          "2024-11-07",
          "2024-11-08",
          "2024-11-09",
          "2024-11-10",
          "2024-11-11",
          "2024-11-12",
          "2024-11-13",
          "2024-11-14",
          "2024-11-15",
          "2024-11-16",
          "2024-11-17",
          "2024-11-18",
          "2024-11-19",
          "2024-11-20",
          "2024-11-21",
          "2024-11-22",
          "2024-11-23",
          "2024-11-24",
          "2024-11-25",
          "2024-11-26",
          "2024-11-27",
          "2024-11-28",
          "2024-11-29",
          "2024-11-30",
          "2024-12-01",
          "2024-12-02",
          "2024-12-03",
          "2024-12-04",
          "2024-12-05",
          "2024-12-06",
          "2024-12-07",
          "2024-12-08",
          "2024-12-09",
          "2024-12-10",
          "2024-12-11",
          "2024-12-12",
          "2024-12-13",
          "2024-12-14",
          "2024-12-15",
          "2024-12-16",
          "2024-12-17",
          "2024-12-18",
          "2024-12-19",
          "2024-12-20",
          "2024-12-21",
          "2024-12-22",
          "2024-12-23",
          "2024-12-24",
          "2024-12-25",
          "2024-12-26",
          "2024-12-27",
          "2024-12-28",
          "2024-12-29",
          "2024-12-30",
          "2024-12-31",
          "2025-01-01",
          "2025-01-02",
          "2025-01-03",
          "2025-01-04",
          "2025-01-05",
          "2025-01-06",
          "2025-01-07",
          "2025-01-08",
          "2025-01-09",
          "2025-01-10",
          "2025-01-11",
          "2025-01-12",
          "2025-01-13",
          "2025-01-14",
          "2025-01-15",
          "2025-01-16",
          "2025-01-17",
          "2025-01-18",
          "2025-01-19",
          "2025-01-20",
          "2025-01-21",
          "2025-01-22",
          "2025-01-23",
          "2025-01-24",
          "2025-01-25",
          "2025-01-26",
          "2025-01-27",
          "2025-01-28",
          "2025-01-29",
          "2025-01-30",
          "2025-01-31",
          "2025-02-01",
          "2025-02-02",
          "2025-02-03",
          "2025-02-04",
          "2025-02-05",
          "2025-02-06",
          "2025-02-07",
          "2025-02-08",
          "2025-02-09",
          "2025-02-10",
          "2025-02-11",
          "2025-02-12",
          "2025-02-13",
          "2025-02-14",
          "2025-02-15",
          "2025-02-16",
          "2025-02-17",
          "2025-02-18",
          "2025-02-19",
          "2025-02-20",
          "2025-02-21",
          "2025-02-22",
          "2025-02-23",
          "2025-02-24",
          "2025-02-25",
          "2025-02-26",
          "2025-02-27",
          "2025-02-28",
          "2025-03-01",
          "2025-03-02",
          "2025-03-03",
          "2025-03-04",
          "2025-03-05",
          "2025-03-06",
          "2025-03-07",
          "2025-03-08",
          "2025-03-09",
          "2025-03-10",
          "2025-03-11",
          "2025-03-12",
          "2025-03-13",
          "2025-03-14",
          "2025-03-15",
          "2025-03-16",
          "2025-03-17",
          "2025-03-18",
          "2025-03-19",
          "2025-03-20",
          "2025-03-21",
          "2025-03-22",
          "2025-03-23",
          "2025-03-24",
          "2025-03-25",
          "2025-03-26",
          "2025-03-27",
          "2025-03-28",
          "2025-03-29",
          "2025-03-30",
          "2025-03-31",
          "2025-04-01",
          "2025-04-02",
          "2025-04-03",
          "2025-04-04",
          "2025-04-05",
          "2025-04-06",
          "2025-04-07",
          "2025-04-08",
          "2025-04-09",
          "2025-04-10",
          "2025-04-11",
          "2025-04-12",
          "2025-04-13",
          "2025-04-14",
          "2025-04-15",
          "2025-04-16",
          "2025-04-17",
          "2025-04-18",
          "2025-04-19",
          "2025-04-20",
          "2025-04-21",
          "2025-04-22",
          "2025-04-23",
          "2025-04-24",
          "2025-04-25",
          "2025-04-26",
          "2025-04-27",
          "2025-04-28",
          "2025-04-29",
          "2025-04-30",
          "2025-05-01",
          "2025-05-02",
          "2025-05-03",
          "2025-05-04",
          "2025-05-05",
          "2025-05-06",
          "2025-05-07",
          "2025-05-08",
          "2025-05-09",
          "2025-05-10",
          "2025-05-11",
          "2025-05-12",
          "2025-05-13",
          "2025-05-14",
          "2025-05-15",
          "2025-05-16",
          "2025-05-17",
          "2025-05-18",
          "2025-05-19",
          "2025-05-20",
          "2025-05-21",
          "2025-05-22",
          "2025-05-23",
          "2025-05-24",
          "2025-05-25",
          "2025-05-26",
          "2025-05-27",
          "2025-05-28",
          "2025-05-29",
          "2025-05-30",
          "2025-05-31",
          "2025-06-01",
          "2025-06-02",
          "2025-06-03",
          "2025-06-04",
          "2025-06-05",
          "2025-06-06",
          "2025-06-07",
          "2025-06-08",
          "2025-06-09",
          "2025-06-10",
          "2025-06-11",
          "2025-06-12",
          "2025-06-13",
          "2025-06-14",
          "2025-06-15",
          "2025-06-16",
          "2025-06-17",
          "2025-06-18",
          "2025-06-19",
          "2025-06-20",
          "2025-06-21",
          "2025-06-22",
          "2025-06-23",
          "2025-06-24",
          "2025-06-25",
          "2025-06-26",
          "2025-06-27",
          "2025-06-28",
          "2025-06-29",
          "2025-06-30",
          "2025-07-01",
          "2025-07-02",
          "2025-07-03",
          "2025-07-04",
          "2025-07-05",
          "2025-07-06",
          "2025-07-07",
          "2025-07-08",
          "2025-07-09",
          "2025-07-10",
          "2025-07-11",
          "2025-07-12",
          "2025-07-13",
          "2025-07-14",
          "2025-07-15",
          "2025-07-16",
          "2025-07-17",
          "2025-07-18",
          "2025-07-19",
          "2025-07-20",
          "2025-07-21",
          "2025-07-22",
          "2025-07-23",
          "2025-07-24",
          "2025-07-25",
          "2025-07-26",
          "2025-07-27",
          "2025-07-28",
          "2025-07-29",
          "2025-07-30",
          "2025-07-31",
          "2025-08-01",
          "2025-08-02",
          "2025-08-03",
          "2025-08-04",
          "2025-08-05",
          "2025-08-06",
          "2025-08-07",
          "2025-08-08",
          "2025-08-09",
          "2025-08-10",
          "2025-08-11",
          "2025-08-12",
          "2025-08-13",
          "2025-08-14",
          "2025-08-15",
          "2025-08-16",
          "2025-08-17",
          "2025-08-18",
          "2025-08-19",
          "2025-08-20",
          "2025-08-21",
          "2025-08-22",
          "2025-08-23",
          "2025-08-24",
          "2025-08-25",
          "2025-08-26",
          "2025-08-27",
          "2025-08-28",
          "2025-08-29",
          "2025-08-30",
          "2025-08-31",
          "2025-09-01",
          "2025-09-02",
          "2025-09-03",
          "2025-09-04",
          "2025-09-05",
          "2025-09-06",
          "2025-09-07",
          "2025-09-08",
          "2025-09-09",
          "2025-09-10",
          "2025-09-11",
          "2025-09-12",
          "2025-09-13",
          "2025-09-14",
          "2025-09-15",
          "2025-09-16",
          "2025-09-17",
          "2025-09-18",
          "2025-09-19",
          "2025-09-20",
          "2025-09-21",
          "2025-09-22",
          "2025-09-23",
          "2025-09-24",
          "2025-09-25",
          "2025-09-26"
         ],
         "y": {
          "bdata": "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",
          "dtype": "f8"
         }
        }
       ],
       "layout": {
        "template": {
         "data": {
          "bar": [
           {
            "error_x": {
             "color": "#2a3f5f"
            },
            "error_y": {
             "color": "#2a3f5f"
            },
            "marker": {
             "line": {
              "color": "#E5ECF6",
              "width": 0.5
             },
             "pattern": {
              "fillmode": "overlay",
              "size": 10,
              "solidity": 0.2
             }
            },
            "type": "bar"
           }
          ],
          "barpolar": [
           {
            "marker": {
             "line": {
              "color": "#E5ECF6",
              "width": 0.5
             },
             "pattern": {
              "fillmode": "overlay",
              "size": 10,
              "solidity": 0.2
             }
            },
            "type": "barpolar"
           }
          ],
          "carpet": [
           {
            "aaxis": {
             "endlinecolor": "#2a3f5f",
             "gridcolor": "white",
             "linecolor": "white",
             "minorgridcolor": "white",
             "startlinecolor": "#2a3f5f"
            },
            "baxis": {
             "endlinecolor": "#2a3f5f",
             "gridcolor": "white",
             "linecolor": "white",
             "minorgridcolor": "white",
             "startlinecolor": "#2a3f5f"
            },
            "type": "carpet"
           }
          ],
          "choropleth": [
           {
            "colorbar": {
             "outlinewidth": 0,
             "ticks": ""
            },
            "type": "choropleth"
           }
          ],
          "contour": [
           {
            "colorbar": {
             "outlinewidth": 0,
             "ticks": ""
            },
            "colorscale": [
             [
              0,
              "#0d0887"
             ],
             [
              0.1111111111111111,
              "#46039f"
             ],
             [
              0.2222222222222222,
              "#7201a8"
             ],
             [
              0.3333333333333333,
              "#9c179e"
             ],
             [
              0.4444444444444444,
              "#bd3786"
             ],
             [
              0.5555555555555556,
              "#d8576b"
             ],
             [
              0.6666666666666666,
              "#ed7953"
             ],
             [
              0.7777777777777778,
              "#fb9f3a"
             ],
             [
              0.8888888888888888,
              "#fdca26"
             ],
             [
              1,
              "#f0f921"
             ]
            ],
            "type": "contour"
           }
          ],
          "contourcarpet": [
           {
            "colorbar": {
             "outlinewidth": 0,
             "ticks": ""
            },
            "type": "contourcarpet"
           }
          ],
          "heatmap": [
           {
            "colorbar": {
             "outlinewidth": 0,
             "ticks": ""
            },
            "colorscale": [
             [
              0,
              "#0d0887"
             ],
             [
              0.1111111111111111,
              "#46039f"
             ],
             [
              0.2222222222222222,
              "#7201a8"
             ],
             [
              0.3333333333333333,
              "#9c179e"
             ],
             [
              0.4444444444444444,
              "#bd3786"
             ],
             [
              0.5555555555555556,
              "#d8576b"
             ],
             [
              0.6666666666666666,
              "#ed7953"
             ],
             [
              0.7777777777777778,
              "#fb9f3a"
             ],
             [
              0.8888888888888888,
              "#fdca26"
             ],
             [
              1,
              "#f0f921"
             ]
            ],
            "type": "heatmap"
           }
          ],
          "histogram": [
           {
            "marker": {
             "pattern": {
              "fillmode": "overlay",
              "size": 10,
              "solidity": 0.2
             }
            },
            "type": "histogram"
           }
          ],
          "histogram2d": [
           {
            "colorbar": {
             "outlinewidth": 0,
             "ticks": ""
            },
            "colorscale": [
             [
              0,
              "#0d0887"
             ],
             [
              0.1111111111111111,
              "#46039f"
             ],
             [
              0.2222222222222222,
              "#7201a8"
             ],
             [
              0.3333333333333333,
              "#9c179e"
             ],
             [
              0.4444444444444444,
              "#bd3786"
             ],
             [
              0.5555555555555556,
              "#d8576b"
             ],
             [
              0.6666666666666666,
              "#ed7953"
             ],
             [
              0.7777777777777778,
              "#fb9f3a"
             ],
             [
              0.8888888888888888,
              "#fdca26"
             ],
             [
              1,
              "#f0f921"
             ]
            ],
            "type": "histogram2d"
           }
          ],
          "histogram2dcontour": [
           {
            "colorbar": {
             "outlinewidth": 0,
             "ticks": ""
            },
            "colorscale": [
             [
              0,
              "#0d0887"
             ],
             [
              0.1111111111111111,
              "#46039f"
             ],
             [
              0.2222222222222222,
              "#7201a8"
             ],
             [
              0.3333333333333333,
              "#9c179e"
             ],
             [
              0.4444444444444444,
              "#bd3786"
             ],
             [
              0.5555555555555556,
              "#d8576b"
             ],
             [
              0.6666666666666666,
              "#ed7953"
             ],
             [
              0.7777777777777778,
              "#fb9f3a"
             ],
             [
              0.8888888888888888,
              "#fdca26"
             ],
             [
              1,
              "#f0f921"
             ]
            ],
            "type": "histogram2dcontour"
           }
          ],
          "mesh3d": [
           {
            "colorbar": {
             "outlinewidth": 0,
             "ticks": ""
            },
            "type": "mesh3d"
           }
          ],
          "parcoords": [
           {
            "line": {
             "colorbar": {
              "outlinewidth": 0,
              "ticks": ""
             }
            },
            "type": "parcoords"
           }
          ],
          "pie": [
           {
            "automargin": true,
            "type": "pie"
           }
          ],
          "scatter": [
           {
            "fillpattern": {
             "fillmode": "overlay",
             "size": 10,
             "solidity": 0.2
            },
            "type": "scatter"
           }
          ],
          "scatter3d": [
           {
            "line": {
             "colorbar": {
              "outlinewidth": 0,
              "ticks": ""
             }
            },
            "marker": {
             "colorbar": {
              "outlinewidth": 0,
              "ticks": ""
             }
            },
            "type": "scatter3d"
           }
          ],
          "scattercarpet": [
           {
            "marker": {
             "colorbar": {
              "outlinewidth": 0,
              "ticks": ""
             }
            },
            "type": "scattercarpet"
           }
          ],
          "scattergeo": [
           {
            "marker": {
             "colorbar": {
              "outlinewidth": 0,
              "ticks": ""
             }
            },
            "type": "scattergeo"
           }
          ],
          "scattergl": [
           {
            "marker": {
             "colorbar": {
              "outlinewidth": 0,
              "ticks": ""
             }
            },
            "type": "scattergl"
           }
          ],
          "scattermap": [
           {
            "marker": {
             "colorbar": {
              "outlinewidth": 0,
              "ticks": ""
             }
            },
            "type": "scattermap"
           }
          ],
          "scattermapbox": [
           {
            "marker": {
             "colorbar": {
              "outlinewidth": 0,
              "ticks": ""
             }
            },
            "type": "scattermapbox"
           }
          ],
          "scatterpolar": [
           {
            "marker": {
             "colorbar": {
              "outlinewidth": 0,
              "ticks": ""
             }
            },
            "type": "scatterpolar"
           }
          ],
          "scatterpolargl": [
           {
            "marker": {
             "colorbar": {
              "outlinewidth": 0,
              "ticks": ""
             }
            },
            "type": "scatterpolargl"
           }
          ],
          "scatterternary": [
           {
            "marker": {
             "colorbar": {
              "outlinewidth": 0,
              "ticks": ""
             }
            },
            "type": "scatterternary"
           }
          ],
          "surface": [
           {
            "colorbar": {
             "outlinewidth": 0,
             "ticks": ""
            },
            "colorscale": [
             [
              0,
              "#0d0887"
             ],
             [
              0.1111111111111111,
              "#46039f"
             ],
             [
              0.2222222222222222,
              "#7201a8"
             ],
             [
              0.3333333333333333,
              "#9c179e"
             ],
             [
              0.4444444444444444,
              "#bd3786"
             ],
             [
              0.5555555555555556,
              "#d8576b"
             ],
             [
              0.6666666666666666,
              "#ed7953"
             ],
             [
              0.7777777777777778,
              "#fb9f3a"
             ],
             [
              0.8888888888888888,
              "#fdca26"
             ],
             [
              1,
              "#f0f921"
             ]
            ],
            "type": "surface"
           }
          ],
          "table": [
           {
            "cells": {
             "fill": {
              "color": "#EBF0F8"
             },
             "line": {
              "color": "white"
             }
            },
            "header": {
             "fill": {
              "color": "#C8D4E3"
             },
             "line": {
              "color": "white"
             }
            },
            "type": "table"
           }
          ]
         },
         "layout": {
          "annotationdefaults": {
           "arrowcolor": "#2a3f5f",
           "arrowhead": 0,
           "arrowwidth": 1
          },
          "autotypenumbers": "strict",
          "coloraxis": {
           "colorbar": {
            "outlinewidth": 0,
            "ticks": ""
           }
          },
          "colorscale": {
           "diverging": [
            [
             0,
             "#8e0152"
            ],
            [
             0.1,
             "#c51b7d"
            ],
            [
             0.2,
             "#de77ae"
            ],
            [
             0.3,
             "#f1b6da"
            ],
            [
             0.4,
             "#fde0ef"
            ],
            [
             0.5,
             "#f7f7f7"
            ],
            [
             0.6,
             "#e6f5d0"
            ],
            [
             0.7,
             "#b8e186"
            ],
            [
             0.8,
             "#7fbc41"
            ],
            [
             0.9,
             "#4d9221"
            ],
            [
             1,
             "#276419"
            ]
           ],
           "sequential": [
            [
             0,
             "#0d0887"
            ],
            [
             0.1111111111111111,
             "#46039f"
            ],
            [
             0.2222222222222222,
             "#7201a8"
            ],
            [
             0.3333333333333333,
             "#9c179e"
            ],
            [
             0.4444444444444444,
             "#bd3786"
            ],
            [
             0.5555555555555556,
             "#d8576b"
            ],
            [
             0.6666666666666666,
             "#ed7953"
            ],
            [
             0.7777777777777778,
             "#fb9f3a"
            ],
            [
             0.8888888888888888,
             "#fdca26"
            ],
            [
             1,
             "#f0f921"
            ]
           ],
           "sequentialminus": [
            [
             0,
             "#0d0887"
            ],
            [
             0.1111111111111111,
             "#46039f"
            ],
            [
             0.2222222222222222,
             "#7201a8"
            ],
            [
             0.3333333333333333,
             "#9c179e"
            ],
            [
             0.4444444444444444,
             "#bd3786"
            ],
            [
             0.5555555555555556,
             "#d8576b"
            ],
            [
             0.6666666666666666,
             "#ed7953"
            ],
            [
             0.7777777777777778,
             "#fb9f3a"
            ],
            [
             0.8888888888888888,
             "#fdca26"
            ],
            [
             1,
             "#f0f921"
            ]
           ]
          },
          "colorway": [
           "#636efa",
           "#EF553B",
           "#00cc96",
           "#ab63fa",
           "#FFA15A",
           "#19d3f3",
           "#FF6692",
           "#B6E880",
           "#FF97FF",
           "#FECB52"
          ],
          "font": {
           "color": "#2a3f5f"
          },
          "geo": {
           "bgcolor": "white",
           "lakecolor": "white",
           "landcolor": "#E5ECF6",
           "showlakes": true,
           "showland": true,
           "subunitcolor": "white"
          },
          "hoverlabel": {
           "align": "left"
          },
          "hovermode": "closest",
          "mapbox": {
           "style": "light"
          },
          "paper_bgcolor": "white",
          "plot_bgcolor": "#E5ECF6",
          "polar": {
           "angularaxis": {
            "gridcolor": "white",
            "linecolor": "white",
            "ticks": ""
           },
           "bgcolor": "#E5ECF6",
           "radialaxis": {
            "gridcolor": "white",
            "linecolor": "white",
            "ticks": ""
           }
          },
          "scene": {
           "xaxis": {
            "backgroundcolor": "#E5ECF6",
            "gridcolor": "white",
            "gridwidth": 2,
            "linecolor": "white",
            "showbackground": true,
            "ticks": "",
            "zerolinecolor": "white"
           },
           "yaxis": {
            "backgroundcolor": "#E5ECF6",
            "gridcolor": "white",
            "gridwidth": 2,
            "linecolor": "white",
            "showbackground": true,
            "ticks": "",
            "zerolinecolor": "white"
           },
           "zaxis": {
            "backgroundcolor": "#E5ECF6",
            "gridcolor": "white",
            "gridwidth": 2,
            "linecolor": "white",
            "showbackground": true,
            "ticks": "",
            "zerolinecolor": "white"
           }
          },
          "shapedefaults": {
           "line": {
            "color": "#2a3f5f"
           }
          },
          "ternary": {
           "aaxis": {
            "gridcolor": "white",
            "linecolor": "white",
            "ticks": ""
           },
           "baxis": {
            "gridcolor": "white",
            "linecolor": "white",
            "ticks": ""
           },
           "bgcolor": "#E5ECF6",
           "caxis": {
            "gridcolor": "white",
            "linecolor": "white",
            "ticks": ""
           }
          },
          "title": {
           "x": 0.05
          },
          "xaxis": {
           "automargin": true,
           "gridcolor": "white",
           "linecolor": "white",
           "ticks": "",
           "title": {
            "standoff": 15
           },
           "zerolinecolor": "white",
           "zerolinewidth": 2
          },
          "yaxis": {
           "automargin": true,
           "gridcolor": "white",
           "linecolor": "white",
           "ticks": "",
           "title": {
            "standoff": 15
           },
           "zerolinecolor": "white",
           "zerolinewidth": 2
          }
         }
        },
        "title": {
         "text": "Daily Sales with 7-Day Moving Average"
        },
        "xaxis": {
         "title": {
          "text": "Date"
         }
        },
        "yaxis": {
         "title": {
          "text": "Sales Amount ($)"
         }
        }
       }
      }
     },
     "metadata": {},
     "output_type": "display_data"
    }
   ],
   "source": [
    "# Plot time series with rolling average\n",
    "fig = (\n",
    "    go.Figure()\n",
    "    .add_trace(\n",
    "        go.Scatter(\n",
    "            x=daily_sales[\"date\"],\n",
    "            y=daily_sales[\"sales_amount\"],\n",
    "            mode=\"lines\",\n",
    "            name=\"Daily Sales\",\n",
    "        )\n",
    "    )\n",
    "    .add_trace(\n",
    "        go.Scatter(\n",
    "            x=daily_sales[\"date\"],\n",
    "            y=daily_sales[\"7d_moving_avg\"],\n",
    "            mode=\"lines\",\n",
    "            name=\"7-Day Moving Average\",\n",
    "            line=dict(width=3),\n",
    "        ),\n",
    "    )\n",
    "    .update_layout(\n",
    "        title=\"Daily Sales with 7-Day Moving Average\",\n",
    "        xaxis_title=\"Date\",\n",
    "        yaxis_title=\"Sales Amount ($)\",\n",
    "    )\n",
    ")\n",
    "fig.show()"
   ]
  },
  {
   "cell_type": "markdown",
   "id": "9efabf43",
   "metadata": {},
   "source": [
    "### 5. Ranking and Partitioning"
   ]
  },
  {
   "cell_type": "code",
   "execution_count": null,
   "id": "9b838153",
   "metadata": {},
   "outputs": [
    {
     "name": "stdout",
     "output_type": "stream",
     "text": [
      "Customer Spending Summary: 99\n"
     ]
    },
    {
     "data": {
      "text/html": [
       "<div>\n",
       "<style scoped>\n",
       "    .dataframe tbody tr th:only-of-type {\n",
       "        vertical-align: middle;\n",
       "    }\n",
       "\n",
       "    .dataframe tbody tr th {\n",
       "        vertical-align: top;\n",
       "    }\n",
       "\n",
       "    .dataframe thead th {\n",
       "        text-align: right;\n",
       "    }\n",
       "</style>\n",
       "<table border=\"1\" class=\"dataframe\">\n",
       "  <thead>\n",
       "    <tr style=\"text-align: right;\">\n",
       "      <th></th>\n",
       "      <th>customer_id</th>\n",
       "      <th>sales_amount</th>\n",
       "      <th>rank</th>\n",
       "    </tr>\n",
       "  </thead>\n",
       "  <tbody>\n",
       "    <tr>\n",
       "      <th>89</th>\n",
       "      <td>90</td>\n",
       "      <td>12814.41</td>\n",
       "      <td>1.0</td>\n",
       "    </tr>\n",
       "    <tr>\n",
       "      <th>91</th>\n",
       "      <td>92</td>\n",
       "      <td>10499.18</td>\n",
       "      <td>2.0</td>\n",
       "    </tr>\n",
       "    <tr>\n",
       "      <th>57</th>\n",
       "      <td>58</td>\n",
       "      <td>9985.15</td>\n",
       "      <td>3.0</td>\n",
       "    </tr>\n",
       "    <tr>\n",
       "      <th>32</th>\n",
       "      <td>33</td>\n",
       "      <td>9135.30</td>\n",
       "      <td>4.0</td>\n",
       "    </tr>\n",
       "    <tr>\n",
       "      <th>92</th>\n",
       "      <td>93</td>\n",
       "      <td>8387.14</td>\n",
       "      <td>5.0</td>\n",
       "    </tr>\n",
       "    <tr>\n",
       "      <th>62</th>\n",
       "      <td>63</td>\n",
       "      <td>8304.06</td>\n",
       "      <td>6.0</td>\n",
       "    </tr>\n",
       "    <tr>\n",
       "      <th>38</th>\n",
       "      <td>39</td>\n",
       "      <td>8121.66</td>\n",
       "      <td>7.0</td>\n",
       "    </tr>\n",
       "    <tr>\n",
       "      <th>98</th>\n",
       "      <td>99</td>\n",
       "      <td>8026.09</td>\n",
       "      <td>8.0</td>\n",
       "    </tr>\n",
       "    <tr>\n",
       "      <th>61</th>\n",
       "      <td>62</td>\n",
       "      <td>7813.42</td>\n",
       "      <td>9.0</td>\n",
       "    </tr>\n",
       "    <tr>\n",
       "      <th>16</th>\n",
       "      <td>17</td>\n",
       "      <td>7778.62</td>\n",
       "      <td>10.0</td>\n",
       "    </tr>\n",
       "  </tbody>\n",
       "</table>\n",
       "</div>"
      ],
      "text/plain": [
       "    customer_id  sales_amount  rank\n",
       "89           90      12814.41   1.0\n",
       "91           92      10499.18   2.0\n",
       "57           58       9985.15   3.0\n",
       "32           33       9135.30   4.0\n",
       "92           93       8387.14   5.0\n",
       "62           63       8304.06   6.0\n",
       "38           39       8121.66   7.0\n",
       "98           99       8026.09   8.0\n",
       "61           62       7813.42   9.0\n",
       "16           17       7778.62  10.0"
      ]
     },
     "metadata": {},
     "output_type": "display_data"
    }
   ],
   "source": [
    "# Rank customers by total spending\n",
    "customer_spending: pd.DataFrame = df_sales_pd.groupby(\"customer_id\")[\"sales_amount\"].sum().reset_index()\n",
    "customer_spending[\"rank\"] = customer_spending[\"sales_amount\"].rank(method=\"dense\", ascending=False)\n",
    "customer_spending = customer_spending.sort_values(\"rank\")\n",
    "print(f\"Customer Spending Summary: {len(customer_spending)}\")\n",
    "display(customer_spending.head(10))"
   ]
  },
  {
   "cell_type": "code",
   "execution_count": null,
   "id": "e5f09ff4",
   "metadata": {},
   "outputs": [
    {
     "name": "stdout",
     "output_type": "stream",
     "text": [
      "Top Customers Summary: 99\n"
     ]
    },
    {
     "data": {
      "text/html": [
       "<div>\n",
       "<style scoped>\n",
       "    .dataframe tbody tr th:only-of-type {\n",
       "        vertical-align: middle;\n",
       "    }\n",
       "\n",
       "    .dataframe tbody tr th {\n",
       "        vertical-align: top;\n",
       "    }\n",
       "\n",
       "    .dataframe thead th {\n",
       "        text-align: right;\n",
       "    }\n",
       "</style>\n",
       "<table border=\"1\" class=\"dataframe\">\n",
       "  <thead>\n",
       "    <tr style=\"text-align: right;\">\n",
       "      <th></th>\n",
       "      <th>customer_id</th>\n",
       "      <th>sales_amount</th>\n",
       "      <th>rank</th>\n",
       "      <th>customer_name</th>\n",
       "      <th>segment</th>\n",
       "      <th>city</th>\n",
       "    </tr>\n",
       "  </thead>\n",
       "  <tbody>\n",
       "    <tr>\n",
       "      <th>0</th>\n",
       "      <td>90</td>\n",
       "      <td>12814.41</td>\n",
       "      <td>1.0</td>\n",
       "      <td>Customer 90</td>\n",
       "      <td>Consumer</td>\n",
       "      <td>Los Angeles</td>\n",
       "    </tr>\n",
       "    <tr>\n",
       "      <th>1</th>\n",
       "      <td>92</td>\n",
       "      <td>10499.18</td>\n",
       "      <td>2.0</td>\n",
       "      <td>Customer 92</td>\n",
       "      <td>Home Office</td>\n",
       "      <td>Houston</td>\n",
       "    </tr>\n",
       "    <tr>\n",
       "      <th>2</th>\n",
       "      <td>58</td>\n",
       "      <td>9985.15</td>\n",
       "      <td>3.0</td>\n",
       "      <td>Customer 58</td>\n",
       "      <td>Corporate</td>\n",
       "      <td>Los Angeles</td>\n",
       "    </tr>\n",
       "    <tr>\n",
       "      <th>3</th>\n",
       "      <td>33</td>\n",
       "      <td>9135.30</td>\n",
       "      <td>4.0</td>\n",
       "      <td>Customer 33</td>\n",
       "      <td>Consumer</td>\n",
       "      <td>New York</td>\n",
       "    </tr>\n",
       "    <tr>\n",
       "      <th>4</th>\n",
       "      <td>93</td>\n",
       "      <td>8387.14</td>\n",
       "      <td>5.0</td>\n",
       "      <td>Customer 93</td>\n",
       "      <td>Home Office</td>\n",
       "      <td>New York</td>\n",
       "    </tr>\n",
       "    <tr>\n",
       "      <th>5</th>\n",
       "      <td>63</td>\n",
       "      <td>8304.06</td>\n",
       "      <td>6.0</td>\n",
       "      <td>Customer 63</td>\n",
       "      <td>Home Office</td>\n",
       "      <td>Los Angeles</td>\n",
       "    </tr>\n",
       "    <tr>\n",
       "      <th>6</th>\n",
       "      <td>39</td>\n",
       "      <td>8121.66</td>\n",
       "      <td>7.0</td>\n",
       "      <td>Customer 39</td>\n",
       "      <td>Home Office</td>\n",
       "      <td>Chicago</td>\n",
       "    </tr>\n",
       "    <tr>\n",
       "      <th>7</th>\n",
       "      <td>99</td>\n",
       "      <td>8026.09</td>\n",
       "      <td>8.0</td>\n",
       "      <td>Customer 99</td>\n",
       "      <td>Consumer</td>\n",
       "      <td>Los Angeles</td>\n",
       "    </tr>\n",
       "    <tr>\n",
       "      <th>8</th>\n",
       "      <td>62</td>\n",
       "      <td>7813.42</td>\n",
       "      <td>9.0</td>\n",
       "      <td>Customer 62</td>\n",
       "      <td>Home Office</td>\n",
       "      <td>New York</td>\n",
       "    </tr>\n",
       "    <tr>\n",
       "      <th>9</th>\n",
       "      <td>17</td>\n",
       "      <td>7778.62</td>\n",
       "      <td>10.0</td>\n",
       "      <td>Customer 17</td>\n",
       "      <td>Corporate</td>\n",
       "      <td>Chicago</td>\n",
       "    </tr>\n",
       "  </tbody>\n",
       "</table>\n",
       "</div>"
      ],
      "text/plain": [
       "   customer_id  sales_amount  rank customer_name      segment         city\n",
       "0           90      12814.41   1.0   Customer 90     Consumer  Los Angeles\n",
       "1           92      10499.18   2.0   Customer 92  Home Office      Houston\n",
       "2           58       9985.15   3.0   Customer 58    Corporate  Los Angeles\n",
       "3           33       9135.30   4.0   Customer 33     Consumer     New York\n",
       "4           93       8387.14   5.0   Customer 93  Home Office     New York\n",
       "5           63       8304.06   6.0   Customer 63  Home Office  Los Angeles\n",
       "6           39       8121.66   7.0   Customer 39  Home Office      Chicago\n",
       "7           99       8026.09   8.0   Customer 99     Consumer  Los Angeles\n",
       "8           62       7813.42   9.0   Customer 62  Home Office     New York\n",
       "9           17       7778.62  10.0   Customer 17    Corporate      Chicago"
      ]
     },
     "metadata": {},
     "output_type": "display_data"
    }
   ],
   "source": [
    "# Add customer details\n",
    "top_customers: pd.DataFrame = pd.merge(\n",
    "    customer_spending,\n",
    "    df_customer_pd[[\"customer_id\", \"customer_name\", \"segment\", \"city\"]],\n",
    "    on=\"customer_id\",\n",
    "    how=\"left\",\n",
    ")\n",
    "print(f\"Top Customers Summary: {len(top_customers)}\")\n",
    "display(top_customers.head(10))"
   ]
  },
  {
   "cell_type": "code",
   "execution_count": null,
   "id": "1d2a11ac",
   "metadata": {},
   "outputs": [
    {
     "name": "stdout",
     "output_type": "stream",
     "text": [
      "Product Popularity Summary: 49\n"
     ]
    },
    {
     "data": {
      "text/html": [
       "<div>\n",
       "<style scoped>\n",
       "    .dataframe tbody tr th:only-of-type {\n",
       "        vertical-align: middle;\n",
       "    }\n",
       "\n",
       "    .dataframe tbody tr th {\n",
       "        vertical-align: top;\n",
       "    }\n",
       "\n",
       "    .dataframe thead th {\n",
       "        text-align: right;\n",
       "    }\n",
       "</style>\n",
       "<table border=\"1\" class=\"dataframe\">\n",
       "  <thead>\n",
       "    <tr style=\"text-align: right;\">\n",
       "      <th></th>\n",
       "      <th>product_id</th>\n",
       "      <th>quantity</th>\n",
       "      <th>rank</th>\n",
       "    </tr>\n",
       "  </thead>\n",
       "  <tbody>\n",
       "    <tr>\n",
       "      <th>39</th>\n",
       "      <td>40</td>\n",
       "      <td>165</td>\n",
       "      <td>1.0</td>\n",
       "    </tr>\n",
       "    <tr>\n",
       "      <th>28</th>\n",
       "      <td>29</td>\n",
       "      <td>154</td>\n",
       "      <td>2.0</td>\n",
       "    </tr>\n",
       "    <tr>\n",
       "      <th>16</th>\n",
       "      <td>17</td>\n",
       "      <td>143</td>\n",
       "      <td>3.0</td>\n",
       "    </tr>\n",
       "    <tr>\n",
       "      <th>32</th>\n",
       "      <td>33</td>\n",
       "      <td>136</td>\n",
       "      <td>4.0</td>\n",
       "    </tr>\n",
       "    <tr>\n",
       "      <th>43</th>\n",
       "      <td>44</td>\n",
       "      <td>128</td>\n",
       "      <td>5.0</td>\n",
       "    </tr>\n",
       "    <tr>\n",
       "      <th>24</th>\n",
       "      <td>25</td>\n",
       "      <td>124</td>\n",
       "      <td>6.0</td>\n",
       "    </tr>\n",
       "    <tr>\n",
       "      <th>29</th>\n",
       "      <td>30</td>\n",
       "      <td>122</td>\n",
       "      <td>7.0</td>\n",
       "    </tr>\n",
       "    <tr>\n",
       "      <th>10</th>\n",
       "      <td>11</td>\n",
       "      <td>121</td>\n",
       "      <td>8.0</td>\n",
       "    </tr>\n",
       "    <tr>\n",
       "      <th>36</th>\n",
       "      <td>37</td>\n",
       "      <td>120</td>\n",
       "      <td>9.0</td>\n",
       "    </tr>\n",
       "    <tr>\n",
       "      <th>25</th>\n",
       "      <td>26</td>\n",
       "      <td>120</td>\n",
       "      <td>9.0</td>\n",
       "    </tr>\n",
       "  </tbody>\n",
       "</table>\n",
       "</div>"
      ],
      "text/plain": [
       "    product_id  quantity  rank\n",
       "39          40       165   1.0\n",
       "28          29       154   2.0\n",
       "16          17       143   3.0\n",
       "32          33       136   4.0\n",
       "43          44       128   5.0\n",
       "24          25       124   6.0\n",
       "29          30       122   7.0\n",
       "10          11       121   8.0\n",
       "36          37       120   9.0\n",
       "25          26       120   9.0"
      ]
     },
     "metadata": {},
     "output_type": "display_data"
    }
   ],
   "source": [
    "# Rank products by quantity sold\n",
    "product_popularity: pd.DataFrame = df_sales_pd.groupby(\"product_id\")[\"quantity\"].sum().reset_index()\n",
    "product_popularity[\"rank\"] = product_popularity[\"quantity\"].rank(method=\"dense\", ascending=False)\n",
    "product_popularity = product_popularity.sort_values(\"rank\")\n",
    "print(f\"Product Popularity Summary: {len(product_popularity)}\")\n",
    "display(product_popularity.head(10))"
   ]
  },
  {
   "cell_type": "code",
   "execution_count": null,
   "id": "7abeecb5",
   "metadata": {},
   "outputs": [
    {
     "name": "stdout",
     "output_type": "stream",
     "text": [
      "Top Products Summary: 49\n"
     ]
    },
    {
     "data": {
      "text/html": [
       "<div>\n",
       "<style scoped>\n",
       "    .dataframe tbody tr th:only-of-type {\n",
       "        vertical-align: middle;\n",
       "    }\n",
       "\n",
       "    .dataframe tbody tr th {\n",
       "        vertical-align: top;\n",
       "    }\n",
       "\n",
       "    .dataframe thead th {\n",
       "        text-align: right;\n",
       "    }\n",
       "</style>\n",
       "<table border=\"1\" class=\"dataframe\">\n",
       "  <thead>\n",
       "    <tr style=\"text-align: right;\">\n",
       "      <th></th>\n",
       "      <th>product_id</th>\n",
       "      <th>quantity</th>\n",
       "      <th>rank</th>\n",
       "      <th>product_name</th>\n",
       "      <th>category</th>\n",
       "    </tr>\n",
       "  </thead>\n",
       "  <tbody>\n",
       "    <tr>\n",
       "      <th>0</th>\n",
       "      <td>40</td>\n",
       "      <td>165</td>\n",
       "      <td>1.0</td>\n",
       "      <td>Product 40</td>\n",
       "      <td>Books</td>\n",
       "    </tr>\n",
       "    <tr>\n",
       "      <th>1</th>\n",
       "      <td>29</td>\n",
       "      <td>154</td>\n",
       "      <td>2.0</td>\n",
       "      <td>Product 29</td>\n",
       "      <td>Home</td>\n",
       "    </tr>\n",
       "    <tr>\n",
       "      <th>2</th>\n",
       "      <td>17</td>\n",
       "      <td>143</td>\n",
       "      <td>3.0</td>\n",
       "      <td>Product 17</td>\n",
       "      <td>Books</td>\n",
       "    </tr>\n",
       "    <tr>\n",
       "      <th>3</th>\n",
       "      <td>33</td>\n",
       "      <td>136</td>\n",
       "      <td>4.0</td>\n",
       "      <td>Product 33</td>\n",
       "      <td>Home</td>\n",
       "    </tr>\n",
       "    <tr>\n",
       "      <th>4</th>\n",
       "      <td>44</td>\n",
       "      <td>128</td>\n",
       "      <td>5.0</td>\n",
       "      <td>Product 44</td>\n",
       "      <td>Books</td>\n",
       "    </tr>\n",
       "    <tr>\n",
       "      <th>5</th>\n",
       "      <td>25</td>\n",
       "      <td>124</td>\n",
       "      <td>6.0</td>\n",
       "      <td>Product 25</td>\n",
       "      <td>Electronics</td>\n",
       "    </tr>\n",
       "    <tr>\n",
       "      <th>6</th>\n",
       "      <td>30</td>\n",
       "      <td>122</td>\n",
       "      <td>7.0</td>\n",
       "      <td>Product 30</td>\n",
       "      <td>Books</td>\n",
       "    </tr>\n",
       "    <tr>\n",
       "      <th>7</th>\n",
       "      <td>11</td>\n",
       "      <td>121</td>\n",
       "      <td>8.0</td>\n",
       "      <td>Product 11</td>\n",
       "      <td>Clothing</td>\n",
       "    </tr>\n",
       "    <tr>\n",
       "      <th>8</th>\n",
       "      <td>37</td>\n",
       "      <td>120</td>\n",
       "      <td>9.0</td>\n",
       "      <td>Product 37</td>\n",
       "      <td>Clothing</td>\n",
       "    </tr>\n",
       "    <tr>\n",
       "      <th>9</th>\n",
       "      <td>26</td>\n",
       "      <td>120</td>\n",
       "      <td>9.0</td>\n",
       "      <td>Product 26</td>\n",
       "      <td>Clothing</td>\n",
       "    </tr>\n",
       "  </tbody>\n",
       "</table>\n",
       "</div>"
      ],
      "text/plain": [
       "   product_id  quantity  rank product_name     category\n",
       "0          40       165   1.0   Product 40        Books\n",
       "1          29       154   2.0   Product 29         Home\n",
       "2          17       143   3.0   Product 17        Books\n",
       "3          33       136   4.0   Product 33         Home\n",
       "4          44       128   5.0   Product 44        Books\n",
       "5          25       124   6.0   Product 25  Electronics\n",
       "6          30       122   7.0   Product 30        Books\n",
       "7          11       121   8.0   Product 11     Clothing\n",
       "8          37       120   9.0   Product 37     Clothing\n",
       "9          26       120   9.0   Product 26     Clothing"
      ]
     },
     "metadata": {},
     "output_type": "display_data"
    }
   ],
   "source": [
    "# Add product details\n",
    "top_products: pd.DataFrame = pd.merge(\n",
    "    product_popularity,\n",
    "    df_product_pd[[\"product_id\", \"product_name\", \"category\"]],\n",
    "    on=\"product_id\",\n",
    "    how=\"left\",\n",
    ")\n",
    "print(f\"Top Products Summary: {len(top_products)}\")\n",
    "display(top_products.head(10))"
   ]
  },
  {
   "cell_type": "markdown",
   "id": "6146b733",
   "metadata": {},
   "source": [
    "## SQL"
   ]
  },
  {
   "cell_type": "markdown",
   "id": "9511db27",
   "metadata": {},
   "source": [
    "### Create"
   ]
  },
  {
   "cell_type": "code",
   "execution_count": null,
   "id": "9e4665a9",
   "metadata": {},
   "outputs": [
    {
     "data": {
      "text/plain": [
       "100"
      ]
     },
     "execution_count": 77,
     "metadata": {},
     "output_type": "execute_result"
    }
   ],
   "source": [
    "# Creates SQLite database and tables\n",
    "conn: sqlite3.Connection = sqlite3.connect(\":memory:\")\n",
    "df_sales_pd.to_sql(\"sales\", conn, index=False, if_exists=\"replace\")\n",
    "df_product_pd.to_sql(\"product\", conn, index=False, if_exists=\"replace\")\n",
    "df_customer_pd.to_sql(\"customer\", conn, index=False, if_exists=\"replace\")"
   ]
  },
  {
   "cell_type": "code",
   "execution_count": null,
   "id": "f7e483ca",
   "metadata": {},
   "outputs": [
    {
     "name": "stdout",
     "output_type": "stream",
     "text": [
      "Sales Table:\n"
     ]
    },
    {
     "data": {
      "text/html": [
       "<div>\n",
       "<style scoped>\n",
       "    .dataframe tbody tr th:only-of-type {\n",
       "        vertical-align: middle;\n",
       "    }\n",
       "\n",
       "    .dataframe tbody tr th {\n",
       "        vertical-align: top;\n",
       "    }\n",
       "\n",
       "    .dataframe thead th {\n",
       "        text-align: right;\n",
       "    }\n",
       "</style>\n",
       "<table border=\"1\" class=\"dataframe\">\n",
       "  <thead>\n",
       "    <tr style=\"text-align: right;\">\n",
       "      <th></th>\n",
       "      <th>date</th>\n",
       "      <th>customer_id</th>\n",
       "      <th>product_id</th>\n",
       "      <th>category</th>\n",
       "      <th>sales_amount</th>\n",
       "      <th>quantity</th>\n",
       "    </tr>\n",
       "  </thead>\n",
       "  <tbody>\n",
       "    <tr>\n",
       "      <th>0</th>\n",
       "      <td>2023-01-01 00:00:00</td>\n",
       "      <td>52</td>\n",
       "      <td>34</td>\n",
       "      <td>Books</td>\n",
       "      <td>319.23</td>\n",
       "      <td>2</td>\n",
       "    </tr>\n",
       "    <tr>\n",
       "      <th>1</th>\n",
       "      <td>2023-01-02 00:00:00</td>\n",
       "      <td>93</td>\n",
       "      <td>45</td>\n",
       "      <td>Food</td>\n",
       "      <td>646.25</td>\n",
       "      <td>6</td>\n",
       "    </tr>\n",
       "    <tr>\n",
       "      <th>2</th>\n",
       "      <td>2023-01-03 00:00:00</td>\n",
       "      <td>15</td>\n",
       "      <td>6</td>\n",
       "      <td>Food</td>\n",
       "      <td>203.88</td>\n",
       "      <td>2</td>\n",
       "    </tr>\n",
       "    <tr>\n",
       "      <th>3</th>\n",
       "      <td>2023-01-04 00:00:00</td>\n",
       "      <td>72</td>\n",
       "      <td>37</td>\n",
       "      <td>Books</td>\n",
       "      <td>897.99</td>\n",
       "      <td>3</td>\n",
       "    </tr>\n",
       "    <tr>\n",
       "      <th>4</th>\n",
       "      <td>2023-01-05 00:00:00</td>\n",
       "      <td>61</td>\n",
       "      <td>33</td>\n",
       "      <td>Books</td>\n",
       "      <td>524.99</td>\n",
       "      <td>4</td>\n",
       "    </tr>\n",
       "  </tbody>\n",
       "</table>\n",
       "</div>"
      ],
      "text/plain": [
       "                  date  customer_id  product_id category  sales_amount  \\\n",
       "0  2023-01-01 00:00:00           52          34    Books        319.23   \n",
       "1  2023-01-02 00:00:00           93          45     Food        646.25   \n",
       "2  2023-01-03 00:00:00           15           6     Food        203.88   \n",
       "3  2023-01-04 00:00:00           72          37    Books        897.99   \n",
       "4  2023-01-05 00:00:00           61          33    Books        524.99   \n",
       "\n",
       "   quantity  \n",
       "0         2  \n",
       "1         6  \n",
       "2         2  \n",
       "3         3  \n",
       "4         4  "
      ]
     },
     "metadata": {},
     "output_type": "display_data"
    }
   ],
   "source": [
    "print(\"Sales Table:\")\n",
    "display(pd.read_sql(\"SELECT * FROM sales LIMIT 5\", conn))"
   ]
  },
  {
   "cell_type": "code",
   "execution_count": null,
   "id": "7c748223",
   "metadata": {},
   "outputs": [
    {
     "name": "stdout",
     "output_type": "stream",
     "text": [
      "Product Table:\n"
     ]
    },
    {
     "data": {
      "text/html": [
       "<div>\n",
       "<style scoped>\n",
       "    .dataframe tbody tr th:only-of-type {\n",
       "        vertical-align: middle;\n",
       "    }\n",
       "\n",
       "    .dataframe tbody tr th {\n",
       "        vertical-align: top;\n",
       "    }\n",
       "\n",
       "    .dataframe thead th {\n",
       "        text-align: right;\n",
       "    }\n",
       "</style>\n",
       "<table border=\"1\" class=\"dataframe\">\n",
       "  <thead>\n",
       "    <tr style=\"text-align: right;\">\n",
       "      <th></th>\n",
       "      <th>product_id</th>\n",
       "      <th>product_name</th>\n",
       "      <th>price</th>\n",
       "      <th>category</th>\n",
       "      <th>supplier_id</th>\n",
       "    </tr>\n",
       "  </thead>\n",
       "  <tbody>\n",
       "    <tr>\n",
       "      <th>0</th>\n",
       "      <td>1</td>\n",
       "      <td>Product 1</td>\n",
       "      <td>293.13</td>\n",
       "      <td>Food</td>\n",
       "      <td>6</td>\n",
       "    </tr>\n",
       "    <tr>\n",
       "      <th>1</th>\n",
       "      <td>2</td>\n",
       "      <td>Product 2</td>\n",
       "      <td>434.39</td>\n",
       "      <td>Food</td>\n",
       "      <td>3</td>\n",
       "    </tr>\n",
       "    <tr>\n",
       "      <th>2</th>\n",
       "      <td>3</td>\n",
       "      <td>Product 3</td>\n",
       "      <td>151.83</td>\n",
       "      <td>Electronics</td>\n",
       "      <td>7</td>\n",
       "    </tr>\n",
       "    <tr>\n",
       "      <th>3</th>\n",
       "      <td>4</td>\n",
       "      <td>Product 4</td>\n",
       "      <td>239.16</td>\n",
       "      <td>Clothing</td>\n",
       "      <td>5</td>\n",
       "    </tr>\n",
       "    <tr>\n",
       "      <th>4</th>\n",
       "      <td>5</td>\n",
       "      <td>Product 5</td>\n",
       "      <td>313.50</td>\n",
       "      <td>Clothing</td>\n",
       "      <td>4</td>\n",
       "    </tr>\n",
       "  </tbody>\n",
       "</table>\n",
       "</div>"
      ],
      "text/plain": [
       "   product_id product_name   price     category  supplier_id\n",
       "0           1    Product 1  293.13         Food            6\n",
       "1           2    Product 2  434.39         Food            3\n",
       "2           3    Product 3  151.83  Electronics            7\n",
       "3           4    Product 4  239.16     Clothing            5\n",
       "4           5    Product 5  313.50     Clothing            4"
      ]
     },
     "metadata": {},
     "output_type": "display_data"
    }
   ],
   "source": [
    "print(\"Product Table:\")\n",
    "display(pd.read_sql(\"SELECT * FROM product LIMIT 5\", conn))"
   ]
  },
  {
   "cell_type": "code",
   "execution_count": null,
   "id": "61efa4d0",
   "metadata": {},
   "outputs": [
    {
     "name": "stdout",
     "output_type": "stream",
     "text": [
      "Customer Table:\n"
     ]
    },
    {
     "data": {
      "text/html": [
       "<div>\n",
       "<style scoped>\n",
       "    .dataframe tbody tr th:only-of-type {\n",
       "        vertical-align: middle;\n",
       "    }\n",
       "\n",
       "    .dataframe tbody tr th {\n",
       "        vertical-align: top;\n",
       "    }\n",
       "\n",
       "    .dataframe thead th {\n",
       "        text-align: right;\n",
       "    }\n",
       "</style>\n",
       "<table border=\"1\" class=\"dataframe\">\n",
       "  <thead>\n",
       "    <tr style=\"text-align: right;\">\n",
       "      <th></th>\n",
       "      <th>customer_id</th>\n",
       "      <th>customer_name</th>\n",
       "      <th>city</th>\n",
       "      <th>state</th>\n",
       "      <th>segment</th>\n",
       "    </tr>\n",
       "  </thead>\n",
       "  <tbody>\n",
       "    <tr>\n",
       "      <th>0</th>\n",
       "      <td>1</td>\n",
       "      <td>Customer 1</td>\n",
       "      <td>Chicago</td>\n",
       "      <td>AZ</td>\n",
       "      <td>Consumer</td>\n",
       "    </tr>\n",
       "    <tr>\n",
       "      <th>1</th>\n",
       "      <td>2</td>\n",
       "      <td>Customer 2</td>\n",
       "      <td>New York</td>\n",
       "      <td>IL</td>\n",
       "      <td>Home Office</td>\n",
       "    </tr>\n",
       "    <tr>\n",
       "      <th>2</th>\n",
       "      <td>3</td>\n",
       "      <td>Customer 3</td>\n",
       "      <td>Los Angeles</td>\n",
       "      <td>NY</td>\n",
       "      <td>Corporate</td>\n",
       "    </tr>\n",
       "    <tr>\n",
       "      <th>3</th>\n",
       "      <td>4</td>\n",
       "      <td>Customer 4</td>\n",
       "      <td>Phoenix</td>\n",
       "      <td>TX</td>\n",
       "      <td>Consumer</td>\n",
       "    </tr>\n",
       "    <tr>\n",
       "      <th>4</th>\n",
       "      <td>5</td>\n",
       "      <td>Customer 5</td>\n",
       "      <td>New York</td>\n",
       "      <td>IL</td>\n",
       "      <td>Home Office</td>\n",
       "    </tr>\n",
       "  </tbody>\n",
       "</table>\n",
       "</div>"
      ],
      "text/plain": [
       "   customer_id customer_name         city state      segment\n",
       "0            1    Customer 1      Chicago    AZ     Consumer\n",
       "1            2    Customer 2     New York    IL  Home Office\n",
       "2            3    Customer 3  Los Angeles    NY    Corporate\n",
       "3            4    Customer 4      Phoenix    TX     Consumer\n",
       "4            5    Customer 5     New York    IL  Home Office"
      ]
     },
     "metadata": {},
     "output_type": "display_data"
    }
   ],
   "source": [
    "print(\"Customer Table:\")\n",
    "display(pd.read_sql(\"SELECT * FROM customer LIMIT 5\", conn))"
   ]
  },
  {
   "cell_type": "markdown",
   "id": "2652bd6e",
   "metadata": {},
   "source": [
    "### 1. Filtering and Selecting"
   ]
  },
  {
   "cell_type": "code",
   "execution_count": null,
   "id": "1fb8c371",
   "metadata": {},
   "outputs": [
    {
     "name": "stdout",
     "output_type": "stream",
     "text": [
      "Number of Electronics Sales: 188\n"
     ]
    },
    {
     "data": {
      "text/html": [
       "<div>\n",
       "<style scoped>\n",
       "    .dataframe tbody tr th:only-of-type {\n",
       "        vertical-align: middle;\n",
       "    }\n",
       "\n",
       "    .dataframe tbody tr th {\n",
       "        vertical-align: top;\n",
       "    }\n",
       "\n",
       "    .dataframe thead th {\n",
       "        text-align: right;\n",
       "    }\n",
       "</style>\n",
       "<table border=\"1\" class=\"dataframe\">\n",
       "  <thead>\n",
       "    <tr style=\"text-align: right;\">\n",
       "      <th></th>\n",
       "      <th>date</th>\n",
       "      <th>customer_id</th>\n",
       "      <th>product_id</th>\n",
       "      <th>category</th>\n",
       "      <th>sales_amount</th>\n",
       "      <th>quantity</th>\n",
       "    </tr>\n",
       "  </thead>\n",
       "  <tbody>\n",
       "    <tr>\n",
       "      <th>0</th>\n",
       "      <td>2023-01-09 00:00:00</td>\n",
       "      <td>75</td>\n",
       "      <td>6</td>\n",
       "      <td>Electronics</td>\n",
       "      <td>617.34</td>\n",
       "      <td>9</td>\n",
       "    </tr>\n",
       "    <tr>\n",
       "      <th>1</th>\n",
       "      <td>2023-01-17 00:00:00</td>\n",
       "      <td>88</td>\n",
       "      <td>9</td>\n",
       "      <td>Electronics</td>\n",
       "      <td>735.31</td>\n",
       "      <td>8</td>\n",
       "    </tr>\n",
       "    <tr>\n",
       "      <th>2</th>\n",
       "      <td>2023-02-01 00:00:00</td>\n",
       "      <td>42</td>\n",
       "      <td>6</td>\n",
       "      <td>Electronics</td>\n",
       "      <td>979.98</td>\n",
       "      <td>7</td>\n",
       "    </tr>\n",
       "    <tr>\n",
       "      <th>3</th>\n",
       "      <td>2023-02-10 00:00:00</td>\n",
       "      <td>51</td>\n",
       "      <td>45</td>\n",
       "      <td>Electronics</td>\n",
       "      <td>973.72</td>\n",
       "      <td>7</td>\n",
       "    </tr>\n",
       "    <tr>\n",
       "      <th>4</th>\n",
       "      <td>2023-02-12 00:00:00</td>\n",
       "      <td>64</td>\n",
       "      <td>5</td>\n",
       "      <td>Electronics</td>\n",
       "      <td>303.52</td>\n",
       "      <td>8</td>\n",
       "    </tr>\n",
       "  </tbody>\n",
       "</table>\n",
       "</div>"
      ],
      "text/plain": [
       "                  date  customer_id  product_id     category  sales_amount  \\\n",
       "0  2023-01-09 00:00:00           75           6  Electronics        617.34   \n",
       "1  2023-01-17 00:00:00           88           9  Electronics        735.31   \n",
       "2  2023-02-01 00:00:00           42           6  Electronics        979.98   \n",
       "3  2023-02-10 00:00:00           51          45  Electronics        973.72   \n",
       "4  2023-02-12 00:00:00           64           5  Electronics        303.52   \n",
       "\n",
       "   quantity  \n",
       "0         9  \n",
       "1         8  \n",
       "2         7  \n",
       "3         7  \n",
       "4         8  "
      ]
     },
     "metadata": {},
     "output_type": "display_data"
    }
   ],
   "source": [
    "# Filter sales for a specific category\n",
    "electronics_sales_sql = \"\"\"\n",
    "    SELECT *\n",
    "    FROM sales\n",
    "    WHERE category = 'Electronics'\n",
    "\"\"\"\n",
    "electronics_sales: pd.DataFrame = pd.read_sql(electronics_sales_sql, conn)\n",
    "print(f\"Number of Electronics Sales: {len(electronics_sales)}\")\n",
    "display(pd.read_sql(electronics_sales_sql + \"LIMIT 5\", conn))"
   ]
  },
  {
   "cell_type": "code",
   "execution_count": null,
   "id": "96435d73",
   "metadata": {},
   "outputs": [
    {
     "name": "stdout",
     "output_type": "stream",
     "text": [
      "Number of high-value Sales: 525\n"
     ]
    },
    {
     "data": {
      "text/html": [
       "<div>\n",
       "<style scoped>\n",
       "    .dataframe tbody tr th:only-of-type {\n",
       "        vertical-align: middle;\n",
       "    }\n",
       "\n",
       "    .dataframe tbody tr th {\n",
       "        vertical-align: top;\n",
       "    }\n",
       "\n",
       "    .dataframe thead th {\n",
       "        text-align: right;\n",
       "    }\n",
       "</style>\n",
       "<table border=\"1\" class=\"dataframe\">\n",
       "  <thead>\n",
       "    <tr style=\"text-align: right;\">\n",
       "      <th></th>\n",
       "      <th>date</th>\n",
       "      <th>customer_id</th>\n",
       "      <th>product_id</th>\n",
       "      <th>category</th>\n",
       "      <th>sales_amount</th>\n",
       "      <th>quantity</th>\n",
       "    </tr>\n",
       "  </thead>\n",
       "  <tbody>\n",
       "    <tr>\n",
       "      <th>0</th>\n",
       "      <td>2023-01-02 00:00:00</td>\n",
       "      <td>93</td>\n",
       "      <td>45</td>\n",
       "      <td>Food</td>\n",
       "      <td>646.25</td>\n",
       "      <td>6</td>\n",
       "    </tr>\n",
       "    <tr>\n",
       "      <th>1</th>\n",
       "      <td>2023-01-04 00:00:00</td>\n",
       "      <td>72</td>\n",
       "      <td>37</td>\n",
       "      <td>Books</td>\n",
       "      <td>897.99</td>\n",
       "      <td>3</td>\n",
       "    </tr>\n",
       "    <tr>\n",
       "      <th>2</th>\n",
       "      <td>2023-01-05 00:00:00</td>\n",
       "      <td>61</td>\n",
       "      <td>33</td>\n",
       "      <td>Books</td>\n",
       "      <td>524.99</td>\n",
       "      <td>4</td>\n",
       "    </tr>\n",
       "    <tr>\n",
       "      <th>3</th>\n",
       "      <td>2023-01-07 00:00:00</td>\n",
       "      <td>83</td>\n",
       "      <td>21</td>\n",
       "      <td>Clothing</td>\n",
       "      <td>562.24</td>\n",
       "      <td>9</td>\n",
       "    </tr>\n",
       "    <tr>\n",
       "      <th>4</th>\n",
       "      <td>2023-01-09 00:00:00</td>\n",
       "      <td>75</td>\n",
       "      <td>6</td>\n",
       "      <td>Electronics</td>\n",
       "      <td>617.34</td>\n",
       "      <td>9</td>\n",
       "    </tr>\n",
       "  </tbody>\n",
       "</table>\n",
       "</div>"
      ],
      "text/plain": [
       "                  date  customer_id  product_id     category  sales_amount  \\\n",
       "0  2023-01-02 00:00:00           93          45         Food        646.25   \n",
       "1  2023-01-04 00:00:00           72          37        Books        897.99   \n",
       "2  2023-01-05 00:00:00           61          33        Books        524.99   \n",
       "3  2023-01-07 00:00:00           83          21     Clothing        562.24   \n",
       "4  2023-01-09 00:00:00           75           6  Electronics        617.34   \n",
       "\n",
       "   quantity  \n",
       "0         6  \n",
       "1         3  \n",
       "2         4  \n",
       "3         9  \n",
       "4         9  "
      ]
     },
     "metadata": {},
     "output_type": "display_data"
    }
   ],
   "source": [
    "# Filter for high value transactions (over $500)\n",
    "high_value_sales_sql = \"\"\"\n",
    "    SELECT *\n",
    "    FROM sales\n",
    "    WHERE sales_amount > 500\n",
    "\"\"\"\n",
    "high_value_sales: pd.DataFrame = pd.read_sql(high_value_sales_sql, conn)\n",
    "print(f\"Number of high-value Sales: {len(high_value_sales)}\")\n",
    "display(pd.read_sql(high_value_sales_sql + \"LIMIT 5\", conn))"
   ]
  },
  {
   "cell_type": "code",
   "execution_count": null,
   "id": "1aca4944",
   "metadata": {},
   "outputs": [
    {
     "name": "stdout",
     "output_type": "stream",
     "text": [
      "Selected columns in Sales: 1000\n"
     ]
    },
    {
     "data": {
      "text/html": [
       "<div>\n",
       "<style scoped>\n",
       "    .dataframe tbody tr th:only-of-type {\n",
       "        vertical-align: middle;\n",
       "    }\n",
       "\n",
       "    .dataframe tbody tr th {\n",
       "        vertical-align: top;\n",
       "    }\n",
       "\n",
       "    .dataframe thead th {\n",
       "        text-align: right;\n",
       "    }\n",
       "</style>\n",
       "<table border=\"1\" class=\"dataframe\">\n",
       "  <thead>\n",
       "    <tr style=\"text-align: right;\">\n",
       "      <th></th>\n",
       "      <th>date</th>\n",
       "      <th>category</th>\n",
       "      <th>sales_amount</th>\n",
       "    </tr>\n",
       "  </thead>\n",
       "  <tbody>\n",
       "    <tr>\n",
       "      <th>0</th>\n",
       "      <td>2023-01-01 00:00:00</td>\n",
       "      <td>Books</td>\n",
       "      <td>319.23</td>\n",
       "    </tr>\n",
       "    <tr>\n",
       "      <th>1</th>\n",
       "      <td>2023-01-02 00:00:00</td>\n",
       "      <td>Food</td>\n",
       "      <td>646.25</td>\n",
       "    </tr>\n",
       "    <tr>\n",
       "      <th>2</th>\n",
       "      <td>2023-01-03 00:00:00</td>\n",
       "      <td>Food</td>\n",
       "      <td>203.88</td>\n",
       "    </tr>\n",
       "    <tr>\n",
       "      <th>3</th>\n",
       "      <td>2023-01-04 00:00:00</td>\n",
       "      <td>Books</td>\n",
       "      <td>897.99</td>\n",
       "    </tr>\n",
       "    <tr>\n",
       "      <th>4</th>\n",
       "      <td>2023-01-05 00:00:00</td>\n",
       "      <td>Books</td>\n",
       "      <td>524.99</td>\n",
       "    </tr>\n",
       "  </tbody>\n",
       "</table>\n",
       "</div>"
      ],
      "text/plain": [
       "                  date category  sales_amount\n",
       "0  2023-01-01 00:00:00    Books        319.23\n",
       "1  2023-01-02 00:00:00     Food        646.25\n",
       "2  2023-01-03 00:00:00     Food        203.88\n",
       "3  2023-01-04 00:00:00    Books        897.99\n",
       "4  2023-01-05 00:00:00    Books        524.99"
      ]
     },
     "metadata": {},
     "output_type": "display_data"
    }
   ],
   "source": [
    "# Select specific columns\n",
    "sales_summary_sql = \"\"\"\n",
    "    SELECT date, category, sales_amount\n",
    "    FROM sales\n",
    "\"\"\"\n",
    "sales_summary: pd.DataFrame = pd.read_sql(sales_summary_sql, conn)\n",
    "print(f\"Selected columns in Sales: {len(sales_summary)}\")\n",
    "display(pd.read_sql(sales_summary_sql + \"LIMIT 5\", conn))"
   ]
  },
  {
   "cell_type": "markdown",
   "id": "7e35b9aa",
   "metadata": {},
   "source": [
    "### 2. Grouping and Aggregation"
   ]
  },
  {
   "cell_type": "code",
   "execution_count": null,
   "id": "654b2718",
   "metadata": {},
   "outputs": [
    {
     "name": "stdout",
     "output_type": "stream",
     "text": [
      "Sales Statistics: 1\n"
     ]
    },
    {
     "data": {
      "text/html": [
       "<div>\n",
       "<style scoped>\n",
       "    .dataframe tbody tr th:only-of-type {\n",
       "        vertical-align: middle;\n",
       "    }\n",
       "\n",
       "    .dataframe tbody tr th {\n",
       "        vertical-align: top;\n",
       "    }\n",
       "\n",
       "    .dataframe thead th {\n",
       "        text-align: right;\n",
       "    }\n",
       "</style>\n",
       "<table border=\"1\" class=\"dataframe\">\n",
       "  <thead>\n",
       "    <tr style=\"text-align: right;\">\n",
       "      <th></th>\n",
       "      <th>sales_sum</th>\n",
       "      <th>sales_mean</th>\n",
       "      <th>sales_min</th>\n",
       "      <th>sales_max</th>\n",
       "      <th>sales_count</th>\n",
       "      <th>quantity_sum</th>\n",
       "      <th>quantity_mean</th>\n",
       "      <th>quantity_min</th>\n",
       "      <th>quantity_max</th>\n",
       "    </tr>\n",
       "  </thead>\n",
       "  <tbody>\n",
       "    <tr>\n",
       "      <th>0</th>\n",
       "      <td>512657.67</td>\n",
       "      <td>512.65767</td>\n",
       "      <td>10.19</td>\n",
       "      <td>999.72</td>\n",
       "      <td>1000</td>\n",
       "      <td>5035</td>\n",
       "      <td>5.035</td>\n",
       "      <td>1</td>\n",
       "      <td>9</td>\n",
       "    </tr>\n",
       "  </tbody>\n",
       "</table>\n",
       "</div>"
      ],
      "text/plain": [
       "   sales_sum  sales_mean  sales_min  sales_max  sales_count  quantity_sum  \\\n",
       "0  512657.67   512.65767      10.19     999.72         1000          5035   \n",
       "\n",
       "   quantity_mean  quantity_min  quantity_max  \n",
       "0          5.035             1             9  "
      ]
     },
     "metadata": {},
     "output_type": "display_data"
    }
   ],
   "source": [
    "# Basic aggregation\n",
    "sales_stats_sql = \"\"\"\n",
    "    SELECT\n",
    "        SUM(sales_amount) AS sales_sum,\n",
    "        AVG(sales_amount) AS sales_mean,\n",
    "        MIN(sales_amount) AS sales_min,\n",
    "        MAX(sales_amount) AS sales_max,\n",
    "        COUNT(*) AS sales_count,\n",
    "        SUM(quantity) AS quantity_sum,\n",
    "        AVG(quantity) AS quantity_mean,\n",
    "        MIN(quantity) AS quantity_min,\n",
    "        MAX(quantity) AS quantity_max\n",
    "    FROM sales\n",
    "\"\"\"\n",
    "print(f\"Sales Statistics: {len(pd.read_sql(sales_stats_sql, conn))}\")\n",
    "display(pd.read_sql(sales_stats_sql, conn))"
   ]
  },
  {
   "cell_type": "code",
   "execution_count": null,
   "id": "7bafd789",
   "metadata": {},
   "outputs": [
    {
     "name": "stdout",
     "output_type": "stream",
     "text": [
      "Category Sales Summary: 5\n"
     ]
    },
    {
     "data": {
      "text/html": [
       "<div>\n",
       "<style scoped>\n",
       "    .dataframe tbody tr th:only-of-type {\n",
       "        vertical-align: middle;\n",
       "    }\n",
       "\n",
       "    .dataframe tbody tr th {\n",
       "        vertical-align: top;\n",
       "    }\n",
       "\n",
       "    .dataframe thead th {\n",
       "        text-align: right;\n",
       "    }\n",
       "</style>\n",
       "<table border=\"1\" class=\"dataframe\">\n",
       "  <thead>\n",
       "    <tr style=\"text-align: right;\">\n",
       "      <th></th>\n",
       "      <th>category</th>\n",
       "      <th>total_sales</th>\n",
       "      <th>average_sales</th>\n",
       "      <th>transaction_count</th>\n",
       "      <th>total_quantity</th>\n",
       "    </tr>\n",
       "  </thead>\n",
       "  <tbody>\n",
       "    <tr>\n",
       "      <th>0</th>\n",
       "      <td>Books</td>\n",
       "      <td>112424.59</td>\n",
       "      <td>504.146143</td>\n",
       "      <td>223</td>\n",
       "      <td>1157</td>\n",
       "    </tr>\n",
       "    <tr>\n",
       "      <th>1</th>\n",
       "      <td>Clothing</td>\n",
       "      <td>112682.26</td>\n",
       "      <td>536.582190</td>\n",
       "      <td>210</td>\n",
       "      <td>992</td>\n",
       "    </tr>\n",
       "    <tr>\n",
       "      <th>2</th>\n",
       "      <td>Electronics</td>\n",
       "      <td>90232.28</td>\n",
       "      <td>479.958936</td>\n",
       "      <td>188</td>\n",
       "      <td>946</td>\n",
       "    </tr>\n",
       "    <tr>\n",
       "      <th>3</th>\n",
       "      <td>Food</td>\n",
       "      <td>85217.49</td>\n",
       "      <td>504.245503</td>\n",
       "      <td>169</td>\n",
       "      <td>847</td>\n",
       "    </tr>\n",
       "    <tr>\n",
       "      <th>4</th>\n",
       "      <td>Home</td>\n",
       "      <td>112101.05</td>\n",
       "      <td>533.814524</td>\n",
       "      <td>210</td>\n",
       "      <td>1093</td>\n",
       "    </tr>\n",
       "  </tbody>\n",
       "</table>\n",
       "</div>"
      ],
      "text/plain": [
       "      category  total_sales  average_sales  transaction_count  total_quantity\n",
       "0        Books    112424.59     504.146143                223            1157\n",
       "1     Clothing    112682.26     536.582190                210             992\n",
       "2  Electronics     90232.28     479.958936                188             946\n",
       "3         Food     85217.49     504.245503                169             847\n",
       "4         Home    112101.05     533.814524                210            1093"
      ]
     },
     "metadata": {},
     "output_type": "display_data"
    }
   ],
   "source": [
    "# Group by category and aggregate\n",
    "category_sales_sql = \"\"\"\n",
    "    SELECT\n",
    "        category,\n",
    "        SUM(sales_amount) AS total_sales,\n",
    "        AVG(sales_amount) AS average_sales,\n",
    "        COUNT(*) AS transaction_count,\n",
    "        SUM(quantity) AS total_quantity\n",
    "    FROM sales\n",
    "    GROUP BY category\n",
    "\"\"\"\n",
    "print(f\"Category Sales Summary: {len(pd.read_sql(category_sales_sql, conn))}\")\n",
    "display(pd.read_sql(category_sales_sql + \"LIMIT 5\", conn))"
   ]
  },
  {
   "cell_type": "code",
   "execution_count": null,
   "id": "452bb0a1",
   "metadata": {},
   "outputs": [
    {
     "data": {
      "application/vnd.plotly.v1+json": {
       "config": {
        "plotlyServerURL": "https://plot.ly"
       },
       "data": [
        {
         "hovertemplate": "Product Category=%{x}<br>Total Sales ($)=%{y}<br>transaction_count=%{text}<extra></extra>",
         "legendgroup": "",
         "marker": {
          "color": "#636efa",
          "pattern": {
           "shape": ""
          }
         },
         "name": "",
         "orientation": "v",
         "showlegend": false,
         "text": {
          "bdata": "AAAAAADga0AAAAAAAEBqQAAAAAAAgGdAAAAAAAAgZUAAAAAAAEBqQA==",
          "dtype": "f8"
         },
         "textposition": "auto",
         "type": "bar",
         "x": [
          "Books",
          "Clothing",
          "Electronics",
          "Food",
          "Home"
         ],
         "xaxis": "x",
         "y": {
          "bdata": "CtejcIly+0CPwvUopIL7QK5H4XqEB/ZAcT0K1xfO9EDNzMzMUF77QA==",
          "dtype": "f8"
         },
         "yaxis": "y"
        }
       ],
       "layout": {
        "barmode": "relative",
        "legend": {
         "tracegroupgap": 0
        },
        "template": {
         "data": {
          "bar": [
           {
            "error_x": {
             "color": "#2a3f5f"
            },
            "error_y": {
             "color": "#2a3f5f"
            },
            "marker": {
             "line": {
              "color": "#E5ECF6",
              "width": 0.5
             },
             "pattern": {
              "fillmode": "overlay",
              "size": 10,
              "solidity": 0.2
             }
            },
            "type": "bar"
           }
          ],
          "barpolar": [
           {
            "marker": {
             "line": {
              "color": "#E5ECF6",
              "width": 0.5
             },
             "pattern": {
              "fillmode": "overlay",
              "size": 10,
              "solidity": 0.2
             }
            },
            "type": "barpolar"
           }
          ],
          "carpet": [
           {
            "aaxis": {
             "endlinecolor": "#2a3f5f",
             "gridcolor": "white",
             "linecolor": "white",
             "minorgridcolor": "white",
             "startlinecolor": "#2a3f5f"
            },
            "baxis": {
             "endlinecolor": "#2a3f5f",
             "gridcolor": "white",
             "linecolor": "white",
             "minorgridcolor": "white",
             "startlinecolor": "#2a3f5f"
            },
            "type": "carpet"
           }
          ],
          "choropleth": [
           {
            "colorbar": {
             "outlinewidth": 0,
             "ticks": ""
            },
            "type": "choropleth"
           }
          ],
          "contour": [
           {
            "colorbar": {
             "outlinewidth": 0,
             "ticks": ""
            },
            "colorscale": [
             [
              0,
              "#0d0887"
             ],
             [
              0.1111111111111111,
              "#46039f"
             ],
             [
              0.2222222222222222,
              "#7201a8"
             ],
             [
              0.3333333333333333,
              "#9c179e"
             ],
             [
              0.4444444444444444,
              "#bd3786"
             ],
             [
              0.5555555555555556,
              "#d8576b"
             ],
             [
              0.6666666666666666,
              "#ed7953"
             ],
             [
              0.7777777777777778,
              "#fb9f3a"
             ],
             [
              0.8888888888888888,
              "#fdca26"
             ],
             [
              1,
              "#f0f921"
             ]
            ],
            "type": "contour"
           }
          ],
          "contourcarpet": [
           {
            "colorbar": {
             "outlinewidth": 0,
             "ticks": ""
            },
            "type": "contourcarpet"
           }
          ],
          "heatmap": [
           {
            "colorbar": {
             "outlinewidth": 0,
             "ticks": ""
            },
            "colorscale": [
             [
              0,
              "#0d0887"
             ],
             [
              0.1111111111111111,
              "#46039f"
             ],
             [
              0.2222222222222222,
              "#7201a8"
             ],
             [
              0.3333333333333333,
              "#9c179e"
             ],
             [
              0.4444444444444444,
              "#bd3786"
             ],
             [
              0.5555555555555556,
              "#d8576b"
             ],
             [
              0.6666666666666666,
              "#ed7953"
             ],
             [
              0.7777777777777778,
              "#fb9f3a"
             ],
             [
              0.8888888888888888,
              "#fdca26"
             ],
             [
              1,
              "#f0f921"
             ]
            ],
            "type": "heatmap"
           }
          ],
          "histogram": [
           {
            "marker": {
             "pattern": {
              "fillmode": "overlay",
              "size": 10,
              "solidity": 0.2
             }
            },
            "type": "histogram"
           }
          ],
          "histogram2d": [
           {
            "colorbar": {
             "outlinewidth": 0,
             "ticks": ""
            },
            "colorscale": [
             [
              0,
              "#0d0887"
             ],
             [
              0.1111111111111111,
              "#46039f"
             ],
             [
              0.2222222222222222,
              "#7201a8"
             ],
             [
              0.3333333333333333,
              "#9c179e"
             ],
             [
              0.4444444444444444,
              "#bd3786"
             ],
             [
              0.5555555555555556,
              "#d8576b"
             ],
             [
              0.6666666666666666,
              "#ed7953"
             ],
             [
              0.7777777777777778,
              "#fb9f3a"
             ],
             [
              0.8888888888888888,
              "#fdca26"
             ],
             [
              1,
              "#f0f921"
             ]
            ],
            "type": "histogram2d"
           }
          ],
          "histogram2dcontour": [
           {
            "colorbar": {
             "outlinewidth": 0,
             "ticks": ""
            },
            "colorscale": [
             [
              0,
              "#0d0887"
             ],
             [
              0.1111111111111111,
              "#46039f"
             ],
             [
              0.2222222222222222,
              "#7201a8"
             ],
             [
              0.3333333333333333,
              "#9c179e"
             ],
             [
              0.4444444444444444,
              "#bd3786"
             ],
             [
              0.5555555555555556,
              "#d8576b"
             ],
             [
              0.6666666666666666,
              "#ed7953"
             ],
             [
              0.7777777777777778,
              "#fb9f3a"
             ],
             [
              0.8888888888888888,
              "#fdca26"
             ],
             [
              1,
              "#f0f921"
             ]
            ],
            "type": "histogram2dcontour"
           }
          ],
          "mesh3d": [
           {
            "colorbar": {
             "outlinewidth": 0,
             "ticks": ""
            },
            "type": "mesh3d"
           }
          ],
          "parcoords": [
           {
            "line": {
             "colorbar": {
              "outlinewidth": 0,
              "ticks": ""
             }
            },
            "type": "parcoords"
           }
          ],
          "pie": [
           {
            "automargin": true,
            "type": "pie"
           }
          ],
          "scatter": [
           {
            "fillpattern": {
             "fillmode": "overlay",
             "size": 10,
             "solidity": 0.2
            },
            "type": "scatter"
           }
          ],
          "scatter3d": [
           {
            "line": {
             "colorbar": {
              "outlinewidth": 0,
              "ticks": ""
             }
            },
            "marker": {
             "colorbar": {
              "outlinewidth": 0,
              "ticks": ""
             }
            },
            "type": "scatter3d"
           }
          ],
          "scattercarpet": [
           {
            "marker": {
             "colorbar": {
              "outlinewidth": 0,
              "ticks": ""
             }
            },
            "type": "scattercarpet"
           }
          ],
          "scattergeo": [
           {
            "marker": {
             "colorbar": {
              "outlinewidth": 0,
              "ticks": ""
             }
            },
            "type": "scattergeo"
           }
          ],
          "scattergl": [
           {
            "marker": {
             "colorbar": {
              "outlinewidth": 0,
              "ticks": ""
             }
            },
            "type": "scattergl"
           }
          ],
          "scattermap": [
           {
            "marker": {
             "colorbar": {
              "outlinewidth": 0,
              "ticks": ""
             }
            },
            "type": "scattermap"
           }
          ],
          "scattermapbox": [
           {
            "marker": {
             "colorbar": {
              "outlinewidth": 0,
              "ticks": ""
             }
            },
            "type": "scattermapbox"
           }
          ],
          "scatterpolar": [
           {
            "marker": {
             "colorbar": {
              "outlinewidth": 0,
              "ticks": ""
             }
            },
            "type": "scatterpolar"
           }
          ],
          "scatterpolargl": [
           {
            "marker": {
             "colorbar": {
              "outlinewidth": 0,
              "ticks": ""
             }
            },
            "type": "scatterpolargl"
           }
          ],
          "scatterternary": [
           {
            "marker": {
             "colorbar": {
              "outlinewidth": 0,
              "ticks": ""
             }
            },
            "type": "scatterternary"
           }
          ],
          "surface": [
           {
            "colorbar": {
             "outlinewidth": 0,
             "ticks": ""
            },
            "colorscale": [
             [
              0,
              "#0d0887"
             ],
             [
              0.1111111111111111,
              "#46039f"
             ],
             [
              0.2222222222222222,
              "#7201a8"
             ],
             [
              0.3333333333333333,
              "#9c179e"
             ],
             [
              0.4444444444444444,
              "#bd3786"
             ],
             [
              0.5555555555555556,
              "#d8576b"
             ],
             [
              0.6666666666666666,
              "#ed7953"
             ],
             [
              0.7777777777777778,
              "#fb9f3a"
             ],
             [
              0.8888888888888888,
              "#fdca26"
             ],
             [
              1,
              "#f0f921"
             ]
            ],
            "type": "surface"
           }
          ],
          "table": [
           {
            "cells": {
             "fill": {
              "color": "#EBF0F8"
             },
             "line": {
              "color": "white"
             }
            },
            "header": {
             "fill": {
              "color": "#C8D4E3"
             },
             "line": {
              "color": "white"
             }
            },
            "type": "table"
           }
          ]
         },
         "layout": {
          "annotationdefaults": {
           "arrowcolor": "#2a3f5f",
           "arrowhead": 0,
           "arrowwidth": 1
          },
          "autotypenumbers": "strict",
          "coloraxis": {
           "colorbar": {
            "outlinewidth": 0,
            "ticks": ""
           }
          },
          "colorscale": {
           "diverging": [
            [
             0,
             "#8e0152"
            ],
            [
             0.1,
             "#c51b7d"
            ],
            [
             0.2,
             "#de77ae"
            ],
            [
             0.3,
             "#f1b6da"
            ],
            [
             0.4,
             "#fde0ef"
            ],
            [
             0.5,
             "#f7f7f7"
            ],
            [
             0.6,
             "#e6f5d0"
            ],
            [
             0.7,
             "#b8e186"
            ],
            [
             0.8,
             "#7fbc41"
            ],
            [
             0.9,
             "#4d9221"
            ],
            [
             1,
             "#276419"
            ]
           ],
           "sequential": [
            [
             0,
             "#0d0887"
            ],
            [
             0.1111111111111111,
             "#46039f"
            ],
            [
             0.2222222222222222,
             "#7201a8"
            ],
            [
             0.3333333333333333,
             "#9c179e"
            ],
            [
             0.4444444444444444,
             "#bd3786"
            ],
            [
             0.5555555555555556,
             "#d8576b"
            ],
            [
             0.6666666666666666,
             "#ed7953"
            ],
            [
             0.7777777777777778,
             "#fb9f3a"
            ],
            [
             0.8888888888888888,
             "#fdca26"
            ],
            [
             1,
             "#f0f921"
            ]
           ],
           "sequentialminus": [
            [
             0,
             "#0d0887"
            ],
            [
             0.1111111111111111,
             "#46039f"
            ],
            [
             0.2222222222222222,
             "#7201a8"
            ],
            [
             0.3333333333333333,
             "#9c179e"
            ],
            [
             0.4444444444444444,
             "#bd3786"
            ],
            [
             0.5555555555555556,
             "#d8576b"
            ],
            [
             0.6666666666666666,
             "#ed7953"
            ],
            [
             0.7777777777777778,
             "#fb9f3a"
            ],
            [
             0.8888888888888888,
             "#fdca26"
            ],
            [
             1,
             "#f0f921"
            ]
           ]
          },
          "colorway": [
           "#636efa",
           "#EF553B",
           "#00cc96",
           "#ab63fa",
           "#FFA15A",
           "#19d3f3",
           "#FF6692",
           "#B6E880",
           "#FF97FF",
           "#FECB52"
          ],
          "font": {
           "color": "#2a3f5f"
          },
          "geo": {
           "bgcolor": "white",
           "lakecolor": "white",
           "landcolor": "#E5ECF6",
           "showlakes": true,
           "showland": true,
           "subunitcolor": "white"
          },
          "hoverlabel": {
           "align": "left"
          },
          "hovermode": "closest",
          "mapbox": {
           "style": "light"
          },
          "paper_bgcolor": "white",
          "plot_bgcolor": "#E5ECF6",
          "polar": {
           "angularaxis": {
            "gridcolor": "white",
            "linecolor": "white",
            "ticks": ""
           },
           "bgcolor": "#E5ECF6",
           "radialaxis": {
            "gridcolor": "white",
            "linecolor": "white",
            "ticks": ""
           }
          },
          "scene": {
           "xaxis": {
            "backgroundcolor": "#E5ECF6",
            "gridcolor": "white",
            "gridwidth": 2,
            "linecolor": "white",
            "showbackground": true,
            "ticks": "",
            "zerolinecolor": "white"
           },
           "yaxis": {
            "backgroundcolor": "#E5ECF6",
            "gridcolor": "white",
            "gridwidth": 2,
            "linecolor": "white",
            "showbackground": true,
            "ticks": "",
            "zerolinecolor": "white"
           },
           "zaxis": {
            "backgroundcolor": "#E5ECF6",
            "gridcolor": "white",
            "gridwidth": 2,
            "linecolor": "white",
            "showbackground": true,
            "ticks": "",
            "zerolinecolor": "white"
           }
          },
          "shapedefaults": {
           "line": {
            "color": "#2a3f5f"
           }
          },
          "ternary": {
           "aaxis": {
            "gridcolor": "white",
            "linecolor": "white",
            "ticks": ""
           },
           "baxis": {
            "gridcolor": "white",
            "linecolor": "white",
            "ticks": ""
           },
           "bgcolor": "#E5ECF6",
           "caxis": {
            "gridcolor": "white",
            "linecolor": "white",
            "ticks": ""
           }
          },
          "title": {
           "x": 0.05
          },
          "xaxis": {
           "automargin": true,
           "gridcolor": "white",
           "linecolor": "white",
           "ticks": "",
           "title": {
            "standoff": 15
           },
           "zerolinecolor": "white",
           "zerolinewidth": 2
          },
          "yaxis": {
           "automargin": true,
           "gridcolor": "white",
           "linecolor": "white",
           "ticks": "",
           "title": {
            "standoff": 15
           },
           "zerolinecolor": "white",
           "zerolinewidth": 2
          }
         }
        },
        "title": {
         "text": "Total Sales by Category"
        },
        "xaxis": {
         "anchor": "y",
         "domain": [
          0,
          1
         ],
         "title": {
          "text": "Product Category"
         }
        },
        "yaxis": {
         "anchor": "x",
         "domain": [
          0,
          1
         ],
         "title": {
          "text": "Total Sales ($)"
         }
        }
       }
      }
     },
     "metadata": {},
     "output_type": "display_data"
    }
   ],
   "source": [
    "# Plot the results\n",
    "fig: go.Figure = px.bar(\n",
    "    pd.read_sql(category_sales_sql, conn),\n",
    "    x=\"category\",\n",
    "    y=\"total_sales\",\n",
    "    title=\"Total Sales by Category\",\n",
    "    text=\"transaction_count\",\n",
    "    labels={\"total_sales\": \"Total Sales ($)\", \"category\": \"Product Category\"},\n",
    ")\n",
    "fig.show()"
   ]
  },
  {
   "cell_type": "markdown",
   "id": "7512e10c",
   "metadata": {},
   "source": [
    "### 3. Joining"
   ]
  },
  {
   "cell_type": "code",
   "execution_count": null,
   "id": "fcfc4d4c",
   "metadata": {},
   "outputs": [
    {
     "name": "stdout",
     "output_type": "stream",
     "text": [
      "Sales with Product Data: 1000\n"
     ]
    },
    {
     "data": {
      "text/html": [
       "<div>\n",
       "<style scoped>\n",
       "    .dataframe tbody tr th:only-of-type {\n",
       "        vertical-align: middle;\n",
       "    }\n",
       "\n",
       "    .dataframe tbody tr th {\n",
       "        vertical-align: top;\n",
       "    }\n",
       "\n",
       "    .dataframe thead th {\n",
       "        text-align: right;\n",
       "    }\n",
       "</style>\n",
       "<table border=\"1\" class=\"dataframe\">\n",
       "  <thead>\n",
       "    <tr style=\"text-align: right;\">\n",
       "      <th></th>\n",
       "      <th>date</th>\n",
       "      <th>customer_id</th>\n",
       "      <th>product_id</th>\n",
       "      <th>category</th>\n",
       "      <th>sales_amount</th>\n",
       "      <th>quantity</th>\n",
       "      <th>product_name</th>\n",
       "      <th>price</th>\n",
       "    </tr>\n",
       "  </thead>\n",
       "  <tbody>\n",
       "    <tr>\n",
       "      <th>0</th>\n",
       "      <td>2023-01-01 00:00:00</td>\n",
       "      <td>52</td>\n",
       "      <td>34</td>\n",
       "      <td>Books</td>\n",
       "      <td>319.23</td>\n",
       "      <td>2</td>\n",
       "      <td>Product 34</td>\n",
       "      <td>301.18</td>\n",
       "    </tr>\n",
       "    <tr>\n",
       "      <th>1</th>\n",
       "      <td>2023-01-02 00:00:00</td>\n",
       "      <td>93</td>\n",
       "      <td>45</td>\n",
       "      <td>Food</td>\n",
       "      <td>646.25</td>\n",
       "      <td>6</td>\n",
       "      <td>Product 45</td>\n",
       "      <td>376.07</td>\n",
       "    </tr>\n",
       "    <tr>\n",
       "      <th>2</th>\n",
       "      <td>2023-01-03 00:00:00</td>\n",
       "      <td>15</td>\n",
       "      <td>6</td>\n",
       "      <td>Food</td>\n",
       "      <td>203.88</td>\n",
       "      <td>2</td>\n",
       "      <td>Product 6</td>\n",
       "      <td>211.48</td>\n",
       "    </tr>\n",
       "    <tr>\n",
       "      <th>3</th>\n",
       "      <td>2023-01-04 00:00:00</td>\n",
       "      <td>72</td>\n",
       "      <td>37</td>\n",
       "      <td>Books</td>\n",
       "      <td>897.99</td>\n",
       "      <td>3</td>\n",
       "      <td>Product 37</td>\n",
       "      <td>291.93</td>\n",
       "    </tr>\n",
       "    <tr>\n",
       "      <th>4</th>\n",
       "      <td>2023-01-05 00:00:00</td>\n",
       "      <td>61</td>\n",
       "      <td>33</td>\n",
       "      <td>Books</td>\n",
       "      <td>524.99</td>\n",
       "      <td>4</td>\n",
       "      <td>Product 33</td>\n",
       "      <td>341.48</td>\n",
       "    </tr>\n",
       "  </tbody>\n",
       "</table>\n",
       "</div>"
      ],
      "text/plain": [
       "                  date  customer_id  product_id category  sales_amount  \\\n",
       "0  2023-01-01 00:00:00           52          34    Books        319.23   \n",
       "1  2023-01-02 00:00:00           93          45     Food        646.25   \n",
       "2  2023-01-03 00:00:00           15           6     Food        203.88   \n",
       "3  2023-01-04 00:00:00           72          37    Books        897.99   \n",
       "4  2023-01-05 00:00:00           61          33    Books        524.99   \n",
       "\n",
       "   quantity product_name   price  \n",
       "0         2   Product 34  301.18  \n",
       "1         6   Product 45  376.07  \n",
       "2         2    Product 6  211.48  \n",
       "3         3   Product 37  291.93  \n",
       "4         4   Product 33  341.48  "
      ]
     },
     "metadata": {},
     "output_type": "display_data"
    }
   ],
   "source": [
    "# Join sales with product data\n",
    "sales_with_product_sql = \"\"\"\n",
    "    SELECT s.*, p.product_name, p.price\n",
    "    FROM sales s\n",
    "    LEFT JOIN product p ON s.product_id = p.product_id\n",
    "\"\"\"\n",
    "print(f\"Sales with Product Data: {len(pd.read_sql(sales_with_product_sql, conn))}\")\n",
    "display(pd.read_sql(sales_with_product_sql + \"LIMIT 5\", conn))"
   ]
  },
  {
   "cell_type": "code",
   "execution_count": null,
   "id": "a2e1fdc2",
   "metadata": {},
   "outputs": [
    {
     "name": "stdout",
     "output_type": "stream",
     "text": [
      "Complete Sales Data: 1000\n"
     ]
    },
    {
     "data": {
      "text/html": [
       "<div>\n",
       "<style scoped>\n",
       "    .dataframe tbody tr th:only-of-type {\n",
       "        vertical-align: middle;\n",
       "    }\n",
       "\n",
       "    .dataframe tbody tr th {\n",
       "        vertical-align: top;\n",
       "    }\n",
       "\n",
       "    .dataframe thead th {\n",
       "        text-align: right;\n",
       "    }\n",
       "</style>\n",
       "<table border=\"1\" class=\"dataframe\">\n",
       "  <thead>\n",
       "    <tr style=\"text-align: right;\">\n",
       "      <th></th>\n",
       "      <th>date</th>\n",
       "      <th>customer_id</th>\n",
       "      <th>product_id</th>\n",
       "      <th>category</th>\n",
       "      <th>sales_amount</th>\n",
       "      <th>quantity</th>\n",
       "      <th>product_name</th>\n",
       "      <th>price</th>\n",
       "      <th>customer_name</th>\n",
       "      <th>city</th>\n",
       "      <th>state</th>\n",
       "    </tr>\n",
       "  </thead>\n",
       "  <tbody>\n",
       "    <tr>\n",
       "      <th>0</th>\n",
       "      <td>2023-01-01 00:00:00</td>\n",
       "      <td>52</td>\n",
       "      <td>34</td>\n",
       "      <td>Books</td>\n",
       "      <td>319.23</td>\n",
       "      <td>2</td>\n",
       "      <td>Product 34</td>\n",
       "      <td>301.18</td>\n",
       "      <td>Customer 52</td>\n",
       "      <td>Houston</td>\n",
       "      <td>CA</td>\n",
       "    </tr>\n",
       "    <tr>\n",
       "      <th>1</th>\n",
       "      <td>2023-01-02 00:00:00</td>\n",
       "      <td>93</td>\n",
       "      <td>45</td>\n",
       "      <td>Food</td>\n",
       "      <td>646.25</td>\n",
       "      <td>6</td>\n",
       "      <td>Product 45</td>\n",
       "      <td>376.07</td>\n",
       "      <td>Customer 93</td>\n",
       "      <td>New York</td>\n",
       "      <td>CA</td>\n",
       "    </tr>\n",
       "    <tr>\n",
       "      <th>2</th>\n",
       "      <td>2023-01-03 00:00:00</td>\n",
       "      <td>15</td>\n",
       "      <td>6</td>\n",
       "      <td>Food</td>\n",
       "      <td>203.88</td>\n",
       "      <td>2</td>\n",
       "      <td>Product 6</td>\n",
       "      <td>211.48</td>\n",
       "      <td>Customer 15</td>\n",
       "      <td>Chicago</td>\n",
       "      <td>IL</td>\n",
       "    </tr>\n",
       "    <tr>\n",
       "      <th>3</th>\n",
       "      <td>2023-01-04 00:00:00</td>\n",
       "      <td>72</td>\n",
       "      <td>37</td>\n",
       "      <td>Books</td>\n",
       "      <td>897.99</td>\n",
       "      <td>3</td>\n",
       "      <td>Product 37</td>\n",
       "      <td>291.93</td>\n",
       "      <td>Customer 72</td>\n",
       "      <td>New York</td>\n",
       "      <td>CA</td>\n",
       "    </tr>\n",
       "    <tr>\n",
       "      <th>4</th>\n",
       "      <td>2023-01-05 00:00:00</td>\n",
       "      <td>61</td>\n",
       "      <td>33</td>\n",
       "      <td>Books</td>\n",
       "      <td>524.99</td>\n",
       "      <td>4</td>\n",
       "      <td>Product 33</td>\n",
       "      <td>341.48</td>\n",
       "      <td>Customer 61</td>\n",
       "      <td>Houston</td>\n",
       "      <td>AZ</td>\n",
       "    </tr>\n",
       "  </tbody>\n",
       "</table>\n",
       "</div>"
      ],
      "text/plain": [
       "                  date  customer_id  product_id category  sales_amount  \\\n",
       "0  2023-01-01 00:00:00           52          34    Books        319.23   \n",
       "1  2023-01-02 00:00:00           93          45     Food        646.25   \n",
       "2  2023-01-03 00:00:00           15           6     Food        203.88   \n",
       "3  2023-01-04 00:00:00           72          37    Books        897.99   \n",
       "4  2023-01-05 00:00:00           61          33    Books        524.99   \n",
       "\n",
       "   quantity product_name   price customer_name      city state  \n",
       "0         2   Product 34  301.18   Customer 52   Houston    CA  \n",
       "1         6   Product 45  376.07   Customer 93  New York    CA  \n",
       "2         2    Product 6  211.48   Customer 15   Chicago    IL  \n",
       "3         3   Product 37  291.93   Customer 72  New York    CA  \n",
       "4         4   Product 33  341.48   Customer 61   Houston    AZ  "
      ]
     },
     "metadata": {},
     "output_type": "display_data"
    }
   ],
   "source": [
    "# Join with customer information to get a complete view\n",
    "complete_sales_sql = \"\"\"\n",
    "    SELECT\n",
    "        s.*,\n",
    "        p.product_name,\n",
    "        p.price,\n",
    "        c.customer_name,\n",
    "        c.city,\n",
    "        c.state\n",
    "    FROM sales s\n",
    "    LEFT JOIN product p ON s.product_id = p.product_id\n",
    "    LEFT JOIN customer c ON s.customer_id = c.customer_id\n",
    "\"\"\"\n",
    "print(f\"Complete Sales Data: {len(pd.read_sql(complete_sales_sql, conn))}\")\n",
    "display(pd.read_sql(complete_sales_sql + \"LIMIT 5\", conn))"
   ]
  },
  {
   "cell_type": "code",
   "execution_count": null,
   "id": "80c9658c",
   "metadata": {},
   "outputs": [
    {
     "name": "stdout",
     "output_type": "stream",
     "text": [
      "Revenue Comparison: 1000\n"
     ]
    },
    {
     "data": {
      "text/html": [
       "<div>\n",
       "<style scoped>\n",
       "    .dataframe tbody tr th:only-of-type {\n",
       "        vertical-align: middle;\n",
       "    }\n",
       "\n",
       "    .dataframe tbody tr th {\n",
       "        vertical-align: top;\n",
       "    }\n",
       "\n",
       "    .dataframe thead th {\n",
       "        text-align: right;\n",
       "    }\n",
       "</style>\n",
       "<table border=\"1\" class=\"dataframe\">\n",
       "  <thead>\n",
       "    <tr style=\"text-align: right;\">\n",
       "      <th></th>\n",
       "      <th>sales_amount</th>\n",
       "      <th>price</th>\n",
       "      <th>quantity</th>\n",
       "      <th>calculated_revenue</th>\n",
       "      <th>price_difference</th>\n",
       "    </tr>\n",
       "  </thead>\n",
       "  <tbody>\n",
       "    <tr>\n",
       "      <th>0</th>\n",
       "      <td>319.23</td>\n",
       "      <td>301.18</td>\n",
       "      <td>2</td>\n",
       "      <td>602.36</td>\n",
       "      <td>-283.13</td>\n",
       "    </tr>\n",
       "    <tr>\n",
       "      <th>1</th>\n",
       "      <td>646.25</td>\n",
       "      <td>376.07</td>\n",
       "      <td>6</td>\n",
       "      <td>2256.42</td>\n",
       "      <td>-1610.17</td>\n",
       "    </tr>\n",
       "    <tr>\n",
       "      <th>2</th>\n",
       "      <td>203.88</td>\n",
       "      <td>211.48</td>\n",
       "      <td>2</td>\n",
       "      <td>422.96</td>\n",
       "      <td>-219.08</td>\n",
       "    </tr>\n",
       "    <tr>\n",
       "      <th>3</th>\n",
       "      <td>897.99</td>\n",
       "      <td>291.93</td>\n",
       "      <td>3</td>\n",
       "      <td>875.79</td>\n",
       "      <td>22.20</td>\n",
       "    </tr>\n",
       "    <tr>\n",
       "      <th>4</th>\n",
       "      <td>524.99</td>\n",
       "      <td>341.48</td>\n",
       "      <td>4</td>\n",
       "      <td>1365.92</td>\n",
       "      <td>-840.93</td>\n",
       "    </tr>\n",
       "  </tbody>\n",
       "</table>\n",
       "</div>"
      ],
      "text/plain": [
       "   sales_amount   price  quantity  calculated_revenue  price_difference\n",
       "0        319.23  301.18         2              602.36           -283.13\n",
       "1        646.25  376.07         6             2256.42          -1610.17\n",
       "2        203.88  211.48         2              422.96           -219.08\n",
       "3        897.99  291.93         3              875.79             22.20\n",
       "4        524.99  341.48         4             1365.92           -840.93"
      ]
     },
     "metadata": {},
     "output_type": "display_data"
    }
   ],
   "source": [
    "# Calculate revenue and price difference\n",
    "revenue_comparison_sql = \"\"\"\n",
    "    SELECT\n",
    "        s.sales_amount,\n",
    "        p.price,\n",
    "        s.quantity,\n",
    "        (p.price * s.quantity) AS calculated_revenue,\n",
    "        (s.sales_amount - (p.price * s.quantity)) AS price_difference\n",
    "    FROM sales s\n",
    "    LEFT JOIN product p ON s.product_id = p.product_id\n",
    "\"\"\"\n",
    "print(f\"Revenue Comparison: {len(pd.read_sql(revenue_comparison_sql, conn))}\")\n",
    "display(pd.read_sql(revenue_comparison_sql + \"LIMIT 5\", conn))"
   ]
  },
  {
   "cell_type": "markdown",
   "id": "bd2b4f4a",
   "metadata": {},
   "source": [
    "### 4. Window Functions"
   ]
  },
  {
   "cell_type": "code",
   "execution_count": null,
   "id": "56c389e9",
   "metadata": {},
   "outputs": [
    {
     "name": "stdout",
     "output_type": "stream",
     "text": [
      "Daily Sales Data: 1000\n"
     ]
    },
    {
     "data": {
      "text/html": [
       "<div>\n",
       "<style scoped>\n",
       "    .dataframe tbody tr th:only-of-type {\n",
       "        vertical-align: middle;\n",
       "    }\n",
       "\n",
       "    .dataframe tbody tr th {\n",
       "        vertical-align: top;\n",
       "    }\n",
       "\n",
       "    .dataframe thead th {\n",
       "        text-align: right;\n",
       "    }\n",
       "</style>\n",
       "<table border=\"1\" class=\"dataframe\">\n",
       "  <thead>\n",
       "    <tr style=\"text-align: right;\">\n",
       "      <th></th>\n",
       "      <th>date</th>\n",
       "      <th>total_sales</th>\n",
       "    </tr>\n",
       "  </thead>\n",
       "  <tbody>\n",
       "    <tr>\n",
       "      <th>0</th>\n",
       "      <td>2023-01-01 00:00:00</td>\n",
       "      <td>319.23</td>\n",
       "    </tr>\n",
       "    <tr>\n",
       "      <th>1</th>\n",
       "      <td>2023-01-02 00:00:00</td>\n",
       "      <td>646.25</td>\n",
       "    </tr>\n",
       "    <tr>\n",
       "      <th>2</th>\n",
       "      <td>2023-01-03 00:00:00</td>\n",
       "      <td>203.88</td>\n",
       "    </tr>\n",
       "    <tr>\n",
       "      <th>3</th>\n",
       "      <td>2023-01-04 00:00:00</td>\n",
       "      <td>897.99</td>\n",
       "    </tr>\n",
       "    <tr>\n",
       "      <th>4</th>\n",
       "      <td>2023-01-05 00:00:00</td>\n",
       "      <td>524.99</td>\n",
       "    </tr>\n",
       "  </tbody>\n",
       "</table>\n",
       "</div>"
      ],
      "text/plain": [
       "                  date  total_sales\n",
       "0  2023-01-01 00:00:00       319.23\n",
       "1  2023-01-02 00:00:00       646.25\n",
       "2  2023-01-03 00:00:00       203.88\n",
       "3  2023-01-04 00:00:00       897.99\n",
       "4  2023-01-05 00:00:00       524.99"
      ]
     },
     "metadata": {},
     "output_type": "display_data"
    }
   ],
   "source": [
    "# Time-based window function\n",
    "daily_sales_sql = \"\"\"\n",
    "    SELECT\n",
    "        date,\n",
    "        SUM(sales_amount) AS total_sales\n",
    "    FROM sales\n",
    "    GROUP BY date\n",
    "    ORDER BY date\n",
    "\"\"\"\n",
    "print(f\"Daily Sales Data: {len(pd.read_sql(daily_sales_sql, conn))}\")\n",
    "display(pd.read_sql(daily_sales_sql + \"LIMIT 5\", conn))"
   ]
  },
  {
   "cell_type": "code",
   "execution_count": null,
   "id": "a8c24ea5",
   "metadata": {},
   "outputs": [
    {
     "name": "stdout",
     "output_type": "stream",
     "text": [
      "Window Functions: 1000\n"
     ]
    },
    {
     "data": {
      "text/html": [
       "<div>\n",
       "<style scoped>\n",
       "    .dataframe tbody tr th:only-of-type {\n",
       "        vertical-align: middle;\n",
       "    }\n",
       "\n",
       "    .dataframe tbody tr th {\n",
       "        vertical-align: top;\n",
       "    }\n",
       "\n",
       "    .dataframe thead th {\n",
       "        text-align: right;\n",
       "    }\n",
       "</style>\n",
       "<table border=\"1\" class=\"dataframe\">\n",
       "  <thead>\n",
       "    <tr style=\"text-align: right;\">\n",
       "      <th></th>\n",
       "      <th>sale_date</th>\n",
       "      <th>sales_amount</th>\n",
       "      <th>rolling_7d_avg</th>\n",
       "      <th>previous_day_sales</th>\n",
       "      <th>next_day_sales</th>\n",
       "      <th>day_over_day_change</th>\n",
       "    </tr>\n",
       "  </thead>\n",
       "  <tbody>\n",
       "    <tr>\n",
       "      <th>0</th>\n",
       "      <td>2023-01-01 00:00:00</td>\n",
       "      <td>319.23</td>\n",
       "      <td>319.230000</td>\n",
       "      <td>NaN</td>\n",
       "      <td>646.25</td>\n",
       "      <td>NaN</td>\n",
       "    </tr>\n",
       "    <tr>\n",
       "      <th>1</th>\n",
       "      <td>2023-01-02 00:00:00</td>\n",
       "      <td>646.25</td>\n",
       "      <td>482.740000</td>\n",
       "      <td>319.23</td>\n",
       "      <td>203.88</td>\n",
       "      <td>327.02</td>\n",
       "    </tr>\n",
       "    <tr>\n",
       "      <th>2</th>\n",
       "      <td>2023-01-03 00:00:00</td>\n",
       "      <td>203.88</td>\n",
       "      <td>389.786667</td>\n",
       "      <td>646.25</td>\n",
       "      <td>897.99</td>\n",
       "      <td>-442.37</td>\n",
       "    </tr>\n",
       "    <tr>\n",
       "      <th>3</th>\n",
       "      <td>2023-01-04 00:00:00</td>\n",
       "      <td>897.99</td>\n",
       "      <td>516.837500</td>\n",
       "      <td>203.88</td>\n",
       "      <td>524.99</td>\n",
       "      <td>694.11</td>\n",
       "    </tr>\n",
       "    <tr>\n",
       "      <th>4</th>\n",
       "      <td>2023-01-05 00:00:00</td>\n",
       "      <td>524.99</td>\n",
       "      <td>518.468000</td>\n",
       "      <td>897.99</td>\n",
       "      <td>453.13</td>\n",
       "      <td>-373.00</td>\n",
       "    </tr>\n",
       "  </tbody>\n",
       "</table>\n",
       "</div>"
      ],
      "text/plain": [
       "             sale_date  sales_amount  rolling_7d_avg  previous_day_sales  \\\n",
       "0  2023-01-01 00:00:00        319.23      319.230000                 NaN   \n",
       "1  2023-01-02 00:00:00        646.25      482.740000              319.23   \n",
       "2  2023-01-03 00:00:00        203.88      389.786667              646.25   \n",
       "3  2023-01-04 00:00:00        897.99      516.837500              203.88   \n",
       "4  2023-01-05 00:00:00        524.99      518.468000              897.99   \n",
       "\n",
       "   next_day_sales  day_over_day_change  \n",
       "0          646.25                  NaN  \n",
       "1          203.88               327.02  \n",
       "2          897.99              -442.37  \n",
       "3          524.99               694.11  \n",
       "4          453.13              -373.00  "
      ]
     },
     "metadata": {},
     "output_type": "display_data"
    }
   ],
   "source": [
    "# Window functions for lead and lag\n",
    "window_sql = \"\"\"\n",
    "    SELECT\n",
    "        date AS sale_date,\n",
    "        SUM(sales_amount) AS sales_amount,\n",
    "        AVG(sales_amount) OVER (ORDER BY date ROWS BETWEEN 6 PRECEDING AND CURRENT ROW) AS rolling_7d_avg,\n",
    "        LAG(SUM(sales_amount)) OVER (ORDER BY date) AS previous_day_sales,\n",
    "        LEAD(SUM(sales_amount)) OVER (ORDER BY date) AS next_day_sales,\n",
    "        SUM(sales_amount) - LAG(SUM(sales_amount)) OVER (ORDER BY date) AS day_over_day_change\n",
    "    FROM sales\n",
    "    GROUP BY date\n",
    "    ORDER BY date\n",
    "\"\"\"\n",
    "window_df: pd.DataFrame = pd.read_sql(window_sql, conn)\n",
    "print(f\"Window Functions: {len(window_df)}\")\n",
    "display(pd.read_sql(window_sql + \"LIMIT 5\", conn))"
   ]
  },
  {
   "cell_type": "code",
   "execution_count": null,
   "id": "861b404f",
   "metadata": {},
   "outputs": [
    {
     "data": {
      "application/vnd.plotly.v1+json": {
       "config": {
        "plotlyServerURL": "https://plot.ly"
       },
       "data": [
        {
         "mode": "lines",
         "name": "Daily Sales",
         "type": "scatter",
         "x": [
          "2023-01-01 00:00:00",
          "2023-01-02 00:00:00",
          "2023-01-03 00:00:00",
          "2023-01-04 00:00:00",
          "2023-01-05 00:00:00",
          "2023-01-06 00:00:00",
          "2023-01-07 00:00:00",
          "2023-01-08 00:00:00",
          "2023-01-09 00:00:00",
          "2023-01-10 00:00:00",
          "2023-01-11 00:00:00",
          "2023-01-12 00:00:00",
          "2023-01-13 00:00:00",
          "2023-01-14 00:00:00",
          "2023-01-15 00:00:00",
          "2023-01-16 00:00:00",
          "2023-01-17 00:00:00",
          "2023-01-18 00:00:00",
          "2023-01-19 00:00:00",
          "2023-01-20 00:00:00",
          "2023-01-21 00:00:00",
          "2023-01-22 00:00:00",
          "2023-01-23 00:00:00",
          "2023-01-24 00:00:00",
          "2023-01-25 00:00:00",
          "2023-01-26 00:00:00",
          "2023-01-27 00:00:00",
          "2023-01-28 00:00:00",
          "2023-01-29 00:00:00",
          "2023-01-30 00:00:00",
          "2023-01-31 00:00:00",
          "2023-02-01 00:00:00",
          "2023-02-02 00:00:00",
          "2023-02-03 00:00:00",
          "2023-02-04 00:00:00",
          "2023-02-05 00:00:00",
          "2023-02-06 00:00:00",
          "2023-02-07 00:00:00",
          "2023-02-08 00:00:00",
          "2023-02-09 00:00:00",
          "2023-02-10 00:00:00",
          "2023-02-11 00:00:00",
          "2023-02-12 00:00:00",
          "2023-02-13 00:00:00",
          "2023-02-14 00:00:00",
          "2023-02-15 00:00:00",
          "2023-02-16 00:00:00",
          "2023-02-17 00:00:00",
          "2023-02-18 00:00:00",
          "2023-02-19 00:00:00",
          "2023-02-20 00:00:00",
          "2023-02-21 00:00:00",
          "2023-02-22 00:00:00",
          "2023-02-23 00:00:00",
          "2023-02-24 00:00:00",
          "2023-02-25 00:00:00",
          "2023-02-26 00:00:00",
          "2023-02-27 00:00:00",
          "2023-02-28 00:00:00",
          "2023-03-01 00:00:00",
          "2023-03-02 00:00:00",
          "2023-03-03 00:00:00",
          "2023-03-04 00:00:00",
          "2023-03-05 00:00:00",
          "2023-03-06 00:00:00",
          "2023-03-07 00:00:00",
          "2023-03-08 00:00:00",
          "2023-03-09 00:00:00",
          "2023-03-10 00:00:00",
          "2023-03-11 00:00:00",
          "2023-03-12 00:00:00",
          "2023-03-13 00:00:00",
          "2023-03-14 00:00:00",
          "2023-03-15 00:00:00",
          "2023-03-16 00:00:00",
          "2023-03-17 00:00:00",
          "2023-03-18 00:00:00",
          "2023-03-19 00:00:00",
          "2023-03-20 00:00:00",
          "2023-03-21 00:00:00",
          "2023-03-22 00:00:00",
          "2023-03-23 00:00:00",
          "2023-03-24 00:00:00",
          "2023-03-25 00:00:00",
          "2023-03-26 00:00:00",
          "2023-03-27 00:00:00",
          "2023-03-28 00:00:00",
          "2023-03-29 00:00:00",
          "2023-03-30 00:00:00",
          "2023-03-31 00:00:00",
          "2023-04-01 00:00:00",
          "2023-04-02 00:00:00",
          "2023-04-03 00:00:00",
          "2023-04-04 00:00:00",
          "2023-04-05 00:00:00",
          "2023-04-06 00:00:00",
          "2023-04-07 00:00:00",
          "2023-04-08 00:00:00",
          "2023-04-09 00:00:00",
          "2023-04-10 00:00:00",
          "2023-04-11 00:00:00",
          "2023-04-12 00:00:00",
          "2023-04-13 00:00:00",
          "2023-04-14 00:00:00",
          "2023-04-15 00:00:00",
          "2023-04-16 00:00:00",
          "2023-04-17 00:00:00",
          "2023-04-18 00:00:00",
          "2023-04-19 00:00:00",
          "2023-04-20 00:00:00",
          "2023-04-21 00:00:00",
          "2023-04-22 00:00:00",
          "2023-04-23 00:00:00",
          "2023-04-24 00:00:00",
          "2023-04-25 00:00:00",
          "2023-04-26 00:00:00",
          "2023-04-27 00:00:00",
          "2023-04-28 00:00:00",
          "2023-04-29 00:00:00",
          "2023-04-30 00:00:00",
          "2023-05-01 00:00:00",
          "2023-05-02 00:00:00",
          "2023-05-03 00:00:00",
          "2023-05-04 00:00:00",
          "2023-05-05 00:00:00",
          "2023-05-06 00:00:00",
          "2023-05-07 00:00:00",
          "2023-05-08 00:00:00",
          "2023-05-09 00:00:00",
          "2023-05-10 00:00:00",
          "2023-05-11 00:00:00",
          "2023-05-12 00:00:00",
          "2023-05-13 00:00:00",
          "2023-05-14 00:00:00",
          "2023-05-15 00:00:00",
          "2023-05-16 00:00:00",
          "2023-05-17 00:00:00",
          "2023-05-18 00:00:00",
          "2023-05-19 00:00:00",
          "2023-05-20 00:00:00",
          "2023-05-21 00:00:00",
          "2023-05-22 00:00:00",
          "2023-05-23 00:00:00",
          "2023-05-24 00:00:00",
          "2023-05-25 00:00:00",
          "2023-05-26 00:00:00",
          "2023-05-27 00:00:00",
          "2023-05-28 00:00:00",
          "2023-05-29 00:00:00",
          "2023-05-30 00:00:00",
          "2023-05-31 00:00:00",
          "2023-06-01 00:00:00",
          "2023-06-02 00:00:00",
          "2023-06-03 00:00:00",
          "2023-06-04 00:00:00",
          "2023-06-05 00:00:00",
          "2023-06-06 00:00:00",
          "2023-06-07 00:00:00",
          "2023-06-08 00:00:00",
          "2023-06-09 00:00:00",
          "2023-06-10 00:00:00",
          "2023-06-11 00:00:00",
          "2023-06-12 00:00:00",
          "2023-06-13 00:00:00",
          "2023-06-14 00:00:00",
          "2023-06-15 00:00:00",
          "2023-06-16 00:00:00",
          "2023-06-17 00:00:00",
          "2023-06-18 00:00:00",
          "2023-06-19 00:00:00",
          "2023-06-20 00:00:00",
          "2023-06-21 00:00:00",
          "2023-06-22 00:00:00",
          "2023-06-23 00:00:00",
          "2023-06-24 00:00:00",
          "2023-06-25 00:00:00",
          "2023-06-26 00:00:00",
          "2023-06-27 00:00:00",
          "2023-06-28 00:00:00",
          "2023-06-29 00:00:00",
          "2023-06-30 00:00:00",
          "2023-07-01 00:00:00",
          "2023-07-02 00:00:00",
          "2023-07-03 00:00:00",
          "2023-07-04 00:00:00",
          "2023-07-05 00:00:00",
          "2023-07-06 00:00:00",
          "2023-07-07 00:00:00",
          "2023-07-08 00:00:00",
          "2023-07-09 00:00:00",
          "2023-07-10 00:00:00",
          "2023-07-11 00:00:00",
          "2023-07-12 00:00:00",
          "2023-07-13 00:00:00",
          "2023-07-14 00:00:00",
          "2023-07-15 00:00:00",
          "2023-07-16 00:00:00",
          "2023-07-17 00:00:00",
          "2023-07-18 00:00:00",
          "2023-07-19 00:00:00",
          "2023-07-20 00:00:00",
          "2023-07-21 00:00:00",
          "2023-07-22 00:00:00",
          "2023-07-23 00:00:00",
          "2023-07-24 00:00:00",
          "2023-07-25 00:00:00",
          "2023-07-26 00:00:00",
          "2023-07-27 00:00:00",
          "2023-07-28 00:00:00",
          "2023-07-29 00:00:00",
          "2023-07-30 00:00:00",
          "2023-07-31 00:00:00",
          "2023-08-01 00:00:00",
          "2023-08-02 00:00:00",
          "2023-08-03 00:00:00",
          "2023-08-04 00:00:00",
          "2023-08-05 00:00:00",
          "2023-08-06 00:00:00",
          "2023-08-07 00:00:00",
          "2023-08-08 00:00:00",
          "2023-08-09 00:00:00",
          "2023-08-10 00:00:00",
          "2023-08-11 00:00:00",
          "2023-08-12 00:00:00",
          "2023-08-13 00:00:00",
          "2023-08-14 00:00:00",
          "2023-08-15 00:00:00",
          "2023-08-16 00:00:00",
          "2023-08-17 00:00:00",
          "2023-08-18 00:00:00",
          "2023-08-19 00:00:00",
          "2023-08-20 00:00:00",
          "2023-08-21 00:00:00",
          "2023-08-22 00:00:00",
          "2023-08-23 00:00:00",
          "2023-08-24 00:00:00",
          "2023-08-25 00:00:00",
          "2023-08-26 00:00:00",
          "2023-08-27 00:00:00",
          "2023-08-28 00:00:00",
          "2023-08-29 00:00:00",
          "2023-08-30 00:00:00",
          "2023-08-31 00:00:00",
          "2023-09-01 00:00:00",
          "2023-09-02 00:00:00",
          "2023-09-03 00:00:00",
          "2023-09-04 00:00:00",
          "2023-09-05 00:00:00",
          "2023-09-06 00:00:00",
          "2023-09-07 00:00:00",
          "2023-09-08 00:00:00",
          "2023-09-09 00:00:00",
          "2023-09-10 00:00:00",
          "2023-09-11 00:00:00",
          "2023-09-12 00:00:00",
          "2023-09-13 00:00:00",
          "2023-09-14 00:00:00",
          "2023-09-15 00:00:00",
          "2023-09-16 00:00:00",
          "2023-09-17 00:00:00",
          "2023-09-18 00:00:00",
          "2023-09-19 00:00:00",
          "2023-09-20 00:00:00",
          "2023-09-21 00:00:00",
          "2023-09-22 00:00:00",
          "2023-09-23 00:00:00",
          "2023-09-24 00:00:00",
          "2023-09-25 00:00:00",
          "2023-09-26 00:00:00",
          "2023-09-27 00:00:00",
          "2023-09-28 00:00:00",
          "2023-09-29 00:00:00",
          "2023-09-30 00:00:00",
          "2023-10-01 00:00:00",
          "2023-10-02 00:00:00",
          "2023-10-03 00:00:00",
          "2023-10-04 00:00:00",
          "2023-10-05 00:00:00",
          "2023-10-06 00:00:00",
          "2023-10-07 00:00:00",
          "2023-10-08 00:00:00",
          "2023-10-09 00:00:00",
          "2023-10-10 00:00:00",
          "2023-10-11 00:00:00",
          "2023-10-12 00:00:00",
          "2023-10-13 00:00:00",
          "2023-10-14 00:00:00",
          "2023-10-15 00:00:00",
          "2023-10-16 00:00:00",
          "2023-10-17 00:00:00",
          "2023-10-18 00:00:00",
          "2023-10-19 00:00:00",
          "2023-10-20 00:00:00",
          "2023-10-21 00:00:00",
          "2023-10-22 00:00:00",
          "2023-10-23 00:00:00",
          "2023-10-24 00:00:00",
          "2023-10-25 00:00:00",
          "2023-10-26 00:00:00",
          "2023-10-27 00:00:00",
          "2023-10-28 00:00:00",
          "2023-10-29 00:00:00",
          "2023-10-30 00:00:00",
          "2023-10-31 00:00:00",
          "2023-11-01 00:00:00",
          "2023-11-02 00:00:00",
          "2023-11-03 00:00:00",
          "2023-11-04 00:00:00",
          "2023-11-05 00:00:00",
          "2023-11-06 00:00:00",
          "2023-11-07 00:00:00",
          "2023-11-08 00:00:00",
          "2023-11-09 00:00:00",
          "2023-11-10 00:00:00",
          "2023-11-11 00:00:00",
          "2023-11-12 00:00:00",
          "2023-11-13 00:00:00",
          "2023-11-14 00:00:00",
          "2023-11-15 00:00:00",
          "2023-11-16 00:00:00",
          "2023-11-17 00:00:00",
          "2023-11-18 00:00:00",
          "2023-11-19 00:00:00",
          "2023-11-20 00:00:00",
          "2023-11-21 00:00:00",
          "2023-11-22 00:00:00",
          "2023-11-23 00:00:00",
          "2023-11-24 00:00:00",
          "2023-11-25 00:00:00",
          "2023-11-26 00:00:00",
          "2023-11-27 00:00:00",
          "2023-11-28 00:00:00",
          "2023-11-29 00:00:00",
          "2023-11-30 00:00:00",
          "2023-12-01 00:00:00",
          "2023-12-02 00:00:00",
          "2023-12-03 00:00:00",
          "2023-12-04 00:00:00",
          "2023-12-05 00:00:00",
          "2023-12-06 00:00:00",
          "2023-12-07 00:00:00",
          "2023-12-08 00:00:00",
          "2023-12-09 00:00:00",
          "2023-12-10 00:00:00",
          "2023-12-11 00:00:00",
          "2023-12-12 00:00:00",
          "2023-12-13 00:00:00",
          "2023-12-14 00:00:00",
          "2023-12-15 00:00:00",
          "2023-12-16 00:00:00",
          "2023-12-17 00:00:00",
          "2023-12-18 00:00:00",
          "2023-12-19 00:00:00",
          "2023-12-20 00:00:00",
          "2023-12-21 00:00:00",
          "2023-12-22 00:00:00",
          "2023-12-23 00:00:00",
          "2023-12-24 00:00:00",
          "2023-12-25 00:00:00",
          "2023-12-26 00:00:00",
          "2023-12-27 00:00:00",
          "2023-12-28 00:00:00",
          "2023-12-29 00:00:00",
          "2023-12-30 00:00:00",
          "2023-12-31 00:00:00",
          "2024-01-01 00:00:00",
          "2024-01-02 00:00:00",
          "2024-01-03 00:00:00",
          "2024-01-04 00:00:00",
          "2024-01-05 00:00:00",
          "2024-01-06 00:00:00",
          "2024-01-07 00:00:00",
          "2024-01-08 00:00:00",
          "2024-01-09 00:00:00",
          "2024-01-10 00:00:00",
          "2024-01-11 00:00:00",
          "2024-01-12 00:00:00",
          "2024-01-13 00:00:00",
          "2024-01-14 00:00:00",
          "2024-01-15 00:00:00",
          "2024-01-16 00:00:00",
          "2024-01-17 00:00:00",
          "2024-01-18 00:00:00",
          "2024-01-19 00:00:00",
          "2024-01-20 00:00:00",
          "2024-01-21 00:00:00",
          "2024-01-22 00:00:00",
          "2024-01-23 00:00:00",
          "2024-01-24 00:00:00",
          "2024-01-25 00:00:00",
          "2024-01-26 00:00:00",
          "2024-01-27 00:00:00",
          "2024-01-28 00:00:00",
          "2024-01-29 00:00:00",
          "2024-01-30 00:00:00",
          "2024-01-31 00:00:00",
          "2024-02-01 00:00:00",
          "2024-02-02 00:00:00",
          "2024-02-03 00:00:00",
          "2024-02-04 00:00:00",
          "2024-02-05 00:00:00",
          "2024-02-06 00:00:00",
          "2024-02-07 00:00:00",
          "2024-02-08 00:00:00",
          "2024-02-09 00:00:00",
          "2024-02-10 00:00:00",
          "2024-02-11 00:00:00",
          "2024-02-12 00:00:00",
          "2024-02-13 00:00:00",
          "2024-02-14 00:00:00",
          "2024-02-15 00:00:00",
          "2024-02-16 00:00:00",
          "2024-02-17 00:00:00",
          "2024-02-18 00:00:00",
          "2024-02-19 00:00:00",
          "2024-02-20 00:00:00",
          "2024-02-21 00:00:00",
          "2024-02-22 00:00:00",
          "2024-02-23 00:00:00",
          "2024-02-24 00:00:00",
          "2024-02-25 00:00:00",
          "2024-02-26 00:00:00",
          "2024-02-27 00:00:00",
          "2024-02-28 00:00:00",
          "2024-02-29 00:00:00",
          "2024-03-01 00:00:00",
          "2024-03-02 00:00:00",
          "2024-03-03 00:00:00",
          "2024-03-04 00:00:00",
          "2024-03-05 00:00:00",
          "2024-03-06 00:00:00",
          "2024-03-07 00:00:00",
          "2024-03-08 00:00:00",
          "2024-03-09 00:00:00",
          "2024-03-10 00:00:00",
          "2024-03-11 00:00:00",
          "2024-03-12 00:00:00",
          "2024-03-13 00:00:00",
          "2024-03-14 00:00:00",
          "2024-03-15 00:00:00",
          "2024-03-16 00:00:00",
          "2024-03-17 00:00:00",
          "2024-03-18 00:00:00",
          "2024-03-19 00:00:00",
          "2024-03-20 00:00:00",
          "2024-03-21 00:00:00",
          "2024-03-22 00:00:00",
          "2024-03-23 00:00:00",
          "2024-03-24 00:00:00",
          "2024-03-25 00:00:00",
          "2024-03-26 00:00:00",
          "2024-03-27 00:00:00",
          "2024-03-28 00:00:00",
          "2024-03-29 00:00:00",
          "2024-03-30 00:00:00",
          "2024-03-31 00:00:00",
          "2024-04-01 00:00:00",
          "2024-04-02 00:00:00",
          "2024-04-03 00:00:00",
          "2024-04-04 00:00:00",
          "2024-04-05 00:00:00",
          "2024-04-06 00:00:00",
          "2024-04-07 00:00:00",
          "2024-04-08 00:00:00",
          "2024-04-09 00:00:00",
          "2024-04-10 00:00:00",
          "2024-04-11 00:00:00",
          "2024-04-12 00:00:00",
          "2024-04-13 00:00:00",
          "2024-04-14 00:00:00",
          "2024-04-15 00:00:00",
          "2024-04-16 00:00:00",
          "2024-04-17 00:00:00",
          "2024-04-18 00:00:00",
          "2024-04-19 00:00:00",
          "2024-04-20 00:00:00",
          "2024-04-21 00:00:00",
          "2024-04-22 00:00:00",
          "2024-04-23 00:00:00",
          "2024-04-24 00:00:00",
          "2024-04-25 00:00:00",
          "2024-04-26 00:00:00",
          "2024-04-27 00:00:00",
          "2024-04-28 00:00:00",
          "2024-04-29 00:00:00",
          "2024-04-30 00:00:00",
          "2024-05-01 00:00:00",
          "2024-05-02 00:00:00",
          "2024-05-03 00:00:00",
          "2024-05-04 00:00:00",
          "2024-05-05 00:00:00",
          "2024-05-06 00:00:00",
          "2024-05-07 00:00:00",
          "2024-05-08 00:00:00",
          "2024-05-09 00:00:00",
          "2024-05-10 00:00:00",
          "2024-05-11 00:00:00",
          "2024-05-12 00:00:00",
          "2024-05-13 00:00:00",
          "2024-05-14 00:00:00",
          "2024-05-15 00:00:00",
          "2024-05-16 00:00:00",
          "2024-05-17 00:00:00",
          "2024-05-18 00:00:00",
          "2024-05-19 00:00:00",
          "2024-05-20 00:00:00",
          "2024-05-21 00:00:00",
          "2024-05-22 00:00:00",
          "2024-05-23 00:00:00",
          "2024-05-24 00:00:00",
          "2024-05-25 00:00:00",
          "2024-05-26 00:00:00",
          "2024-05-27 00:00:00",
          "2024-05-28 00:00:00",
          "2024-05-29 00:00:00",
          "2024-05-30 00:00:00",
          "2024-05-31 00:00:00",
          "2024-06-01 00:00:00",
          "2024-06-02 00:00:00",
          "2024-06-03 00:00:00",
          "2024-06-04 00:00:00",
          "2024-06-05 00:00:00",
          "2024-06-06 00:00:00",
          "2024-06-07 00:00:00",
          "2024-06-08 00:00:00",
          "2024-06-09 00:00:00",
          "2024-06-10 00:00:00",
          "2024-06-11 00:00:00",
          "2024-06-12 00:00:00",
          "2024-06-13 00:00:00",
          "2024-06-14 00:00:00",
          "2024-06-15 00:00:00",
          "2024-06-16 00:00:00",
          "2024-06-17 00:00:00",
          "2024-06-18 00:00:00",
          "2024-06-19 00:00:00",
          "2024-06-20 00:00:00",
          "2024-06-21 00:00:00",
          "2024-06-22 00:00:00",
          "2024-06-23 00:00:00",
          "2024-06-24 00:00:00",
          "2024-06-25 00:00:00",
          "2024-06-26 00:00:00",
          "2024-06-27 00:00:00",
          "2024-06-28 00:00:00",
          "2024-06-29 00:00:00",
          "2024-06-30 00:00:00",
          "2024-07-01 00:00:00",
          "2024-07-02 00:00:00",
          "2024-07-03 00:00:00",
          "2024-07-04 00:00:00",
          "2024-07-05 00:00:00",
          "2024-07-06 00:00:00",
          "2024-07-07 00:00:00",
          "2024-07-08 00:00:00",
          "2024-07-09 00:00:00",
          "2024-07-10 00:00:00",
          "2024-07-11 00:00:00",
          "2024-07-12 00:00:00",
          "2024-07-13 00:00:00",
          "2024-07-14 00:00:00",
          "2024-07-15 00:00:00",
          "2024-07-16 00:00:00",
          "2024-07-17 00:00:00",
          "2024-07-18 00:00:00",
          "2024-07-19 00:00:00",
          "2024-07-20 00:00:00",
          "2024-07-21 00:00:00",
          "2024-07-22 00:00:00",
          "2024-07-23 00:00:00",
          "2024-07-24 00:00:00",
          "2024-07-25 00:00:00",
          "2024-07-26 00:00:00",
          "2024-07-27 00:00:00",
          "2024-07-28 00:00:00",
          "2024-07-29 00:00:00",
          "2024-07-30 00:00:00",
          "2024-07-31 00:00:00",
          "2024-08-01 00:00:00",
          "2024-08-02 00:00:00",
          "2024-08-03 00:00:00",
          "2024-08-04 00:00:00",
          "2024-08-05 00:00:00",
          "2024-08-06 00:00:00",
          "2024-08-07 00:00:00",
          "2024-08-08 00:00:00",
          "2024-08-09 00:00:00",
          "2024-08-10 00:00:00",
          "2024-08-11 00:00:00",
          "2024-08-12 00:00:00",
          "2024-08-13 00:00:00",
          "2024-08-14 00:00:00",
          "2024-08-15 00:00:00",
          "2024-08-16 00:00:00",
          "2024-08-17 00:00:00",
          "2024-08-18 00:00:00",
          "2024-08-19 00:00:00",
          "2024-08-20 00:00:00",
          "2024-08-21 00:00:00",
          "2024-08-22 00:00:00",
          "2024-08-23 00:00:00",
          "2024-08-24 00:00:00",
          "2024-08-25 00:00:00",
          "2024-08-26 00:00:00",
          "2024-08-27 00:00:00",
          "2024-08-28 00:00:00",
          "2024-08-29 00:00:00",
          "2024-08-30 00:00:00",
          "2024-08-31 00:00:00",
          "2024-09-01 00:00:00",
          "2024-09-02 00:00:00",
          "2024-09-03 00:00:00",
          "2024-09-04 00:00:00",
          "2024-09-05 00:00:00",
          "2024-09-06 00:00:00",
          "2024-09-07 00:00:00",
          "2024-09-08 00:00:00",
          "2024-09-09 00:00:00",
          "2024-09-10 00:00:00",
          "2024-09-11 00:00:00",
          "2024-09-12 00:00:00",
          "2024-09-13 00:00:00",
          "2024-09-14 00:00:00",
          "2024-09-15 00:00:00",
          "2024-09-16 00:00:00",
          "2024-09-17 00:00:00",
          "2024-09-18 00:00:00",
          "2024-09-19 00:00:00",
          "2024-09-20 00:00:00",
          "2024-09-21 00:00:00",
          "2024-09-22 00:00:00",
          "2024-09-23 00:00:00",
          "2024-09-24 00:00:00",
          "2024-09-25 00:00:00",
          "2024-09-26 00:00:00",
          "2024-09-27 00:00:00",
          "2024-09-28 00:00:00",
          "2024-09-29 00:00:00",
          "2024-09-30 00:00:00",
          "2024-10-01 00:00:00",
          "2024-10-02 00:00:00",
          "2024-10-03 00:00:00",
          "2024-10-04 00:00:00",
          "2024-10-05 00:00:00",
          "2024-10-06 00:00:00",
          "2024-10-07 00:00:00",
          "2024-10-08 00:00:00",
          "2024-10-09 00:00:00",
          "2024-10-10 00:00:00",
          "2024-10-11 00:00:00",
          "2024-10-12 00:00:00",
          "2024-10-13 00:00:00",
          "2024-10-14 00:00:00",
          "2024-10-15 00:00:00",
          "2024-10-16 00:00:00",
          "2024-10-17 00:00:00",
          "2024-10-18 00:00:00",
          "2024-10-19 00:00:00",
          "2024-10-20 00:00:00",
          "2024-10-21 00:00:00",
          "2024-10-22 00:00:00",
          "2024-10-23 00:00:00",
          "2024-10-24 00:00:00",
          "2024-10-25 00:00:00",
          "2024-10-26 00:00:00",
          "2024-10-27 00:00:00",
          "2024-10-28 00:00:00",
          "2024-10-29 00:00:00",
          "2024-10-30 00:00:00",
          "2024-10-31 00:00:00",
          "2024-11-01 00:00:00",
          "2024-11-02 00:00:00",
          "2024-11-03 00:00:00",
          "2024-11-04 00:00:00",
          "2024-11-05 00:00:00",
          "2024-11-06 00:00:00",
          "2024-11-07 00:00:00",
          "2024-11-08 00:00:00",
          "2024-11-09 00:00:00",
          "2024-11-10 00:00:00",
          "2024-11-11 00:00:00",
          "2024-11-12 00:00:00",
          "2024-11-13 00:00:00",
          "2024-11-14 00:00:00",
          "2024-11-15 00:00:00",
          "2024-11-16 00:00:00",
          "2024-11-17 00:00:00",
          "2024-11-18 00:00:00",
          "2024-11-19 00:00:00",
          "2024-11-20 00:00:00",
          "2024-11-21 00:00:00",
          "2024-11-22 00:00:00",
          "2024-11-23 00:00:00",
          "2024-11-24 00:00:00",
          "2024-11-25 00:00:00",
          "2024-11-26 00:00:00",
          "2024-11-27 00:00:00",
          "2024-11-28 00:00:00",
          "2024-11-29 00:00:00",
          "2024-11-30 00:00:00",
          "2024-12-01 00:00:00",
          "2024-12-02 00:00:00",
          "2024-12-03 00:00:00",
          "2024-12-04 00:00:00",
          "2024-12-05 00:00:00",
          "2024-12-06 00:00:00",
          "2024-12-07 00:00:00",
          "2024-12-08 00:00:00",
          "2024-12-09 00:00:00",
          "2024-12-10 00:00:00",
          "2024-12-11 00:00:00",
          "2024-12-12 00:00:00",
          "2024-12-13 00:00:00",
          "2024-12-14 00:00:00",
          "2024-12-15 00:00:00",
          "2024-12-16 00:00:00",
          "2024-12-17 00:00:00",
          "2024-12-18 00:00:00",
          "2024-12-19 00:00:00",
          "2024-12-20 00:00:00",
          "2024-12-21 00:00:00",
          "2024-12-22 00:00:00",
          "2024-12-23 00:00:00",
          "2024-12-24 00:00:00",
          "2024-12-25 00:00:00",
          "2024-12-26 00:00:00",
          "2024-12-27 00:00:00",
          "2024-12-28 00:00:00",
          "2024-12-29 00:00:00",
          "2024-12-30 00:00:00",
          "2024-12-31 00:00:00",
          "2025-01-01 00:00:00",
          "2025-01-02 00:00:00",
          "2025-01-03 00:00:00",
          "2025-01-04 00:00:00",
          "2025-01-05 00:00:00",
          "2025-01-06 00:00:00",
          "2025-01-07 00:00:00",
          "2025-01-08 00:00:00",
          "2025-01-09 00:00:00",
          "2025-01-10 00:00:00",
          "2025-01-11 00:00:00",
          "2025-01-12 00:00:00",
          "2025-01-13 00:00:00",
          "2025-01-14 00:00:00",
          "2025-01-15 00:00:00",
          "2025-01-16 00:00:00",
          "2025-01-17 00:00:00",
          "2025-01-18 00:00:00",
          "2025-01-19 00:00:00",
          "2025-01-20 00:00:00",
          "2025-01-21 00:00:00",
          "2025-01-22 00:00:00",
          "2025-01-23 00:00:00",
          "2025-01-24 00:00:00",
          "2025-01-25 00:00:00",
          "2025-01-26 00:00:00",
          "2025-01-27 00:00:00",
          "2025-01-28 00:00:00",
          "2025-01-29 00:00:00",
          "2025-01-30 00:00:00",
          "2025-01-31 00:00:00",
          "2025-02-01 00:00:00",
          "2025-02-02 00:00:00",
          "2025-02-03 00:00:00",
          "2025-02-04 00:00:00",
          "2025-02-05 00:00:00",
          "2025-02-06 00:00:00",
          "2025-02-07 00:00:00",
          "2025-02-08 00:00:00",
          "2025-02-09 00:00:00",
          "2025-02-10 00:00:00",
          "2025-02-11 00:00:00",
          "2025-02-12 00:00:00",
          "2025-02-13 00:00:00",
          "2025-02-14 00:00:00",
          "2025-02-15 00:00:00",
          "2025-02-16 00:00:00",
          "2025-02-17 00:00:00",
          "2025-02-18 00:00:00",
          "2025-02-19 00:00:00",
          "2025-02-20 00:00:00",
          "2025-02-21 00:00:00",
          "2025-02-22 00:00:00",
          "2025-02-23 00:00:00",
          "2025-02-24 00:00:00",
          "2025-02-25 00:00:00",
          "2025-02-26 00:00:00",
          "2025-02-27 00:00:00",
          "2025-02-28 00:00:00",
          "2025-03-01 00:00:00",
          "2025-03-02 00:00:00",
          "2025-03-03 00:00:00",
          "2025-03-04 00:00:00",
          "2025-03-05 00:00:00",
          "2025-03-06 00:00:00",
          "2025-03-07 00:00:00",
          "2025-03-08 00:00:00",
          "2025-03-09 00:00:00",
          "2025-03-10 00:00:00",
          "2025-03-11 00:00:00",
          "2025-03-12 00:00:00",
          "2025-03-13 00:00:00",
          "2025-03-14 00:00:00",
          "2025-03-15 00:00:00",
          "2025-03-16 00:00:00",
          "2025-03-17 00:00:00",
          "2025-03-18 00:00:00",
          "2025-03-19 00:00:00",
          "2025-03-20 00:00:00",
          "2025-03-21 00:00:00",
          "2025-03-22 00:00:00",
          "2025-03-23 00:00:00",
          "2025-03-24 00:00:00",
          "2025-03-25 00:00:00",
          "2025-03-26 00:00:00",
          "2025-03-27 00:00:00",
          "2025-03-28 00:00:00",
          "2025-03-29 00:00:00",
          "2025-03-30 00:00:00",
          "2025-03-31 00:00:00",
          "2025-04-01 00:00:00",
          "2025-04-02 00:00:00",
          "2025-04-03 00:00:00",
          "2025-04-04 00:00:00",
          "2025-04-05 00:00:00",
          "2025-04-06 00:00:00",
          "2025-04-07 00:00:00",
          "2025-04-08 00:00:00",
          "2025-04-09 00:00:00",
          "2025-04-10 00:00:00",
          "2025-04-11 00:00:00",
          "2025-04-12 00:00:00",
          "2025-04-13 00:00:00",
          "2025-04-14 00:00:00",
          "2025-04-15 00:00:00",
          "2025-04-16 00:00:00",
          "2025-04-17 00:00:00",
          "2025-04-18 00:00:00",
          "2025-04-19 00:00:00",
          "2025-04-20 00:00:00",
          "2025-04-21 00:00:00",
          "2025-04-22 00:00:00",
          "2025-04-23 00:00:00",
          "2025-04-24 00:00:00",
          "2025-04-25 00:00:00",
          "2025-04-26 00:00:00",
          "2025-04-27 00:00:00",
          "2025-04-28 00:00:00",
          "2025-04-29 00:00:00",
          "2025-04-30 00:00:00",
          "2025-05-01 00:00:00",
          "2025-05-02 00:00:00",
          "2025-05-03 00:00:00",
          "2025-05-04 00:00:00",
          "2025-05-05 00:00:00",
          "2025-05-06 00:00:00",
          "2025-05-07 00:00:00",
          "2025-05-08 00:00:00",
          "2025-05-09 00:00:00",
          "2025-05-10 00:00:00",
          "2025-05-11 00:00:00",
          "2025-05-12 00:00:00",
          "2025-05-13 00:00:00",
          "2025-05-14 00:00:00",
          "2025-05-15 00:00:00",
          "2025-05-16 00:00:00",
          "2025-05-17 00:00:00",
          "2025-05-18 00:00:00",
          "2025-05-19 00:00:00",
          "2025-05-20 00:00:00",
          "2025-05-21 00:00:00",
          "2025-05-22 00:00:00",
          "2025-05-23 00:00:00",
          "2025-05-24 00:00:00",
          "2025-05-25 00:00:00",
          "2025-05-26 00:00:00",
          "2025-05-27 00:00:00",
          "2025-05-28 00:00:00",
          "2025-05-29 00:00:00",
          "2025-05-30 00:00:00",
          "2025-05-31 00:00:00",
          "2025-06-01 00:00:00",
          "2025-06-02 00:00:00",
          "2025-06-03 00:00:00",
          "2025-06-04 00:00:00",
          "2025-06-05 00:00:00",
          "2025-06-06 00:00:00",
          "2025-06-07 00:00:00",
          "2025-06-08 00:00:00",
          "2025-06-09 00:00:00",
          "2025-06-10 00:00:00",
          "2025-06-11 00:00:00",
          "2025-06-12 00:00:00",
          "2025-06-13 00:00:00",
          "2025-06-14 00:00:00",
          "2025-06-15 00:00:00",
          "2025-06-16 00:00:00",
          "2025-06-17 00:00:00",
          "2025-06-18 00:00:00",
          "2025-06-19 00:00:00",
          "2025-06-20 00:00:00",
          "2025-06-21 00:00:00",
          "2025-06-22 00:00:00",
          "2025-06-23 00:00:00",
          "2025-06-24 00:00:00",
          "2025-06-25 00:00:00",
          "2025-06-26 00:00:00",
          "2025-06-27 00:00:00",
          "2025-06-28 00:00:00",
          "2025-06-29 00:00:00",
          "2025-06-30 00:00:00",
          "2025-07-01 00:00:00",
          "2025-07-02 00:00:00",
          "2025-07-03 00:00:00",
          "2025-07-04 00:00:00",
          "2025-07-05 00:00:00",
          "2025-07-06 00:00:00",
          "2025-07-07 00:00:00",
          "2025-07-08 00:00:00",
          "2025-07-09 00:00:00",
          "2025-07-10 00:00:00",
          "2025-07-11 00:00:00",
          "2025-07-12 00:00:00",
          "2025-07-13 00:00:00",
          "2025-07-14 00:00:00",
          "2025-07-15 00:00:00",
          "2025-07-16 00:00:00",
          "2025-07-17 00:00:00",
          "2025-07-18 00:00:00",
          "2025-07-19 00:00:00",
          "2025-07-20 00:00:00",
          "2025-07-21 00:00:00",
          "2025-07-22 00:00:00",
          "2025-07-23 00:00:00",
          "2025-07-24 00:00:00",
          "2025-07-25 00:00:00",
          "2025-07-26 00:00:00",
          "2025-07-27 00:00:00",
          "2025-07-28 00:00:00",
          "2025-07-29 00:00:00",
          "2025-07-30 00:00:00",
          "2025-07-31 00:00:00",
          "2025-08-01 00:00:00",
          "2025-08-02 00:00:00",
          "2025-08-03 00:00:00",
          "2025-08-04 00:00:00",
          "2025-08-05 00:00:00",
          "2025-08-06 00:00:00",
          "2025-08-07 00:00:00",
          "2025-08-08 00:00:00",
          "2025-08-09 00:00:00",
          "2025-08-10 00:00:00",
          "2025-08-11 00:00:00",
          "2025-08-12 00:00:00",
          "2025-08-13 00:00:00",
          "2025-08-14 00:00:00",
          "2025-08-15 00:00:00",
          "2025-08-16 00:00:00",
          "2025-08-17 00:00:00",
          "2025-08-18 00:00:00",
          "2025-08-19 00:00:00",
          "2025-08-20 00:00:00",
          "2025-08-21 00:00:00",
          "2025-08-22 00:00:00",
          "2025-08-23 00:00:00",
          "2025-08-24 00:00:00",
          "2025-08-25 00:00:00",
          "2025-08-26 00:00:00",
          "2025-08-27 00:00:00",
          "2025-08-28 00:00:00",
          "2025-08-29 00:00:00",
          "2025-08-30 00:00:00",
          "2025-08-31 00:00:00",
          "2025-09-01 00:00:00",
          "2025-09-02 00:00:00",
          "2025-09-03 00:00:00",
          "2025-09-04 00:00:00",
          "2025-09-05 00:00:00",
          "2025-09-06 00:00:00",
          "2025-09-07 00:00:00",
          "2025-09-08 00:00:00",
          "2025-09-09 00:00:00",
          "2025-09-10 00:00:00",
          "2025-09-11 00:00:00",
          "2025-09-12 00:00:00",
          "2025-09-13 00:00:00",
          "2025-09-14 00:00:00",
          "2025-09-15 00:00:00",
          "2025-09-16 00:00:00",
          "2025-09-17 00:00:00",
          "2025-09-18 00:00:00",
          "2025-09-19 00:00:00",
          "2025-09-20 00:00:00",
          "2025-09-21 00:00:00",
          "2025-09-22 00:00:00",
          "2025-09-23 00:00:00",
          "2025-09-24 00:00:00",
          "2025-09-25 00:00:00",
          "2025-09-26 00:00:00"
         ],
         "y": {
          "bdata": "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",
          "dtype": "f8"
         }
        },
        {
         "line": {
          "width": 3
         },
         "mode": "lines",
         "name": "7-Day Moving Average",
         "type": "scatter",
         "x": [
          "2023-01-01 00:00:00",
          "2023-01-02 00:00:00",
          "2023-01-03 00:00:00",
          "2023-01-04 00:00:00",
          "2023-01-05 00:00:00",
          "2023-01-06 00:00:00",
          "2023-01-07 00:00:00",
          "2023-01-08 00:00:00",
          "2023-01-09 00:00:00",
          "2023-01-10 00:00:00",
          "2023-01-11 00:00:00",
          "2023-01-12 00:00:00",
          "2023-01-13 00:00:00",
          "2023-01-14 00:00:00",
          "2023-01-15 00:00:00",
          "2023-01-16 00:00:00",
          "2023-01-17 00:00:00",
          "2023-01-18 00:00:00",
          "2023-01-19 00:00:00",
          "2023-01-20 00:00:00",
          "2023-01-21 00:00:00",
          "2023-01-22 00:00:00",
          "2023-01-23 00:00:00",
          "2023-01-24 00:00:00",
          "2023-01-25 00:00:00",
          "2023-01-26 00:00:00",
          "2023-01-27 00:00:00",
          "2023-01-28 00:00:00",
          "2023-01-29 00:00:00",
          "2023-01-30 00:00:00",
          "2023-01-31 00:00:00",
          "2023-02-01 00:00:00",
          "2023-02-02 00:00:00",
          "2023-02-03 00:00:00",
          "2023-02-04 00:00:00",
          "2023-02-05 00:00:00",
          "2023-02-06 00:00:00",
          "2023-02-07 00:00:00",
          "2023-02-08 00:00:00",
          "2023-02-09 00:00:00",
          "2023-02-10 00:00:00",
          "2023-02-11 00:00:00",
          "2023-02-12 00:00:00",
          "2023-02-13 00:00:00",
          "2023-02-14 00:00:00",
          "2023-02-15 00:00:00",
          "2023-02-16 00:00:00",
          "2023-02-17 00:00:00",
          "2023-02-18 00:00:00",
          "2023-02-19 00:00:00",
          "2023-02-20 00:00:00",
          "2023-02-21 00:00:00",
          "2023-02-22 00:00:00",
          "2023-02-23 00:00:00",
          "2023-02-24 00:00:00",
          "2023-02-25 00:00:00",
          "2023-02-26 00:00:00",
          "2023-02-27 00:00:00",
          "2023-02-28 00:00:00",
          "2023-03-01 00:00:00",
          "2023-03-02 00:00:00",
          "2023-03-03 00:00:00",
          "2023-03-04 00:00:00",
          "2023-03-05 00:00:00",
          "2023-03-06 00:00:00",
          "2023-03-07 00:00:00",
          "2023-03-08 00:00:00",
          "2023-03-09 00:00:00",
          "2023-03-10 00:00:00",
          "2023-03-11 00:00:00",
          "2023-03-12 00:00:00",
          "2023-03-13 00:00:00",
          "2023-03-14 00:00:00",
          "2023-03-15 00:00:00",
          "2023-03-16 00:00:00",
          "2023-03-17 00:00:00",
          "2023-03-18 00:00:00",
          "2023-03-19 00:00:00",
          "2023-03-20 00:00:00",
          "2023-03-21 00:00:00",
          "2023-03-22 00:00:00",
          "2023-03-23 00:00:00",
          "2023-03-24 00:00:00",
          "2023-03-25 00:00:00",
          "2023-03-26 00:00:00",
          "2023-03-27 00:00:00",
          "2023-03-28 00:00:00",
          "2023-03-29 00:00:00",
          "2023-03-30 00:00:00",
          "2023-03-31 00:00:00",
          "2023-04-01 00:00:00",
          "2023-04-02 00:00:00",
          "2023-04-03 00:00:00",
          "2023-04-04 00:00:00",
          "2023-04-05 00:00:00",
          "2023-04-06 00:00:00",
          "2023-04-07 00:00:00",
          "2023-04-08 00:00:00",
          "2023-04-09 00:00:00",
          "2023-04-10 00:00:00",
          "2023-04-11 00:00:00",
          "2023-04-12 00:00:00",
          "2023-04-13 00:00:00",
          "2023-04-14 00:00:00",
          "2023-04-15 00:00:00",
          "2023-04-16 00:00:00",
          "2023-04-17 00:00:00",
          "2023-04-18 00:00:00",
          "2023-04-19 00:00:00",
          "2023-04-20 00:00:00",
          "2023-04-21 00:00:00",
          "2023-04-22 00:00:00",
          "2023-04-23 00:00:00",
          "2023-04-24 00:00:00",
          "2023-04-25 00:00:00",
          "2023-04-26 00:00:00",
          "2023-04-27 00:00:00",
          "2023-04-28 00:00:00",
          "2023-04-29 00:00:00",
          "2023-04-30 00:00:00",
          "2023-05-01 00:00:00",
          "2023-05-02 00:00:00",
          "2023-05-03 00:00:00",
          "2023-05-04 00:00:00",
          "2023-05-05 00:00:00",
          "2023-05-06 00:00:00",
          "2023-05-07 00:00:00",
          "2023-05-08 00:00:00",
          "2023-05-09 00:00:00",
          "2023-05-10 00:00:00",
          "2023-05-11 00:00:00",
          "2023-05-12 00:00:00",
          "2023-05-13 00:00:00",
          "2023-05-14 00:00:00",
          "2023-05-15 00:00:00",
          "2023-05-16 00:00:00",
          "2023-05-17 00:00:00",
          "2023-05-18 00:00:00",
          "2023-05-19 00:00:00",
          "2023-05-20 00:00:00",
          "2023-05-21 00:00:00",
          "2023-05-22 00:00:00",
          "2023-05-23 00:00:00",
          "2023-05-24 00:00:00",
          "2023-05-25 00:00:00",
          "2023-05-26 00:00:00",
          "2023-05-27 00:00:00",
          "2023-05-28 00:00:00",
          "2023-05-29 00:00:00",
          "2023-05-30 00:00:00",
          "2023-05-31 00:00:00",
          "2023-06-01 00:00:00",
          "2023-06-02 00:00:00",
          "2023-06-03 00:00:00",
          "2023-06-04 00:00:00",
          "2023-06-05 00:00:00",
          "2023-06-06 00:00:00",
          "2023-06-07 00:00:00",
          "2023-06-08 00:00:00",
          "2023-06-09 00:00:00",
          "2023-06-10 00:00:00",
          "2023-06-11 00:00:00",
          "2023-06-12 00:00:00",
          "2023-06-13 00:00:00",
          "2023-06-14 00:00:00",
          "2023-06-15 00:00:00",
          "2023-06-16 00:00:00",
          "2023-06-17 00:00:00",
          "2023-06-18 00:00:00",
          "2023-06-19 00:00:00",
          "2023-06-20 00:00:00",
          "2023-06-21 00:00:00",
          "2023-06-22 00:00:00",
          "2023-06-23 00:00:00",
          "2023-06-24 00:00:00",
          "2023-06-25 00:00:00",
          "2023-06-26 00:00:00",
          "2023-06-27 00:00:00",
          "2023-06-28 00:00:00",
          "2023-06-29 00:00:00",
          "2023-06-30 00:00:00",
          "2023-07-01 00:00:00",
          "2023-07-02 00:00:00",
          "2023-07-03 00:00:00",
          "2023-07-04 00:00:00",
          "2023-07-05 00:00:00",
          "2023-07-06 00:00:00",
          "2023-07-07 00:00:00",
          "2023-07-08 00:00:00",
          "2023-07-09 00:00:00",
          "2023-07-10 00:00:00",
          "2023-07-11 00:00:00",
          "2023-07-12 00:00:00",
          "2023-07-13 00:00:00",
          "2023-07-14 00:00:00",
          "2023-07-15 00:00:00",
          "2023-07-16 00:00:00",
          "2023-07-17 00:00:00",
          "2023-07-18 00:00:00",
          "2023-07-19 00:00:00",
          "2023-07-20 00:00:00",
          "2023-07-21 00:00:00",
          "2023-07-22 00:00:00",
          "2023-07-23 00:00:00",
          "2023-07-24 00:00:00",
          "2023-07-25 00:00:00",
          "2023-07-26 00:00:00",
          "2023-07-27 00:00:00",
          "2023-07-28 00:00:00",
          "2023-07-29 00:00:00",
          "2023-07-30 00:00:00",
          "2023-07-31 00:00:00",
          "2023-08-01 00:00:00",
          "2023-08-02 00:00:00",
          "2023-08-03 00:00:00",
          "2023-08-04 00:00:00",
          "2023-08-05 00:00:00",
          "2023-08-06 00:00:00",
          "2023-08-07 00:00:00",
          "2023-08-08 00:00:00",
          "2023-08-09 00:00:00",
          "2023-08-10 00:00:00",
          "2023-08-11 00:00:00",
          "2023-08-12 00:00:00",
          "2023-08-13 00:00:00",
          "2023-08-14 00:00:00",
          "2023-08-15 00:00:00",
          "2023-08-16 00:00:00",
          "2023-08-17 00:00:00",
          "2023-08-18 00:00:00",
          "2023-08-19 00:00:00",
          "2023-08-20 00:00:00",
          "2023-08-21 00:00:00",
          "2023-08-22 00:00:00",
          "2023-08-23 00:00:00",
          "2023-08-24 00:00:00",
          "2023-08-25 00:00:00",
          "2023-08-26 00:00:00",
          "2023-08-27 00:00:00",
          "2023-08-28 00:00:00",
          "2023-08-29 00:00:00",
          "2023-08-30 00:00:00",
          "2023-08-31 00:00:00",
          "2023-09-01 00:00:00",
          "2023-09-02 00:00:00",
          "2023-09-03 00:00:00",
          "2023-09-04 00:00:00",
          "2023-09-05 00:00:00",
          "2023-09-06 00:00:00",
          "2023-09-07 00:00:00",
          "2023-09-08 00:00:00",
          "2023-09-09 00:00:00",
          "2023-09-10 00:00:00",
          "2023-09-11 00:00:00",
          "2023-09-12 00:00:00",
          "2023-09-13 00:00:00",
          "2023-09-14 00:00:00",
          "2023-09-15 00:00:00",
          "2023-09-16 00:00:00",
          "2023-09-17 00:00:00",
          "2023-09-18 00:00:00",
          "2023-09-19 00:00:00",
          "2023-09-20 00:00:00",
          "2023-09-21 00:00:00",
          "2023-09-22 00:00:00",
          "2023-09-23 00:00:00",
          "2023-09-24 00:00:00",
          "2023-09-25 00:00:00",
          "2023-09-26 00:00:00",
          "2023-09-27 00:00:00",
          "2023-09-28 00:00:00",
          "2023-09-29 00:00:00",
          "2023-09-30 00:00:00",
          "2023-10-01 00:00:00",
          "2023-10-02 00:00:00",
          "2023-10-03 00:00:00",
          "2023-10-04 00:00:00",
          "2023-10-05 00:00:00",
          "2023-10-06 00:00:00",
          "2023-10-07 00:00:00",
          "2023-10-08 00:00:00",
          "2023-10-09 00:00:00",
          "2023-10-10 00:00:00",
          "2023-10-11 00:00:00",
          "2023-10-12 00:00:00",
          "2023-10-13 00:00:00",
          "2023-10-14 00:00:00",
          "2023-10-15 00:00:00",
          "2023-10-16 00:00:00",
          "2023-10-17 00:00:00",
          "2023-10-18 00:00:00",
          "2023-10-19 00:00:00",
          "2023-10-20 00:00:00",
          "2023-10-21 00:00:00",
          "2023-10-22 00:00:00",
          "2023-10-23 00:00:00",
          "2023-10-24 00:00:00",
          "2023-10-25 00:00:00",
          "2023-10-26 00:00:00",
          "2023-10-27 00:00:00",
          "2023-10-28 00:00:00",
          "2023-10-29 00:00:00",
          "2023-10-30 00:00:00",
          "2023-10-31 00:00:00",
          "2023-11-01 00:00:00",
          "2023-11-02 00:00:00",
          "2023-11-03 00:00:00",
          "2023-11-04 00:00:00",
          "2023-11-05 00:00:00",
          "2023-11-06 00:00:00",
          "2023-11-07 00:00:00",
          "2023-11-08 00:00:00",
          "2023-11-09 00:00:00",
          "2023-11-10 00:00:00",
          "2023-11-11 00:00:00",
          "2023-11-12 00:00:00",
          "2023-11-13 00:00:00",
          "2023-11-14 00:00:00",
          "2023-11-15 00:00:00",
          "2023-11-16 00:00:00",
          "2023-11-17 00:00:00",
          "2023-11-18 00:00:00",
          "2023-11-19 00:00:00",
          "2023-11-20 00:00:00",
          "2023-11-21 00:00:00",
          "2023-11-22 00:00:00",
          "2023-11-23 00:00:00",
          "2023-11-24 00:00:00",
          "2023-11-25 00:00:00",
          "2023-11-26 00:00:00",
          "2023-11-27 00:00:00",
          "2023-11-28 00:00:00",
          "2023-11-29 00:00:00",
          "2023-11-30 00:00:00",
          "2023-12-01 00:00:00",
          "2023-12-02 00:00:00",
          "2023-12-03 00:00:00",
          "2023-12-04 00:00:00",
          "2023-12-05 00:00:00",
          "2023-12-06 00:00:00",
          "2023-12-07 00:00:00",
          "2023-12-08 00:00:00",
          "2023-12-09 00:00:00",
          "2023-12-10 00:00:00",
          "2023-12-11 00:00:00",
          "2023-12-12 00:00:00",
          "2023-12-13 00:00:00",
          "2023-12-14 00:00:00",
          "2023-12-15 00:00:00",
          "2023-12-16 00:00:00",
          "2023-12-17 00:00:00",
          "2023-12-18 00:00:00",
          "2023-12-19 00:00:00",
          "2023-12-20 00:00:00",
          "2023-12-21 00:00:00",
          "2023-12-22 00:00:00",
          "2023-12-23 00:00:00",
          "2023-12-24 00:00:00",
          "2023-12-25 00:00:00",
          "2023-12-26 00:00:00",
          "2023-12-27 00:00:00",
          "2023-12-28 00:00:00",
          "2023-12-29 00:00:00",
          "2023-12-30 00:00:00",
          "2023-12-31 00:00:00",
          "2024-01-01 00:00:00",
          "2024-01-02 00:00:00",
          "2024-01-03 00:00:00",
          "2024-01-04 00:00:00",
          "2024-01-05 00:00:00",
          "2024-01-06 00:00:00",
          "2024-01-07 00:00:00",
          "2024-01-08 00:00:00",
          "2024-01-09 00:00:00",
          "2024-01-10 00:00:00",
          "2024-01-11 00:00:00",
          "2024-01-12 00:00:00",
          "2024-01-13 00:00:00",
          "2024-01-14 00:00:00",
          "2024-01-15 00:00:00",
          "2024-01-16 00:00:00",
          "2024-01-17 00:00:00",
          "2024-01-18 00:00:00",
          "2024-01-19 00:00:00",
          "2024-01-20 00:00:00",
          "2024-01-21 00:00:00",
          "2024-01-22 00:00:00",
          "2024-01-23 00:00:00",
          "2024-01-24 00:00:00",
          "2024-01-25 00:00:00",
          "2024-01-26 00:00:00",
          "2024-01-27 00:00:00",
          "2024-01-28 00:00:00",
          "2024-01-29 00:00:00",
          "2024-01-30 00:00:00",
          "2024-01-31 00:00:00",
          "2024-02-01 00:00:00",
          "2024-02-02 00:00:00",
          "2024-02-03 00:00:00",
          "2024-02-04 00:00:00",
          "2024-02-05 00:00:00",
          "2024-02-06 00:00:00",
          "2024-02-07 00:00:00",
          "2024-02-08 00:00:00",
          "2024-02-09 00:00:00",
          "2024-02-10 00:00:00",
          "2024-02-11 00:00:00",
          "2024-02-12 00:00:00",
          "2024-02-13 00:00:00",
          "2024-02-14 00:00:00",
          "2024-02-15 00:00:00",
          "2024-02-16 00:00:00",
          "2024-02-17 00:00:00",
          "2024-02-18 00:00:00",
          "2024-02-19 00:00:00",
          "2024-02-20 00:00:00",
          "2024-02-21 00:00:00",
          "2024-02-22 00:00:00",
          "2024-02-23 00:00:00",
          "2024-02-24 00:00:00",
          "2024-02-25 00:00:00",
          "2024-02-26 00:00:00",
          "2024-02-27 00:00:00",
          "2024-02-28 00:00:00",
          "2024-02-29 00:00:00",
          "2024-03-01 00:00:00",
          "2024-03-02 00:00:00",
          "2024-03-03 00:00:00",
          "2024-03-04 00:00:00",
          "2024-03-05 00:00:00",
          "2024-03-06 00:00:00",
          "2024-03-07 00:00:00",
          "2024-03-08 00:00:00",
          "2024-03-09 00:00:00",
          "2024-03-10 00:00:00",
          "2024-03-11 00:00:00",
          "2024-03-12 00:00:00",
          "2024-03-13 00:00:00",
          "2024-03-14 00:00:00",
          "2024-03-15 00:00:00",
          "2024-03-16 00:00:00",
          "2024-03-17 00:00:00",
          "2024-03-18 00:00:00",
          "2024-03-19 00:00:00",
          "2024-03-20 00:00:00",
          "2024-03-21 00:00:00",
          "2024-03-22 00:00:00",
          "2024-03-23 00:00:00",
          "2024-03-24 00:00:00",
          "2024-03-25 00:00:00",
          "2024-03-26 00:00:00",
          "2024-03-27 00:00:00",
          "2024-03-28 00:00:00",
          "2024-03-29 00:00:00",
          "2024-03-30 00:00:00",
          "2024-03-31 00:00:00",
          "2024-04-01 00:00:00",
          "2024-04-02 00:00:00",
          "2024-04-03 00:00:00",
          "2024-04-04 00:00:00",
          "2024-04-05 00:00:00",
          "2024-04-06 00:00:00",
          "2024-04-07 00:00:00",
          "2024-04-08 00:00:00",
          "2024-04-09 00:00:00",
          "2024-04-10 00:00:00",
          "2024-04-11 00:00:00",
          "2024-04-12 00:00:00",
          "2024-04-13 00:00:00",
          "2024-04-14 00:00:00",
          "2024-04-15 00:00:00",
          "2024-04-16 00:00:00",
          "2024-04-17 00:00:00",
          "2024-04-18 00:00:00",
          "2024-04-19 00:00:00",
          "2024-04-20 00:00:00",
          "2024-04-21 00:00:00",
          "2024-04-22 00:00:00",
          "2024-04-23 00:00:00",
          "2024-04-24 00:00:00",
          "2024-04-25 00:00:00",
          "2024-04-26 00:00:00",
          "2024-04-27 00:00:00",
          "2024-04-28 00:00:00",
          "2024-04-29 00:00:00",
          "2024-04-30 00:00:00",
          "2024-05-01 00:00:00",
          "2024-05-02 00:00:00",
          "2024-05-03 00:00:00",
          "2024-05-04 00:00:00",
          "2024-05-05 00:00:00",
          "2024-05-06 00:00:00",
          "2024-05-07 00:00:00",
          "2024-05-08 00:00:00",
          "2024-05-09 00:00:00",
          "2024-05-10 00:00:00",
          "2024-05-11 00:00:00",
          "2024-05-12 00:00:00",
          "2024-05-13 00:00:00",
          "2024-05-14 00:00:00",
          "2024-05-15 00:00:00",
          "2024-05-16 00:00:00",
          "2024-05-17 00:00:00",
          "2024-05-18 00:00:00",
          "2024-05-19 00:00:00",
          "2024-05-20 00:00:00",
          "2024-05-21 00:00:00",
          "2024-05-22 00:00:00",
          "2024-05-23 00:00:00",
          "2024-05-24 00:00:00",
          "2024-05-25 00:00:00",
          "2024-05-26 00:00:00",
          "2024-05-27 00:00:00",
          "2024-05-28 00:00:00",
          "2024-05-29 00:00:00",
          "2024-05-30 00:00:00",
          "2024-05-31 00:00:00",
          "2024-06-01 00:00:00",
          "2024-06-02 00:00:00",
          "2024-06-03 00:00:00",
          "2024-06-04 00:00:00",
          "2024-06-05 00:00:00",
          "2024-06-06 00:00:00",
          "2024-06-07 00:00:00",
          "2024-06-08 00:00:00",
          "2024-06-09 00:00:00",
          "2024-06-10 00:00:00",
          "2024-06-11 00:00:00",
          "2024-06-12 00:00:00",
          "2024-06-13 00:00:00",
          "2024-06-14 00:00:00",
          "2024-06-15 00:00:00",
          "2024-06-16 00:00:00",
          "2024-06-17 00:00:00",
          "2024-06-18 00:00:00",
          "2024-06-19 00:00:00",
          "2024-06-20 00:00:00",
          "2024-06-21 00:00:00",
          "2024-06-22 00:00:00",
          "2024-06-23 00:00:00",
          "2024-06-24 00:00:00",
          "2024-06-25 00:00:00",
          "2024-06-26 00:00:00",
          "2024-06-27 00:00:00",
          "2024-06-28 00:00:00",
          "2024-06-29 00:00:00",
          "2024-06-30 00:00:00",
          "2024-07-01 00:00:00",
          "2024-07-02 00:00:00",
          "2024-07-03 00:00:00",
          "2024-07-04 00:00:00",
          "2024-07-05 00:00:00",
          "2024-07-06 00:00:00",
          "2024-07-07 00:00:00",
          "2024-07-08 00:00:00",
          "2024-07-09 00:00:00",
          "2024-07-10 00:00:00",
          "2024-07-11 00:00:00",
          "2024-07-12 00:00:00",
          "2024-07-13 00:00:00",
          "2024-07-14 00:00:00",
          "2024-07-15 00:00:00",
          "2024-07-16 00:00:00",
          "2024-07-17 00:00:00",
          "2024-07-18 00:00:00",
          "2024-07-19 00:00:00",
          "2024-07-20 00:00:00",
          "2024-07-21 00:00:00",
          "2024-07-22 00:00:00",
          "2024-07-23 00:00:00",
          "2024-07-24 00:00:00",
          "2024-07-25 00:00:00",
          "2024-07-26 00:00:00",
          "2024-07-27 00:00:00",
          "2024-07-28 00:00:00",
          "2024-07-29 00:00:00",
          "2024-07-30 00:00:00",
          "2024-07-31 00:00:00",
          "2024-08-01 00:00:00",
          "2024-08-02 00:00:00",
          "2024-08-03 00:00:00",
          "2024-08-04 00:00:00",
          "2024-08-05 00:00:00",
          "2024-08-06 00:00:00",
          "2024-08-07 00:00:00",
          "2024-08-08 00:00:00",
          "2024-08-09 00:00:00",
          "2024-08-10 00:00:00",
          "2024-08-11 00:00:00",
          "2024-08-12 00:00:00",
          "2024-08-13 00:00:00",
          "2024-08-14 00:00:00",
          "2024-08-15 00:00:00",
          "2024-08-16 00:00:00",
          "2024-08-17 00:00:00",
          "2024-08-18 00:00:00",
          "2024-08-19 00:00:00",
          "2024-08-20 00:00:00",
          "2024-08-21 00:00:00",
          "2024-08-22 00:00:00",
          "2024-08-23 00:00:00",
          "2024-08-24 00:00:00",
          "2024-08-25 00:00:00",
          "2024-08-26 00:00:00",
          "2024-08-27 00:00:00",
          "2024-08-28 00:00:00",
          "2024-08-29 00:00:00",
          "2024-08-30 00:00:00",
          "2024-08-31 00:00:00",
          "2024-09-01 00:00:00",
          "2024-09-02 00:00:00",
          "2024-09-03 00:00:00",
          "2024-09-04 00:00:00",
          "2024-09-05 00:00:00",
          "2024-09-06 00:00:00",
          "2024-09-07 00:00:00",
          "2024-09-08 00:00:00",
          "2024-09-09 00:00:00",
          "2024-09-10 00:00:00",
          "2024-09-11 00:00:00",
          "2024-09-12 00:00:00",
          "2024-09-13 00:00:00",
          "2024-09-14 00:00:00",
          "2024-09-15 00:00:00",
          "2024-09-16 00:00:00",
          "2024-09-17 00:00:00",
          "2024-09-18 00:00:00",
          "2024-09-19 00:00:00",
          "2024-09-20 00:00:00",
          "2024-09-21 00:00:00",
          "2024-09-22 00:00:00",
          "2024-09-23 00:00:00",
          "2024-09-24 00:00:00",
          "2024-09-25 00:00:00",
          "2024-09-26 00:00:00",
          "2024-09-27 00:00:00",
          "2024-09-28 00:00:00",
          "2024-09-29 00:00:00",
          "2024-09-30 00:00:00",
          "2024-10-01 00:00:00",
          "2024-10-02 00:00:00",
          "2024-10-03 00:00:00",
          "2024-10-04 00:00:00",
          "2024-10-05 00:00:00",
          "2024-10-06 00:00:00",
          "2024-10-07 00:00:00",
          "2024-10-08 00:00:00",
          "2024-10-09 00:00:00",
          "2024-10-10 00:00:00",
          "2024-10-11 00:00:00",
          "2024-10-12 00:00:00",
          "2024-10-13 00:00:00",
          "2024-10-14 00:00:00",
          "2024-10-15 00:00:00",
          "2024-10-16 00:00:00",
          "2024-10-17 00:00:00",
          "2024-10-18 00:00:00",
          "2024-10-19 00:00:00",
          "2024-10-20 00:00:00",
          "2024-10-21 00:00:00",
          "2024-10-22 00:00:00",
          "2024-10-23 00:00:00",
          "2024-10-24 00:00:00",
          "2024-10-25 00:00:00",
          "2024-10-26 00:00:00",
          "2024-10-27 00:00:00",
          "2024-10-28 00:00:00",
          "2024-10-29 00:00:00",
          "2024-10-30 00:00:00",
          "2024-10-31 00:00:00",
          "2024-11-01 00:00:00",
          "2024-11-02 00:00:00",
          "2024-11-03 00:00:00",
          "2024-11-04 00:00:00",
          "2024-11-05 00:00:00",
          "2024-11-06 00:00:00",
          "2024-11-07 00:00:00",
          "2024-11-08 00:00:00",
          "2024-11-09 00:00:00",
          "2024-11-10 00:00:00",
          "2024-11-11 00:00:00",
          "2024-11-12 00:00:00",
          "2024-11-13 00:00:00",
          "2024-11-14 00:00:00",
          "2024-11-15 00:00:00",
          "2024-11-16 00:00:00",
          "2024-11-17 00:00:00",
          "2024-11-18 00:00:00",
          "2024-11-19 00:00:00",
          "2024-11-20 00:00:00",
          "2024-11-21 00:00:00",
          "2024-11-22 00:00:00",
          "2024-11-23 00:00:00",
          "2024-11-24 00:00:00",
          "2024-11-25 00:00:00",
          "2024-11-26 00:00:00",
          "2024-11-27 00:00:00",
          "2024-11-28 00:00:00",
          "2024-11-29 00:00:00",
          "2024-11-30 00:00:00",
          "2024-12-01 00:00:00",
          "2024-12-02 00:00:00",
          "2024-12-03 00:00:00",
          "2024-12-04 00:00:00",
          "2024-12-05 00:00:00",
          "2024-12-06 00:00:00",
          "2024-12-07 00:00:00",
          "2024-12-08 00:00:00",
          "2024-12-09 00:00:00",
          "2024-12-10 00:00:00",
          "2024-12-11 00:00:00",
          "2024-12-12 00:00:00",
          "2024-12-13 00:00:00",
          "2024-12-14 00:00:00",
          "2024-12-15 00:00:00",
          "2024-12-16 00:00:00",
          "2024-12-17 00:00:00",
          "2024-12-18 00:00:00",
          "2024-12-19 00:00:00",
          "2024-12-20 00:00:00",
          "2024-12-21 00:00:00",
          "2024-12-22 00:00:00",
          "2024-12-23 00:00:00",
          "2024-12-24 00:00:00",
          "2024-12-25 00:00:00",
          "2024-12-26 00:00:00",
          "2024-12-27 00:00:00",
          "2024-12-28 00:00:00",
          "2024-12-29 00:00:00",
          "2024-12-30 00:00:00",
          "2024-12-31 00:00:00",
          "2025-01-01 00:00:00",
          "2025-01-02 00:00:00",
          "2025-01-03 00:00:00",
          "2025-01-04 00:00:00",
          "2025-01-05 00:00:00",
          "2025-01-06 00:00:00",
          "2025-01-07 00:00:00",
          "2025-01-08 00:00:00",
          "2025-01-09 00:00:00",
          "2025-01-10 00:00:00",
          "2025-01-11 00:00:00",
          "2025-01-12 00:00:00",
          "2025-01-13 00:00:00",
          "2025-01-14 00:00:00",
          "2025-01-15 00:00:00",
          "2025-01-16 00:00:00",
          "2025-01-17 00:00:00",
          "2025-01-18 00:00:00",
          "2025-01-19 00:00:00",
          "2025-01-20 00:00:00",
          "2025-01-21 00:00:00",
          "2025-01-22 00:00:00",
          "2025-01-23 00:00:00",
          "2025-01-24 00:00:00",
          "2025-01-25 00:00:00",
          "2025-01-26 00:00:00",
          "2025-01-27 00:00:00",
          "2025-01-28 00:00:00",
          "2025-01-29 00:00:00",
          "2025-01-30 00:00:00",
          "2025-01-31 00:00:00",
          "2025-02-01 00:00:00",
          "2025-02-02 00:00:00",
          "2025-02-03 00:00:00",
          "2025-02-04 00:00:00",
          "2025-02-05 00:00:00",
          "2025-02-06 00:00:00",
          "2025-02-07 00:00:00",
          "2025-02-08 00:00:00",
          "2025-02-09 00:00:00",
          "2025-02-10 00:00:00",
          "2025-02-11 00:00:00",
          "2025-02-12 00:00:00",
          "2025-02-13 00:00:00",
          "2025-02-14 00:00:00",
          "2025-02-15 00:00:00",
          "2025-02-16 00:00:00",
          "2025-02-17 00:00:00",
          "2025-02-18 00:00:00",
          "2025-02-19 00:00:00",
          "2025-02-20 00:00:00",
          "2025-02-21 00:00:00",
          "2025-02-22 00:00:00",
          "2025-02-23 00:00:00",
          "2025-02-24 00:00:00",
          "2025-02-25 00:00:00",
          "2025-02-26 00:00:00",
          "2025-02-27 00:00:00",
          "2025-02-28 00:00:00",
          "2025-03-01 00:00:00",
          "2025-03-02 00:00:00",
          "2025-03-03 00:00:00",
          "2025-03-04 00:00:00",
          "2025-03-05 00:00:00",
          "2025-03-06 00:00:00",
          "2025-03-07 00:00:00",
          "2025-03-08 00:00:00",
          "2025-03-09 00:00:00",
          "2025-03-10 00:00:00",
          "2025-03-11 00:00:00",
          "2025-03-12 00:00:00",
          "2025-03-13 00:00:00",
          "2025-03-14 00:00:00",
          "2025-03-15 00:00:00",
          "2025-03-16 00:00:00",
          "2025-03-17 00:00:00",
          "2025-03-18 00:00:00",
          "2025-03-19 00:00:00",
          "2025-03-20 00:00:00",
          "2025-03-21 00:00:00",
          "2025-03-22 00:00:00",
          "2025-03-23 00:00:00",
          "2025-03-24 00:00:00",
          "2025-03-25 00:00:00",
          "2025-03-26 00:00:00",
          "2025-03-27 00:00:00",
          "2025-03-28 00:00:00",
          "2025-03-29 00:00:00",
          "2025-03-30 00:00:00",
          "2025-03-31 00:00:00",
          "2025-04-01 00:00:00",
          "2025-04-02 00:00:00",
          "2025-04-03 00:00:00",
          "2025-04-04 00:00:00",
          "2025-04-05 00:00:00",
          "2025-04-06 00:00:00",
          "2025-04-07 00:00:00",
          "2025-04-08 00:00:00",
          "2025-04-09 00:00:00",
          "2025-04-10 00:00:00",
          "2025-04-11 00:00:00",
          "2025-04-12 00:00:00",
          "2025-04-13 00:00:00",
          "2025-04-14 00:00:00",
          "2025-04-15 00:00:00",
          "2025-04-16 00:00:00",
          "2025-04-17 00:00:00",
          "2025-04-18 00:00:00",
          "2025-04-19 00:00:00",
          "2025-04-20 00:00:00",
          "2025-04-21 00:00:00",
          "2025-04-22 00:00:00",
          "2025-04-23 00:00:00",
          "2025-04-24 00:00:00",
          "2025-04-25 00:00:00",
          "2025-04-26 00:00:00",
          "2025-04-27 00:00:00",
          "2025-04-28 00:00:00",
          "2025-04-29 00:00:00",
          "2025-04-30 00:00:00",
          "2025-05-01 00:00:00",
          "2025-05-02 00:00:00",
          "2025-05-03 00:00:00",
          "2025-05-04 00:00:00",
          "2025-05-05 00:00:00",
          "2025-05-06 00:00:00",
          "2025-05-07 00:00:00",
          "2025-05-08 00:00:00",
          "2025-05-09 00:00:00",
          "2025-05-10 00:00:00",
          "2025-05-11 00:00:00",
          "2025-05-12 00:00:00",
          "2025-05-13 00:00:00",
          "2025-05-14 00:00:00",
          "2025-05-15 00:00:00",
          "2025-05-16 00:00:00",
          "2025-05-17 00:00:00",
          "2025-05-18 00:00:00",
          "2025-05-19 00:00:00",
          "2025-05-20 00:00:00",
          "2025-05-21 00:00:00",
          "2025-05-22 00:00:00",
          "2025-05-23 00:00:00",
          "2025-05-24 00:00:00",
          "2025-05-25 00:00:00",
          "2025-05-26 00:00:00",
          "2025-05-27 00:00:00",
          "2025-05-28 00:00:00",
          "2025-05-29 00:00:00",
          "2025-05-30 00:00:00",
          "2025-05-31 00:00:00",
          "2025-06-01 00:00:00",
          "2025-06-02 00:00:00",
          "2025-06-03 00:00:00",
          "2025-06-04 00:00:00",
          "2025-06-05 00:00:00",
          "2025-06-06 00:00:00",
          "2025-06-07 00:00:00",
          "2025-06-08 00:00:00",
          "2025-06-09 00:00:00",
          "2025-06-10 00:00:00",
          "2025-06-11 00:00:00",
          "2025-06-12 00:00:00",
          "2025-06-13 00:00:00",
          "2025-06-14 00:00:00",
          "2025-06-15 00:00:00",
          "2025-06-16 00:00:00",
          "2025-06-17 00:00:00",
          "2025-06-18 00:00:00",
          "2025-06-19 00:00:00",
          "2025-06-20 00:00:00",
          "2025-06-21 00:00:00",
          "2025-06-22 00:00:00",
          "2025-06-23 00:00:00",
          "2025-06-24 00:00:00",
          "2025-06-25 00:00:00",
          "2025-06-26 00:00:00",
          "2025-06-27 00:00:00",
          "2025-06-28 00:00:00",
          "2025-06-29 00:00:00",
          "2025-06-30 00:00:00",
          "2025-07-01 00:00:00",
          "2025-07-02 00:00:00",
          "2025-07-03 00:00:00",
          "2025-07-04 00:00:00",
          "2025-07-05 00:00:00",
          "2025-07-06 00:00:00",
          "2025-07-07 00:00:00",
          "2025-07-08 00:00:00",
          "2025-07-09 00:00:00",
          "2025-07-10 00:00:00",
          "2025-07-11 00:00:00",
          "2025-07-12 00:00:00",
          "2025-07-13 00:00:00",
          "2025-07-14 00:00:00",
          "2025-07-15 00:00:00",
          "2025-07-16 00:00:00",
          "2025-07-17 00:00:00",
          "2025-07-18 00:00:00",
          "2025-07-19 00:00:00",
          "2025-07-20 00:00:00",
          "2025-07-21 00:00:00",
          "2025-07-22 00:00:00",
          "2025-07-23 00:00:00",
          "2025-07-24 00:00:00",
          "2025-07-25 00:00:00",
          "2025-07-26 00:00:00",
          "2025-07-27 00:00:00",
          "2025-07-28 00:00:00",
          "2025-07-29 00:00:00",
          "2025-07-30 00:00:00",
          "2025-07-31 00:00:00",
          "2025-08-01 00:00:00",
          "2025-08-02 00:00:00",
          "2025-08-03 00:00:00",
          "2025-08-04 00:00:00",
          "2025-08-05 00:00:00",
          "2025-08-06 00:00:00",
          "2025-08-07 00:00:00",
          "2025-08-08 00:00:00",
          "2025-08-09 00:00:00",
          "2025-08-10 00:00:00",
          "2025-08-11 00:00:00",
          "2025-08-12 00:00:00",
          "2025-08-13 00:00:00",
          "2025-08-14 00:00:00",
          "2025-08-15 00:00:00",
          "2025-08-16 00:00:00",
          "2025-08-17 00:00:00",
          "2025-08-18 00:00:00",
          "2025-08-19 00:00:00",
          "2025-08-20 00:00:00",
          "2025-08-21 00:00:00",
          "2025-08-22 00:00:00",
          "2025-08-23 00:00:00",
          "2025-08-24 00:00:00",
          "2025-08-25 00:00:00",
          "2025-08-26 00:00:00",
          "2025-08-27 00:00:00",
          "2025-08-28 00:00:00",
          "2025-08-29 00:00:00",
          "2025-08-30 00:00:00",
          "2025-08-31 00:00:00",
          "2025-09-01 00:00:00",
          "2025-09-02 00:00:00",
          "2025-09-03 00:00:00",
          "2025-09-04 00:00:00",
          "2025-09-05 00:00:00",
          "2025-09-06 00:00:00",
          "2025-09-07 00:00:00",
          "2025-09-08 00:00:00",
          "2025-09-09 00:00:00",
          "2025-09-10 00:00:00",
          "2025-09-11 00:00:00",
          "2025-09-12 00:00:00",
          "2025-09-13 00:00:00",
          "2025-09-14 00:00:00",
          "2025-09-15 00:00:00",
          "2025-09-16 00:00:00",
          "2025-09-17 00:00:00",
          "2025-09-18 00:00:00",
          "2025-09-19 00:00:00",
          "2025-09-20 00:00:00",
          "2025-09-21 00:00:00",
          "2025-09-22 00:00:00",
          "2025-09-23 00:00:00",
          "2025-09-24 00:00:00",
          "2025-09-25 00:00:00",
          "2025-09-26 00:00:00"
         ],
         "y": {
          "bdata": "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",
          "dtype": "f8"
         }
        }
       ],
       "layout": {
        "template": {
         "data": {
          "bar": [
           {
            "error_x": {
             "color": "#2a3f5f"
            },
            "error_y": {
             "color": "#2a3f5f"
            },
            "marker": {
             "line": {
              "color": "#E5ECF6",
              "width": 0.5
             },
             "pattern": {
              "fillmode": "overlay",
              "size": 10,
              "solidity": 0.2
             }
            },
            "type": "bar"
           }
          ],
          "barpolar": [
           {
            "marker": {
             "line": {
              "color": "#E5ECF6",
              "width": 0.5
             },
             "pattern": {
              "fillmode": "overlay",
              "size": 10,
              "solidity": 0.2
             }
            },
            "type": "barpolar"
           }
          ],
          "carpet": [
           {
            "aaxis": {
             "endlinecolor": "#2a3f5f",
             "gridcolor": "white",
             "linecolor": "white",
             "minorgridcolor": "white",
             "startlinecolor": "#2a3f5f"
            },
            "baxis": {
             "endlinecolor": "#2a3f5f",
             "gridcolor": "white",
             "linecolor": "white",
             "minorgridcolor": "white",
             "startlinecolor": "#2a3f5f"
            },
            "type": "carpet"
           }
          ],
          "choropleth": [
           {
            "colorbar": {
             "outlinewidth": 0,
             "ticks": ""
            },
            "type": "choropleth"
           }
          ],
          "contour": [
           {
            "colorbar": {
             "outlinewidth": 0,
             "ticks": ""
            },
            "colorscale": [
             [
              0,
              "#0d0887"
             ],
             [
              0.1111111111111111,
              "#46039f"
             ],
             [
              0.2222222222222222,
              "#7201a8"
             ],
             [
              0.3333333333333333,
              "#9c179e"
             ],
             [
              0.4444444444444444,
              "#bd3786"
             ],
             [
              0.5555555555555556,
              "#d8576b"
             ],
             [
              0.6666666666666666,
              "#ed7953"
             ],
             [
              0.7777777777777778,
              "#fb9f3a"
             ],
             [
              0.8888888888888888,
              "#fdca26"
             ],
             [
              1,
              "#f0f921"
             ]
            ],
            "type": "contour"
           }
          ],
          "contourcarpet": [
           {
            "colorbar": {
             "outlinewidth": 0,
             "ticks": ""
            },
            "type": "contourcarpet"
           }
          ],
          "heatmap": [
           {
            "colorbar": {
             "outlinewidth": 0,
             "ticks": ""
            },
            "colorscale": [
             [
              0,
              "#0d0887"
             ],
             [
              0.1111111111111111,
              "#46039f"
             ],
             [
              0.2222222222222222,
              "#7201a8"
             ],
             [
              0.3333333333333333,
              "#9c179e"
             ],
             [
              0.4444444444444444,
              "#bd3786"
             ],
             [
              0.5555555555555556,
              "#d8576b"
             ],
             [
              0.6666666666666666,
              "#ed7953"
             ],
             [
              0.7777777777777778,
              "#fb9f3a"
             ],
             [
              0.8888888888888888,
              "#fdca26"
             ],
             [
              1,
              "#f0f921"
             ]
            ],
            "type": "heatmap"
           }
          ],
          "histogram": [
           {
            "marker": {
             "pattern": {
              "fillmode": "overlay",
              "size": 10,
              "solidity": 0.2
             }
            },
            "type": "histogram"
           }
          ],
          "histogram2d": [
           {
            "colorbar": {
             "outlinewidth": 0,
             "ticks": ""
            },
            "colorscale": [
             [
              0,
              "#0d0887"
             ],
             [
              0.1111111111111111,
              "#46039f"
             ],
             [
              0.2222222222222222,
              "#7201a8"
             ],
             [
              0.3333333333333333,
              "#9c179e"
             ],
             [
              0.4444444444444444,
              "#bd3786"
             ],
             [
              0.5555555555555556,
              "#d8576b"
             ],
             [
              0.6666666666666666,
              "#ed7953"
             ],
             [
              0.7777777777777778,
              "#fb9f3a"
             ],
             [
              0.8888888888888888,
              "#fdca26"
             ],
             [
              1,
              "#f0f921"
             ]
            ],
            "type": "histogram2d"
           }
          ],
          "histogram2dcontour": [
           {
            "colorbar": {
             "outlinewidth": 0,
             "ticks": ""
            },
            "colorscale": [
             [
              0,
              "#0d0887"
             ],
             [
              0.1111111111111111,
              "#46039f"
             ],
             [
              0.2222222222222222,
              "#7201a8"
             ],
             [
              0.3333333333333333,
              "#9c179e"
             ],
             [
              0.4444444444444444,
              "#bd3786"
             ],
             [
              0.5555555555555556,
              "#d8576b"
             ],
             [
              0.6666666666666666,
              "#ed7953"
             ],
             [
              0.7777777777777778,
              "#fb9f3a"
             ],
             [
              0.8888888888888888,
              "#fdca26"
             ],
             [
              1,
              "#f0f921"
             ]
            ],
            "type": "histogram2dcontour"
           }
          ],
          "mesh3d": [
           {
            "colorbar": {
             "outlinewidth": 0,
             "ticks": ""
            },
            "type": "mesh3d"
           }
          ],
          "parcoords": [
           {
            "line": {
             "colorbar": {
              "outlinewidth": 0,
              "ticks": ""
             }
            },
            "type": "parcoords"
           }
          ],
          "pie": [
           {
            "automargin": true,
            "type": "pie"
           }
          ],
          "scatter": [
           {
            "fillpattern": {
             "fillmode": "overlay",
             "size": 10,
             "solidity": 0.2
            },
            "type": "scatter"
           }
          ],
          "scatter3d": [
           {
            "line": {
             "colorbar": {
              "outlinewidth": 0,
              "ticks": ""
             }
            },
            "marker": {
             "colorbar": {
              "outlinewidth": 0,
              "ticks": ""
             }
            },
            "type": "scatter3d"
           }
          ],
          "scattercarpet": [
           {
            "marker": {
             "colorbar": {
              "outlinewidth": 0,
              "ticks": ""
             }
            },
            "type": "scattercarpet"
           }
          ],
          "scattergeo": [
           {
            "marker": {
             "colorbar": {
              "outlinewidth": 0,
              "ticks": ""
             }
            },
            "type": "scattergeo"
           }
          ],
          "scattergl": [
           {
            "marker": {
             "colorbar": {
              "outlinewidth": 0,
              "ticks": ""
             }
            },
            "type": "scattergl"
           }
          ],
          "scattermap": [
           {
            "marker": {
             "colorbar": {
              "outlinewidth": 0,
              "ticks": ""
             }
            },
            "type": "scattermap"
           }
          ],
          "scattermapbox": [
           {
            "marker": {
             "colorbar": {
              "outlinewidth": 0,
              "ticks": ""
             }
            },
            "type": "scattermapbox"
           }
          ],
          "scatterpolar": [
           {
            "marker": {
             "colorbar": {
              "outlinewidth": 0,
              "ticks": ""
             }
            },
            "type": "scatterpolar"
           }
          ],
          "scatterpolargl": [
           {
            "marker": {
             "colorbar": {
              "outlinewidth": 0,
              "ticks": ""
             }
            },
            "type": "scatterpolargl"
           }
          ],
          "scatterternary": [
           {
            "marker": {
             "colorbar": {
              "outlinewidth": 0,
              "ticks": ""
             }
            },
            "type": "scatterternary"
           }
          ],
          "surface": [
           {
            "colorbar": {
             "outlinewidth": 0,
             "ticks": ""
            },
            "colorscale": [
             [
              0,
              "#0d0887"
             ],
             [
              0.1111111111111111,
              "#46039f"
             ],
             [
              0.2222222222222222,
              "#7201a8"
             ],
             [
              0.3333333333333333,
              "#9c179e"
             ],
             [
              0.4444444444444444,
              "#bd3786"
             ],
             [
              0.5555555555555556,
              "#d8576b"
             ],
             [
              0.6666666666666666,
              "#ed7953"
             ],
             [
              0.7777777777777778,
              "#fb9f3a"
             ],
             [
              0.8888888888888888,
              "#fdca26"
             ],
             [
              1,
              "#f0f921"
             ]
            ],
            "type": "surface"
           }
          ],
          "table": [
           {
            "cells": {
             "fill": {
              "color": "#EBF0F8"
             },
             "line": {
              "color": "white"
             }
            },
            "header": {
             "fill": {
              "color": "#C8D4E3"
             },
             "line": {
              "color": "white"
             }
            },
            "type": "table"
           }
          ]
         },
         "layout": {
          "annotationdefaults": {
           "arrowcolor": "#2a3f5f",
           "arrowhead": 0,
           "arrowwidth": 1
          },
          "autotypenumbers": "strict",
          "coloraxis": {
           "colorbar": {
            "outlinewidth": 0,
            "ticks": ""
           }
          },
          "colorscale": {
           "diverging": [
            [
             0,
             "#8e0152"
            ],
            [
             0.1,
             "#c51b7d"
            ],
            [
             0.2,
             "#de77ae"
            ],
            [
             0.3,
             "#f1b6da"
            ],
            [
             0.4,
             "#fde0ef"
            ],
            [
             0.5,
             "#f7f7f7"
            ],
            [
             0.6,
             "#e6f5d0"
            ],
            [
             0.7,
             "#b8e186"
            ],
            [
             0.8,
             "#7fbc41"
            ],
            [
             0.9,
             "#4d9221"
            ],
            [
             1,
             "#276419"
            ]
           ],
           "sequential": [
            [
             0,
             "#0d0887"
            ],
            [
             0.1111111111111111,
             "#46039f"
            ],
            [
             0.2222222222222222,
             "#7201a8"
            ],
            [
             0.3333333333333333,
             "#9c179e"
            ],
            [
             0.4444444444444444,
             "#bd3786"
            ],
            [
             0.5555555555555556,
             "#d8576b"
            ],
            [
             0.6666666666666666,
             "#ed7953"
            ],
            [
             0.7777777777777778,
             "#fb9f3a"
            ],
            [
             0.8888888888888888,
             "#fdca26"
            ],
            [
             1,
             "#f0f921"
            ]
           ],
           "sequentialminus": [
            [
             0,
             "#0d0887"
            ],
            [
             0.1111111111111111,
             "#46039f"
            ],
            [
             0.2222222222222222,
             "#7201a8"
            ],
            [
             0.3333333333333333,
             "#9c179e"
            ],
            [
             0.4444444444444444,
             "#bd3786"
            ],
            [
             0.5555555555555556,
             "#d8576b"
            ],
            [
             0.6666666666666666,
             "#ed7953"
            ],
            [
             0.7777777777777778,
             "#fb9f3a"
            ],
            [
             0.8888888888888888,
             "#fdca26"
            ],
            [
             1,
             "#f0f921"
            ]
           ]
          },
          "colorway": [
           "#636efa",
           "#EF553B",
           "#00cc96",
           "#ab63fa",
           "#FFA15A",
           "#19d3f3",
           "#FF6692",
           "#B6E880",
           "#FF97FF",
           "#FECB52"
          ],
          "font": {
           "color": "#2a3f5f"
          },
          "geo": {
           "bgcolor": "white",
           "lakecolor": "white",
           "landcolor": "#E5ECF6",
           "showlakes": true,
           "showland": true,
           "subunitcolor": "white"
          },
          "hoverlabel": {
           "align": "left"
          },
          "hovermode": "closest",
          "mapbox": {
           "style": "light"
          },
          "paper_bgcolor": "white",
          "plot_bgcolor": "#E5ECF6",
          "polar": {
           "angularaxis": {
            "gridcolor": "white",
            "linecolor": "white",
            "ticks": ""
           },
           "bgcolor": "#E5ECF6",
           "radialaxis": {
            "gridcolor": "white",
            "linecolor": "white",
            "ticks": ""
           }
          },
          "scene": {
           "xaxis": {
            "backgroundcolor": "#E5ECF6",
            "gridcolor": "white",
            "gridwidth": 2,
            "linecolor": "white",
            "showbackground": true,
            "ticks": "",
            "zerolinecolor": "white"
           },
           "yaxis": {
            "backgroundcolor": "#E5ECF6",
            "gridcolor": "white",
            "gridwidth": 2,
            "linecolor": "white",
            "showbackground": true,
            "ticks": "",
            "zerolinecolor": "white"
           },
           "zaxis": {
            "backgroundcolor": "#E5ECF6",
            "gridcolor": "white",
            "gridwidth": 2,
            "linecolor": "white",
            "showbackground": true,
            "ticks": "",
            "zerolinecolor": "white"
           }
          },
          "shapedefaults": {
           "line": {
            "color": "#2a3f5f"
           }
          },
          "ternary": {
           "aaxis": {
            "gridcolor": "white",
            "linecolor": "white",
            "ticks": ""
           },
           "baxis": {
            "gridcolor": "white",
            "linecolor": "white",
            "ticks": ""
           },
           "bgcolor": "#E5ECF6",
           "caxis": {
            "gridcolor": "white",
            "linecolor": "white",
            "ticks": ""
           }
          },
          "title": {
           "x": 0.05
          },
          "xaxis": {
           "automargin": true,
           "gridcolor": "white",
           "linecolor": "white",
           "ticks": "",
           "title": {
            "standoff": 15
           },
           "zerolinecolor": "white",
           "zerolinewidth": 2
          },
          "yaxis": {
           "automargin": true,
           "gridcolor": "white",
           "linecolor": "white",
           "ticks": "",
           "title": {
            "standoff": 15
           },
           "zerolinecolor": "white",
           "zerolinewidth": 2
          }
         }
        },
        "title": {
         "text": "Daily Sales with 7-Day Moving Average"
        },
        "xaxis": {
         "title": {
          "text": "Date"
         }
        },
        "yaxis": {
         "title": {
          "text": "Sales Amount ($)"
         }
        }
       }
      }
     },
     "metadata": {},
     "output_type": "display_data"
    }
   ],
   "source": [
    "# Plot time series with rolling average\n",
    "fig = (\n",
    "    go.Figure()\n",
    "    .add_trace(\n",
    "        go.Scatter(\n",
    "            x=window_df[\"sale_date\"],\n",
    "            y=window_df[\"sales_amount\"],\n",
    "            mode=\"lines\",\n",
    "            name=\"Daily Sales\",\n",
    "        )\n",
    "    )\n",
    "    .add_trace(\n",
    "        go.Scatter(\n",
    "            x=window_df[\"sale_date\"],\n",
    "            y=window_df[\"rolling_7d_avg\"],\n",
    "            mode=\"lines\",\n",
    "            name=\"7-Day Moving Average\",\n",
    "            line=dict(width=3),\n",
    "        )\n",
    "    )\n",
    "    .update_layout(\n",
    "        title=\"Daily Sales with 7-Day Moving Average\",\n",
    "        xaxis_title=\"Date\",\n",
    "        yaxis_title=\"Sales Amount ($)\",\n",
    "    )\n",
    ")\n",
    "fig.show()"
   ]
  },
  {
   "cell_type": "markdown",
   "id": "db9af4df",
   "metadata": {},
   "source": [
    "### 5. Ranking and Partitioning"
   ]
  },
  {
   "cell_type": "code",
   "execution_count": null,
   "id": "687ff124",
   "metadata": {},
   "outputs": [
    {
     "name": "stdout",
     "output_type": "stream",
     "text": [
      "Customer Spending: 99\n"
     ]
    },
    {
     "data": {
      "text/html": [
       "<div>\n",
       "<style scoped>\n",
       "    .dataframe tbody tr th:only-of-type {\n",
       "        vertical-align: middle;\n",
       "    }\n",
       "\n",
       "    .dataframe tbody tr th {\n",
       "        vertical-align: top;\n",
       "    }\n",
       "\n",
       "    .dataframe thead th {\n",
       "        text-align: right;\n",
       "    }\n",
       "</style>\n",
       "<table border=\"1\" class=\"dataframe\">\n",
       "  <thead>\n",
       "    <tr style=\"text-align: right;\">\n",
       "      <th></th>\n",
       "      <th>customer_id</th>\n",
       "      <th>customer_name</th>\n",
       "      <th>segment</th>\n",
       "      <th>city</th>\n",
       "      <th>total_spending</th>\n",
       "      <th>rank</th>\n",
       "    </tr>\n",
       "  </thead>\n",
       "  <tbody>\n",
       "    <tr>\n",
       "      <th>0</th>\n",
       "      <td>90</td>\n",
       "      <td>Customer 90</td>\n",
       "      <td>Consumer</td>\n",
       "      <td>Los Angeles</td>\n",
       "      <td>12814.41</td>\n",
       "      <td>1</td>\n",
       "    </tr>\n",
       "    <tr>\n",
       "      <th>1</th>\n",
       "      <td>92</td>\n",
       "      <td>Customer 92</td>\n",
       "      <td>Home Office</td>\n",
       "      <td>Houston</td>\n",
       "      <td>10499.18</td>\n",
       "      <td>2</td>\n",
       "    </tr>\n",
       "    <tr>\n",
       "      <th>2</th>\n",
       "      <td>58</td>\n",
       "      <td>Customer 58</td>\n",
       "      <td>Corporate</td>\n",
       "      <td>Los Angeles</td>\n",
       "      <td>9985.15</td>\n",
       "      <td>3</td>\n",
       "    </tr>\n",
       "    <tr>\n",
       "      <th>3</th>\n",
       "      <td>33</td>\n",
       "      <td>Customer 33</td>\n",
       "      <td>Consumer</td>\n",
       "      <td>New York</td>\n",
       "      <td>9135.30</td>\n",
       "      <td>4</td>\n",
       "    </tr>\n",
       "    <tr>\n",
       "      <th>4</th>\n",
       "      <td>93</td>\n",
       "      <td>Customer 93</td>\n",
       "      <td>Home Office</td>\n",
       "      <td>New York</td>\n",
       "      <td>8387.14</td>\n",
       "      <td>5</td>\n",
       "    </tr>\n",
       "    <tr>\n",
       "      <th>5</th>\n",
       "      <td>63</td>\n",
       "      <td>Customer 63</td>\n",
       "      <td>Home Office</td>\n",
       "      <td>Los Angeles</td>\n",
       "      <td>8304.06</td>\n",
       "      <td>6</td>\n",
       "    </tr>\n",
       "    <tr>\n",
       "      <th>6</th>\n",
       "      <td>39</td>\n",
       "      <td>Customer 39</td>\n",
       "      <td>Home Office</td>\n",
       "      <td>Chicago</td>\n",
       "      <td>8121.66</td>\n",
       "      <td>7</td>\n",
       "    </tr>\n",
       "    <tr>\n",
       "      <th>7</th>\n",
       "      <td>99</td>\n",
       "      <td>Customer 99</td>\n",
       "      <td>Consumer</td>\n",
       "      <td>Los Angeles</td>\n",
       "      <td>8026.09</td>\n",
       "      <td>8</td>\n",
       "    </tr>\n",
       "    <tr>\n",
       "      <th>8</th>\n",
       "      <td>62</td>\n",
       "      <td>Customer 62</td>\n",
       "      <td>Home Office</td>\n",
       "      <td>New York</td>\n",
       "      <td>7813.42</td>\n",
       "      <td>9</td>\n",
       "    </tr>\n",
       "    <tr>\n",
       "      <th>9</th>\n",
       "      <td>17</td>\n",
       "      <td>Customer 17</td>\n",
       "      <td>Corporate</td>\n",
       "      <td>Chicago</td>\n",
       "      <td>7778.62</td>\n",
       "      <td>10</td>\n",
       "    </tr>\n",
       "  </tbody>\n",
       "</table>\n",
       "</div>"
      ],
      "text/plain": [
       "   customer_id customer_name      segment         city  total_spending  rank\n",
       "0           90   Customer 90     Consumer  Los Angeles        12814.41     1\n",
       "1           92   Customer 92  Home Office      Houston        10499.18     2\n",
       "2           58   Customer 58    Corporate  Los Angeles         9985.15     3\n",
       "3           33   Customer 33     Consumer     New York         9135.30     4\n",
       "4           93   Customer 93  Home Office     New York         8387.14     5\n",
       "5           63   Customer 63  Home Office  Los Angeles         8304.06     6\n",
       "6           39   Customer 39  Home Office      Chicago         8121.66     7\n",
       "7           99   Customer 99     Consumer  Los Angeles         8026.09     8\n",
       "8           62   Customer 62  Home Office     New York         7813.42     9\n",
       "9           17   Customer 17    Corporate      Chicago         7778.62    10"
      ]
     },
     "metadata": {},
     "output_type": "display_data"
    }
   ],
   "source": [
    "# Rank customers by total spending\n",
    "customer_spending_sql = \"\"\"\n",
    "    SELECT\n",
    "        c.customer_id,\n",
    "        c.customer_name,\n",
    "        c.segment,\n",
    "        c.city,\n",
    "        SUM(s.sales_amount) AS total_spending,\n",
    "        RANK() OVER (ORDER BY SUM(s.sales_amount) DESC) AS rank\n",
    "    FROM sales s\n",
    "    JOIN customer c ON s.customer_id = c.customer_id\n",
    "    GROUP BY c.customer_id, c.customer_name, c.segment, c.city\n",
    "    ORDER BY rank\n",
    "\"\"\"\n",
    "print(f\"Customer Spending: {len(pd.read_sql(customer_spending_sql, conn))}\")\n",
    "display(pd.read_sql(customer_spending_sql + \"LIMIT 10\", conn))"
   ]
  },
  {
   "cell_type": "code",
   "execution_count": null,
   "id": "817cd6fe",
   "metadata": {},
   "outputs": [
    {
     "name": "stdout",
     "output_type": "stream",
     "text": [
      "Product Popularity: 49\n"
     ]
    },
    {
     "data": {
      "text/html": [
       "<div>\n",
       "<style scoped>\n",
       "    .dataframe tbody tr th:only-of-type {\n",
       "        vertical-align: middle;\n",
       "    }\n",
       "\n",
       "    .dataframe tbody tr th {\n",
       "        vertical-align: top;\n",
       "    }\n",
       "\n",
       "    .dataframe thead th {\n",
       "        text-align: right;\n",
       "    }\n",
       "</style>\n",
       "<table border=\"1\" class=\"dataframe\">\n",
       "  <thead>\n",
       "    <tr style=\"text-align: right;\">\n",
       "      <th></th>\n",
       "      <th>product_id</th>\n",
       "      <th>product_name</th>\n",
       "      <th>category</th>\n",
       "      <th>total_quantity</th>\n",
       "      <th>rank</th>\n",
       "    </tr>\n",
       "  </thead>\n",
       "  <tbody>\n",
       "    <tr>\n",
       "      <th>0</th>\n",
       "      <td>40</td>\n",
       "      <td>Product 40</td>\n",
       "      <td>Books</td>\n",
       "      <td>165</td>\n",
       "      <td>1</td>\n",
       "    </tr>\n",
       "    <tr>\n",
       "      <th>1</th>\n",
       "      <td>29</td>\n",
       "      <td>Product 29</td>\n",
       "      <td>Home</td>\n",
       "      <td>154</td>\n",
       "      <td>2</td>\n",
       "    </tr>\n",
       "    <tr>\n",
       "      <th>2</th>\n",
       "      <td>17</td>\n",
       "      <td>Product 17</td>\n",
       "      <td>Books</td>\n",
       "      <td>143</td>\n",
       "      <td>3</td>\n",
       "    </tr>\n",
       "    <tr>\n",
       "      <th>3</th>\n",
       "      <td>33</td>\n",
       "      <td>Product 33</td>\n",
       "      <td>Home</td>\n",
       "      <td>136</td>\n",
       "      <td>4</td>\n",
       "    </tr>\n",
       "    <tr>\n",
       "      <th>4</th>\n",
       "      <td>44</td>\n",
       "      <td>Product 44</td>\n",
       "      <td>Books</td>\n",
       "      <td>128</td>\n",
       "      <td>5</td>\n",
       "    </tr>\n",
       "    <tr>\n",
       "      <th>5</th>\n",
       "      <td>25</td>\n",
       "      <td>Product 25</td>\n",
       "      <td>Electronics</td>\n",
       "      <td>124</td>\n",
       "      <td>6</td>\n",
       "    </tr>\n",
       "    <tr>\n",
       "      <th>6</th>\n",
       "      <td>30</td>\n",
       "      <td>Product 30</td>\n",
       "      <td>Books</td>\n",
       "      <td>122</td>\n",
       "      <td>7</td>\n",
       "    </tr>\n",
       "    <tr>\n",
       "      <th>7</th>\n",
       "      <td>11</td>\n",
       "      <td>Product 11</td>\n",
       "      <td>Clothing</td>\n",
       "      <td>121</td>\n",
       "      <td>8</td>\n",
       "    </tr>\n",
       "    <tr>\n",
       "      <th>8</th>\n",
       "      <td>26</td>\n",
       "      <td>Product 26</td>\n",
       "      <td>Clothing</td>\n",
       "      <td>120</td>\n",
       "      <td>9</td>\n",
       "    </tr>\n",
       "    <tr>\n",
       "      <th>9</th>\n",
       "      <td>37</td>\n",
       "      <td>Product 37</td>\n",
       "      <td>Clothing</td>\n",
       "      <td>120</td>\n",
       "      <td>9</td>\n",
       "    </tr>\n",
       "  </tbody>\n",
       "</table>\n",
       "</div>"
      ],
      "text/plain": [
       "   product_id product_name     category  total_quantity  rank\n",
       "0          40   Product 40        Books             165     1\n",
       "1          29   Product 29         Home             154     2\n",
       "2          17   Product 17        Books             143     3\n",
       "3          33   Product 33         Home             136     4\n",
       "4          44   Product 44        Books             128     5\n",
       "5          25   Product 25  Electronics             124     6\n",
       "6          30   Product 30        Books             122     7\n",
       "7          11   Product 11     Clothing             121     8\n",
       "8          26   Product 26     Clothing             120     9\n",
       "9          37   Product 37     Clothing             120     9"
      ]
     },
     "metadata": {},
     "output_type": "display_data"
    }
   ],
   "source": [
    "# Rank products by quantity sold\n",
    "product_popularity_sql = \"\"\"\n",
    "    SELECT\n",
    "        p.product_id,\n",
    "        p.product_name,\n",
    "        p.category,\n",
    "        SUM(s.quantity) AS total_quantity,\n",
    "        RANK() OVER (ORDER BY SUM(s.quantity) DESC) AS rank\n",
    "    FROM sales s\n",
    "    JOIN product p ON s.product_id = p.product_id\n",
    "    GROUP BY p.product_id, p.product_name, p.category\n",
    "    ORDER BY rank\n",
    "\"\"\"\n",
    "print(f\"Product Popularity: {len(pd.read_sql(product_popularity_sql, conn))}\")\n",
    "display(pd.read_sql(product_popularity_sql + \"LIMIT 10\", conn))"
   ]
  },
  {
   "cell_type": "markdown",
   "id": "ed1c158c",
   "metadata": {},
   "source": [
    "## PySpark"
   ]
  },
  {
   "cell_type": "markdown",
   "id": "e6449a90",
   "metadata": {},
   "source": [
    "### Create"
   ]
  },
  {
   "cell_type": "code",
   "execution_count": null,
   "id": "f4869a6e",
   "metadata": {},
   "outputs": [
    {
     "name": "stderr",
     "output_type": "stream",
     "text": [
      "25/06/09 08:11:48 WARN Utils: Your hostname, DESKTOP-9MBK3JG resolves to a loopback address: 127.0.1.1; using 10.255.255.254 instead (on interface lo)\n",
      "25/06/09 08:11:48 WARN Utils: Set SPARK_LOCAL_IP if you need to bind to another address\n",
      "Setting default log level to \"WARN\".\n",
      "To adjust logging level use sc.setLogLevel(newLevel). For SparkR, use setLogLevel(newLevel).\n",
      "25/06/09 08:11:49 WARN NativeCodeLoader: Unable to load native-hadoop library for your platform... using builtin-java classes where applicable\n"
     ]
    }
   ],
   "source": [
    "spark: SparkSession = SparkSession.builder.appName(\"SalesAnalysis\").getOrCreate()"
   ]
  },
  {
   "cell_type": "code",
   "execution_count": null,
   "id": "328ec938",
   "metadata": {},
   "outputs": [],
   "source": [
    "df_sales_ps: psDataFrame = spark.createDataFrame(df_sales_pd)\n",
    "df_product_ps: psDataFrame = spark.createDataFrame(df_product_pd)\n",
    "df_customer_ps: psDataFrame = spark.createDataFrame(df_customer_pd)"
   ]
  },
  {
   "cell_type": "code",
   "execution_count": null,
   "id": "e536626b",
   "metadata": {},
   "outputs": [
    {
     "name": "stderr",
     "output_type": "stream",
     "text": [
      "                                                                                \r"
     ]
    },
    {
     "name": "stdout",
     "output_type": "stream",
     "text": [
      "Sales DataFrame: 1000\n",
      "+----------+-----------+----------+-----------+------------+--------+\n",
      "|      date|customer_id|product_id|   category|sales_amount|quantity|\n",
      "+----------+-----------+----------+-----------+------------+--------+\n",
      "|2023-01-01|         52|        34|      Books|      319.23|       2|\n",
      "|2023-01-02|         93|        45|       Food|      646.25|       6|\n",
      "|2023-01-03|         15|         6|       Food|      203.88|       2|\n",
      "|2023-01-04|         72|        37|      Books|      897.99|       3|\n",
      "|2023-01-05|         61|        33|      Books|      524.99|       4|\n",
      "|2023-01-06|         21|        22|   Clothing|      453.13|       5|\n",
      "|2023-01-07|         83|        21|   Clothing|      562.24|       9|\n",
      "|2023-01-08|         87|         6|       Food|      174.37|       4|\n",
      "|2023-01-09|         75|         6|Electronics|      617.34|       9|\n",
      "|2023-01-10|         75|        48|      Books|      369.47|       3|\n",
      "+----------+-----------+----------+-----------+------------+--------+\n",
      "only showing top 10 rows\n",
      "\n"
     ]
    }
   ],
   "source": [
    "print(f\"Sales DataFrame: {df_sales_ps.count()}\")\n",
    "df_sales_ps.show(10)"
   ]
  },
  {
   "cell_type": "code",
   "execution_count": null,
   "id": "f5dc4840",
   "metadata": {},
   "outputs": [
    {
     "name": "stdout",
     "output_type": "stream",
     "text": [
      "Product DataFrame: 50\n",
      "+----------+------------+------+-----------+-----------+\n",
      "|product_id|product_name| price|   category|supplier_id|\n",
      "+----------+------------+------+-----------+-----------+\n",
      "|         1|   Product 1|293.13|       Food|          6|\n",
      "|         2|   Product 2|434.39|       Food|          3|\n",
      "|         3|   Product 3|151.83|Electronics|          7|\n",
      "|         4|   Product 4|239.16|   Clothing|          5|\n",
      "|         5|   Product 5| 313.5|   Clothing|          4|\n",
      "|         6|   Product 6|211.48|Electronics|          5|\n",
      "|         7|   Product 7|219.47|   Clothing|          8|\n",
      "|         8|   Product 8|171.84|      Books|          3|\n",
      "|         9|   Product 9|286.47|Electronics|          7|\n",
      "|        10|  Product 10|426.78|      Books|          6|\n",
      "+----------+------------+------+-----------+-----------+\n",
      "only showing top 10 rows\n",
      "\n"
     ]
    }
   ],
   "source": [
    "print(f\"Product DataFrame: {df_product_ps.count()}\")\n",
    "df_product_ps.show(10)"
   ]
  },
  {
   "cell_type": "code",
   "execution_count": null,
   "id": "3789d88f",
   "metadata": {},
   "outputs": [
    {
     "name": "stdout",
     "output_type": "stream",
     "text": [
      "Customer DataFrame: 100\n",
      "+-----------+-------------+-----------+-----+-----------+\n",
      "|customer_id|customer_name|       city|state|    segment|\n",
      "+-----------+-------------+-----------+-----+-----------+\n",
      "|          1|   Customer 1|    Chicago|   AZ|   Consumer|\n",
      "|          2|   Customer 2|   New York|   IL|Home Office|\n",
      "|          3|   Customer 3|Los Angeles|   NY|  Corporate|\n",
      "|          4|   Customer 4|    Phoenix|   TX|   Consumer|\n",
      "|          5|   Customer 5|   New York|   IL|Home Office|\n",
      "|          6|   Customer 6|   New York|   TX|  Corporate|\n",
      "|          7|   Customer 7|Los Angeles|   NY|Home Office|\n",
      "|          8|   Customer 8|    Phoenix|   IL|   Consumer|\n",
      "|          9|   Customer 9|    Houston|   TX|  Corporate|\n",
      "|         10|  Customer 10|    Phoenix|   AZ|  Corporate|\n",
      "+-----------+-------------+-----------+-----+-----------+\n",
      "only showing top 10 rows\n",
      "\n"
     ]
    }
   ],
   "source": [
    "print(f\"Customer DataFrame: {df_customer_ps.count()}\")\n",
    "df_customer_ps.show(10)"
   ]
  },
  {
   "cell_type": "markdown",
   "id": "72b12d08",
   "metadata": {},
   "source": [
    "### 1. Filtering and Selecting"
   ]
  },
  {
   "cell_type": "code",
   "execution_count": null,
   "id": "2e2c48d8",
   "metadata": {},
   "outputs": [
    {
     "name": "stdout",
     "output_type": "stream",
     "text": [
      "Number of Electronics Sales: 188\n",
      "+-------------------+-----------+----------+-----------+------------+--------+\n",
      "|               date|customer_id|product_id|   category|sales_amount|quantity|\n",
      "+-------------------+-----------+----------+-----------+------------+--------+\n",
      "|2023-01-09 00:00:00|         75|         6|Electronics|      617.34|       9|\n",
      "|2023-01-17 00:00:00|         88|         9|Electronics|      735.31|       8|\n",
      "|2023-02-01 00:00:00|         42|         6|Electronics|      979.98|       7|\n",
      "|2023-02-10 00:00:00|         51|        45|Electronics|      973.72|       7|\n",
      "|2023-02-12 00:00:00|         64|         5|Electronics|      303.52|       8|\n",
      "|2023-02-24 00:00:00|          9|        26|Electronics|       251.9|       2|\n",
      "|2023-02-26 00:00:00|         53|        38|Electronics|       96.31|       5|\n",
      "|2023-03-17 00:00:00|         54|         1|Electronics|      175.46|       3|\n",
      "|2023-03-27 00:00:00|         95|        30|Electronics|      765.52|       5|\n",
      "|2023-03-30 00:00:00|         72|         5|Electronics|      904.57|       3|\n",
      "+-------------------+-----------+----------+-----------+------------+--------+\n",
      "only showing top 10 rows\n",
      "\n"
     ]
    }
   ],
   "source": [
    "# Filter sales data for specific category\n",
    "electronics_sales: psDataFrame = df_sales_ps.filter(df_sales_ps[\"category\"] == \"Electronics\")\n",
    "print(f\"Number of Electronics Sales: {electronics_sales.count()}\")\n",
    "electronics_sales.show(10)"
   ]
  },
  {
   "cell_type": "code",
   "execution_count": null,
   "id": "ac292bb8",
   "metadata": {},
   "outputs": [
    {
     "name": "stdout",
     "output_type": "stream",
     "text": [
      "Number of high-value Sales: 525\n",
      "+-------------------+-----------+----------+-----------+------------+--------+\n",
      "|               date|customer_id|product_id|   category|sales_amount|quantity|\n",
      "+-------------------+-----------+----------+-----------+------------+--------+\n",
      "|2023-01-02 00:00:00|         93|        45|       Food|      646.25|       6|\n",
      "|2023-01-04 00:00:00|         72|        37|      Books|      897.99|       3|\n",
      "|2023-01-05 00:00:00|         61|        33|      Books|      524.99|       4|\n",
      "|2023-01-07 00:00:00|         83|        21|   Clothing|      562.24|       9|\n",
      "|2023-01-09 00:00:00|         75|         6|Electronics|      617.34|       9|\n",
      "|2023-01-11 00:00:00|         88|         4|   Clothing|      898.21|       8|\n",
      "|2023-01-13 00:00:00|          3|        11|   Clothing|      511.98|       9|\n",
      "|2023-01-14 00:00:00|         22|        30|      Books|      602.13|       9|\n",
      "|2023-01-17 00:00:00|         88|         9|Electronics|      735.31|       8|\n",
      "|2023-01-18 00:00:00|         30|         3|       Home|      822.17|       7|\n",
      "+-------------------+-----------+----------+-----------+------------+--------+\n",
      "only showing top 10 rows\n",
      "\n"
     ]
    }
   ],
   "source": [
    "# Filter for high value transactions (over $500)\n",
    "high_value_sales: psDataFrame = df_sales_ps.filter(\"sales_amount > 500\")\n",
    "print(f\"Number of high-value Sales: {high_value_sales.count()}\")\n",
    "high_value_sales.show(10)"
   ]
  },
  {
   "cell_type": "code",
   "execution_count": null,
   "id": "2c882c0e",
   "metadata": {},
   "outputs": [
    {
     "name": "stdout",
     "output_type": "stream",
     "text": [
      "Sales Summary DataFrame: 1000\n",
      "+-------------------+-----------+------------+\n",
      "|               date|   category|sales_amount|\n",
      "+-------------------+-----------+------------+\n",
      "|2023-01-01 00:00:00|      Books|      319.23|\n",
      "|2023-01-02 00:00:00|       Food|      646.25|\n",
      "|2023-01-03 00:00:00|       Food|      203.88|\n",
      "|2023-01-04 00:00:00|      Books|      897.99|\n",
      "|2023-01-05 00:00:00|      Books|      524.99|\n",
      "|2023-01-06 00:00:00|   Clothing|      453.13|\n",
      "|2023-01-07 00:00:00|   Clothing|      562.24|\n",
      "|2023-01-08 00:00:00|       Food|      174.37|\n",
      "|2023-01-09 00:00:00|Electronics|      617.34|\n",
      "|2023-01-10 00:00:00|      Books|      369.47|\n",
      "+-------------------+-----------+------------+\n",
      "only showing top 10 rows\n",
      "\n"
     ]
    }
   ],
   "source": [
    "# Select specific columns\n",
    "sales_summary: psDataFrame = df_sales_ps.select(\"date\", \"category\", \"sales_amount\")\n",
    "print(f\"Sales Summary DataFrame: {sales_summary.count()}\")\n",
    "sales_summary.show(10)"
   ]
  },
  {
   "cell_type": "markdown",
   "id": "923c28b3",
   "metadata": {},
   "source": [
    "### 2. Grouping and Aggregation"
   ]
  },
  {
   "cell_type": "code",
   "execution_count": null,
   "id": "6444bb93",
   "metadata": {},
   "outputs": [
    {
     "name": "stdout",
     "output_type": "stream",
     "text": [
      "Sales Statistics: 1\n",
      "+-----------------+-----------------+---------+---------+-----------+------------+-------------+------------+------------+\n",
      "|        sales_sum|       sales_mean|sales_min|sales_max|sales_count|quantity_sum|quantity_mean|quantity_min|quantity_max|\n",
      "+-----------------+-----------------+---------+---------+-----------+------------+-------------+------------+------------+\n",
      "|512657.6699999999|512.6576699999999|    10.19|   999.72|       1000|        5035|        5.035|           1|           9|\n",
      "+-----------------+-----------------+---------+---------+-----------+------------+-------------+------------+------------+\n",
      "\n"
     ]
    }
   ],
   "source": [
    "# Basic aggregation\n",
    "sales_stats: psDataFrame = df_sales_ps.agg(\n",
    "    F.sum(\"sales_amount\").alias(\"sales_sum\"),\n",
    "    F.avg(\"sales_amount\").alias(\"sales_mean\"),\n",
    "    F.expr(\"MIN(sales_amount) AS sales_min\"),\n",
    "    F.expr(\"MAX(sales_amount) AS sales_max\"),\n",
    "    F.count(\"*\").alias(\"sales_count\"),\n",
    "    F.expr(\"SUM(quantity) AS quantity_sum\"),\n",
    "    F.expr(\"AVG(quantity) AS quantity_mean\"),\n",
    "    F.min(\"quantity\").alias(\"quantity_min\"),\n",
    "    F.max(\"quantity\").alias(\"quantity_max\"),\n",
    ")\n",
    "print(f\"Sales Statistics: {sales_stats.count()}\")\n",
    "sales_stats.show()"
   ]
  },
  {
   "cell_type": "code",
   "execution_count": null,
   "id": "22f2ba6e",
   "metadata": {},
   "outputs": [
    {
     "name": "stdout",
     "output_type": "stream",
     "text": [
      "Category Sales Summary: 5\n",
      "+-----------+------------------+------------------+-----------------+--------------+\n",
      "|   category|       total_sales|     average_sales|transaction_count|total_quantity|\n",
      "+-----------+------------------+------------------+-----------------+--------------+\n",
      "|       Home|         112101.05| 533.8145238095238|              210|          1093|\n",
      "|       Food| 85217.48999999999|504.24550295857983|              169|           847|\n",
      "|Electronics|          90232.28| 479.9589361702128|              188|           946|\n",
      "|   Clothing|112682.25999999998| 536.5821904761904|              210|           992|\n",
      "|      Books|112424.59000000001| 504.1461434977579|              223|          1157|\n",
      "+-----------+------------------+------------------+-----------------+--------------+\n",
      "\n"
     ]
    }
   ],
   "source": [
    "# Group by category and aggregate\n",
    "category_sales: psDataFrame = df_sales_ps.groupBy(\"category\").agg(\n",
    "    F.sum(\"sales_amount\").alias(\"total_sales\"),\n",
    "    F.avg(\"sales_amount\").alias(\"average_sales\"),\n",
    "    F.count(\"*\").alias(\"transaction_count\"),\n",
    "    F.sum(\"quantity\").alias(\"total_quantity\"),\n",
    ")\n",
    "print(f\"Category Sales Summary: {category_sales.count()}\")\n",
    "category_sales.show()"
   ]
  },
  {
   "cell_type": "code",
   "execution_count": null,
   "id": "71205987",
   "metadata": {},
   "outputs": [
    {
     "name": "stdout",
     "output_type": "stream",
     "text": [
      "Renamed Category Sales Summary: 5\n",
      "+-----------+------------------+------------------+-----------------+--------------+\n",
      "|   category|       Total Sales|     Average Sales|Transaction Count|Total Quantity|\n",
      "+-----------+------------------+------------------+-----------------+--------------+\n",
      "|       Home|         112101.05| 533.8145238095238|              210|          1093|\n",
      "|       Food| 85217.48999999999|504.24550295857983|              169|           847|\n",
      "|Electronics|          90232.28| 479.9589361702128|              188|           946|\n",
      "|   Clothing|112682.25999999998| 536.5821904761904|              210|           992|\n",
      "|      Books|112424.59000000001| 504.1461434977579|              223|          1157|\n",
      "+-----------+------------------+------------------+-----------------+--------------+\n",
      "\n"
     ]
    }
   ],
   "source": [
    "# Rename columns for clarity\n",
    "category_sales = category_sales.withColumnsRenamed(\n",
    "    {\n",
    "        \"total_sales\": \"Total Sales\",\n",
    "        \"average_sales\": \"Average Sales\",\n",
    "        \"transaction_count\": \"Transaction Count\",\n",
    "        \"total_quantity\": \"Total Quantity\",\n",
    "    }\n",
    ")\n",
    "print(f\"Renamed Category Sales Summary: {category_sales.count()}\")\n",
    "category_sales.show()"
   ]
  },
  {
   "cell_type": "code",
   "execution_count": null,
   "id": "e9908d79",
   "metadata": {},
   "outputs": [
    {
     "data": {
      "application/vnd.plotly.v1+json": {
       "config": {
        "plotlyServerURL": "https://plot.ly"
       },
       "data": [
        {
         "hovertemplate": "Product Category=%{x}<br>Total Sales ($)=%{y}<br>Transaction Count=%{text}<extra></extra>",
         "legendgroup": "",
         "marker": {
          "color": "#636efa",
          "pattern": {
           "shape": ""
          }
         },
         "name": "",
         "orientation": "v",
         "showlegend": false,
         "text": {
          "bdata": "AAAAAABAakAAAAAAACBlQAAAAAAAgGdAAAAAAABAakAAAAAAAOBrQA==",
          "dtype": "f8"
         },
         "textposition": "auto",
         "type": "bar",
         "x": [
          "Home",
          "Food",
          "Electronics",
          "Clothing",
          "Books"
         ],
         "xaxis": "x",
         "y": {
          "bdata": "zczMzFBe+0BwPQrXF870QK5H4XqEB/ZAjsL1KKSC+0AL16NwiXL7QA==",
          "dtype": "f8"
         },
         "yaxis": "y"
        }
       ],
       "layout": {
        "barmode": "relative",
        "legend": {
         "tracegroupgap": 0
        },
        "template": {
         "data": {
          "bar": [
           {
            "error_x": {
             "color": "#2a3f5f"
            },
            "error_y": {
             "color": "#2a3f5f"
            },
            "marker": {
             "line": {
              "color": "#E5ECF6",
              "width": 0.5
             },
             "pattern": {
              "fillmode": "overlay",
              "size": 10,
              "solidity": 0.2
             }
            },
            "type": "bar"
           }
          ],
          "barpolar": [
           {
            "marker": {
             "line": {
              "color": "#E5ECF6",
              "width": 0.5
             },
             "pattern": {
              "fillmode": "overlay",
              "size": 10,
              "solidity": 0.2
             }
            },
            "type": "barpolar"
           }
          ],
          "carpet": [
           {
            "aaxis": {
             "endlinecolor": "#2a3f5f",
             "gridcolor": "white",
             "linecolor": "white",
             "minorgridcolor": "white",
             "startlinecolor": "#2a3f5f"
            },
            "baxis": {
             "endlinecolor": "#2a3f5f",
             "gridcolor": "white",
             "linecolor": "white",
             "minorgridcolor": "white",
             "startlinecolor": "#2a3f5f"
            },
            "type": "carpet"
           }
          ],
          "choropleth": [
           {
            "colorbar": {
             "outlinewidth": 0,
             "ticks": ""
            },
            "type": "choropleth"
           }
          ],
          "contour": [
           {
            "colorbar": {
             "outlinewidth": 0,
             "ticks": ""
            },
            "colorscale": [
             [
              0,
              "#0d0887"
             ],
             [
              0.1111111111111111,
              "#46039f"
             ],
             [
              0.2222222222222222,
              "#7201a8"
             ],
             [
              0.3333333333333333,
              "#9c179e"
             ],
             [
              0.4444444444444444,
              "#bd3786"
             ],
             [
              0.5555555555555556,
              "#d8576b"
             ],
             [
              0.6666666666666666,
              "#ed7953"
             ],
             [
              0.7777777777777778,
              "#fb9f3a"
             ],
             [
              0.8888888888888888,
              "#fdca26"
             ],
             [
              1,
              "#f0f921"
             ]
            ],
            "type": "contour"
           }
          ],
          "contourcarpet": [
           {
            "colorbar": {
             "outlinewidth": 0,
             "ticks": ""
            },
            "type": "contourcarpet"
           }
          ],
          "heatmap": [
           {
            "colorbar": {
             "outlinewidth": 0,
             "ticks": ""
            },
            "colorscale": [
             [
              0,
              "#0d0887"
             ],
             [
              0.1111111111111111,
              "#46039f"
             ],
             [
              0.2222222222222222,
              "#7201a8"
             ],
             [
              0.3333333333333333,
              "#9c179e"
             ],
             [
              0.4444444444444444,
              "#bd3786"
             ],
             [
              0.5555555555555556,
              "#d8576b"
             ],
             [
              0.6666666666666666,
              "#ed7953"
             ],
             [
              0.7777777777777778,
              "#fb9f3a"
             ],
             [
              0.8888888888888888,
              "#fdca26"
             ],
             [
              1,
              "#f0f921"
             ]
            ],
            "type": "heatmap"
           }
          ],
          "histogram": [
           {
            "marker": {
             "pattern": {
              "fillmode": "overlay",
              "size": 10,
              "solidity": 0.2
             }
            },
            "type": "histogram"
           }
          ],
          "histogram2d": [
           {
            "colorbar": {
             "outlinewidth": 0,
             "ticks": ""
            },
            "colorscale": [
             [
              0,
              "#0d0887"
             ],
             [
              0.1111111111111111,
              "#46039f"
             ],
             [
              0.2222222222222222,
              "#7201a8"
             ],
             [
              0.3333333333333333,
              "#9c179e"
             ],
             [
              0.4444444444444444,
              "#bd3786"
             ],
             [
              0.5555555555555556,
              "#d8576b"
             ],
             [
              0.6666666666666666,
              "#ed7953"
             ],
             [
              0.7777777777777778,
              "#fb9f3a"
             ],
             [
              0.8888888888888888,
              "#fdca26"
             ],
             [
              1,
              "#f0f921"
             ]
            ],
            "type": "histogram2d"
           }
          ],
          "histogram2dcontour": [
           {
            "colorbar": {
             "outlinewidth": 0,
             "ticks": ""
            },
            "colorscale": [
             [
              0,
              "#0d0887"
             ],
             [
              0.1111111111111111,
              "#46039f"
             ],
             [
              0.2222222222222222,
              "#7201a8"
             ],
             [
              0.3333333333333333,
              "#9c179e"
             ],
             [
              0.4444444444444444,
              "#bd3786"
             ],
             [
              0.5555555555555556,
              "#d8576b"
             ],
             [
              0.6666666666666666,
              "#ed7953"
             ],
             [
              0.7777777777777778,
              "#fb9f3a"
             ],
             [
              0.8888888888888888,
              "#fdca26"
             ],
             [
              1,
              "#f0f921"
             ]
            ],
            "type": "histogram2dcontour"
           }
          ],
          "mesh3d": [
           {
            "colorbar": {
             "outlinewidth": 0,
             "ticks": ""
            },
            "type": "mesh3d"
           }
          ],
          "parcoords": [
           {
            "line": {
             "colorbar": {
              "outlinewidth": 0,
              "ticks": ""
             }
            },
            "type": "parcoords"
           }
          ],
          "pie": [
           {
            "automargin": true,
            "type": "pie"
           }
          ],
          "scatter": [
           {
            "fillpattern": {
             "fillmode": "overlay",
             "size": 10,
             "solidity": 0.2
            },
            "type": "scatter"
           }
          ],
          "scatter3d": [
           {
            "line": {
             "colorbar": {
              "outlinewidth": 0,
              "ticks": ""
             }
            },
            "marker": {
             "colorbar": {
              "outlinewidth": 0,
              "ticks": ""
             }
            },
            "type": "scatter3d"
           }
          ],
          "scattercarpet": [
           {
            "marker": {
             "colorbar": {
              "outlinewidth": 0,
              "ticks": ""
             }
            },
            "type": "scattercarpet"
           }
          ],
          "scattergeo": [
           {
            "marker": {
             "colorbar": {
              "outlinewidth": 0,
              "ticks": ""
             }
            },
            "type": "scattergeo"
           }
          ],
          "scattergl": [
           {
            "marker": {
             "colorbar": {
              "outlinewidth": 0,
              "ticks": ""
             }
            },
            "type": "scattergl"
           }
          ],
          "scattermap": [
           {
            "marker": {
             "colorbar": {
              "outlinewidth": 0,
              "ticks": ""
             }
            },
            "type": "scattermap"
           }
          ],
          "scattermapbox": [
           {
            "marker": {
             "colorbar": {
              "outlinewidth": 0,
              "ticks": ""
             }
            },
            "type": "scattermapbox"
           }
          ],
          "scatterpolar": [
           {
            "marker": {
             "colorbar": {
              "outlinewidth": 0,
              "ticks": ""
             }
            },
            "type": "scatterpolar"
           }
          ],
          "scatterpolargl": [
           {
            "marker": {
             "colorbar": {
              "outlinewidth": 0,
              "ticks": ""
             }
            },
            "type": "scatterpolargl"
           }
          ],
          "scatterternary": [
           {
            "marker": {
             "colorbar": {
              "outlinewidth": 0,
              "ticks": ""
             }
            },
            "type": "scatterternary"
           }
          ],
          "surface": [
           {
            "colorbar": {
             "outlinewidth": 0,
             "ticks": ""
            },
            "colorscale": [
             [
              0,
              "#0d0887"
             ],
             [
              0.1111111111111111,
              "#46039f"
             ],
             [
              0.2222222222222222,
              "#7201a8"
             ],
             [
              0.3333333333333333,
              "#9c179e"
             ],
             [
              0.4444444444444444,
              "#bd3786"
             ],
             [
              0.5555555555555556,
              "#d8576b"
             ],
             [
              0.6666666666666666,
              "#ed7953"
             ],
             [
              0.7777777777777778,
              "#fb9f3a"
             ],
             [
              0.8888888888888888,
              "#fdca26"
             ],
             [
              1,
              "#f0f921"
             ]
            ],
            "type": "surface"
           }
          ],
          "table": [
           {
            "cells": {
             "fill": {
              "color": "#EBF0F8"
             },
             "line": {
              "color": "white"
             }
            },
            "header": {
             "fill": {
              "color": "#C8D4E3"
             },
             "line": {
              "color": "white"
             }
            },
            "type": "table"
           }
          ]
         },
         "layout": {
          "annotationdefaults": {
           "arrowcolor": "#2a3f5f",
           "arrowhead": 0,
           "arrowwidth": 1
          },
          "autotypenumbers": "strict",
          "coloraxis": {
           "colorbar": {
            "outlinewidth": 0,
            "ticks": ""
           }
          },
          "colorscale": {
           "diverging": [
            [
             0,
             "#8e0152"
            ],
            [
             0.1,
             "#c51b7d"
            ],
            [
             0.2,
             "#de77ae"
            ],
            [
             0.3,
             "#f1b6da"
            ],
            [
             0.4,
             "#fde0ef"
            ],
            [
             0.5,
             "#f7f7f7"
            ],
            [
             0.6,
             "#e6f5d0"
            ],
            [
             0.7,
             "#b8e186"
            ],
            [
             0.8,
             "#7fbc41"
            ],
            [
             0.9,
             "#4d9221"
            ],
            [
             1,
             "#276419"
            ]
           ],
           "sequential": [
            [
             0,
             "#0d0887"
            ],
            [
             0.1111111111111111,
             "#46039f"
            ],
            [
             0.2222222222222222,
             "#7201a8"
            ],
            [
             0.3333333333333333,
             "#9c179e"
            ],
            [
             0.4444444444444444,
             "#bd3786"
            ],
            [
             0.5555555555555556,
             "#d8576b"
            ],
            [
             0.6666666666666666,
             "#ed7953"
            ],
            [
             0.7777777777777778,
             "#fb9f3a"
            ],
            [
             0.8888888888888888,
             "#fdca26"
            ],
            [
             1,
             "#f0f921"
            ]
           ],
           "sequentialminus": [
            [
             0,
             "#0d0887"
            ],
            [
             0.1111111111111111,
             "#46039f"
            ],
            [
             0.2222222222222222,
             "#7201a8"
            ],
            [
             0.3333333333333333,
             "#9c179e"
            ],
            [
             0.4444444444444444,
             "#bd3786"
            ],
            [
             0.5555555555555556,
             "#d8576b"
            ],
            [
             0.6666666666666666,
             "#ed7953"
            ],
            [
             0.7777777777777778,
             "#fb9f3a"
            ],
            [
             0.8888888888888888,
             "#fdca26"
            ],
            [
             1,
             "#f0f921"
            ]
           ]
          },
          "colorway": [
           "#636efa",
           "#EF553B",
           "#00cc96",
           "#ab63fa",
           "#FFA15A",
           "#19d3f3",
           "#FF6692",
           "#B6E880",
           "#FF97FF",
           "#FECB52"
          ],
          "font": {
           "color": "#2a3f5f"
          },
          "geo": {
           "bgcolor": "white",
           "lakecolor": "white",
           "landcolor": "#E5ECF6",
           "showlakes": true,
           "showland": true,
           "subunitcolor": "white"
          },
          "hoverlabel": {
           "align": "left"
          },
          "hovermode": "closest",
          "mapbox": {
           "style": "light"
          },
          "paper_bgcolor": "white",
          "plot_bgcolor": "#E5ECF6",
          "polar": {
           "angularaxis": {
            "gridcolor": "white",
            "linecolor": "white",
            "ticks": ""
           },
           "bgcolor": "#E5ECF6",
           "radialaxis": {
            "gridcolor": "white",
            "linecolor": "white",
            "ticks": ""
           }
          },
          "scene": {
           "xaxis": {
            "backgroundcolor": "#E5ECF6",
            "gridcolor": "white",
            "gridwidth": 2,
            "linecolor": "white",
            "showbackground": true,
            "ticks": "",
            "zerolinecolor": "white"
           },
           "yaxis": {
            "backgroundcolor": "#E5ECF6",
            "gridcolor": "white",
            "gridwidth": 2,
            "linecolor": "white",
            "showbackground": true,
            "ticks": "",
            "zerolinecolor": "white"
           },
           "zaxis": {
            "backgroundcolor": "#E5ECF6",
            "gridcolor": "white",
            "gridwidth": 2,
            "linecolor": "white",
            "showbackground": true,
            "ticks": "",
            "zerolinecolor": "white"
           }
          },
          "shapedefaults": {
           "line": {
            "color": "#2a3f5f"
           }
          },
          "ternary": {
           "aaxis": {
            "gridcolor": "white",
            "linecolor": "white",
            "ticks": ""
           },
           "baxis": {
            "gridcolor": "white",
            "linecolor": "white",
            "ticks": ""
           },
           "bgcolor": "#E5ECF6",
           "caxis": {
            "gridcolor": "white",
            "linecolor": "white",
            "ticks": ""
           }
          },
          "title": {
           "x": 0.05
          },
          "xaxis": {
           "automargin": true,
           "gridcolor": "white",
           "linecolor": "white",
           "ticks": "",
           "title": {
            "standoff": 15
           },
           "zerolinecolor": "white",
           "zerolinewidth": 2
          },
          "yaxis": {
           "automargin": true,
           "gridcolor": "white",
           "linecolor": "white",
           "ticks": "",
           "title": {
            "standoff": 15
           },
           "zerolinecolor": "white",
           "zerolinewidth": 2
          }
         }
        },
        "title": {
         "text": "Total Sales by Category"
        },
        "xaxis": {
         "anchor": "y",
         "domain": [
          0,
          1
         ],
         "title": {
          "text": "Product Category"
         }
        },
        "yaxis": {
         "anchor": "x",
         "domain": [
          0,
          1
         ],
         "title": {
          "text": "Total Sales ($)"
         }
        }
       }
      }
     },
     "metadata": {},
     "output_type": "display_data"
    }
   ],
   "source": [
    "# Convert to pandas for plotting with plotly\n",
    "category_sales_pd: pd.DataFrame = category_sales.toPandas()\n",
    "fig: go.Figure = px.bar(\n",
    "    category_sales_pd,\n",
    "    x=\"category\",\n",
    "    y=\"Total Sales\",\n",
    "    title=\"Total Sales by Category\",\n",
    "    text=\"Transaction Count\",\n",
    "    labels={\"Total Sales\": \"Total Sales ($)\", \"category\": \"Product Category\"},\n",
    ")\n",
    "fig.show()"
   ]
  },
  {
   "cell_type": "markdown",
   "id": "fdea88b5",
   "metadata": {},
   "source": [
    "### 3. Joining"
   ]
  },
  {
   "cell_type": "code",
   "execution_count": null,
   "id": "54ada949",
   "metadata": {},
   "outputs": [
    {
     "name": "stdout",
     "output_type": "stream",
     "text": [
      "Sales with Product Information: 1000\n",
      "+----------+-------------------+-----------+-----------+------------+--------+------------+------+\n",
      "|product_id|               date|customer_id|   category|sales_amount|quantity|product_name| price|\n",
      "+----------+-------------------+-----------+-----------+------------+--------+------------+------+\n",
      "|        22|2023-01-06 00:00:00|         21|   Clothing|      453.13|       5|  Product 22|154.09|\n",
      "|        34|2023-01-01 00:00:00|         52|      Books|      319.23|       2|  Product 34|301.18|\n",
      "|         6|2023-01-03 00:00:00|         15|       Food|      203.88|       2|   Product 6|211.48|\n",
      "|         6|2023-01-08 00:00:00|         87|       Food|      174.37|       4|   Product 6|211.48|\n",
      "|         6|2023-01-09 00:00:00|         75|Electronics|      617.34|       9|   Product 6|211.48|\n",
      "|        33|2023-01-05 00:00:00|         61|      Books|      524.99|       4|  Product 33|341.48|\n",
      "|        48|2023-01-10 00:00:00|         75|      Books|      369.47|       3|  Product 48| 74.18|\n",
      "|        37|2023-01-04 00:00:00|         72|      Books|      897.99|       3|  Product 37|291.93|\n",
      "|         4|2023-01-11 00:00:00|         88|   Clothing|      898.21|       8|   Product 4|239.16|\n",
      "|        21|2023-01-07 00:00:00|         83|   Clothing|      562.24|       9|  Product 21|496.06|\n",
      "+----------+-------------------+-----------+-----------+------------+--------+------------+------+\n",
      "only showing top 10 rows\n",
      "\n"
     ]
    }
   ],
   "source": [
    "# Join sales with product data\n",
    "sales_with_product: psDataFrame = df_sales_ps.join(\n",
    "    other=df_product_ps.select(\"product_id\", \"product_name\", \"price\"),\n",
    "    on=\"product_id\",\n",
    "    how=\"left\",\n",
    ")\n",
    "print(f\"Sales with Product Information: {sales_with_product.count()}\")\n",
    "sales_with_product.show(10)"
   ]
  },
  {
   "cell_type": "code",
   "execution_count": null,
   "id": "1af32125",
   "metadata": {},
   "outputs": [
    {
     "name": "stdout",
     "output_type": "stream",
     "text": [
      "Complete Sales Data with Customer Information: 1000\n",
      "+-----------+----------+-------------------+-----------+------------+--------+------------+------+-------------+--------+-----+\n",
      "|customer_id|product_id|               date|   category|sales_amount|quantity|product_name| price|customer_name|    city|state|\n",
      "+-----------+----------+-------------------+-----------+------------+--------+------------+------+-------------+--------+-----+\n",
      "|         21|        22|2023-01-06 00:00:00|   Clothing|      453.13|       5|  Product 22|154.09|  Customer 21| Phoenix|   NY|\n",
      "|         52|        34|2023-01-01 00:00:00|      Books|      319.23|       2|  Product 34|301.18|  Customer 52| Houston|   CA|\n",
      "|         15|         6|2023-01-03 00:00:00|       Food|      203.88|       2|   Product 6|211.48|  Customer 15| Chicago|   IL|\n",
      "|         87|         6|2023-01-08 00:00:00|       Food|      174.37|       4|   Product 6|211.48|  Customer 87| Houston|   AZ|\n",
      "|         75|         6|2023-01-09 00:00:00|Electronics|      617.34|       9|   Product 6|211.48|  Customer 75| Houston|   TX|\n",
      "|         61|        33|2023-01-05 00:00:00|      Books|      524.99|       4|  Product 33|341.48|  Customer 61| Houston|   AZ|\n",
      "|         75|        48|2023-01-10 00:00:00|      Books|      369.47|       3|  Product 48| 74.18|  Customer 75| Houston|   TX|\n",
      "|         72|        37|2023-01-04 00:00:00|      Books|      897.99|       3|  Product 37|291.93|  Customer 72|New York|   CA|\n",
      "|         88|         4|2023-01-11 00:00:00|   Clothing|      898.21|       8|   Product 4|239.16|  Customer 88| Chicago|   CA|\n",
      "|         83|        21|2023-01-07 00:00:00|   Clothing|      562.24|       9|  Product 21|496.06|  Customer 83|New York|   CA|\n",
      "+-----------+----------+-------------------+-----------+------------+--------+------------+------+-------------+--------+-----+\n",
      "only showing top 10 rows\n",
      "\n"
     ]
    }
   ],
   "source": [
    "# Join with customer information to get a complete view\n",
    "complete_sales: psDataFrame = sales_with_product.alias(\"s\").join(\n",
    "    other=df_customer_ps.select(\"customer_id\", \"customer_name\", \"city\", \"state\").alias(\"c\"),\n",
    "    on=\"customer_id\",\n",
    "    how=\"left\",\n",
    ")\n",
    "print(f\"Complete Sales Data with Customer Information: {complete_sales.count()}\")\n",
    "complete_sales.show(10)"
   ]
  },
  {
   "cell_type": "code",
   "execution_count": null,
   "id": "81eef3bc",
   "metadata": {},
   "outputs": [
    {
     "name": "stderr",
     "output_type": "stream",
     "text": [
      "                                                                                \r"
     ]
    },
    {
     "name": "stdout",
     "output_type": "stream",
     "text": [
      "Complete Sales Data with Calculated Revenue and Price Difference: 1000\n",
      "+------------+------+--------+------------------+-------------------+\n",
      "|sales_amount| price|quantity|calculated_revenue|   price_difference|\n",
      "+------------+------+--------+------------------+-------------------+\n",
      "|      453.13|154.09|       5|            770.45|-317.32000000000005|\n",
      "|      319.23|301.18|       2|            602.36|            -283.13|\n",
      "|      203.88|211.48|       2|            422.96|-219.07999999999998|\n",
      "|      174.37|211.48|       4|            845.92|            -671.55|\n",
      "|      617.34|211.48|       9|           1903.32|           -1285.98|\n",
      "|      524.99|341.48|       4|           1365.92| -840.9300000000001|\n",
      "|      369.47| 74.18|       3|222.54000000000002|             146.93|\n",
      "|      897.99|291.93|       3|            875.79| 22.200000000000045|\n",
      "|      898.21|239.16|       8|           1913.28|-1015.0699999999999|\n",
      "|      562.24|496.06|       9|           4464.54|            -3902.3|\n",
      "+------------+------+--------+------------------+-------------------+\n",
      "only showing top 10 rows\n",
      "\n"
     ]
    }
   ],
   "source": [
    "# Calculate revenue (price * quantity) and compare with sales amount\n",
    "complete_sales = complete_sales.withColumns(\n",
    "    {\n",
    "        \"calculated_revenue\": complete_sales[\"price\"] * complete_sales[\"quantity\"],\n",
    "        \"price_difference\": F.expr(\"sales_amount - (price * quantity)\"),\n",
    "    },\n",
    ")\n",
    "print(f\"Complete Sales Data with Calculated Revenue and Price Difference: {complete_sales.count()}\")\n",
    "complete_sales.select(\"sales_amount\", \"price\", \"quantity\", \"calculated_revenue\", \"price_difference\").show(10)"
   ]
  },
  {
   "cell_type": "markdown",
   "id": "1f99a2ad",
   "metadata": {},
   "source": [
    "### 4. Window Functions"
   ]
  },
  {
   "cell_type": "code",
   "execution_count": null,
   "id": "273cc571",
   "metadata": {},
   "outputs": [],
   "source": [
    "# Convert date column to date type if not already\n",
    "df_sales_ps = df_sales_ps.withColumn(\"date\", F.to_date(df_sales_ps[\"date\"]))"
   ]
  },
  {
   "cell_type": "code",
   "execution_count": null,
   "id": "4f8b43ee",
   "metadata": {},
   "outputs": [
    {
     "name": "stdout",
     "output_type": "stream",
     "text": [
      "Daily Sales Summary: 1000\n",
      "+----------+-----------+\n",
      "|      date|total_sales|\n",
      "+----------+-----------+\n",
      "|2023-01-01|     319.23|\n",
      "|2023-01-02|     646.25|\n",
      "|2023-01-03|     203.88|\n",
      "|2023-01-04|     897.99|\n",
      "|2023-01-05|     524.99|\n",
      "|2023-01-06|     453.13|\n",
      "|2023-01-07|     562.24|\n",
      "|2023-01-08|     174.37|\n",
      "|2023-01-09|     617.34|\n",
      "|2023-01-10|     369.47|\n",
      "+----------+-----------+\n",
      "only showing top 10 rows\n",
      "\n"
     ]
    }
   ],
   "source": [
    "# Time-based window function\n",
    "daily_sales: psDataFrame = (\n",
    "    df_sales_ps.groupBy(\"date\")\n",
    "    .agg(\n",
    "        F.sum(\"sales_amount\").alias(\"total_sales\"),\n",
    "    )\n",
    "    .orderBy(\"date\")\n",
    ")\n",
    "print(f\"Daily Sales Summary: {daily_sales.count()}\")\n",
    "daily_sales.show(10)"
   ]
  },
  {
   "cell_type": "code",
   "execution_count": null,
   "id": "d77d7573",
   "metadata": {},
   "outputs": [
    {
     "name": "stdout",
     "output_type": "stream",
     "text": [
      "Daily Sales with Lead and Lag: 1000\n"
     ]
    },
    {
     "name": "stderr",
     "output_type": "stream",
     "text": [
      "25/06/09 08:32:57 WARN WindowExec: No Partition Defined for Window operation! Moving all data to a single partition, this can cause serious performance degradation.\n",
      "25/06/09 08:32:57 WARN WindowExec: No Partition Defined for Window operation! Moving all data to a single partition, this can cause serious performance degradation.\n",
      "25/06/09 08:32:57 WARN WindowExec: No Partition Defined for Window operation! Moving all data to a single partition, this can cause serious performance degradation.\n",
      "25/06/09 08:32:57 WARN WindowExec: No Partition Defined for Window operation! Moving all data to a single partition, this can cause serious performance degradation.\n",
      "25/06/09 08:32:57 WARN WindowExec: No Partition Defined for Window operation! Moving all data to a single partition, this can cause serious performance degradation.\n",
      "25/06/09 08:32:57 WARN WindowExec: No Partition Defined for Window operation! Moving all data to a single partition, this can cause serious performance degradation.\n",
      "25/06/09 08:32:57 WARN WindowExec: No Partition Defined for Window operation! Moving all data to a single partition, this can cause serious performance degradation.\n",
      "25/06/09 08:32:57 WARN WindowExec: No Partition Defined for Window operation! Moving all data to a single partition, this can cause serious performance degradation.\n",
      "25/06/09 08:32:57 WARN WindowExec: No Partition Defined for Window operation! Moving all data to a single partition, this can cause serious performance degradation.\n"
     ]
    },
    {
     "name": "stdout",
     "output_type": "stream",
     "text": [
      "+----------+-----------+------------------+--------------+\n",
      "|      date|total_sales|previous_day_sales|next_day_sales|\n",
      "+----------+-----------+------------------+--------------+\n",
      "|2023-01-01|     319.23|              NULL|        646.25|\n",
      "|2023-01-02|     646.25|            319.23|        203.88|\n",
      "|2023-01-03|     203.88|            646.25|        897.99|\n",
      "|2023-01-04|     897.99|            203.88|        524.99|\n",
      "|2023-01-05|     524.99|            897.99|        453.13|\n",
      "|2023-01-06|     453.13|            524.99|        562.24|\n",
      "|2023-01-07|     562.24|            453.13|        174.37|\n",
      "|2023-01-08|     174.37|            562.24|        617.34|\n",
      "|2023-01-09|     617.34|            174.37|        369.47|\n",
      "|2023-01-10|     369.47|            617.34|        898.21|\n",
      "+----------+-----------+------------------+--------------+\n",
      "only showing top 10 rows\n",
      "\n"
     ]
    }
   ],
   "source": [
    "# Define a window specification for lead/lag functions\n",
    "window_spec = Window.orderBy(\"date\")\n",
    "\n",
    "# Calculate lead and lag\n",
    "daily_sales = daily_sales.withColumns(\n",
    "    {\n",
    "        \"previous_day_sales\": F.lag(\"total_sales\").over(window_spec),\n",
    "        \"next_day_sales\": F.expr(\"LEAD(total_sales) OVER (ORDER BY date)\"),\n",
    "    },\n",
    ")\n",
    "print(f\"Daily Sales with Lead and Lag: {daily_sales.count()}\")\n",
    "daily_sales.show(10)"
   ]
  },
  {
   "cell_type": "code",
   "execution_count": null,
   "id": "a63842fa",
   "metadata": {},
   "outputs": [
    {
     "name": "stdout",
     "output_type": "stream",
     "text": [
      "Daily Sales with Day-over-Day Change: 1000\n"
     ]
    },
    {
     "name": "stderr",
     "output_type": "stream",
     "text": [
      "25/06/09 08:33:04 WARN WindowExec: No Partition Defined for Window operation! Moving all data to a single partition, this can cause serious performance degradation.\n",
      "25/06/09 08:33:04 WARN WindowExec: No Partition Defined for Window operation! Moving all data to a single partition, this can cause serious performance degradation.\n",
      "25/06/09 08:33:04 WARN WindowExec: No Partition Defined for Window operation! Moving all data to a single partition, this can cause serious performance degradation.\n",
      "25/06/09 08:33:05 WARN WindowExec: No Partition Defined for Window operation! Moving all data to a single partition, this can cause serious performance degradation.\n",
      "25/06/09 08:33:05 WARN WindowExec: No Partition Defined for Window operation! Moving all data to a single partition, this can cause serious performance degradation.\n",
      "25/06/09 08:33:05 WARN WindowExec: No Partition Defined for Window operation! Moving all data to a single partition, this can cause serious performance degradation.\n",
      "25/06/09 08:33:05 WARN WindowExec: No Partition Defined for Window operation! Moving all data to a single partition, this can cause serious performance degradation.\n",
      "25/06/09 08:33:05 WARN WindowExec: No Partition Defined for Window operation! Moving all data to a single partition, this can cause serious performance degradation.\n",
      "25/06/09 08:33:05 WARN WindowExec: No Partition Defined for Window operation! Moving all data to a single partition, this can cause serious performance degradation.\n"
     ]
    },
    {
     "name": "stdout",
     "output_type": "stream",
     "text": [
      "+----------+-----------+------------------+--------------+-------------------+-------------------+\n",
      "|      date|total_sales|previous_day_sales|next_day_sales|day_over_day_change|         pct_change|\n",
      "+----------+-----------+------------------+--------------+-------------------+-------------------+\n",
      "|2023-01-01|     319.23|              NULL|        646.25|               NULL|               NULL|\n",
      "|2023-01-02|     646.25|            319.23|        203.88|             327.02| 102.44024684396828|\n",
      "|2023-01-03|     203.88|            646.25|        897.99|            -442.37| -68.45183752417795|\n",
      "|2023-01-04|     897.99|            203.88|        524.99|             694.11|  340.4502648616834|\n",
      "|2023-01-05|     524.99|            897.99|        453.13|             -373.0| -41.53721088208109|\n",
      "|2023-01-06|     453.13|            524.99|        562.24| -71.86000000000001|-13.687879769138467|\n",
      "|2023-01-07|     562.24|            453.13|        174.37| 109.11000000000001| 24.079182574537118|\n",
      "|2023-01-08|     174.37|            562.24|        617.34|            -387.87| -68.98655378486056|\n",
      "|2023-01-09|     617.34|            174.37|        369.47|             442.97| 254.04025921890235|\n",
      "|2023-01-10|     369.47|            617.34|        898.21|            -247.87| -40.15129426248096|\n",
      "+----------+-----------+------------------+--------------+-------------------+-------------------+\n",
      "only showing top 10 rows\n",
      "\n"
     ]
    }
   ],
   "source": [
    "# Calculate day-over-day change\n",
    "daily_sales = daily_sales.withColumns(\n",
    "    {\n",
    "        \"day_over_day_change\": F.expr(\"total_sales - previous_day_sales\"),\n",
    "        \"pct_change\": (F.expr(\"total_sales / previous_day_sales - 1\") * 100).alias(\"pct_change\"),\n",
    "    }\n",
    ")\n",
    "print(f\"Daily Sales with Day-over-Day Change: {daily_sales.count()}\")\n",
    "daily_sales.show(10)"
   ]
  },
  {
   "cell_type": "code",
   "execution_count": null,
   "id": "fcb06548",
   "metadata": {},
   "outputs": [
    {
     "name": "stdout",
     "output_type": "stream",
     "text": [
      "Daily Sales with 7-Day Moving Average: 1000\n"
     ]
    },
    {
     "name": "stderr",
     "output_type": "stream",
     "text": [
      "25/06/09 08:38:08 WARN WindowExec: No Partition Defined for Window operation! Moving all data to a single partition, this can cause serious performance degradation.\n",
      "25/06/09 08:38:08 WARN WindowExec: No Partition Defined for Window operation! Moving all data to a single partition, this can cause serious performance degradation.\n",
      "25/06/09 08:38:08 WARN WindowExec: No Partition Defined for Window operation! Moving all data to a single partition, this can cause serious performance degradation.\n",
      "25/06/09 08:38:08 WARN WindowExec: No Partition Defined for Window operation! Moving all data to a single partition, this can cause serious performance degradation.\n",
      "25/06/09 08:38:08 WARN WindowExec: No Partition Defined for Window operation! Moving all data to a single partition, this can cause serious performance degradation.\n"
     ]
    },
    {
     "name": "stdout",
     "output_type": "stream",
     "text": [
      "+----------+-----------+------------------+--------------+-------------------+-------------------+------------------+------------------+\n",
      "|      date|total_sales|previous_day_sales|next_day_sales|day_over_day_change|         pct_change|     7d_moving_avg|    7d_rolling_avg|\n",
      "+----------+-----------+------------------+--------------+-------------------+-------------------+------------------+------------------+\n",
      "|2023-01-01|     319.23|              NULL|        646.25|               NULL|               NULL|            319.23|            319.23|\n",
      "|2023-01-02|     646.25|            319.23|        203.88|             327.02| 102.44024684396828|            482.74|            482.74|\n",
      "|2023-01-03|     203.88|            646.25|        897.99|            -442.37| -68.45183752417795| 389.7866666666667| 389.7866666666667|\n",
      "|2023-01-04|     897.99|            203.88|        524.99|             694.11|  340.4502648616834| 516.8375000000001| 516.8375000000001|\n",
      "|2023-01-05|     524.99|            897.99|        453.13|             -373.0| -41.53721088208109| 518.4680000000001| 518.4680000000001|\n",
      "|2023-01-06|     453.13|            524.99|        562.24| -71.86000000000001|-13.687879769138467| 507.5783333333334| 507.5783333333334|\n",
      "|2023-01-07|     562.24|            453.13|        174.37| 109.11000000000001| 24.079182574537118| 515.3871428571429| 515.3871428571429|\n",
      "|2023-01-08|     174.37|            562.24|        617.34|            -387.87| -68.98655378486056|494.69285714285706|494.69285714285706|\n",
      "|2023-01-09|     617.34|            174.37|        369.47|             442.97| 254.04025921890235|490.56285714285707|490.56285714285707|\n",
      "|2023-01-10|     369.47|            617.34|        898.21|            -247.87| -40.15129426248096| 514.2185714285715| 514.2185714285715|\n",
      "+----------+-----------+------------------+--------------+-------------------+-------------------+------------------+------------------+\n",
      "only showing top 10 rows\n",
      "\n"
     ]
    },
    {
     "name": "stderr",
     "output_type": "stream",
     "text": [
      "25/06/09 08:38:08 WARN WindowExec: No Partition Defined for Window operation! Moving all data to a single partition, this can cause serious performance degradation.\n",
      "25/06/09 08:38:08 WARN WindowExec: No Partition Defined for Window operation! Moving all data to a single partition, this can cause serious performance degradation.\n",
      "25/06/09 08:38:08 WARN WindowExec: No Partition Defined for Window operation! Moving all data to a single partition, this can cause serious performance degradation.\n",
      "25/06/09 08:38:08 WARN WindowExec: No Partition Defined for Window operation! Moving all data to a single partition, this can cause serious performance degradation.\n"
     ]
    }
   ],
   "source": [
    "# Calculate 7-day moving average\n",
    "daily_sales = daily_sales.withColumns(\n",
    "    {\n",
    "        \"7d_moving_avg\": F.avg(\"total_sales\").over(Window.orderBy(\"date\").rowsBetween(-6, 0)),\n",
    "        \"7d_rolling_avg\": F.expr(\"AVG(total_sales) OVER (ORDER BY date ROWS BETWEEN 6 PRECEDING AND CURRENT ROW)\"),\n",
    "    }\n",
    ")\n",
    "print(f\"Daily Sales with 7-Day Moving Average: {daily_sales.count()}\")\n",
    "daily_sales.show(10)"
   ]
  },
  {
   "cell_type": "code",
   "execution_count": null,
   "id": "da307f36",
   "metadata": {},
   "outputs": [
    {
     "data": {
      "application/vnd.plotly.v1+json": {
       "config": {
        "plotlyServerURL": "https://plot.ly"
       },
       "data": [
        {
         "mode": "lines",
         "name": "Daily Sales",
         "type": "scatter",
         "x": [
          "2023-01-01",
          "2023-01-02",
          "2023-01-03",
          "2023-01-04",
          "2023-01-05",
          "2023-01-06",
          "2023-01-07",
          "2023-01-08",
          "2023-01-09",
          "2023-01-10",
          "2023-01-11",
          "2023-01-12",
          "2023-01-13",
          "2023-01-14",
          "2023-01-15",
          "2023-01-16",
          "2023-01-17",
          "2023-01-18",
          "2023-01-19",
          "2023-01-20",
          "2023-01-21",
          "2023-01-22",
          "2023-01-23",
          "2023-01-24",
          "2023-01-25",
          "2023-01-26",
          "2023-01-27",
          "2023-01-28",
          "2023-01-29",
          "2023-01-30",
          "2023-01-31",
          "2023-02-01",
          "2023-02-02",
          "2023-02-03",
          "2023-02-04",
          "2023-02-05",
          "2023-02-06",
          "2023-02-07",
          "2023-02-08",
          "2023-02-09",
          "2023-02-10",
          "2023-02-11",
          "2023-02-12",
          "2023-02-13",
          "2023-02-14",
          "2023-02-15",
          "2023-02-16",
          "2023-02-17",
          "2023-02-18",
          "2023-02-19",
          "2023-02-20",
          "2023-02-21",
          "2023-02-22",
          "2023-02-23",
          "2023-02-24",
          "2023-02-25",
          "2023-02-26",
          "2023-02-27",
          "2023-02-28",
          "2023-03-01",
          "2023-03-02",
          "2023-03-03",
          "2023-03-04",
          "2023-03-05",
          "2023-03-06",
          "2023-03-07",
          "2023-03-08",
          "2023-03-09",
          "2023-03-10",
          "2023-03-11",
          "2023-03-12",
          "2023-03-13",
          "2023-03-14",
          "2023-03-15",
          "2023-03-16",
          "2023-03-17",
          "2023-03-18",
          "2023-03-19",
          "2023-03-20",
          "2023-03-21",
          "2023-03-22",
          "2023-03-23",
          "2023-03-24",
          "2023-03-25",
          "2023-03-26",
          "2023-03-27",
          "2023-03-28",
          "2023-03-29",
          "2023-03-30",
          "2023-03-31",
          "2023-04-01",
          "2023-04-02",
          "2023-04-03",
          "2023-04-04",
          "2023-04-05",
          "2023-04-06",
          "2023-04-07",
          "2023-04-08",
          "2023-04-09",
          "2023-04-10",
          "2023-04-11",
          "2023-04-12",
          "2023-04-13",
          "2023-04-14",
          "2023-04-15",
          "2023-04-16",
          "2023-04-17",
          "2023-04-18",
          "2023-04-19",
          "2023-04-20",
          "2023-04-21",
          "2023-04-22",
          "2023-04-23",
          "2023-04-24",
          "2023-04-25",
          "2023-04-26",
          "2023-04-27",
          "2023-04-28",
          "2023-04-29",
          "2023-04-30",
          "2023-05-01",
          "2023-05-02",
          "2023-05-03",
          "2023-05-04",
          "2023-05-05",
          "2023-05-06",
          "2023-05-07",
          "2023-05-08",
          "2023-05-09",
          "2023-05-10",
          "2023-05-11",
          "2023-05-12",
          "2023-05-13",
          "2023-05-14",
          "2023-05-15",
          "2023-05-16",
          "2023-05-17",
          "2023-05-18",
          "2023-05-19",
          "2023-05-20",
          "2023-05-21",
          "2023-05-22",
          "2023-05-23",
          "2023-05-24",
          "2023-05-25",
          "2023-05-26",
          "2023-05-27",
          "2023-05-28",
          "2023-05-29",
          "2023-05-30",
          "2023-05-31",
          "2023-06-01",
          "2023-06-02",
          "2023-06-03",
          "2023-06-04",
          "2023-06-05",
          "2023-06-06",
          "2023-06-07",
          "2023-06-08",
          "2023-06-09",
          "2023-06-10",
          "2023-06-11",
          "2023-06-12",
          "2023-06-13",
          "2023-06-14",
          "2023-06-15",
          "2023-06-16",
          "2023-06-17",
          "2023-06-18",
          "2023-06-19",
          "2023-06-20",
          "2023-06-21",
          "2023-06-22",
          "2023-06-23",
          "2023-06-24",
          "2023-06-25",
          "2023-06-26",
          "2023-06-27",
          "2023-06-28",
          "2023-06-29",
          "2023-06-30",
          "2023-07-01",
          "2023-07-02",
          "2023-07-03",
          "2023-07-04",
          "2023-07-05",
          "2023-07-06",
          "2023-07-07",
          "2023-07-08",
          "2023-07-09",
          "2023-07-10",
          "2023-07-11",
          "2023-07-12",
          "2023-07-13",
          "2023-07-14",
          "2023-07-15",
          "2023-07-16",
          "2023-07-17",
          "2023-07-18",
          "2023-07-19",
          "2023-07-20",
          "2023-07-21",
          "2023-07-22",
          "2023-07-23",
          "2023-07-24",
          "2023-07-25",
          "2023-07-26",
          "2023-07-27",
          "2023-07-28",
          "2023-07-29",
          "2023-07-30",
          "2023-07-31",
          "2023-08-01",
          "2023-08-02",
          "2023-08-03",
          "2023-08-04",
          "2023-08-05",
          "2023-08-06",
          "2023-08-07",
          "2023-08-08",
          "2023-08-09",
          "2023-08-10",
          "2023-08-11",
          "2023-08-12",
          "2023-08-13",
          "2023-08-14",
          "2023-08-15",
          "2023-08-16",
          "2023-08-17",
          "2023-08-18",
          "2023-08-19",
          "2023-08-20",
          "2023-08-21",
          "2023-08-22",
          "2023-08-23",
          "2023-08-24",
          "2023-08-25",
          "2023-08-26",
          "2023-08-27",
          "2023-08-28",
          "2023-08-29",
          "2023-08-30",
          "2023-08-31",
          "2023-09-01",
          "2023-09-02",
          "2023-09-03",
          "2023-09-04",
          "2023-09-05",
          "2023-09-06",
          "2023-09-07",
          "2023-09-08",
          "2023-09-09",
          "2023-09-10",
          "2023-09-11",
          "2023-09-12",
          "2023-09-13",
          "2023-09-14",
          "2023-09-15",
          "2023-09-16",
          "2023-09-17",
          "2023-09-18",
          "2023-09-19",
          "2023-09-20",
          "2023-09-21",
          "2023-09-22",
          "2023-09-23",
          "2023-09-24",
          "2023-09-25",
          "2023-09-26",
          "2023-09-27",
          "2023-09-28",
          "2023-09-29",
          "2023-09-30",
          "2023-10-01",
          "2023-10-02",
          "2023-10-03",
          "2023-10-04",
          "2023-10-05",
          "2023-10-06",
          "2023-10-07",
          "2023-10-08",
          "2023-10-09",
          "2023-10-10",
          "2023-10-11",
          "2023-10-12",
          "2023-10-13",
          "2023-10-14",
          "2023-10-15",
          "2023-10-16",
          "2023-10-17",
          "2023-10-18",
          "2023-10-19",
          "2023-10-20",
          "2023-10-21",
          "2023-10-22",
          "2023-10-23",
          "2023-10-24",
          "2023-10-25",
          "2023-10-26",
          "2023-10-27",
          "2023-10-28",
          "2023-10-29",
          "2023-10-30",
          "2023-10-31",
          "2023-11-01",
          "2023-11-02",
          "2023-11-03",
          "2023-11-04",
          "2023-11-05",
          "2023-11-06",
          "2023-11-07",
          "2023-11-08",
          "2023-11-09",
          "2023-11-10",
          "2023-11-11",
          "2023-11-12",
          "2023-11-13",
          "2023-11-14",
          "2023-11-15",
          "2023-11-16",
          "2023-11-17",
          "2023-11-18",
          "2023-11-19",
          "2023-11-20",
          "2023-11-21",
          "2023-11-22",
          "2023-11-23",
          "2023-11-24",
          "2023-11-25",
          "2023-11-26",
          "2023-11-27",
          "2023-11-28",
          "2023-11-29",
          "2023-11-30",
          "2023-12-01",
          "2023-12-02",
          "2023-12-03",
          "2023-12-04",
          "2023-12-05",
          "2023-12-06",
          "2023-12-07",
          "2023-12-08",
          "2023-12-09",
          "2023-12-10",
          "2023-12-11",
          "2023-12-12",
          "2023-12-13",
          "2023-12-14",
          "2023-12-15",
          "2023-12-16",
          "2023-12-17",
          "2023-12-18",
          "2023-12-19",
          "2023-12-20",
          "2023-12-21",
          "2023-12-22",
          "2023-12-23",
          "2023-12-24",
          "2023-12-25",
          "2023-12-26",
          "2023-12-27",
          "2023-12-28",
          "2023-12-29",
          "2023-12-30",
          "2023-12-31",
          "2024-01-01",
          "2024-01-02",
          "2024-01-03",
          "2024-01-04",
          "2024-01-05",
          "2024-01-06",
          "2024-01-07",
          "2024-01-08",
          "2024-01-09",
          "2024-01-10",
          "2024-01-11",
          "2024-01-12",
          "2024-01-13",
          "2024-01-14",
          "2024-01-15",
          "2024-01-16",
          "2024-01-17",
          "2024-01-18",
          "2024-01-19",
          "2024-01-20",
          "2024-01-21",
          "2024-01-22",
          "2024-01-23",
          "2024-01-24",
          "2024-01-25",
          "2024-01-26",
          "2024-01-27",
          "2024-01-28",
          "2024-01-29",
          "2024-01-30",
          "2024-01-31",
          "2024-02-01",
          "2024-02-02",
          "2024-02-03",
          "2024-02-04",
          "2024-02-05",
          "2024-02-06",
          "2024-02-07",
          "2024-02-08",
          "2024-02-09",
          "2024-02-10",
          "2024-02-11",
          "2024-02-12",
          "2024-02-13",
          "2024-02-14",
          "2024-02-15",
          "2024-02-16",
          "2024-02-17",
          "2024-02-18",
          "2024-02-19",
          "2024-02-20",
          "2024-02-21",
          "2024-02-22",
          "2024-02-23",
          "2024-02-24",
          "2024-02-25",
          "2024-02-26",
          "2024-02-27",
          "2024-02-28",
          "2024-02-29",
          "2024-03-01",
          "2024-03-02",
          "2024-03-03",
          "2024-03-04",
          "2024-03-05",
          "2024-03-06",
          "2024-03-07",
          "2024-03-08",
          "2024-03-09",
          "2024-03-10",
          "2024-03-11",
          "2024-03-12",
          "2024-03-13",
          "2024-03-14",
          "2024-03-15",
          "2024-03-16",
          "2024-03-17",
          "2024-03-18",
          "2024-03-19",
          "2024-03-20",
          "2024-03-21",
          "2024-03-22",
          "2024-03-23",
          "2024-03-24",
          "2024-03-25",
          "2024-03-26",
          "2024-03-27",
          "2024-03-28",
          "2024-03-29",
          "2024-03-30",
          "2024-03-31",
          "2024-04-01",
          "2024-04-02",
          "2024-04-03",
          "2024-04-04",
          "2024-04-05",
          "2024-04-06",
          "2024-04-07",
          "2024-04-08",
          "2024-04-09",
          "2024-04-10",
          "2024-04-11",
          "2024-04-12",
          "2024-04-13",
          "2024-04-14",
          "2024-04-15",
          "2024-04-16",
          "2024-04-17",
          "2024-04-18",
          "2024-04-19",
          "2024-04-20",
          "2024-04-21",
          "2024-04-22",
          "2024-04-23",
          "2024-04-24",
          "2024-04-25",
          "2024-04-26",
          "2024-04-27",
          "2024-04-28",
          "2024-04-29",
          "2024-04-30",
          "2024-05-01",
          "2024-05-02",
          "2024-05-03",
          "2024-05-04",
          "2024-05-05",
          "2024-05-06",
          "2024-05-07",
          "2024-05-08",
          "2024-05-09",
          "2024-05-10",
          "2024-05-11",
          "2024-05-12",
          "2024-05-13",
          "2024-05-14",
          "2024-05-15",
          "2024-05-16",
          "2024-05-17",
          "2024-05-18",
          "2024-05-19",
          "2024-05-20",
          "2024-05-21",
          "2024-05-22",
          "2024-05-23",
          "2024-05-24",
          "2024-05-25",
          "2024-05-26",
          "2024-05-27",
          "2024-05-28",
          "2024-05-29",
          "2024-05-30",
          "2024-05-31",
          "2024-06-01",
          "2024-06-02",
          "2024-06-03",
          "2024-06-04",
          "2024-06-05",
          "2024-06-06",
          "2024-06-07",
          "2024-06-08",
          "2024-06-09",
          "2024-06-10",
          "2024-06-11",
          "2024-06-12",
          "2024-06-13",
          "2024-06-14",
          "2024-06-15",
          "2024-06-16",
          "2024-06-17",
          "2024-06-18",
          "2024-06-19",
          "2024-06-20",
          "2024-06-21",
          "2024-06-22",
          "2024-06-23",
          "2024-06-24",
          "2024-06-25",
          "2024-06-26",
          "2024-06-27",
          "2024-06-28",
          "2024-06-29",
          "2024-06-30",
          "2024-07-01",
          "2024-07-02",
          "2024-07-03",
          "2024-07-04",
          "2024-07-05",
          "2024-07-06",
          "2024-07-07",
          "2024-07-08",
          "2024-07-09",
          "2024-07-10",
          "2024-07-11",
          "2024-07-12",
          "2024-07-13",
          "2024-07-14",
          "2024-07-15",
          "2024-07-16",
          "2024-07-17",
          "2024-07-18",
          "2024-07-19",
          "2024-07-20",
          "2024-07-21",
          "2024-07-22",
          "2024-07-23",
          "2024-07-24",
          "2024-07-25",
          "2024-07-26",
          "2024-07-27",
          "2024-07-28",
          "2024-07-29",
          "2024-07-30",
          "2024-07-31",
          "2024-08-01",
          "2024-08-02",
          "2024-08-03",
          "2024-08-04",
          "2024-08-05",
          "2024-08-06",
          "2024-08-07",
          "2024-08-08",
          "2024-08-09",
          "2024-08-10",
          "2024-08-11",
          "2024-08-12",
          "2024-08-13",
          "2024-08-14",
          "2024-08-15",
          "2024-08-16",
          "2024-08-17",
          "2024-08-18",
          "2024-08-19",
          "2024-08-20",
          "2024-08-21",
          "2024-08-22",
          "2024-08-23",
          "2024-08-24",
          "2024-08-25",
          "2024-08-26",
          "2024-08-27",
          "2024-08-28",
          "2024-08-29",
          "2024-08-30",
          "2024-08-31",
          "2024-09-01",
          "2024-09-02",
          "2024-09-03",
          "2024-09-04",
          "2024-09-05",
          "2024-09-06",
          "2024-09-07",
          "2024-09-08",
          "2024-09-09",
          "2024-09-10",
          "2024-09-11",
          "2024-09-12",
          "2024-09-13",
          "2024-09-14",
          "2024-09-15",
          "2024-09-16",
          "2024-09-17",
          "2024-09-18",
          "2024-09-19",
          "2024-09-20",
          "2024-09-21",
          "2024-09-22",
          "2024-09-23",
          "2024-09-24",
          "2024-09-25",
          "2024-09-26",
          "2024-09-27",
          "2024-09-28",
          "2024-09-29",
          "2024-09-30",
          "2024-10-01",
          "2024-10-02",
          "2024-10-03",
          "2024-10-04",
          "2024-10-05",
          "2024-10-06",
          "2024-10-07",
          "2024-10-08",
          "2024-10-09",
          "2024-10-10",
          "2024-10-11",
          "2024-10-12",
          "2024-10-13",
          "2024-10-14",
          "2024-10-15",
          "2024-10-16",
          "2024-10-17",
          "2024-10-18",
          "2024-10-19",
          "2024-10-20",
          "2024-10-21",
          "2024-10-22",
          "2024-10-23",
          "2024-10-24",
          "2024-10-25",
          "2024-10-26",
          "2024-10-27",
          "2024-10-28",
          "2024-10-29",
          "2024-10-30",
          "2024-10-31",
          "2024-11-01",
          "2024-11-02",
          "2024-11-03",
          "2024-11-04",
          "2024-11-05",
          "2024-11-06",
          "2024-11-07",
          "2024-11-08",
          "2024-11-09",
          "2024-11-10",
          "2024-11-11",
          "2024-11-12",
          "2024-11-13",
          "2024-11-14",
          "2024-11-15",
          "2024-11-16",
          "2024-11-17",
          "2024-11-18",
          "2024-11-19",
          "2024-11-20",
          "2024-11-21",
          "2024-11-22",
          "2024-11-23",
          "2024-11-24",
          "2024-11-25",
          "2024-11-26",
          "2024-11-27",
          "2024-11-28",
          "2024-11-29",
          "2024-11-30",
          "2024-12-01",
          "2024-12-02",
          "2024-12-03",
          "2024-12-04",
          "2024-12-05",
          "2024-12-06",
          "2024-12-07",
          "2024-12-08",
          "2024-12-09",
          "2024-12-10",
          "2024-12-11",
          "2024-12-12",
          "2024-12-13",
          "2024-12-14",
          "2024-12-15",
          "2024-12-16",
          "2024-12-17",
          "2024-12-18",
          "2024-12-19",
          "2024-12-20",
          "2024-12-21",
          "2024-12-22",
          "2024-12-23",
          "2024-12-24",
          "2024-12-25",
          "2024-12-26",
          "2024-12-27",
          "2024-12-28",
          "2024-12-29",
          "2024-12-30",
          "2024-12-31",
          "2025-01-01",
          "2025-01-02",
          "2025-01-03",
          "2025-01-04",
          "2025-01-05",
          "2025-01-06",
          "2025-01-07",
          "2025-01-08",
          "2025-01-09",
          "2025-01-10",
          "2025-01-11",
          "2025-01-12",
          "2025-01-13",
          "2025-01-14",
          "2025-01-15",
          "2025-01-16",
          "2025-01-17",
          "2025-01-18",
          "2025-01-19",
          "2025-01-20",
          "2025-01-21",
          "2025-01-22",
          "2025-01-23",
          "2025-01-24",
          "2025-01-25",
          "2025-01-26",
          "2025-01-27",
          "2025-01-28",
          "2025-01-29",
          "2025-01-30",
          "2025-01-31",
          "2025-02-01",
          "2025-02-02",
          "2025-02-03",
          "2025-02-04",
          "2025-02-05",
          "2025-02-06",
          "2025-02-07",
          "2025-02-08",
          "2025-02-09",
          "2025-02-10",
          "2025-02-11",
          "2025-02-12",
          "2025-02-13",
          "2025-02-14",
          "2025-02-15",
          "2025-02-16",
          "2025-02-17",
          "2025-02-18",
          "2025-02-19",
          "2025-02-20",
          "2025-02-21",
          "2025-02-22",
          "2025-02-23",
          "2025-02-24",
          "2025-02-25",
          "2025-02-26",
          "2025-02-27",
          "2025-02-28",
          "2025-03-01",
          "2025-03-02",
          "2025-03-03",
          "2025-03-04",
          "2025-03-05",
          "2025-03-06",
          "2025-03-07",
          "2025-03-08",
          "2025-03-09",
          "2025-03-10",
          "2025-03-11",
          "2025-03-12",
          "2025-03-13",
          "2025-03-14",
          "2025-03-15",
          "2025-03-16",
          "2025-03-17",
          "2025-03-18",
          "2025-03-19",
          "2025-03-20",
          "2025-03-21",
          "2025-03-22",
          "2025-03-23",
          "2025-03-24",
          "2025-03-25",
          "2025-03-26",
          "2025-03-27",
          "2025-03-28",
          "2025-03-29",
          "2025-03-30",
          "2025-03-31",
          "2025-04-01",
          "2025-04-02",
          "2025-04-03",
          "2025-04-04",
          "2025-04-05",
          "2025-04-06",
          "2025-04-07",
          "2025-04-08",
          "2025-04-09",
          "2025-04-10",
          "2025-04-11",
          "2025-04-12",
          "2025-04-13",
          "2025-04-14",
          "2025-04-15",
          "2025-04-16",
          "2025-04-17",
          "2025-04-18",
          "2025-04-19",
          "2025-04-20",
          "2025-04-21",
          "2025-04-22",
          "2025-04-23",
          "2025-04-24",
          "2025-04-25",
          "2025-04-26",
          "2025-04-27",
          "2025-04-28",
          "2025-04-29",
          "2025-04-30",
          "2025-05-01",
          "2025-05-02",
          "2025-05-03",
          "2025-05-04",
          "2025-05-05",
          "2025-05-06",
          "2025-05-07",
          "2025-05-08",
          "2025-05-09",
          "2025-05-10",
          "2025-05-11",
          "2025-05-12",
          "2025-05-13",
          "2025-05-14",
          "2025-05-15",
          "2025-05-16",
          "2025-05-17",
          "2025-05-18",
          "2025-05-19",
          "2025-05-20",
          "2025-05-21",
          "2025-05-22",
          "2025-05-23",
          "2025-05-24",
          "2025-05-25",
          "2025-05-26",
          "2025-05-27",
          "2025-05-28",
          "2025-05-29",
          "2025-05-30",
          "2025-05-31",
          "2025-06-01",
          "2025-06-02",
          "2025-06-03",
          "2025-06-04",
          "2025-06-05",
          "2025-06-06",
          "2025-06-07",
          "2025-06-08",
          "2025-06-09",
          "2025-06-10",
          "2025-06-11",
          "2025-06-12",
          "2025-06-13",
          "2025-06-14",
          "2025-06-15",
          "2025-06-16",
          "2025-06-17",
          "2025-06-18",
          "2025-06-19",
          "2025-06-20",
          "2025-06-21",
          "2025-06-22",
          "2025-06-23",
          "2025-06-24",
          "2025-06-25",
          "2025-06-26",
          "2025-06-27",
          "2025-06-28",
          "2025-06-29",
          "2025-06-30",
          "2025-07-01",
          "2025-07-02",
          "2025-07-03",
          "2025-07-04",
          "2025-07-05",
          "2025-07-06",
          "2025-07-07",
          "2025-07-08",
          "2025-07-09",
          "2025-07-10",
          "2025-07-11",
          "2025-07-12",
          "2025-07-13",
          "2025-07-14",
          "2025-07-15",
          "2025-07-16",
          "2025-07-17",
          "2025-07-18",
          "2025-07-19",
          "2025-07-20",
          "2025-07-21",
          "2025-07-22",
          "2025-07-23",
          "2025-07-24",
          "2025-07-25",
          "2025-07-26",
          "2025-07-27",
          "2025-07-28",
          "2025-07-29",
          "2025-07-30",
          "2025-07-31",
          "2025-08-01",
          "2025-08-02",
          "2025-08-03",
          "2025-08-04",
          "2025-08-05",
          "2025-08-06",
          "2025-08-07",
          "2025-08-08",
          "2025-08-09",
          "2025-08-10",
          "2025-08-11",
          "2025-08-12",
          "2025-08-13",
          "2025-08-14",
          "2025-08-15",
          "2025-08-16",
          "2025-08-17",
          "2025-08-18",
          "2025-08-19",
          "2025-08-20",
          "2025-08-21",
          "2025-08-22",
          "2025-08-23",
          "2025-08-24",
          "2025-08-25",
          "2025-08-26",
          "2025-08-27",
          "2025-08-28",
          "2025-08-29",
          "2025-08-30",
          "2025-08-31",
          "2025-09-01",
          "2025-09-02",
          "2025-09-03",
          "2025-09-04",
          "2025-09-05",
          "2025-09-06",
          "2025-09-07",
          "2025-09-08",
          "2025-09-09",
          "2025-09-10",
          "2025-09-11",
          "2025-09-12",
          "2025-09-13",
          "2025-09-14",
          "2025-09-15",
          "2025-09-16",
          "2025-09-17",
          "2025-09-18",
          "2025-09-19",
          "2025-09-20",
          "2025-09-21",
          "2025-09-22",
          "2025-09-23",
          "2025-09-24",
          "2025-09-25",
          "2025-09-26"
         ],
         "y": {
          "bdata": "SOF6FK7zc0AAAAAAADKEQFyPwvUofGlAUrgehesPjEBSuB6F62eAQK5H4XoUUnxAUrgeheuRgUCkcD0K18tlQB+F61G4SoNA7FG4HoUXd0BI4XoUrhGMQD0K16NwJWZASOF6FK7/f0DXo3A9CtGCQGZmZmZmhkVAKVyPwvUgd0AUrkfhevqGQI/C9ShcsYlAFK5H4XoAdEB7FK5H4QSJQHE9CtejQI5AFK5H4XrSikCuR+F6FJ5fQHE9CtejModA7FG4HoVndEAK16NwPeSOQFyPwvUoqH5AH4XrUbhmYEA9CtejcL+GQBSuR+F6nHRAexSuR+Eoj0CkcD0K15+OQMP1KFyPnIRAKVyPwvVQYUBSuB6F64+FQGZmZmZmhllAKVyPwvWIQ0CkcD0K18WJQIXrUbgeNWtApHA9CtcTeED2KFyPwm2OQOxRuB6Fd3VAuB6F61H4ckAK16NwPbiMQClcj8L16F1AUrgehevPh0A9CtejcOGOQArXo3A9MoxAMzMzMzN5hEAfhetRuA50QBSuR+F6XHBAFK5H4XqoiUBcj8L1KIiLQD0K16NwkYBAzczMzMx8b0CkcD0K13NeQKRwPQrXE1hAhetRuB6PhkAfhetRuJ56QBSuR+F6UoxAXI/C9Sgyh0AzMzMzM+toQIXrUbgeTYNAZmZmZmaSe0CkcD0K1yuCQOxRuB6FJYdA16NwPQpBiUBmZmZmZmqKQNejcD0KV3BAZmZmZmZmREAzMzMzMy+HQFK4HoXr0VxAuB6F61EcdECPwvUoXI8rQM3MzMzMZoVAH4XrUbjuZUCkcD0K15WEQHE9Ctej/o5AXI/C9Sh8VECkcD0K15NVQEjhehSur3VA9ihcj8Idi0CkcD0K1+trQLgehetR7HZAFK5H4Xp0U0Bcj8L1KOyHQOxRuB6F43lA4XoUrkfNh0DD9Shcj0SMQK5H4XoUDm5Aw/UoXI9KiUAAAAAAACBRQHsUrkfhHoxArkfhehRyhECkcD0K11uLQOF6FK5HYSRAFK5H4XosZkD2KFyPwr14QI/C9ShcG3hAH4XrUbhObUDNzMzMzDx4QFK4HoXrMWFArkfhehQqekBxPQrXoyKJQBSuR+F6RH5AUrgehevRO0BI4XoUrrN6QDMzMzMzc0JAcT0K16M0jkD2KFyPwgVhQHsUrkfhNIZAZmZmZmZojkAK16NwPd6JQMP1KFyP8oVAw/UoXI9IikCkcD0K16+OQNejcD0KiYNAH4XrUbicgUBI4XoUrr+DQM3MzMzMyoBAUrgehev1g0A9CtejcHV8QLgehetRSGxA4XoUrkchYEAK16NwPWpTQHsUrkfh6nBAFK5H4XrUS0AAAAAAANyBQKRwPQrXL3JAuB6F61HSiUAAAAAAAOBUQHsUrkfhQm1A7FG4HoXnhkDD9Shcj9aCQGZmZmZmdlJA9ihcj8Jzi0BSuB6F63OLQJqZmZmZEXVAAAAAAACwdUCF61G4HumOQOF6FK5Hr4NAAAAAAADAgEBcj8L1KD6KQNejcD0KR3JACtejcD0ue0CamZmZmTFxQFyPwvUouohAKVyPwvUMgkBSuB6F67GEQBSuR+F6PHBAcT0K16OAbECkcD0K19d+QOxRuB6FIYdAUrgeheuPgEApXI/C9ShFQClcj8L1LotAw/UoXI+CUkBcj8L1KOKNQFK4HoXrcUFArkfhehTMhUC4HoXrUdhWQMP1KFyPfIxAcT0K16NcfUDNzMzMzERiQMP1KFyPtnVA9ihcj8KlZUBcj8L1KFxmQNejcD0KpY1AcT0K16MsfEDhehSuR7eIQEjhehSuGYRA4XoUrkc9hUBcj8L1KIxhQHsUrkfhOm5A16NwPQqniEAUrkfheliOQM3MzMzM4HBAmpmZmZltcUAfhetRuOJ9QAAAAAAAwI5AuB6F61FEcUBmZmZmZs55QMP1KFyP5ItASOF6FK7HKUCPwvUoXK9IQArXo3A9AINAFK5H4XpijEDXo3A9Cs9uQDMzMzMzr31Aj8L1KFx/fECkcD0K1+N9QLgehetRkoNAzczMzMywfUCkcD0K1098QM3MzMzM+H1ASOF6FK6XgkCF61G4Hu2AQB+F61G4vIpAAAAAAACATUCkcD0K1xeKQFK4HoXra4pAKVyPwvVAckDsUbgehUN9QGZmZmZmwntACtejcD1KbEDhehSuRy15QLgehetR+EpAcT0K16PQcUBcj8L1KJSJQOxRuB6FO3JAXI/C9SigiUAK16NwPcKAQBSuR+F6iItACtejcD0YgkCPwvUoXK9DQI/C9ShcNYVAFK5H4Xo0S0A9CtejcIF8QNejcD0KEY1AmpmZmZmxZUDsUbgehb94QBSuR+F65IZA7FG4HoWbi0CkcD0K1xGFQD0K16NwmXBAexSuR+EuhUBcj8L1KPxyQFK4HoXriYZAUrgehevTjUA9CtejcKGGQAAAAAAAAotAKVyPwvUoKEAzMzMzM4OGQLgehetR+olAMzMzMzMTSUDXo3A9CkeLQK5H4XoUgnBAhetRuB7lhEDNzMzMzBKJQLgehetR0IRA16NwPQpXWUB7FK5H4cKCQB+F61G4UIFAw/UoXI8qjEAzMzMzM6N5QFK4HoXrfXRAzczMzMyCh0DNzMzMzCh6QIXrUbgeTYRAUrgehetPhEDhehSuR8mLQEjhehSu1YJArkfhehSyf0CPwvUoXG9iQIXrUbgeJV9AKVyPwvVYZEBcj8L1KIRmQAAAAAAADIRAw/UoXI88h0DsUbgehbWAQKRwPQrX9YlAzczMzMz6jkAUrkfheq6JQD0K16Nwz4VAj8L1KFzJgED2KFyPwmV8QDMzMzMzY1dArkfhehRWeUAK16NwPXiMQOxRuB6FT4lAFK5H4Xr8a0DXo3A9Cn99QBSuR+F6lIlAPQrXo3AtU0C4HoXrUZh4QMP1KFyPqopA9ihcj8KdeUD2KFyPwrVVQHsUrkfhGIFA16NwPQr5ikDXo3A9CpOCQHE9CtejQG1AZmZmZmZmeEBSuB6F63l8QPYoXI/CO4JArkfhehTOh0C4HoXrUfhaQK5H4XoU1otAcT0K16MwNkCamZmZmYV3QDMzMzMzk0JAcT0K16PweEBmZmZmZpSAQBSuR+F6JIBA16NwPQq/ZUAK16NwPUqEQArXo3A9KktAuB6F61Hih0A9CtejcJmNQFK4HoXrpXVAw/UoXI9QgEBSuB6F6xF4QKRwPQrXozBAuB6F61GAeEBmZmZmZs6IQArXo3A9wIJAAAAAAACQW0CPwvUoXIWKQFyPwvUovoBAFK5H4XpaikCPwvUoXEOCQB+F61G4oIFAPQrXo3CNXECuR+F6FPZlQBSuR+F6Yo5AZmZmZmaGbUA9CtejcI2OQB+F61G4xIBA9ihcj8INYkCkcD0K1xNbQClcj8L1GGtA16NwPQrzjEBcj8L1KEB6QEjhehSuF3lAhetRuB4BdEB7FK5H4XJjQOxRuB6Fz35AAAAAAABYYUDXo3A9CimKQNejcD0Ki3dAKVyPwvXQd0C4HoXrUfR9QNejcD0KG3xA4XoUrkcXj0A9CtejcC+BQBSuR+F6VFhAFK5H4XoWg0AK16NwPQJkQHE9CtejUERACtejcD1YjkBmZmZmZj6IQBSuR+F6oo5AmpmZmZkxfkA9CtejcMeAQM3MzMzMFGZArkfhehTOb0DhehSuR0GKQFK4HoXrqXZAZmZmZmbkiUCPwvUoXD+GQM3MzMzMLGdAKVyPwvUCgEB7FK5H4USFQK5H4XoUVm5A16NwPQoDikDXo3A9CiuBQHsUrkfhsmVAMzMzMzNZgkD2KFyPwj2PQHE9Ctej4GNAH4XrUbiUiUBI4XoUrudqQBSuR+F6hIhApHA9CtcJh0BI4XoUrjdzQClcj8L1yHRAzczMzMzUiEDhehSuRy19QK5H4XoU7IZAAAAAAACQY0AK16NwPbCKQArXo3A9ToZAKVyPwvVejECamZmZmaFhQHE9CtejqIJA16NwPQrZgkB7FK5H4X52QK5H4XoU/nxAzczMzMzMR0AzMzMzM2OHQHE9CtejToFACtejcD3KUECamZmZmV+FQPYoXI/CgX1Aj8L1KFwPRkDhehSuR0+OQClcj8L1rI1AXI/C9SgugECPwvUoXK9ZQHE9CtejqIdAXI/C9SgQf0AfhetRuFZzQAAAAAAACH9A9ihcj8J5gEBxPQrXo7iBQClcj8L17HtAmpmZmZkNg0BmZmZmZryMQGZmZmZmCndASOF6FK7DhkCuR+F6FPyLQB+F61G41nxAuB6F61EQfEDNzMzMzPCCQFK4HoXrm4JAXI/C9ShEiUDsUbgehRt+QOF6FK5HIY9AuB6F61E4UUBI4XoUrkcqQGZmZmZmHoRAMzMzMzMXc0CPwvUoXP9uQBSuR+F67HNApHA9Ctd3cEA9CtejcD1EQMP1KFyPXo5A4XoUrkeRbEDsUbgehQWHQPYoXI/C54dASOF6FK4PjUAfhetRuB5EQHE9CtejSotAmpmZmZmfgED2KFyPwuGDQArXo3A9QIRAzczMzMysiUCF61G4HkF1QPYoXI/C/YZAuB6F61GqgEBI4XoUrtuIQIXrUbge9Y5AFK5H4XoUakCamZmZmRWPQArXo3A9ulhAFK5H4XqUKEBcj8L1KNxKQPYoXI/CxXVAcT0K16Pkg0D2KFyPwpVTQLgehetROC9A9ihcj8JNjUBI4XoUrr2JQB+F61G4WIlAcT0K16Osi0AK16NwPfiFQNejcD0KV1xA9ihcj8JReUCPwvUoXK+GQBSuR+F6+HFACtejcD2UhUAAAAAAACBBQOF6FK5HkXNAhetRuB5NgUBcj8L1KN6DQFyPwvUoKoJACtejcD3mhUBI4XoUrgcwQOxRuB6Fe1tAAAAAAAAyi0A9CtejcGeFQDMzMzMzc15AMzMzMzNdikBSuB6F6zlvQEjhehSuN35ASOF6FK43Y0CuR+F6FEiGQOxRuB6F8YRAAAAAAABga0Bcj8L1KAaLQHE9CtejdHlAPQrXo3C5ckBSuB6F6xlkQFyPwvUoGHFAj8L1KFzPP0CPwvUoXFuCQBSuR+F6XopAUrgehetLgUDD9Shcj2JsQArXo3A9qkVAj8L1KFzPa0CPwvUoXF96QFyPwvUo0IdAH4XrUbh+aEAfhetRuJSGQK5H4XoUIotAw/UoXI+2fED2KFyPwrmJQHsUrkfheIFA9ihcj8IFhEBcj8L1KJiAQHE9CtejSH1AUrgehetJbkDD9Shcj2JzQIXrUbgekXJA4XoUrke9gUAAAAAAABhgQClcj8L1rIxAmpmZmZmbhkB7FK5H4XZ5QOF6FK5H4WRAj8L1KFyZi0C4HoXrUcyJQAAAAAAApIZA4XoUrkdtcUAfhetRuIZ5QK5H4XoU7ltAzczMzMykaEDsUbgehYmIQIXrUbgeb4ZAZmZmZmasgkBcj8L1KAaMQD0K16NwW4JAzczMzMyEfUDsUbgeha91QLgehetRaI1AKVyPwvX4VkBxPQrXoxyNQJqZmZmZ44lAXI/C9ShUYUBxPQrXo8qBQNejcD0KH4tAH4XrUbgAgkDXo3A9CmGMQGZmZmZmfI1Aw/UoXI/CekBxPQrXo/h3QEjhehSuR41AhetRuB4zhUDXo3A9CjdfQI/C9Shc70lApHA9CtfHgUApXI/C9RaNQBSuR+F6bopAH4XrUbg4hUDXo3A9CndiQNejcD0KW3BArkfhehRmi0CPwvUoXN9nQMP1KFyP2nFAmpmZmZlJYUDNzMzMzDqFQLgehetRhI1AFK5H4XpEcUBmZmZmZgp+QAAAAAAA8INA9ihcj8I7j0BxPQrXo3BcQD0K16NweX9AuB6F61F0eEDhehSuRxmLQI/C9ShcE35ASOF6FK73XUBxPQrXo/CDQMP1KFyPKIhAMzMzMzOzKUApXI/C9eKKQIXrUbgeRWhAZmZmZmZkgUAK16NwPVp6QEjhehSuk4ZAMzMzMzOXd0DD9ShcjziLQOxRuB6F6YZAUrgehetZhEAK16NwPfKIQKRwPQrXo4dACtejcD3KRkBxPQrXowx5QAAAAAAAHI1A16NwPQrPYECkcD0K1x2HQM3MzMzMdo5A16NwPQrXTkApXI/C9WqFQOxRuB6Fl31A16NwPQo7gkCPwvUoXJ9XQArXo3A9SkpAmpmZmZnxhEBxPQrXo8iJQJqZmZmZgYhAKVyPwvUigUBI4XoUrjdbQOF6FK5HmYVA16NwPQovb0BI4XoUrn+MQNejcD0KP4pAuB6F61FChkB7FK5H4aqNQK5H4XoUjkRAH4XrUbgWh0DXo3A9Cg91QK5H4XoUWIxAXI/C9SggcUB7FK5H4byGQClcj8L1dotAH4XrUbieSUAfhetRuDp5QOxRuB6F5YdAUrgehevFfEDhehSuRylxQOxRuB6Fc2xAZmZmZmaGYUAUrkfhetSKQM3MzMzMHIJASOF6FK5nVUAAAAAAAEx4QClcj8L1YHdAPQrXo3C9Z0BmZmZmZpJ7QBSuR+F6LHVACtejcD3GdUCF61G4Hi2HQClcj8L14GxA7FG4HoUrhEDsUbgehfeBQOF6FK5H44FA16NwPQrThEAzMzMzM0eBQEjhehSug4tAw/UoXI82hUBSuB6F6zuBQPYoXI/C+4lAH4XrUbgQg0BI4XoUrqNyQHE9Ctej4GpAmpmZmZkZZEBI4XoUriOMQArXo3A9SIZAAAAAAABQjUCuR+F6FPqCQB+F61G46n1ASOF6FK5HUUA9CtejcBeFQIXrUbgeU4JAFK5H4XryjkBxPQrXo9huQD0K16Nwu4BAmpmZmZlzhEAzMzMzM0GEQD0K16NwrYFA4XoUrkdZiED2KFyPwp1qQClcj8L1woZAuB6F61F8g0B7FK5H4QiMQPYoXI/ChYpAAAAAAAAgdEDsUbgehbdxQB+F61G4ro5AUrgeheufgEB7FK5H4VqMQEjhehSuh2VAhetRuB4zhECuR+F6FF6JQI/C9Shcn41A7FG4HoV/dUCkcD0K172GQI/C9Shc+4BA4XoUrkeBUUDNzMzMzKiFQJqZmZmZqYVAZmZmZmYajUA9CtejcGV/QGZmZmZmvm1Aj8L1KFwPS0CkcD0K11d6QGZmZmZmTnNApHA9Ctfbh0BI4XoUrot2QHE9CtejrI1A7FG4HoUVjkCamZmZmYWDQClcj8L1Co1AAAAAAADah0CF61G4HjuBQAAAAAAAkGdAXI/C9SgAfUBcj8L1KKqBQMP1KFyPCotAuB6F61FofkCamZmZmRWMQHsUrkfhLIVAXI/C9Sg0YkAK16NwPRiPQEjhehSun4BA16NwPQrfeEBcj8L1KLSEQDMzMzMzc11Aj8L1KFwBhEAAAAAAAHR/QPYoXI/CyXlAUrgehevLjUAUrkfhenqAQPYoXI/CXWxAUrgehesFfUDsUbgehcGMQMP1KFyPCmdACtejcD26a0BmZmZmZuY2QM3MzMzMDDhAzczMzMz4iUBmZmZmZvaGQKRwPQrXl3ZAcT0K16PqhUAAAAAAABR5QClcj8L1yo1A16NwPQo7jkBSuB6F6+14QD0K16NwvYpAexSuR+E6iEBmZmZmZs5zQNejcD0K921AZmZmZmb6fEC4HoXrUXyIQMP1KFyPBI5A7FG4HoXvh0AzMzMzM8WKQArXo3A9+IJAZmZmZmYoikBxPQrXo5SIQOxRuB6F83dA9ihcj8JjgUBI4XoUrjWJQM3MzMzMzEtAAAAAAABQiUDsUbgehUNnQLgehetRPIBA7FG4HoVRiUAUrkfhelRwQDMzMzMzq29ApHA9CteLeUCamZmZmf2LQOF6FK5H4SRAKVyPwvUyjEBxPQrXo0hkQOxRuB6F8Y5AZmZmZmbajUBI4XoUrjt/QB+F61G4LIBASOF6FK5rfkAfhetRuPiDQKRwPQrX81hAhetRuB4lRUC4HoXrUchQQB+F61G4HnxAcT0K16OscUDD9Shcj46DQFyPwvUoBI9Aj8L1KFyHeEDNzMzMzBCCQDMzMzMzV3pAZmZmZmaGikBI4XoUrjmMQHE9CtejdItA16NwPQp1jkAfhetRuJ5CQI/C9ShcS4pAAAAAAACSh0CF61G4Ho1tQK5H4XoU5o1AZmZmZmaWY0AAAAAAAFaFQBSuR+F6FG1AhetRuB5Re0D2KFyPwo+GQOxRuB6FvYFASOF6FK4Te0DhehSuR9F0QK5H4XoUSopAXI/C9SgMY0DNzMzMzDx7QPYoXI/CRYxAhetRuB57ikB7FK5H4W55QKRwPQrX64dAPQrXo3DHiUAAAAAAANCLQBSuR+F6KIFAPQrXo3CNakBcj8L1KGxwQKRwPQrX63JAexSuR+GugkA9CtejcD1FQD0K16Nw/YNAj8L1KFwrd0BxPQrXo+RyQJqZmZmZhYtAZmZmZmYWfUBmZmZmZgZaQKRwPQrX44lAFK5H4XqUTECkcD0K18uGQI/C9ShcQYhA4XoUrkdxdkC4HoXrUdSJQAAAAAAARIBAw/UoXI9KfUCamZmZmXlLQK5H4XoUknJAmpmZmZkdjUDD9Shcj954QKRwPQrXOYFAmpmZmZnFgEAK16NwPZSCQK5H4XoUrlFAzczMzMwId0AzMzMzM6+GQJqZmZmZEWpA4XoUrkdxakA9CtejcP0zQPYoXI/CsXtA4XoUrkefi0BxPQrXo7BOQB+F61G45mhASOF6FK7Pc0DhehSuR/OGQKRwPQrXIYRAFK5H4XpcekCkcD0K18uHQArXo3A9LINAcT0K16MIjEDNzMzMzJ6JQHE9CtejRHBA7FG4HoVrcUAzMzMzM8NgQJqZmZmZeXVAZmZmZmY8j0DXo3A9Crt5QClcj8L1iGxAexSuR+Hmh0BmZmZmZhiBQOxRuB6Fw2NArkfhehQueEDhehSuR0V6QLgehetRoodA9ihcj8J1PkDhehSuR0VxQI/C9ShcU4BAw/UoXI9CcUAzMzMzM8GDQM3MzMzMcH5APQrXo3ABd0D2KFyPwq2NQB+F61G43oNAFK5H4XpUYUBSuB6F66OBQI/C9Shcd4hAMzMzMzM7hkCkcD0K14tmQJqZmZmZZY5A4XoUrkdlfED2KFyPwu1kQBSuR+F6jGdAAAAAAADQWkCkcD0K1yuJQFK4HoXrWWBApHA9Cte7YED2KFyPwp+KQMP1KFyP8nVAZmZmZmZGREBxPQrXo7BOQAAAAAAA2GJAuB6F61Goa0BSuB6F6+OEQAAAAAAAuGRAXI/C9SjsX0DD9Shcj/iHQB+F61G4EoVA7FG4HoWPe0DD9Shcj06BQPYoXI/C7XNAexSuR+F6fkD2KFyPwvl/QPYoXI/ClXhArkfhehRcjEBmZmZmZuY5QM3MzMzMgohAFK5H4XqkYEDD9Shcj/yIQAAAAAAAXoNAzczMzMxmikDD9Shcj6JaQIXrUbgem4FA4XoUrkehf0DXo3A9CimGQJqZmZmZ14BAcT0K16MKgUDNzMzMzDR7QAAAAAAAvHNA16NwPQp3fkCkcD0K19NfQDMzMzMzD45AXI/C9ShqhkDsUbgehceNQB+F61G4Tm1AZmZmZmaEi0CamZmZmVWJQNejcD0KQ4VACtejcD2mg0CuR+F6FDZ0QAAAAAAAkolAAAAAAACof0DsUbgehQtUQEjhehSu+3NA7FG4HoU/jUCPwvUoXKGKQB+F61G4sI5ASOF6FK69g0ApXI/C9eBvQK5H4XoUZmVAmpmZmZlhaECamZmZmZk9QBSuR+F6zHhAuB6F61HwaEBxPQrXoxh6QIXrUbgePY1ASOF6FK5De0CamZmZmXmLQJqZmZmZC4NAhetRuB7Vb0DNzMzMzKR2QIXrUbgeRVdArkfhehRCdUBcj8L1KEaFQClcj8L1WFRAMzMzMzOrakCuR+F6FDp4QKRwPQrXsY5ArkfhehSYiEAzMzMzMwGHQFK4HoXrQV9A7FG4HoV5iECPwvUoXJuIQB+F61G46IJASOF6FK7zjkAAAAAAAMB0QHsUrkfhbo1AcT0K16OcjEAfhetRuF41QFK4HoXreXxAcT0K16OKjkD2KFyPwgVcQBSuR+F6QoFAj8L1KFyZjkDsUbgehX+BQD0K16NwvWhAexSuR+FSgkDNzMzMzIxqQK5H4XoUZIBAMzMzMzPTVEA9CtejcAuDQClcj8L1TIBArkfhehQ2h0CF61G4HtODQHsUrkfhUIFA16NwPQqnhUAAAAAAABBjQOF6FK5Hu4JAFK5H4XqMZkBcj8L1KPKMQJqZmZmZaVNAhetRuB5Be0AfhetRuNaFQNejcD0K93xAexSuR+FKWUDNzMzMzG6BQPYoXI/CKYRAAAAAAAAWhkAUrkfherh3QFyPwvUowIFAexSuR+GCfEAfhetRuBqFQPYoXI/CXYJAAAAAAACUgEAUrkfhehBwQAAAAAAAAChAexSuR+HKZkCamZmZmXlfQD0K16NwaXxAhetRuB5Bg0BmZmZmZp5rQI/C9ShcXY1AH4XrUbieMEBxPQrXozSIQJqZmZmZp4NAhetRuB69d0A9CtejcP1NQEjhehSuuYNAXI/C9Sh8eEAzMzMzM0eNQMP1KFyPFIFAAAAAAABijUApXI/C9YhsQPYoXI/Cw4ZAcT0K16Nog0CuR+F6FDCHQHE9Ctej0GtAH4XrUbjihEA=",
          "dtype": "f8"
         }
        },
        {
         "line": {
          "width": 3
         },
         "mode": "lines",
         "name": "7-Day Moving Average",
         "type": "scatter",
         "x": [
          "2023-01-01",
          "2023-01-02",
          "2023-01-03",
          "2023-01-04",
          "2023-01-05",
          "2023-01-06",
          "2023-01-07",
          "2023-01-08",
          "2023-01-09",
          "2023-01-10",
          "2023-01-11",
          "2023-01-12",
          "2023-01-13",
          "2023-01-14",
          "2023-01-15",
          "2023-01-16",
          "2023-01-17",
          "2023-01-18",
          "2023-01-19",
          "2023-01-20",
          "2023-01-21",
          "2023-01-22",
          "2023-01-23",
          "2023-01-24",
          "2023-01-25",
          "2023-01-26",
          "2023-01-27",
          "2023-01-28",
          "2023-01-29",
          "2023-01-30",
          "2023-01-31",
          "2023-02-01",
          "2023-02-02",
          "2023-02-03",
          "2023-02-04",
          "2023-02-05",
          "2023-02-06",
          "2023-02-07",
          "2023-02-08",
          "2023-02-09",
          "2023-02-10",
          "2023-02-11",
          "2023-02-12",
          "2023-02-13",
          "2023-02-14",
          "2023-02-15",
          "2023-02-16",
          "2023-02-17",
          "2023-02-18",
          "2023-02-19",
          "2023-02-20",
          "2023-02-21",
          "2023-02-22",
          "2023-02-23",
          "2023-02-24",
          "2023-02-25",
          "2023-02-26",
          "2023-02-27",
          "2023-02-28",
          "2023-03-01",
          "2023-03-02",
          "2023-03-03",
          "2023-03-04",
          "2023-03-05",
          "2023-03-06",
          "2023-03-07",
          "2023-03-08",
          "2023-03-09",
          "2023-03-10",
          "2023-03-11",
          "2023-03-12",
          "2023-03-13",
          "2023-03-14",
          "2023-03-15",
          "2023-03-16",
          "2023-03-17",
          "2023-03-18",
          "2023-03-19",
          "2023-03-20",
          "2023-03-21",
          "2023-03-22",
          "2023-03-23",
          "2023-03-24",
          "2023-03-25",
          "2023-03-26",
          "2023-03-27",
          "2023-03-28",
          "2023-03-29",
          "2023-03-30",
          "2023-03-31",
          "2023-04-01",
          "2023-04-02",
          "2023-04-03",
          "2023-04-04",
          "2023-04-05",
          "2023-04-06",
          "2023-04-07",
          "2023-04-08",
          "2023-04-09",
          "2023-04-10",
          "2023-04-11",
          "2023-04-12",
          "2023-04-13",
          "2023-04-14",
          "2023-04-15",
          "2023-04-16",
          "2023-04-17",
          "2023-04-18",
          "2023-04-19",
          "2023-04-20",
          "2023-04-21",
          "2023-04-22",
          "2023-04-23",
          "2023-04-24",
          "2023-04-25",
          "2023-04-26",
          "2023-04-27",
          "2023-04-28",
          "2023-04-29",
          "2023-04-30",
          "2023-05-01",
          "2023-05-02",
          "2023-05-03",
          "2023-05-04",
          "2023-05-05",
          "2023-05-06",
          "2023-05-07",
          "2023-05-08",
          "2023-05-09",
          "2023-05-10",
          "2023-05-11",
          "2023-05-12",
          "2023-05-13",
          "2023-05-14",
          "2023-05-15",
          "2023-05-16",
          "2023-05-17",
          "2023-05-18",
          "2023-05-19",
          "2023-05-20",
          "2023-05-21",
          "2023-05-22",
          "2023-05-23",
          "2023-05-24",
          "2023-05-25",
          "2023-05-26",
          "2023-05-27",
          "2023-05-28",
          "2023-05-29",
          "2023-05-30",
          "2023-05-31",
          "2023-06-01",
          "2023-06-02",
          "2023-06-03",
          "2023-06-04",
          "2023-06-05",
          "2023-06-06",
          "2023-06-07",
          "2023-06-08",
          "2023-06-09",
          "2023-06-10",
          "2023-06-11",
          "2023-06-12",
          "2023-06-13",
          "2023-06-14",
          "2023-06-15",
          "2023-06-16",
          "2023-06-17",
          "2023-06-18",
          "2023-06-19",
          "2023-06-20",
          "2023-06-21",
          "2023-06-22",
          "2023-06-23",
          "2023-06-24",
          "2023-06-25",
          "2023-06-26",
          "2023-06-27",
          "2023-06-28",
          "2023-06-29",
          "2023-06-30",
          "2023-07-01",
          "2023-07-02",
          "2023-07-03",
          "2023-07-04",
          "2023-07-05",
          "2023-07-06",
          "2023-07-07",
          "2023-07-08",
          "2023-07-09",
          "2023-07-10",
          "2023-07-11",
          "2023-07-12",
          "2023-07-13",
          "2023-07-14",
          "2023-07-15",
          "2023-07-16",
          "2023-07-17",
          "2023-07-18",
          "2023-07-19",
          "2023-07-20",
          "2023-07-21",
          "2023-07-22",
          "2023-07-23",
          "2023-07-24",
          "2023-07-25",
          "2023-07-26",
          "2023-07-27",
          "2023-07-28",
          "2023-07-29",
          "2023-07-30",
          "2023-07-31",
          "2023-08-01",
          "2023-08-02",
          "2023-08-03",
          "2023-08-04",
          "2023-08-05",
          "2023-08-06",
          "2023-08-07",
          "2023-08-08",
          "2023-08-09",
          "2023-08-10",
          "2023-08-11",
          "2023-08-12",
          "2023-08-13",
          "2023-08-14",
          "2023-08-15",
          "2023-08-16",
          "2023-08-17",
          "2023-08-18",
          "2023-08-19",
          "2023-08-20",
          "2023-08-21",
          "2023-08-22",
          "2023-08-23",
          "2023-08-24",
          "2023-08-25",
          "2023-08-26",
          "2023-08-27",
          "2023-08-28",
          "2023-08-29",
          "2023-08-30",
          "2023-08-31",
          "2023-09-01",
          "2023-09-02",
          "2023-09-03",
          "2023-09-04",
          "2023-09-05",
          "2023-09-06",
          "2023-09-07",
          "2023-09-08",
          "2023-09-09",
          "2023-09-10",
          "2023-09-11",
          "2023-09-12",
          "2023-09-13",
          "2023-09-14",
          "2023-09-15",
          "2023-09-16",
          "2023-09-17",
          "2023-09-18",
          "2023-09-19",
          "2023-09-20",
          "2023-09-21",
          "2023-09-22",
          "2023-09-23",
          "2023-09-24",
          "2023-09-25",
          "2023-09-26",
          "2023-09-27",
          "2023-09-28",
          "2023-09-29",
          "2023-09-30",
          "2023-10-01",
          "2023-10-02",
          "2023-10-03",
          "2023-10-04",
          "2023-10-05",
          "2023-10-06",
          "2023-10-07",
          "2023-10-08",
          "2023-10-09",
          "2023-10-10",
          "2023-10-11",
          "2023-10-12",
          "2023-10-13",
          "2023-10-14",
          "2023-10-15",
          "2023-10-16",
          "2023-10-17",
          "2023-10-18",
          "2023-10-19",
          "2023-10-20",
          "2023-10-21",
          "2023-10-22",
          "2023-10-23",
          "2023-10-24",
          "2023-10-25",
          "2023-10-26",
          "2023-10-27",
          "2023-10-28",
          "2023-10-29",
          "2023-10-30",
          "2023-10-31",
          "2023-11-01",
          "2023-11-02",
          "2023-11-03",
          "2023-11-04",
          "2023-11-05",
          "2023-11-06",
          "2023-11-07",
          "2023-11-08",
          "2023-11-09",
          "2023-11-10",
          "2023-11-11",
          "2023-11-12",
          "2023-11-13",
          "2023-11-14",
          "2023-11-15",
          "2023-11-16",
          "2023-11-17",
          "2023-11-18",
          "2023-11-19",
          "2023-11-20",
          "2023-11-21",
          "2023-11-22",
          "2023-11-23",
          "2023-11-24",
          "2023-11-25",
          "2023-11-26",
          "2023-11-27",
          "2023-11-28",
          "2023-11-29",
          "2023-11-30",
          "2023-12-01",
          "2023-12-02",
          "2023-12-03",
          "2023-12-04",
          "2023-12-05",
          "2023-12-06",
          "2023-12-07",
          "2023-12-08",
          "2023-12-09",
          "2023-12-10",
          "2023-12-11",
          "2023-12-12",
          "2023-12-13",
          "2023-12-14",
          "2023-12-15",
          "2023-12-16",
          "2023-12-17",
          "2023-12-18",
          "2023-12-19",
          "2023-12-20",
          "2023-12-21",
          "2023-12-22",
          "2023-12-23",
          "2023-12-24",
          "2023-12-25",
          "2023-12-26",
          "2023-12-27",
          "2023-12-28",
          "2023-12-29",
          "2023-12-30",
          "2023-12-31",
          "2024-01-01",
          "2024-01-02",
          "2024-01-03",
          "2024-01-04",
          "2024-01-05",
          "2024-01-06",
          "2024-01-07",
          "2024-01-08",
          "2024-01-09",
          "2024-01-10",
          "2024-01-11",
          "2024-01-12",
          "2024-01-13",
          "2024-01-14",
          "2024-01-15",
          "2024-01-16",
          "2024-01-17",
          "2024-01-18",
          "2024-01-19",
          "2024-01-20",
          "2024-01-21",
          "2024-01-22",
          "2024-01-23",
          "2024-01-24",
          "2024-01-25",
          "2024-01-26",
          "2024-01-27",
          "2024-01-28",
          "2024-01-29",
          "2024-01-30",
          "2024-01-31",
          "2024-02-01",
          "2024-02-02",
          "2024-02-03",
          "2024-02-04",
          "2024-02-05",
          "2024-02-06",
          "2024-02-07",
          "2024-02-08",
          "2024-02-09",
          "2024-02-10",
          "2024-02-11",
          "2024-02-12",
          "2024-02-13",
          "2024-02-14",
          "2024-02-15",
          "2024-02-16",
          "2024-02-17",
          "2024-02-18",
          "2024-02-19",
          "2024-02-20",
          "2024-02-21",
          "2024-02-22",
          "2024-02-23",
          "2024-02-24",
          "2024-02-25",
          "2024-02-26",
          "2024-02-27",
          "2024-02-28",
          "2024-02-29",
          "2024-03-01",
          "2024-03-02",
          "2024-03-03",
          "2024-03-04",
          "2024-03-05",
          "2024-03-06",
          "2024-03-07",
          "2024-03-08",
          "2024-03-09",
          "2024-03-10",
          "2024-03-11",
          "2024-03-12",
          "2024-03-13",
          "2024-03-14",
          "2024-03-15",
          "2024-03-16",
          "2024-03-17",
          "2024-03-18",
          "2024-03-19",
          "2024-03-20",
          "2024-03-21",
          "2024-03-22",
          "2024-03-23",
          "2024-03-24",
          "2024-03-25",
          "2024-03-26",
          "2024-03-27",
          "2024-03-28",
          "2024-03-29",
          "2024-03-30",
          "2024-03-31",
          "2024-04-01",
          "2024-04-02",
          "2024-04-03",
          "2024-04-04",
          "2024-04-05",
          "2024-04-06",
          "2024-04-07",
          "2024-04-08",
          "2024-04-09",
          "2024-04-10",
          "2024-04-11",
          "2024-04-12",
          "2024-04-13",
          "2024-04-14",
          "2024-04-15",
          "2024-04-16",
          "2024-04-17",
          "2024-04-18",
          "2024-04-19",
          "2024-04-20",
          "2024-04-21",
          "2024-04-22",
          "2024-04-23",
          "2024-04-24",
          "2024-04-25",
          "2024-04-26",
          "2024-04-27",
          "2024-04-28",
          "2024-04-29",
          "2024-04-30",
          "2024-05-01",
          "2024-05-02",
          "2024-05-03",
          "2024-05-04",
          "2024-05-05",
          "2024-05-06",
          "2024-05-07",
          "2024-05-08",
          "2024-05-09",
          "2024-05-10",
          "2024-05-11",
          "2024-05-12",
          "2024-05-13",
          "2024-05-14",
          "2024-05-15",
          "2024-05-16",
          "2024-05-17",
          "2024-05-18",
          "2024-05-19",
          "2024-05-20",
          "2024-05-21",
          "2024-05-22",
          "2024-05-23",
          "2024-05-24",
          "2024-05-25",
          "2024-05-26",
          "2024-05-27",
          "2024-05-28",
          "2024-05-29",
          "2024-05-30",
          "2024-05-31",
          "2024-06-01",
          "2024-06-02",
          "2024-06-03",
          "2024-06-04",
          "2024-06-05",
          "2024-06-06",
          "2024-06-07",
          "2024-06-08",
          "2024-06-09",
          "2024-06-10",
          "2024-06-11",
          "2024-06-12",
          "2024-06-13",
          "2024-06-14",
          "2024-06-15",
          "2024-06-16",
          "2024-06-17",
          "2024-06-18",
          "2024-06-19",
          "2024-06-20",
          "2024-06-21",
          "2024-06-22",
          "2024-06-23",
          "2024-06-24",
          "2024-06-25",
          "2024-06-26",
          "2024-06-27",
          "2024-06-28",
          "2024-06-29",
          "2024-06-30",
          "2024-07-01",
          "2024-07-02",
          "2024-07-03",
          "2024-07-04",
          "2024-07-05",
          "2024-07-06",
          "2024-07-07",
          "2024-07-08",
          "2024-07-09",
          "2024-07-10",
          "2024-07-11",
          "2024-07-12",
          "2024-07-13",
          "2024-07-14",
          "2024-07-15",
          "2024-07-16",
          "2024-07-17",
          "2024-07-18",
          "2024-07-19",
          "2024-07-20",
          "2024-07-21",
          "2024-07-22",
          "2024-07-23",
          "2024-07-24",
          "2024-07-25",
          "2024-07-26",
          "2024-07-27",
          "2024-07-28",
          "2024-07-29",
          "2024-07-30",
          "2024-07-31",
          "2024-08-01",
          "2024-08-02",
          "2024-08-03",
          "2024-08-04",
          "2024-08-05",
          "2024-08-06",
          "2024-08-07",
          "2024-08-08",
          "2024-08-09",
          "2024-08-10",
          "2024-08-11",
          "2024-08-12",
          "2024-08-13",
          "2024-08-14",
          "2024-08-15",
          "2024-08-16",
          "2024-08-17",
          "2024-08-18",
          "2024-08-19",
          "2024-08-20",
          "2024-08-21",
          "2024-08-22",
          "2024-08-23",
          "2024-08-24",
          "2024-08-25",
          "2024-08-26",
          "2024-08-27",
          "2024-08-28",
          "2024-08-29",
          "2024-08-30",
          "2024-08-31",
          "2024-09-01",
          "2024-09-02",
          "2024-09-03",
          "2024-09-04",
          "2024-09-05",
          "2024-09-06",
          "2024-09-07",
          "2024-09-08",
          "2024-09-09",
          "2024-09-10",
          "2024-09-11",
          "2024-09-12",
          "2024-09-13",
          "2024-09-14",
          "2024-09-15",
          "2024-09-16",
          "2024-09-17",
          "2024-09-18",
          "2024-09-19",
          "2024-09-20",
          "2024-09-21",
          "2024-09-22",
          "2024-09-23",
          "2024-09-24",
          "2024-09-25",
          "2024-09-26",
          "2024-09-27",
          "2024-09-28",
          "2024-09-29",
          "2024-09-30",
          "2024-10-01",
          "2024-10-02",
          "2024-10-03",
          "2024-10-04",
          "2024-10-05",
          "2024-10-06",
          "2024-10-07",
          "2024-10-08",
          "2024-10-09",
          "2024-10-10",
          "2024-10-11",
          "2024-10-12",
          "2024-10-13",
          "2024-10-14",
          "2024-10-15",
          "2024-10-16",
          "2024-10-17",
          "2024-10-18",
          "2024-10-19",
          "2024-10-20",
          "2024-10-21",
          "2024-10-22",
          "2024-10-23",
          "2024-10-24",
          "2024-10-25",
          "2024-10-26",
          "2024-10-27",
          "2024-10-28",
          "2024-10-29",
          "2024-10-30",
          "2024-10-31",
          "2024-11-01",
          "2024-11-02",
          "2024-11-03",
          "2024-11-04",
          "2024-11-05",
          "2024-11-06",
          "2024-11-07",
          "2024-11-08",
          "2024-11-09",
          "2024-11-10",
          "2024-11-11",
          "2024-11-12",
          "2024-11-13",
          "2024-11-14",
          "2024-11-15",
          "2024-11-16",
          "2024-11-17",
          "2024-11-18",
          "2024-11-19",
          "2024-11-20",
          "2024-11-21",
          "2024-11-22",
          "2024-11-23",
          "2024-11-24",
          "2024-11-25",
          "2024-11-26",
          "2024-11-27",
          "2024-11-28",
          "2024-11-29",
          "2024-11-30",
          "2024-12-01",
          "2024-12-02",
          "2024-12-03",
          "2024-12-04",
          "2024-12-05",
          "2024-12-06",
          "2024-12-07",
          "2024-12-08",
          "2024-12-09",
          "2024-12-10",
          "2024-12-11",
          "2024-12-12",
          "2024-12-13",
          "2024-12-14",
          "2024-12-15",
          "2024-12-16",
          "2024-12-17",
          "2024-12-18",
          "2024-12-19",
          "2024-12-20",
          "2024-12-21",
          "2024-12-22",
          "2024-12-23",
          "2024-12-24",
          "2024-12-25",
          "2024-12-26",
          "2024-12-27",
          "2024-12-28",
          "2024-12-29",
          "2024-12-30",
          "2024-12-31",
          "2025-01-01",
          "2025-01-02",
          "2025-01-03",
          "2025-01-04",
          "2025-01-05",
          "2025-01-06",
          "2025-01-07",
          "2025-01-08",
          "2025-01-09",
          "2025-01-10",
          "2025-01-11",
          "2025-01-12",
          "2025-01-13",
          "2025-01-14",
          "2025-01-15",
          "2025-01-16",
          "2025-01-17",
          "2025-01-18",
          "2025-01-19",
          "2025-01-20",
          "2025-01-21",
          "2025-01-22",
          "2025-01-23",
          "2025-01-24",
          "2025-01-25",
          "2025-01-26",
          "2025-01-27",
          "2025-01-28",
          "2025-01-29",
          "2025-01-30",
          "2025-01-31",
          "2025-02-01",
          "2025-02-02",
          "2025-02-03",
          "2025-02-04",
          "2025-02-05",
          "2025-02-06",
          "2025-02-07",
          "2025-02-08",
          "2025-02-09",
          "2025-02-10",
          "2025-02-11",
          "2025-02-12",
          "2025-02-13",
          "2025-02-14",
          "2025-02-15",
          "2025-02-16",
          "2025-02-17",
          "2025-02-18",
          "2025-02-19",
          "2025-02-20",
          "2025-02-21",
          "2025-02-22",
          "2025-02-23",
          "2025-02-24",
          "2025-02-25",
          "2025-02-26",
          "2025-02-27",
          "2025-02-28",
          "2025-03-01",
          "2025-03-02",
          "2025-03-03",
          "2025-03-04",
          "2025-03-05",
          "2025-03-06",
          "2025-03-07",
          "2025-03-08",
          "2025-03-09",
          "2025-03-10",
          "2025-03-11",
          "2025-03-12",
          "2025-03-13",
          "2025-03-14",
          "2025-03-15",
          "2025-03-16",
          "2025-03-17",
          "2025-03-18",
          "2025-03-19",
          "2025-03-20",
          "2025-03-21",
          "2025-03-22",
          "2025-03-23",
          "2025-03-24",
          "2025-03-25",
          "2025-03-26",
          "2025-03-27",
          "2025-03-28",
          "2025-03-29",
          "2025-03-30",
          "2025-03-31",
          "2025-04-01",
          "2025-04-02",
          "2025-04-03",
          "2025-04-04",
          "2025-04-05",
          "2025-04-06",
          "2025-04-07",
          "2025-04-08",
          "2025-04-09",
          "2025-04-10",
          "2025-04-11",
          "2025-04-12",
          "2025-04-13",
          "2025-04-14",
          "2025-04-15",
          "2025-04-16",
          "2025-04-17",
          "2025-04-18",
          "2025-04-19",
          "2025-04-20",
          "2025-04-21",
          "2025-04-22",
          "2025-04-23",
          "2025-04-24",
          "2025-04-25",
          "2025-04-26",
          "2025-04-27",
          "2025-04-28",
          "2025-04-29",
          "2025-04-30",
          "2025-05-01",
          "2025-05-02",
          "2025-05-03",
          "2025-05-04",
          "2025-05-05",
          "2025-05-06",
          "2025-05-07",
          "2025-05-08",
          "2025-05-09",
          "2025-05-10",
          "2025-05-11",
          "2025-05-12",
          "2025-05-13",
          "2025-05-14",
          "2025-05-15",
          "2025-05-16",
          "2025-05-17",
          "2025-05-18",
          "2025-05-19",
          "2025-05-20",
          "2025-05-21",
          "2025-05-22",
          "2025-05-23",
          "2025-05-24",
          "2025-05-25",
          "2025-05-26",
          "2025-05-27",
          "2025-05-28",
          "2025-05-29",
          "2025-05-30",
          "2025-05-31",
          "2025-06-01",
          "2025-06-02",
          "2025-06-03",
          "2025-06-04",
          "2025-06-05",
          "2025-06-06",
          "2025-06-07",
          "2025-06-08",
          "2025-06-09",
          "2025-06-10",
          "2025-06-11",
          "2025-06-12",
          "2025-06-13",
          "2025-06-14",
          "2025-06-15",
          "2025-06-16",
          "2025-06-17",
          "2025-06-18",
          "2025-06-19",
          "2025-06-20",
          "2025-06-21",
          "2025-06-22",
          "2025-06-23",
          "2025-06-24",
          "2025-06-25",
          "2025-06-26",
          "2025-06-27",
          "2025-06-28",
          "2025-06-29",
          "2025-06-30",
          "2025-07-01",
          "2025-07-02",
          "2025-07-03",
          "2025-07-04",
          "2025-07-05",
          "2025-07-06",
          "2025-07-07",
          "2025-07-08",
          "2025-07-09",
          "2025-07-10",
          "2025-07-11",
          "2025-07-12",
          "2025-07-13",
          "2025-07-14",
          "2025-07-15",
          "2025-07-16",
          "2025-07-17",
          "2025-07-18",
          "2025-07-19",
          "2025-07-20",
          "2025-07-21",
          "2025-07-22",
          "2025-07-23",
          "2025-07-24",
          "2025-07-25",
          "2025-07-26",
          "2025-07-27",
          "2025-07-28",
          "2025-07-29",
          "2025-07-30",
          "2025-07-31",
          "2025-08-01",
          "2025-08-02",
          "2025-08-03",
          "2025-08-04",
          "2025-08-05",
          "2025-08-06",
          "2025-08-07",
          "2025-08-08",
          "2025-08-09",
          "2025-08-10",
          "2025-08-11",
          "2025-08-12",
          "2025-08-13",
          "2025-08-14",
          "2025-08-15",
          "2025-08-16",
          "2025-08-17",
          "2025-08-18",
          "2025-08-19",
          "2025-08-20",
          "2025-08-21",
          "2025-08-22",
          "2025-08-23",
          "2025-08-24",
          "2025-08-25",
          "2025-08-26",
          "2025-08-27",
          "2025-08-28",
          "2025-08-29",
          "2025-08-30",
          "2025-08-31",
          "2025-09-01",
          "2025-09-02",
          "2025-09-03",
          "2025-09-04",
          "2025-09-05",
          "2025-09-06",
          "2025-09-07",
          "2025-09-08",
          "2025-09-09",
          "2025-09-10",
          "2025-09-11",
          "2025-09-12",
          "2025-09-13",
          "2025-09-14",
          "2025-09-15",
          "2025-09-16",
          "2025-09-17",
          "2025-09-18",
          "2025-09-19",
          "2025-09-20",
          "2025-09-21",
          "2025-09-22",
          "2025-09-23",
          "2025-09-24",
          "2025-09-25",
          "2025-09-26"
         ],
         "y": {
          "bdata": "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",
          "dtype": "f8"
         }
        }
       ],
       "layout": {
        "template": {
         "data": {
          "bar": [
           {
            "error_x": {
             "color": "#2a3f5f"
            },
            "error_y": {
             "color": "#2a3f5f"
            },
            "marker": {
             "line": {
              "color": "#E5ECF6",
              "width": 0.5
             },
             "pattern": {
              "fillmode": "overlay",
              "size": 10,
              "solidity": 0.2
             }
            },
            "type": "bar"
           }
          ],
          "barpolar": [
           {
            "marker": {
             "line": {
              "color": "#E5ECF6",
              "width": 0.5
             },
             "pattern": {
              "fillmode": "overlay",
              "size": 10,
              "solidity": 0.2
             }
            },
            "type": "barpolar"
           }
          ],
          "carpet": [
           {
            "aaxis": {
             "endlinecolor": "#2a3f5f",
             "gridcolor": "white",
             "linecolor": "white",
             "minorgridcolor": "white",
             "startlinecolor": "#2a3f5f"
            },
            "baxis": {
             "endlinecolor": "#2a3f5f",
             "gridcolor": "white",
             "linecolor": "white",
             "minorgridcolor": "white",
             "startlinecolor": "#2a3f5f"
            },
            "type": "carpet"
           }
          ],
          "choropleth": [
           {
            "colorbar": {
             "outlinewidth": 0,
             "ticks": ""
            },
            "type": "choropleth"
           }
          ],
          "contour": [
           {
            "colorbar": {
             "outlinewidth": 0,
             "ticks": ""
            },
            "colorscale": [
             [
              0,
              "#0d0887"
             ],
             [
              0.1111111111111111,
              "#46039f"
             ],
             [
              0.2222222222222222,
              "#7201a8"
             ],
             [
              0.3333333333333333,
              "#9c179e"
             ],
             [
              0.4444444444444444,
              "#bd3786"
             ],
             [
              0.5555555555555556,
              "#d8576b"
             ],
             [
              0.6666666666666666,
              "#ed7953"
             ],
             [
              0.7777777777777778,
              "#fb9f3a"
             ],
             [
              0.8888888888888888,
              "#fdca26"
             ],
             [
              1,
              "#f0f921"
             ]
            ],
            "type": "contour"
           }
          ],
          "contourcarpet": [
           {
            "colorbar": {
             "outlinewidth": 0,
             "ticks": ""
            },
            "type": "contourcarpet"
           }
          ],
          "heatmap": [
           {
            "colorbar": {
             "outlinewidth": 0,
             "ticks": ""
            },
            "colorscale": [
             [
              0,
              "#0d0887"
             ],
             [
              0.1111111111111111,
              "#46039f"
             ],
             [
              0.2222222222222222,
              "#7201a8"
             ],
             [
              0.3333333333333333,
              "#9c179e"
             ],
             [
              0.4444444444444444,
              "#bd3786"
             ],
             [
              0.5555555555555556,
              "#d8576b"
             ],
             [
              0.6666666666666666,
              "#ed7953"
             ],
             [
              0.7777777777777778,
              "#fb9f3a"
             ],
             [
              0.8888888888888888,
              "#fdca26"
             ],
             [
              1,
              "#f0f921"
             ]
            ],
            "type": "heatmap"
           }
          ],
          "histogram": [
           {
            "marker": {
             "pattern": {
              "fillmode": "overlay",
              "size": 10,
              "solidity": 0.2
             }
            },
            "type": "histogram"
           }
          ],
          "histogram2d": [
           {
            "colorbar": {
             "outlinewidth": 0,
             "ticks": ""
            },
            "colorscale": [
             [
              0,
              "#0d0887"
             ],
             [
              0.1111111111111111,
              "#46039f"
             ],
             [
              0.2222222222222222,
              "#7201a8"
             ],
             [
              0.3333333333333333,
              "#9c179e"
             ],
             [
              0.4444444444444444,
              "#bd3786"
             ],
             [
              0.5555555555555556,
              "#d8576b"
             ],
             [
              0.6666666666666666,
              "#ed7953"
             ],
             [
              0.7777777777777778,
              "#fb9f3a"
             ],
             [
              0.8888888888888888,
              "#fdca26"
             ],
             [
              1,
              "#f0f921"
             ]
            ],
            "type": "histogram2d"
           }
          ],
          "histogram2dcontour": [
           {
            "colorbar": {
             "outlinewidth": 0,
             "ticks": ""
            },
            "colorscale": [
             [
              0,
              "#0d0887"
             ],
             [
              0.1111111111111111,
              "#46039f"
             ],
             [
              0.2222222222222222,
              "#7201a8"
             ],
             [
              0.3333333333333333,
              "#9c179e"
             ],
             [
              0.4444444444444444,
              "#bd3786"
             ],
             [
              0.5555555555555556,
              "#d8576b"
             ],
             [
              0.6666666666666666,
              "#ed7953"
             ],
             [
              0.7777777777777778,
              "#fb9f3a"
             ],
             [
              0.8888888888888888,
              "#fdca26"
             ],
             [
              1,
              "#f0f921"
             ]
            ],
            "type": "histogram2dcontour"
           }
          ],
          "mesh3d": [
           {
            "colorbar": {
             "outlinewidth": 0,
             "ticks": ""
            },
            "type": "mesh3d"
           }
          ],
          "parcoords": [
           {
            "line": {
             "colorbar": {
              "outlinewidth": 0,
              "ticks": ""
             }
            },
            "type": "parcoords"
           }
          ],
          "pie": [
           {
            "automargin": true,
            "type": "pie"
           }
          ],
          "scatter": [
           {
            "fillpattern": {
             "fillmode": "overlay",
             "size": 10,
             "solidity": 0.2
            },
            "type": "scatter"
           }
          ],
          "scatter3d": [
           {
            "line": {
             "colorbar": {
              "outlinewidth": 0,
              "ticks": ""
             }
            },
            "marker": {
             "colorbar": {
              "outlinewidth": 0,
              "ticks": ""
             }
            },
            "type": "scatter3d"
           }
          ],
          "scattercarpet": [
           {
            "marker": {
             "colorbar": {
              "outlinewidth": 0,
              "ticks": ""
             }
            },
            "type": "scattercarpet"
           }
          ],
          "scattergeo": [
           {
            "marker": {
             "colorbar": {
              "outlinewidth": 0,
              "ticks": ""
             }
            },
            "type": "scattergeo"
           }
          ],
          "scattergl": [
           {
            "marker": {
             "colorbar": {
              "outlinewidth": 0,
              "ticks": ""
             }
            },
            "type": "scattergl"
           }
          ],
          "scattermap": [
           {
            "marker": {
             "colorbar": {
              "outlinewidth": 0,
              "ticks": ""
             }
            },
            "type": "scattermap"
           }
          ],
          "scattermapbox": [
           {
            "marker": {
             "colorbar": {
              "outlinewidth": 0,
              "ticks": ""
             }
            },
            "type": "scattermapbox"
           }
          ],
          "scatterpolar": [
           {
            "marker": {
             "colorbar": {
              "outlinewidth": 0,
              "ticks": ""
             }
            },
            "type": "scatterpolar"
           }
          ],
          "scatterpolargl": [
           {
            "marker": {
             "colorbar": {
              "outlinewidth": 0,
              "ticks": ""
             }
            },
            "type": "scatterpolargl"
           }
          ],
          "scatterternary": [
           {
            "marker": {
             "colorbar": {
              "outlinewidth": 0,
              "ticks": ""
             }
            },
            "type": "scatterternary"
           }
          ],
          "surface": [
           {
            "colorbar": {
             "outlinewidth": 0,
             "ticks": ""
            },
            "colorscale": [
             [
              0,
              "#0d0887"
             ],
             [
              0.1111111111111111,
              "#46039f"
             ],
             [
              0.2222222222222222,
              "#7201a8"
             ],
             [
              0.3333333333333333,
              "#9c179e"
             ],
             [
              0.4444444444444444,
              "#bd3786"
             ],
             [
              0.5555555555555556,
              "#d8576b"
             ],
             [
              0.6666666666666666,
              "#ed7953"
             ],
             [
              0.7777777777777778,
              "#fb9f3a"
             ],
             [
              0.8888888888888888,
              "#fdca26"
             ],
             [
              1,
              "#f0f921"
             ]
            ],
            "type": "surface"
           }
          ],
          "table": [
           {
            "cells": {
             "fill": {
              "color": "#EBF0F8"
             },
             "line": {
              "color": "white"
             }
            },
            "header": {
             "fill": {
              "color": "#C8D4E3"
             },
             "line": {
              "color": "white"
             }
            },
            "type": "table"
           }
          ]
         },
         "layout": {
          "annotationdefaults": {
           "arrowcolor": "#2a3f5f",
           "arrowhead": 0,
           "arrowwidth": 1
          },
          "autotypenumbers": "strict",
          "coloraxis": {
           "colorbar": {
            "outlinewidth": 0,
            "ticks": ""
           }
          },
          "colorscale": {
           "diverging": [
            [
             0,
             "#8e0152"
            ],
            [
             0.1,
             "#c51b7d"
            ],
            [
             0.2,
             "#de77ae"
            ],
            [
             0.3,
             "#f1b6da"
            ],
            [
             0.4,
             "#fde0ef"
            ],
            [
             0.5,
             "#f7f7f7"
            ],
            [
             0.6,
             "#e6f5d0"
            ],
            [
             0.7,
             "#b8e186"
            ],
            [
             0.8,
             "#7fbc41"
            ],
            [
             0.9,
             "#4d9221"
            ],
            [
             1,
             "#276419"
            ]
           ],
           "sequential": [
            [
             0,
             "#0d0887"
            ],
            [
             0.1111111111111111,
             "#46039f"
            ],
            [
             0.2222222222222222,
             "#7201a8"
            ],
            [
             0.3333333333333333,
             "#9c179e"
            ],
            [
             0.4444444444444444,
             "#bd3786"
            ],
            [
             0.5555555555555556,
             "#d8576b"
            ],
            [
             0.6666666666666666,
             "#ed7953"
            ],
            [
             0.7777777777777778,
             "#fb9f3a"
            ],
            [
             0.8888888888888888,
             "#fdca26"
            ],
            [
             1,
             "#f0f921"
            ]
           ],
           "sequentialminus": [
            [
             0,
             "#0d0887"
            ],
            [
             0.1111111111111111,
             "#46039f"
            ],
            [
             0.2222222222222222,
             "#7201a8"
            ],
            [
             0.3333333333333333,
             "#9c179e"
            ],
            [
             0.4444444444444444,
             "#bd3786"
            ],
            [
             0.5555555555555556,
             "#d8576b"
            ],
            [
             0.6666666666666666,
             "#ed7953"
            ],
            [
             0.7777777777777778,
             "#fb9f3a"
            ],
            [
             0.8888888888888888,
             "#fdca26"
            ],
            [
             1,
             "#f0f921"
            ]
           ]
          },
          "colorway": [
           "#636efa",
           "#EF553B",
           "#00cc96",
           "#ab63fa",
           "#FFA15A",
           "#19d3f3",
           "#FF6692",
           "#B6E880",
           "#FF97FF",
           "#FECB52"
          ],
          "font": {
           "color": "#2a3f5f"
          },
          "geo": {
           "bgcolor": "white",
           "lakecolor": "white",
           "landcolor": "#E5ECF6",
           "showlakes": true,
           "showland": true,
           "subunitcolor": "white"
          },
          "hoverlabel": {
           "align": "left"
          },
          "hovermode": "closest",
          "mapbox": {
           "style": "light"
          },
          "paper_bgcolor": "white",
          "plot_bgcolor": "#E5ECF6",
          "polar": {
           "angularaxis": {
            "gridcolor": "white",
            "linecolor": "white",
            "ticks": ""
           },
           "bgcolor": "#E5ECF6",
           "radialaxis": {
            "gridcolor": "white",
            "linecolor": "white",
            "ticks": ""
           }
          },
          "scene": {
           "xaxis": {
            "backgroundcolor": "#E5ECF6",
            "gridcolor": "white",
            "gridwidth": 2,
            "linecolor": "white",
            "showbackground": true,
            "ticks": "",
            "zerolinecolor": "white"
           },
           "yaxis": {
            "backgroundcolor": "#E5ECF6",
            "gridcolor": "white",
            "gridwidth": 2,
            "linecolor": "white",
            "showbackground": true,
            "ticks": "",
            "zerolinecolor": "white"
           },
           "zaxis": {
            "backgroundcolor": "#E5ECF6",
            "gridcolor": "white",
            "gridwidth": 2,
            "linecolor": "white",
            "showbackground": true,
            "ticks": "",
            "zerolinecolor": "white"
           }
          },
          "shapedefaults": {
           "line": {
            "color": "#2a3f5f"
           }
          },
          "ternary": {
           "aaxis": {
            "gridcolor": "white",
            "linecolor": "white",
            "ticks": ""
           },
           "baxis": {
            "gridcolor": "white",
            "linecolor": "white",
            "ticks": ""
           },
           "bgcolor": "#E5ECF6",
           "caxis": {
            "gridcolor": "white",
            "linecolor": "white",
            "ticks": ""
           }
          },
          "title": {
           "x": 0.05
          },
          "xaxis": {
           "automargin": true,
           "gridcolor": "white",
           "linecolor": "white",
           "ticks": "",
           "title": {
            "standoff": 15
           },
           "zerolinecolor": "white",
           "zerolinewidth": 2
          },
          "yaxis": {
           "automargin": true,
           "gridcolor": "white",
           "linecolor": "white",
           "ticks": "",
           "title": {
            "standoff": 15
           },
           "zerolinecolor": "white",
           "zerolinewidth": 2
          }
         }
        },
        "title": {
         "text": "Daily Sales with 7-Day Moving Average"
        },
        "xaxis": {
         "title": {
          "text": "Date"
         }
        },
        "yaxis": {
         "title": {
          "text": "Sales Amount ($)"
         }
        }
       }
      }
     },
     "metadata": {},
     "output_type": "display_data"
    }
   ],
   "source": [
    "# Plot time series with rolling average\n",
    "fig = (\n",
    "    go.Figure()\n",
    "    .add_trace(\n",
    "        go.Scatter(\n",
    "            x=daily_sales.toPandas()[\"date\"],\n",
    "            y=daily_sales.toPandas()[\"total_sales\"],\n",
    "            mode=\"lines\",\n",
    "            name=\"Daily Sales\",\n",
    "        )\n",
    "    )\n",
    "    .add_trace(\n",
    "        go.Scatter(\n",
    "            x=daily_sales.toPandas()[\"date\"],\n",
    "            y=daily_sales.toPandas()[\"7d_moving_avg\"],\n",
    "            mode=\"lines\",\n",
    "            name=\"7-Day Moving Average\",\n",
    "            line=dict(width=3),\n",
    "        ),\n",
    "    )\n",
    "    .update_layout(\n",
    "        title=\"Daily Sales with 7-Day Moving Average\",\n",
    "        xaxis_title=\"Date\",\n",
    "        yaxis_title=\"Sales Amount ($)\",\n",
    "    )\n",
    ")\n",
    "fig.show()"
   ]
  },
  {
   "cell_type": "markdown",
   "id": "42153efd",
   "metadata": {},
   "source": [
    "### 5. Ranking and Partitioning"
   ]
  },
  {
   "cell_type": "code",
   "execution_count": null,
   "id": "4364bd57",
   "metadata": {},
   "outputs": [
    {
     "name": "stdout",
     "output_type": "stream",
     "text": [
      "Customer Spending Summary: 99\n"
     ]
    },
    {
     "name": "stderr",
     "output_type": "stream",
     "text": [
      "25/06/09 08:41:05 WARN WindowExec: No Partition Defined for Window operation! Moving all data to a single partition, this can cause serious performance degradation.\n",
      "25/06/09 08:41:05 WARN WindowExec: No Partition Defined for Window operation! Moving all data to a single partition, this can cause serious performance degradation.\n",
      "25/06/09 08:41:05 WARN WindowExec: No Partition Defined for Window operation! Moving all data to a single partition, this can cause serious performance degradation.\n",
      "25/06/09 08:41:05 WARN WindowExec: No Partition Defined for Window operation! Moving all data to a single partition, this can cause serious performance degradation.\n",
      "25/06/09 08:41:05 WARN WindowExec: No Partition Defined for Window operation! Moving all data to a single partition, this can cause serious performance degradation.\n",
      "25/06/09 08:41:05 WARN WindowExec: No Partition Defined for Window operation! Moving all data to a single partition, this can cause serious performance degradation.\n",
      "25/06/09 08:41:05 WARN WindowExec: No Partition Defined for Window operation! Moving all data to a single partition, this can cause serious performance degradation.\n"
     ]
    },
    {
     "name": "stdout",
     "output_type": "stream",
     "text": [
      "+-----------+------------------+----+\n",
      "|customer_id|    total_spending|rank|\n",
      "+-----------+------------------+----+\n",
      "|         90|12814.410000000002|   1|\n",
      "|         92|          10499.18|   2|\n",
      "|         58|           9985.15|   3|\n",
      "|         33| 9135.300000000001|   4|\n",
      "|         93|           8387.14|   5|\n",
      "|         63| 8304.060000000001|   6|\n",
      "|         39|           8121.66|   7|\n",
      "|         99|           8026.09|   8|\n",
      "|         62| 7813.420000000001|   9|\n",
      "|         17|           7778.62|  10|\n",
      "+-----------+------------------+----+\n",
      "only showing top 10 rows\n",
      "\n"
     ]
    }
   ],
   "source": [
    "# Rank customers by total spending\n",
    "customer_spending: psDataFrame = (\n",
    "    df_sales_ps.groupBy(\"customer_id\")\n",
    "    .agg(F.sum(\"sales_amount\").alias(\"total_spending\"))\n",
    "    .withColumn(\"rank\", F.dense_rank().over(Window.orderBy(F.desc(\"total_spending\"))))\n",
    "    .orderBy(\"rank\")\n",
    ")\n",
    "print(f\"Customer Spending Summary: {customer_spending.count()}\")\n",
    "customer_spending.show(10)"
   ]
  },
  {
   "cell_type": "code",
   "execution_count": null,
   "id": "01c1555f",
   "metadata": {},
   "outputs": [
    {
     "name": "stdout",
     "output_type": "stream",
     "text": [
      "Product Popularity Summary: 49\n"
     ]
    },
    {
     "name": "stderr",
     "output_type": "stream",
     "text": [
      "25/06/09 08:42:19 WARN WindowExec: No Partition Defined for Window operation! Moving all data to a single partition, this can cause serious performance degradation.\n",
      "25/06/09 08:42:19 WARN WindowExec: No Partition Defined for Window operation! Moving all data to a single partition, this can cause serious performance degradation.\n",
      "25/06/09 08:42:19 WARN WindowExec: No Partition Defined for Window operation! Moving all data to a single partition, this can cause serious performance degradation.\n",
      "25/06/09 08:42:19 WARN WindowExec: No Partition Defined for Window operation! Moving all data to a single partition, this can cause serious performance degradation.\n",
      "25/06/09 08:42:19 WARN WindowExec: No Partition Defined for Window operation! Moving all data to a single partition, this can cause serious performance degradation.\n",
      "25/06/09 08:42:19 WARN WindowExec: No Partition Defined for Window operation! Moving all data to a single partition, this can cause serious performance degradation.\n",
      "25/06/09 08:42:19 WARN WindowExec: No Partition Defined for Window operation! Moving all data to a single partition, this can cause serious performance degradation.\n"
     ]
    },
    {
     "name": "stdout",
     "output_type": "stream",
     "text": [
      "+----------+--------------+----+\n",
      "|product_id|total_quantity|rank|\n",
      "+----------+--------------+----+\n",
      "|        40|           165|   1|\n",
      "|        29|           154|   2|\n",
      "|        17|           143|   3|\n",
      "|        33|           136|   4|\n",
      "|        44|           128|   5|\n",
      "|        25|           124|   6|\n",
      "|        30|           122|   7|\n",
      "|        11|           121|   8|\n",
      "|        26|           120|   9|\n",
      "|        37|           120|   9|\n",
      "+----------+--------------+----+\n",
      "only showing top 10 rows\n",
      "\n"
     ]
    }
   ],
   "source": [
    "# Rank products by quantity sold\n",
    "product_popularity: psDataFrame = (\n",
    "    df_sales_ps.groupBy(\"product_id\")\n",
    "    .agg(F.sum(\"quantity\").alias(\"total_quantity\"))\n",
    "    .withColumn(\"rank\", F.expr(\"DENSE_RANK() OVER (ORDER BY total_quantity DESC)\"))\n",
    "    .orderBy(\"rank\")\n",
    ")\n",
    "print(f\"Product Popularity Summary: {product_popularity.count()}\")\n",
    "product_popularity.show(10)"
   ]
  },
  {
   "cell_type": "markdown",
   "id": "1b964254",
   "metadata": {},
   "source": [
    "## Polars"
   ]
  },
  {
   "cell_type": "markdown",
   "id": "f919d7a5",
   "metadata": {},
   "source": [
    "### Create"
   ]
  },
  {
   "cell_type": "code",
   "execution_count": null,
   "id": "126df607",
   "metadata": {},
   "outputs": [],
   "source": [
    "df_sales_pl: pl.DataFrame = pl.DataFrame(sales_data)\n",
    "df_product_pl: pl.DataFrame = pl.DataFrame(product_data)\n",
    "df_customer_pl: pl.DataFrame = pl.DataFrame(customer_data)"
   ]
  },
  {
   "cell_type": "code",
   "execution_count": null,
   "id": "5eda6de6",
   "metadata": {},
   "outputs": [
    {
     "name": "stdout",
     "output_type": "stream",
     "text": [
      "Sales DataFrame: 1000\n"
     ]
    },
    {
     "data": {
      "text/html": [
       "<div><style>\n",
       ".dataframe > thead > tr,\n",
       ".dataframe > tbody > tr {\n",
       "  text-align: right;\n",
       "  white-space: pre-wrap;\n",
       "}\n",
       "</style>\n",
       "<small>shape: (10, 6)</small><table border=\"1\" class=\"dataframe\"><thead><tr><th>date</th><th>customer_id</th><th>product_id</th><th>category</th><th>sales_amount</th><th>quantity</th></tr><tr><td>datetime[ns]</td><td>i64</td><td>i64</td><td>str</td><td>f64</td><td>i64</td></tr></thead><tbody><tr><td>2023-01-01 00:00:00</td><td>52</td><td>34</td><td>&quot;Books&quot;</td><td>319.23</td><td>2</td></tr><tr><td>2023-01-02 00:00:00</td><td>93</td><td>45</td><td>&quot;Food&quot;</td><td>646.25</td><td>6</td></tr><tr><td>2023-01-03 00:00:00</td><td>15</td><td>6</td><td>&quot;Food&quot;</td><td>203.88</td><td>2</td></tr><tr><td>2023-01-04 00:00:00</td><td>72</td><td>37</td><td>&quot;Books&quot;</td><td>897.99</td><td>3</td></tr><tr><td>2023-01-05 00:00:00</td><td>61</td><td>33</td><td>&quot;Books&quot;</td><td>524.99</td><td>4</td></tr><tr><td>2023-01-06 00:00:00</td><td>21</td><td>22</td><td>&quot;Clothing&quot;</td><td>453.13</td><td>5</td></tr><tr><td>2023-01-07 00:00:00</td><td>83</td><td>21</td><td>&quot;Clothing&quot;</td><td>562.24</td><td>9</td></tr><tr><td>2023-01-08 00:00:00</td><td>87</td><td>6</td><td>&quot;Food&quot;</td><td>174.37</td><td>4</td></tr><tr><td>2023-01-09 00:00:00</td><td>75</td><td>6</td><td>&quot;Electronics&quot;</td><td>617.34</td><td>9</td></tr><tr><td>2023-01-10 00:00:00</td><td>75</td><td>48</td><td>&quot;Books&quot;</td><td>369.47</td><td>3</td></tr></tbody></table></div>"
      ],
      "text/plain": [
       "shape: (10, 6)\n",
       "┌─────────────────────┬─────────────┬────────────┬─────────────┬──────────────┬──────────┐\n",
       "│ date                ┆ customer_id ┆ product_id ┆ category    ┆ sales_amount ┆ quantity │\n",
       "│ ---                 ┆ ---         ┆ ---        ┆ ---         ┆ ---          ┆ ---      │\n",
       "│ datetime[ns]        ┆ i64         ┆ i64        ┆ str         ┆ f64          ┆ i64      │\n",
       "╞═════════════════════╪═════════════╪════════════╪═════════════╪══════════════╪══════════╡\n",
       "│ 2023-01-01 00:00:00 ┆ 52          ┆ 34         ┆ Books       ┆ 319.23       ┆ 2        │\n",
       "│ 2023-01-02 00:00:00 ┆ 93          ┆ 45         ┆ Food        ┆ 646.25       ┆ 6        │\n",
       "│ 2023-01-03 00:00:00 ┆ 15          ┆ 6          ┆ Food        ┆ 203.88       ┆ 2        │\n",
       "│ 2023-01-04 00:00:00 ┆ 72          ┆ 37         ┆ Books       ┆ 897.99       ┆ 3        │\n",
       "│ 2023-01-05 00:00:00 ┆ 61          ┆ 33         ┆ Books       ┆ 524.99       ┆ 4        │\n",
       "│ 2023-01-06 00:00:00 ┆ 21          ┆ 22         ┆ Clothing    ┆ 453.13       ┆ 5        │\n",
       "│ 2023-01-07 00:00:00 ┆ 83          ┆ 21         ┆ Clothing    ┆ 562.24       ┆ 9        │\n",
       "│ 2023-01-08 00:00:00 ┆ 87          ┆ 6          ┆ Food        ┆ 174.37       ┆ 4        │\n",
       "│ 2023-01-09 00:00:00 ┆ 75          ┆ 6          ┆ Electronics ┆ 617.34       ┆ 9        │\n",
       "│ 2023-01-10 00:00:00 ┆ 75          ┆ 48         ┆ Books       ┆ 369.47       ┆ 3        │\n",
       "└─────────────────────┴─────────────┴────────────┴─────────────┴──────────────┴──────────┘"
      ]
     },
     "metadata": {},
     "output_type": "display_data"
    }
   ],
   "source": [
    "print(f\"Sales DataFrame: {df_sales_pl.shape[0]}\")\n",
    "display(df_sales_pl.head(10))"
   ]
  },
  {
   "cell_type": "code",
   "execution_count": null,
   "id": "95ed50cc",
   "metadata": {},
   "outputs": [
    {
     "name": "stdout",
     "output_type": "stream",
     "text": [
      "Product DataFrame: 50\n"
     ]
    },
    {
     "data": {
      "text/html": [
       "<div><style>\n",
       ".dataframe > thead > tr,\n",
       ".dataframe > tbody > tr {\n",
       "  text-align: right;\n",
       "  white-space: pre-wrap;\n",
       "}\n",
       "</style>\n",
       "<small>shape: (10, 5)</small><table border=\"1\" class=\"dataframe\"><thead><tr><th>product_id</th><th>product_name</th><th>price</th><th>category</th><th>supplier_id</th></tr><tr><td>i64</td><td>str</td><td>f64</td><td>str</td><td>i64</td></tr></thead><tbody><tr><td>1</td><td>&quot;Product 1&quot;</td><td>293.13</td><td>&quot;Food&quot;</td><td>6</td></tr><tr><td>2</td><td>&quot;Product 2&quot;</td><td>434.39</td><td>&quot;Food&quot;</td><td>3</td></tr><tr><td>3</td><td>&quot;Product 3&quot;</td><td>151.83</td><td>&quot;Electronics&quot;</td><td>7</td></tr><tr><td>4</td><td>&quot;Product 4&quot;</td><td>239.16</td><td>&quot;Clothing&quot;</td><td>5</td></tr><tr><td>5</td><td>&quot;Product 5&quot;</td><td>313.5</td><td>&quot;Clothing&quot;</td><td>4</td></tr><tr><td>6</td><td>&quot;Product 6&quot;</td><td>211.48</td><td>&quot;Electronics&quot;</td><td>5</td></tr><tr><td>7</td><td>&quot;Product 7&quot;</td><td>219.47</td><td>&quot;Clothing&quot;</td><td>8</td></tr><tr><td>8</td><td>&quot;Product 8&quot;</td><td>171.84</td><td>&quot;Books&quot;</td><td>3</td></tr><tr><td>9</td><td>&quot;Product 9&quot;</td><td>286.47</td><td>&quot;Electronics&quot;</td><td>7</td></tr><tr><td>10</td><td>&quot;Product 10&quot;</td><td>426.78</td><td>&quot;Books&quot;</td><td>6</td></tr></tbody></table></div>"
      ],
      "text/plain": [
       "shape: (10, 5)\n",
       "┌────────────┬──────────────┬────────┬─────────────┬─────────────┐\n",
       "│ product_id ┆ product_name ┆ price  ┆ category    ┆ supplier_id │\n",
       "│ ---        ┆ ---          ┆ ---    ┆ ---         ┆ ---         │\n",
       "│ i64        ┆ str          ┆ f64    ┆ str         ┆ i64         │\n",
       "╞════════════╪══════════════╪════════╪═════════════╪═════════════╡\n",
       "│ 1          ┆ Product 1    ┆ 293.13 ┆ Food        ┆ 6           │\n",
       "│ 2          ┆ Product 2    ┆ 434.39 ┆ Food        ┆ 3           │\n",
       "│ 3          ┆ Product 3    ┆ 151.83 ┆ Electronics ┆ 7           │\n",
       "│ 4          ┆ Product 4    ┆ 239.16 ┆ Clothing    ┆ 5           │\n",
       "│ 5          ┆ Product 5    ┆ 313.5  ┆ Clothing    ┆ 4           │\n",
       "│ 6          ┆ Product 6    ┆ 211.48 ┆ Electronics ┆ 5           │\n",
       "│ 7          ┆ Product 7    ┆ 219.47 ┆ Clothing    ┆ 8           │\n",
       "│ 8          ┆ Product 8    ┆ 171.84 ┆ Books       ┆ 3           │\n",
       "│ 9          ┆ Product 9    ┆ 286.47 ┆ Electronics ┆ 7           │\n",
       "│ 10         ┆ Product 10   ┆ 426.78 ┆ Books       ┆ 6           │\n",
       "└────────────┴──────────────┴────────┴─────────────┴─────────────┘"
      ]
     },
     "metadata": {},
     "output_type": "display_data"
    }
   ],
   "source": [
    "print(f\"Product DataFrame: {df_product_pl.shape[0]}\")\n",
    "display(df_product_pl.head(10))"
   ]
  },
  {
   "cell_type": "code",
   "execution_count": null,
   "id": "5feab3a6",
   "metadata": {},
   "outputs": [
    {
     "name": "stdout",
     "output_type": "stream",
     "text": [
      "Customer DataFrame: 100\n"
     ]
    },
    {
     "data": {
      "text/html": [
       "<div><style>\n",
       ".dataframe > thead > tr,\n",
       ".dataframe > tbody > tr {\n",
       "  text-align: right;\n",
       "  white-space: pre-wrap;\n",
       "}\n",
       "</style>\n",
       "<small>shape: (10, 5)</small><table border=\"1\" class=\"dataframe\"><thead><tr><th>customer_id</th><th>customer_name</th><th>city</th><th>state</th><th>segment</th></tr><tr><td>i64</td><td>str</td><td>str</td><td>str</td><td>str</td></tr></thead><tbody><tr><td>1</td><td>&quot;Customer 1&quot;</td><td>&quot;Chicago&quot;</td><td>&quot;AZ&quot;</td><td>&quot;Consumer&quot;</td></tr><tr><td>2</td><td>&quot;Customer 2&quot;</td><td>&quot;New York&quot;</td><td>&quot;IL&quot;</td><td>&quot;Home Office&quot;</td></tr><tr><td>3</td><td>&quot;Customer 3&quot;</td><td>&quot;Los Angeles&quot;</td><td>&quot;NY&quot;</td><td>&quot;Corporate&quot;</td></tr><tr><td>4</td><td>&quot;Customer 4&quot;</td><td>&quot;Phoenix&quot;</td><td>&quot;TX&quot;</td><td>&quot;Consumer&quot;</td></tr><tr><td>5</td><td>&quot;Customer 5&quot;</td><td>&quot;New York&quot;</td><td>&quot;IL&quot;</td><td>&quot;Home Office&quot;</td></tr><tr><td>6</td><td>&quot;Customer 6&quot;</td><td>&quot;New York&quot;</td><td>&quot;TX&quot;</td><td>&quot;Corporate&quot;</td></tr><tr><td>7</td><td>&quot;Customer 7&quot;</td><td>&quot;Los Angeles&quot;</td><td>&quot;NY&quot;</td><td>&quot;Home Office&quot;</td></tr><tr><td>8</td><td>&quot;Customer 8&quot;</td><td>&quot;Phoenix&quot;</td><td>&quot;IL&quot;</td><td>&quot;Consumer&quot;</td></tr><tr><td>9</td><td>&quot;Customer 9&quot;</td><td>&quot;Houston&quot;</td><td>&quot;TX&quot;</td><td>&quot;Corporate&quot;</td></tr><tr><td>10</td><td>&quot;Customer 10&quot;</td><td>&quot;Phoenix&quot;</td><td>&quot;AZ&quot;</td><td>&quot;Corporate&quot;</td></tr></tbody></table></div>"
      ],
      "text/plain": [
       "shape: (10, 5)\n",
       "┌─────────────┬───────────────┬─────────────┬───────┬─────────────┐\n",
       "│ customer_id ┆ customer_name ┆ city        ┆ state ┆ segment     │\n",
       "│ ---         ┆ ---           ┆ ---         ┆ ---   ┆ ---         │\n",
       "│ i64         ┆ str           ┆ str         ┆ str   ┆ str         │\n",
       "╞═════════════╪═══════════════╪═════════════╪═══════╪═════════════╡\n",
       "│ 1           ┆ Customer 1    ┆ Chicago     ┆ AZ    ┆ Consumer    │\n",
       "│ 2           ┆ Customer 2    ┆ New York    ┆ IL    ┆ Home Office │\n",
       "│ 3           ┆ Customer 3    ┆ Los Angeles ┆ NY    ┆ Corporate   │\n",
       "│ 4           ┆ Customer 4    ┆ Phoenix     ┆ TX    ┆ Consumer    │\n",
       "│ 5           ┆ Customer 5    ┆ New York    ┆ IL    ┆ Home Office │\n",
       "│ 6           ┆ Customer 6    ┆ New York    ┆ TX    ┆ Corporate   │\n",
       "│ 7           ┆ Customer 7    ┆ Los Angeles ┆ NY    ┆ Home Office │\n",
       "│ 8           ┆ Customer 8    ┆ Phoenix     ┆ IL    ┆ Consumer    │\n",
       "│ 9           ┆ Customer 9    ┆ Houston     ┆ TX    ┆ Corporate   │\n",
       "│ 10          ┆ Customer 10   ┆ Phoenix     ┆ AZ    ┆ Corporate   │\n",
       "└─────────────┴───────────────┴─────────────┴───────┴─────────────┘"
      ]
     },
     "metadata": {},
     "output_type": "display_data"
    }
   ],
   "source": [
    "print(f\"Customer DataFrame: {df_customer_pl.shape[0]}\")\n",
    "display(df_customer_pl.head(10))"
   ]
  },
  {
   "cell_type": "markdown",
   "id": "55064d8b",
   "metadata": {},
   "source": [
    "### 1. Filtering and Selecting"
   ]
  },
  {
   "cell_type": "code",
   "execution_count": null,
   "id": "b003f54c",
   "metadata": {},
   "outputs": [
    {
     "name": "stdout",
     "output_type": "stream",
     "text": [
      "Number of Electronics Sales: 188\n"
     ]
    },
    {
     "data": {
      "text/html": [
       "<div><style>\n",
       ".dataframe > thead > tr,\n",
       ".dataframe > tbody > tr {\n",
       "  text-align: right;\n",
       "  white-space: pre-wrap;\n",
       "}\n",
       "</style>\n",
       "<small>shape: (10, 6)</small><table border=\"1\" class=\"dataframe\"><thead><tr><th>date</th><th>customer_id</th><th>product_id</th><th>category</th><th>sales_amount</th><th>quantity</th></tr><tr><td>datetime[ns]</td><td>i64</td><td>i64</td><td>str</td><td>f64</td><td>i64</td></tr></thead><tbody><tr><td>2023-01-09 00:00:00</td><td>75</td><td>6</td><td>&quot;Electronics&quot;</td><td>617.34</td><td>9</td></tr><tr><td>2023-01-17 00:00:00</td><td>88</td><td>9</td><td>&quot;Electronics&quot;</td><td>735.31</td><td>8</td></tr><tr><td>2023-02-01 00:00:00</td><td>42</td><td>6</td><td>&quot;Electronics&quot;</td><td>979.98</td><td>7</td></tr><tr><td>2023-02-10 00:00:00</td><td>51</td><td>45</td><td>&quot;Electronics&quot;</td><td>973.72</td><td>7</td></tr><tr><td>2023-02-12 00:00:00</td><td>64</td><td>5</td><td>&quot;Electronics&quot;</td><td>303.52</td><td>8</td></tr><tr><td>2023-02-24 00:00:00</td><td>9</td><td>26</td><td>&quot;Electronics&quot;</td><td>251.9</td><td>2</td></tr><tr><td>2023-02-26 00:00:00</td><td>53</td><td>38</td><td>&quot;Electronics&quot;</td><td>96.31</td><td>5</td></tr><tr><td>2023-03-17 00:00:00</td><td>54</td><td>1</td><td>&quot;Electronics&quot;</td><td>175.46</td><td>3</td></tr><tr><td>2023-03-27 00:00:00</td><td>95</td><td>30</td><td>&quot;Electronics&quot;</td><td>765.52</td><td>5</td></tr><tr><td>2023-03-30 00:00:00</td><td>72</td><td>5</td><td>&quot;Electronics&quot;</td><td>904.57</td><td>3</td></tr></tbody></table></div>"
      ],
      "text/plain": [
       "shape: (10, 6)\n",
       "┌─────────────────────┬─────────────┬────────────┬─────────────┬──────────────┬──────────┐\n",
       "│ date                ┆ customer_id ┆ product_id ┆ category    ┆ sales_amount ┆ quantity │\n",
       "│ ---                 ┆ ---         ┆ ---        ┆ ---         ┆ ---          ┆ ---      │\n",
       "│ datetime[ns]        ┆ i64         ┆ i64        ┆ str         ┆ f64          ┆ i64      │\n",
       "╞═════════════════════╪═════════════╪════════════╪═════════════╪══════════════╪══════════╡\n",
       "│ 2023-01-09 00:00:00 ┆ 75          ┆ 6          ┆ Electronics ┆ 617.34       ┆ 9        │\n",
       "│ 2023-01-17 00:00:00 ┆ 88          ┆ 9          ┆ Electronics ┆ 735.31       ┆ 8        │\n",
       "│ 2023-02-01 00:00:00 ┆ 42          ┆ 6          ┆ Electronics ┆ 979.98       ┆ 7        │\n",
       "│ 2023-02-10 00:00:00 ┆ 51          ┆ 45         ┆ Electronics ┆ 973.72       ┆ 7        │\n",
       "│ 2023-02-12 00:00:00 ┆ 64          ┆ 5          ┆ Electronics ┆ 303.52       ┆ 8        │\n",
       "│ 2023-02-24 00:00:00 ┆ 9           ┆ 26         ┆ Electronics ┆ 251.9        ┆ 2        │\n",
       "│ 2023-02-26 00:00:00 ┆ 53          ┆ 38         ┆ Electronics ┆ 96.31        ┆ 5        │\n",
       "│ 2023-03-17 00:00:00 ┆ 54          ┆ 1          ┆ Electronics ┆ 175.46       ┆ 3        │\n",
       "│ 2023-03-27 00:00:00 ┆ 95          ┆ 30         ┆ Electronics ┆ 765.52       ┆ 5        │\n",
       "│ 2023-03-30 00:00:00 ┆ 72          ┆ 5          ┆ Electronics ┆ 904.57       ┆ 3        │\n",
       "└─────────────────────┴─────────────┴────────────┴─────────────┴──────────────┴──────────┘"
      ]
     },
     "metadata": {},
     "output_type": "display_data"
    }
   ],
   "source": [
    "# Filter sales data for specific category\n",
    "electronics_sales = df_sales_pl.filter(df_sales_pl[\"category\"] == \"Electronics\")\n",
    "print(f\"Number of Electronics Sales: {len(electronics_sales)}\")\n",
    "display(electronics_sales.head(10))"
   ]
  },
  {
   "cell_type": "code",
   "execution_count": null,
   "id": "9c4d141c",
   "metadata": {},
   "outputs": [
    {
     "name": "stdout",
     "output_type": "stream",
     "text": [
      "Number of high-value Sales: 525\n"
     ]
    },
    {
     "data": {
      "text/html": [
       "<div><style>\n",
       ".dataframe > thead > tr,\n",
       ".dataframe > tbody > tr {\n",
       "  text-align: right;\n",
       "  white-space: pre-wrap;\n",
       "}\n",
       "</style>\n",
       "<small>shape: (10, 6)</small><table border=\"1\" class=\"dataframe\"><thead><tr><th>date</th><th>customer_id</th><th>product_id</th><th>category</th><th>sales_amount</th><th>quantity</th></tr><tr><td>datetime[ns]</td><td>i64</td><td>i64</td><td>str</td><td>f64</td><td>i64</td></tr></thead><tbody><tr><td>2023-01-02 00:00:00</td><td>93</td><td>45</td><td>&quot;Food&quot;</td><td>646.25</td><td>6</td></tr><tr><td>2023-01-04 00:00:00</td><td>72</td><td>37</td><td>&quot;Books&quot;</td><td>897.99</td><td>3</td></tr><tr><td>2023-01-05 00:00:00</td><td>61</td><td>33</td><td>&quot;Books&quot;</td><td>524.99</td><td>4</td></tr><tr><td>2023-01-07 00:00:00</td><td>83</td><td>21</td><td>&quot;Clothing&quot;</td><td>562.24</td><td>9</td></tr><tr><td>2023-01-09 00:00:00</td><td>75</td><td>6</td><td>&quot;Electronics&quot;</td><td>617.34</td><td>9</td></tr><tr><td>2023-01-11 00:00:00</td><td>88</td><td>4</td><td>&quot;Clothing&quot;</td><td>898.21</td><td>8</td></tr><tr><td>2023-01-13 00:00:00</td><td>3</td><td>11</td><td>&quot;Clothing&quot;</td><td>511.98</td><td>9</td></tr><tr><td>2023-01-14 00:00:00</td><td>22</td><td>30</td><td>&quot;Books&quot;</td><td>602.13</td><td>9</td></tr><tr><td>2023-01-17 00:00:00</td><td>88</td><td>9</td><td>&quot;Electronics&quot;</td><td>735.31</td><td>8</td></tr><tr><td>2023-01-18 00:00:00</td><td>30</td><td>3</td><td>&quot;Home&quot;</td><td>822.17</td><td>7</td></tr></tbody></table></div>"
      ],
      "text/plain": [
       "shape: (10, 6)\n",
       "┌─────────────────────┬─────────────┬────────────┬─────────────┬──────────────┬──────────┐\n",
       "│ date                ┆ customer_id ┆ product_id ┆ category    ┆ sales_amount ┆ quantity │\n",
       "│ ---                 ┆ ---         ┆ ---        ┆ ---         ┆ ---          ┆ ---      │\n",
       "│ datetime[ns]        ┆ i64         ┆ i64        ┆ str         ┆ f64          ┆ i64      │\n",
       "╞═════════════════════╪═════════════╪════════════╪═════════════╪══════════════╪══════════╡\n",
       "│ 2023-01-02 00:00:00 ┆ 93          ┆ 45         ┆ Food        ┆ 646.25       ┆ 6        │\n",
       "│ 2023-01-04 00:00:00 ┆ 72          ┆ 37         ┆ Books       ┆ 897.99       ┆ 3        │\n",
       "│ 2023-01-05 00:00:00 ┆ 61          ┆ 33         ┆ Books       ┆ 524.99       ┆ 4        │\n",
       "│ 2023-01-07 00:00:00 ┆ 83          ┆ 21         ┆ Clothing    ┆ 562.24       ┆ 9        │\n",
       "│ 2023-01-09 00:00:00 ┆ 75          ┆ 6          ┆ Electronics ┆ 617.34       ┆ 9        │\n",
       "│ 2023-01-11 00:00:00 ┆ 88          ┆ 4          ┆ Clothing    ┆ 898.21       ┆ 8        │\n",
       "│ 2023-01-13 00:00:00 ┆ 3           ┆ 11         ┆ Clothing    ┆ 511.98       ┆ 9        │\n",
       "│ 2023-01-14 00:00:00 ┆ 22          ┆ 30         ┆ Books       ┆ 602.13       ┆ 9        │\n",
       "│ 2023-01-17 00:00:00 ┆ 88          ┆ 9          ┆ Electronics ┆ 735.31       ┆ 8        │\n",
       "│ 2023-01-18 00:00:00 ┆ 30          ┆ 3          ┆ Home        ┆ 822.17       ┆ 7        │\n",
       "└─────────────────────┴─────────────┴────────────┴─────────────┴──────────────┴──────────┘"
      ]
     },
     "metadata": {},
     "output_type": "display_data"
    }
   ],
   "source": [
    "# Filter for high value transactions (over $500)\n",
    "high_value_sales = df_sales_pl.filter(df_sales_pl[\"sales_amount\"] > 500)\n",
    "print(f\"Number of high-value Sales: {len(high_value_sales)}\")\n",
    "display(high_value_sales.head(10))"
   ]
  },
  {
   "cell_type": "code",
   "execution_count": null,
   "id": "5b5daa23",
   "metadata": {},
   "outputs": [
    {
     "name": "stdout",
     "output_type": "stream",
     "text": [
      "Sales Summary DataFrame: 1000\n"
     ]
    },
    {
     "data": {
      "text/html": [
       "<div><style>\n",
       ".dataframe > thead > tr,\n",
       ".dataframe > tbody > tr {\n",
       "  text-align: right;\n",
       "  white-space: pre-wrap;\n",
       "}\n",
       "</style>\n",
       "<small>shape: (10, 3)</small><table border=\"1\" class=\"dataframe\"><thead><tr><th>date</th><th>category</th><th>sales_amount</th></tr><tr><td>datetime[ns]</td><td>str</td><td>f64</td></tr></thead><tbody><tr><td>2023-01-01 00:00:00</td><td>&quot;Books&quot;</td><td>319.23</td></tr><tr><td>2023-01-02 00:00:00</td><td>&quot;Food&quot;</td><td>646.25</td></tr><tr><td>2023-01-03 00:00:00</td><td>&quot;Food&quot;</td><td>203.88</td></tr><tr><td>2023-01-04 00:00:00</td><td>&quot;Books&quot;</td><td>897.99</td></tr><tr><td>2023-01-05 00:00:00</td><td>&quot;Books&quot;</td><td>524.99</td></tr><tr><td>2023-01-06 00:00:00</td><td>&quot;Clothing&quot;</td><td>453.13</td></tr><tr><td>2023-01-07 00:00:00</td><td>&quot;Clothing&quot;</td><td>562.24</td></tr><tr><td>2023-01-08 00:00:00</td><td>&quot;Food&quot;</td><td>174.37</td></tr><tr><td>2023-01-09 00:00:00</td><td>&quot;Electronics&quot;</td><td>617.34</td></tr><tr><td>2023-01-10 00:00:00</td><td>&quot;Books&quot;</td><td>369.47</td></tr></tbody></table></div>"
      ],
      "text/plain": [
       "shape: (10, 3)\n",
       "┌─────────────────────┬─────────────┬──────────────┐\n",
       "│ date                ┆ category    ┆ sales_amount │\n",
       "│ ---                 ┆ ---         ┆ ---          │\n",
       "│ datetime[ns]        ┆ str         ┆ f64          │\n",
       "╞═════════════════════╪═════════════╪══════════════╡\n",
       "│ 2023-01-01 00:00:00 ┆ Books       ┆ 319.23       │\n",
       "│ 2023-01-02 00:00:00 ┆ Food        ┆ 646.25       │\n",
       "│ 2023-01-03 00:00:00 ┆ Food        ┆ 203.88       │\n",
       "│ 2023-01-04 00:00:00 ┆ Books       ┆ 897.99       │\n",
       "│ 2023-01-05 00:00:00 ┆ Books       ┆ 524.99       │\n",
       "│ 2023-01-06 00:00:00 ┆ Clothing    ┆ 453.13       │\n",
       "│ 2023-01-07 00:00:00 ┆ Clothing    ┆ 562.24       │\n",
       "│ 2023-01-08 00:00:00 ┆ Food        ┆ 174.37       │\n",
       "│ 2023-01-09 00:00:00 ┆ Electronics ┆ 617.34       │\n",
       "│ 2023-01-10 00:00:00 ┆ Books       ┆ 369.47       │\n",
       "└─────────────────────┴─────────────┴──────────────┘"
      ]
     },
     "metadata": {},
     "output_type": "display_data"
    }
   ],
   "source": [
    "# Select specific columns\n",
    "sales_summary = df_sales_pl.select([\"date\", \"category\", \"sales_amount\"])\n",
    "print(f\"Sales Summary DataFrame: {len(sales_summary)}\")\n",
    "display(sales_summary.head(10))"
   ]
  },
  {
   "cell_type": "markdown",
   "id": "04a7c2a0",
   "metadata": {},
   "source": [
    "### 2. Grouping and Aggregation"
   ]
  },
  {
   "cell_type": "code",
   "execution_count": null,
   "id": "fc42a0d4",
   "metadata": {},
   "outputs": [
    {
     "name": "stdout",
     "output_type": "stream",
     "text": [
      "Sales Statistics: 1\n"
     ]
    },
    {
     "data": {
      "text/html": [
       "<div><style>\n",
       ".dataframe > thead > tr,\n",
       ".dataframe > tbody > tr {\n",
       "  text-align: right;\n",
       "  white-space: pre-wrap;\n",
       "}\n",
       "</style>\n",
       "<small>shape: (1, 8)</small><table border=\"1\" class=\"dataframe\"><thead><tr><th>sales_sum</th><th>sales_mean</th><th>sales_min</th><th>sales_max</th><th>quantity_sum</th><th>quantity_mean</th><th>quantity_min</th><th>quantity_max</th></tr><tr><td>f64</td><td>f64</td><td>f64</td><td>f64</td><td>i64</td><td>f64</td><td>i64</td><td>i64</td></tr></thead><tbody><tr><td>512657.67</td><td>512.65767</td><td>10.19</td><td>999.72</td><td>5035</td><td>5.035</td><td>1</td><td>9</td></tr></tbody></table></div>"
      ],
      "text/plain": [
       "shape: (1, 8)\n",
       "┌───────────┬────────────┬───────────┬───────────┬────────────┬────────────┬───────────┬───────────┐\n",
       "│ sales_sum ┆ sales_mean ┆ sales_min ┆ sales_max ┆ quantity_s ┆ quantity_m ┆ quantity_ ┆ quantity_ │\n",
       "│ ---       ┆ ---        ┆ ---       ┆ ---       ┆ um         ┆ ean        ┆ min       ┆ max       │\n",
       "│ f64       ┆ f64        ┆ f64       ┆ f64       ┆ ---        ┆ ---        ┆ ---       ┆ ---       │\n",
       "│           ┆            ┆           ┆           ┆ i64        ┆ f64        ┆ i64       ┆ i64       │\n",
       "╞═══════════╪════════════╪═══════════╪═══════════╪════════════╪════════════╪═══════════╪═══════════╡\n",
       "│ 512657.67 ┆ 512.65767  ┆ 10.19     ┆ 999.72    ┆ 5035       ┆ 5.035      ┆ 1         ┆ 9         │\n",
       "└───────────┴────────────┴───────────┴───────────┴────────────┴────────────┴───────────┴───────────┘"
      ]
     },
     "metadata": {},
     "output_type": "display_data"
    }
   ],
   "source": [
    "# Basic aggregation\n",
    "sales_stats = df_sales_pl.select(\n",
    "    pl.col(\"sales_amount\").sum().alias(\"sales_sum\"),\n",
    "    pl.col(\"sales_amount\").mean().alias(\"sales_mean\"),\n",
    "    pl.col(\"sales_amount\").min().alias(\"sales_min\"),\n",
    "    pl.col(\"sales_amount\").max().alias(\"sales_max\"),\n",
    "    pl.col(\"quantity\").sum().alias(\"quantity_sum\"),\n",
    "    pl.col(\"quantity\").mean().alias(\"quantity_mean\"),\n",
    "    pl.col(\"quantity\").min().alias(\"quantity_min\"),\n",
    "    pl.col(\"quantity\").max().alias(\"quantity_max\"),\n",
    ")\n",
    "print(f\"Sales Statistics: {len(sales_stats)}\")\n",
    "display(sales_stats)"
   ]
  },
  {
   "cell_type": "code",
   "execution_count": null,
   "id": "a41d7dfc",
   "metadata": {},
   "outputs": [
    {
     "name": "stdout",
     "output_type": "stream",
     "text": [
      "Category Sales Summary: 5\n"
     ]
    },
    {
     "data": {
      "text/html": [
       "<div><style>\n",
       ".dataframe > thead > tr,\n",
       ".dataframe > tbody > tr {\n",
       "  text-align: right;\n",
       "  white-space: pre-wrap;\n",
       "}\n",
       "</style>\n",
       "<small>shape: (5, 5)</small><table border=\"1\" class=\"dataframe\"><thead><tr><th>category</th><th>total_sales</th><th>average_sales</th><th>transaction_count</th><th>total_quantity</th></tr><tr><td>str</td><td>f64</td><td>f64</td><td>u32</td><td>i64</td></tr></thead><tbody><tr><td>&quot;Clothing&quot;</td><td>112682.26</td><td>536.58219</td><td>210</td><td>992</td></tr><tr><td>&quot;Home&quot;</td><td>112101.05</td><td>533.814524</td><td>210</td><td>1093</td></tr><tr><td>&quot;Books&quot;</td><td>112424.59</td><td>504.146143</td><td>223</td><td>1157</td></tr><tr><td>&quot;Food&quot;</td><td>85217.49</td><td>504.245503</td><td>169</td><td>847</td></tr><tr><td>&quot;Electronics&quot;</td><td>90232.28</td><td>479.958936</td><td>188</td><td>946</td></tr></tbody></table></div>"
      ],
      "text/plain": [
       "shape: (5, 5)\n",
       "┌─────────────┬─────────────┬───────────────┬───────────────────┬────────────────┐\n",
       "│ category    ┆ total_sales ┆ average_sales ┆ transaction_count ┆ total_quantity │\n",
       "│ ---         ┆ ---         ┆ ---           ┆ ---               ┆ ---            │\n",
       "│ str         ┆ f64         ┆ f64           ┆ u32               ┆ i64            │\n",
       "╞═════════════╪═════════════╪═══════════════╪═══════════════════╪════════════════╡\n",
       "│ Clothing    ┆ 112682.26   ┆ 536.58219     ┆ 210               ┆ 992            │\n",
       "│ Home        ┆ 112101.05   ┆ 533.814524    ┆ 210               ┆ 1093           │\n",
       "│ Books       ┆ 112424.59   ┆ 504.146143    ┆ 223               ┆ 1157           │\n",
       "│ Food        ┆ 85217.49    ┆ 504.245503    ┆ 169               ┆ 847            │\n",
       "│ Electronics ┆ 90232.28    ┆ 479.958936    ┆ 188               ┆ 946            │\n",
       "└─────────────┴─────────────┴───────────────┴───────────────────┴────────────────┘"
      ]
     },
     "metadata": {},
     "output_type": "display_data"
    }
   ],
   "source": [
    "# Group by category and aggregate\n",
    "category_sales = df_sales_pl.group_by(\"category\").agg(\n",
    "    pl.col(\"sales_amount\").sum().alias(\"total_sales\"),\n",
    "    pl.col(\"sales_amount\").mean().alias(\"average_sales\"),\n",
    "    pl.col(\"sales_amount\").count().alias(\"transaction_count\"),\n",
    "    pl.col(\"quantity\").sum().alias(\"total_quantity\"),\n",
    ")\n",
    "print(f\"Category Sales Summary: {len(category_sales)}\")\n",
    "display(category_sales.head(10))"
   ]
  },
  {
   "cell_type": "code",
   "execution_count": null,
   "id": "28f452cb",
   "metadata": {},
   "outputs": [
    {
     "name": "stdout",
     "output_type": "stream",
     "text": [
      "Renamed Category Sales Summary: 5\n"
     ]
    },
    {
     "data": {
      "text/html": [
       "<div><style>\n",
       ".dataframe > thead > tr,\n",
       ".dataframe > tbody > tr {\n",
       "  text-align: right;\n",
       "  white-space: pre-wrap;\n",
       "}\n",
       "</style>\n",
       "<small>shape: (5, 5)</small><table border=\"1\" class=\"dataframe\"><thead><tr><th>category</th><th>Total Sales</th><th>Average Sales</th><th>Transaction Count</th><th>Total Quantity</th></tr><tr><td>str</td><td>f64</td><td>f64</td><td>u32</td><td>i64</td></tr></thead><tbody><tr><td>&quot;Clothing&quot;</td><td>112682.26</td><td>536.58219</td><td>210</td><td>992</td></tr><tr><td>&quot;Home&quot;</td><td>112101.05</td><td>533.814524</td><td>210</td><td>1093</td></tr><tr><td>&quot;Books&quot;</td><td>112424.59</td><td>504.146143</td><td>223</td><td>1157</td></tr><tr><td>&quot;Food&quot;</td><td>85217.49</td><td>504.245503</td><td>169</td><td>847</td></tr><tr><td>&quot;Electronics&quot;</td><td>90232.28</td><td>479.958936</td><td>188</td><td>946</td></tr></tbody></table></div>"
      ],
      "text/plain": [
       "shape: (5, 5)\n",
       "┌─────────────┬─────────────┬───────────────┬───────────────────┬────────────────┐\n",
       "│ category    ┆ Total Sales ┆ Average Sales ┆ Transaction Count ┆ Total Quantity │\n",
       "│ ---         ┆ ---         ┆ ---           ┆ ---               ┆ ---            │\n",
       "│ str         ┆ f64         ┆ f64           ┆ u32               ┆ i64            │\n",
       "╞═════════════╪═════════════╪═══════════════╪═══════════════════╪════════════════╡\n",
       "│ Clothing    ┆ 112682.26   ┆ 536.58219     ┆ 210               ┆ 992            │\n",
       "│ Home        ┆ 112101.05   ┆ 533.814524    ┆ 210               ┆ 1093           │\n",
       "│ Books       ┆ 112424.59   ┆ 504.146143    ┆ 223               ┆ 1157           │\n",
       "│ Food        ┆ 85217.49    ┆ 504.245503    ┆ 169               ┆ 847            │\n",
       "│ Electronics ┆ 90232.28    ┆ 479.958936    ┆ 188               ┆ 946            │\n",
       "└─────────────┴─────────────┴───────────────┴───────────────────┴────────────────┘"
      ]
     },
     "metadata": {},
     "output_type": "display_data"
    }
   ],
   "source": [
    "# Rename columns for clarity\n",
    "category_sales = category_sales.rename(\n",
    "    {\n",
    "        \"total_sales\": \"Total Sales\",\n",
    "        \"average_sales\": \"Average Sales\",\n",
    "        \"transaction_count\": \"Transaction Count\",\n",
    "        \"total_quantity\": \"Total Quantity\",\n",
    "    }\n",
    ")\n",
    "print(f\"Renamed Category Sales Summary: {len(category_sales)}\")\n",
    "display(category_sales.head(10))"
   ]
  },
  {
   "cell_type": "code",
   "execution_count": null,
   "id": "1bb8c982",
   "metadata": {},
   "outputs": [
    {
     "data": {
      "application/vnd.plotly.v1+json": {
       "config": {
        "plotlyServerURL": "https://plot.ly"
       },
       "data": [
        {
         "hovertemplate": "Product Category=%{x}<br>Total Sales ($)=%{y}<br>Transaction Count=%{text}<extra></extra>",
         "legendgroup": "",
         "marker": {
          "color": "#636efa",
          "pattern": {
           "shape": ""
          }
         },
         "name": "",
         "orientation": "v",
         "showlegend": false,
         "text": {
          "bdata": "AAAAAABAakAAAAAAAEBqQAAAAAAA4GtAAAAAAAAgZUAAAAAAAIBnQA==",
          "dtype": "f8"
         },
         "textposition": "auto",
         "type": "bar",
         "x": [
          "Clothing",
          "Home",
          "Books",
          "Food",
          "Electronics"
         ],
         "xaxis": "x",
         "y": {
          "bdata": "i8L1KKSC+0DJzMzMUF77QArXo3CJcvtAcT0K1xfO9ECvR+F6hAf2QA==",
          "dtype": "f8"
         },
         "yaxis": "y"
        }
       ],
       "layout": {
        "barmode": "relative",
        "legend": {
         "tracegroupgap": 0
        },
        "template": {
         "data": {
          "bar": [
           {
            "error_x": {
             "color": "#2a3f5f"
            },
            "error_y": {
             "color": "#2a3f5f"
            },
            "marker": {
             "line": {
              "color": "#E5ECF6",
              "width": 0.5
             },
             "pattern": {
              "fillmode": "overlay",
              "size": 10,
              "solidity": 0.2
             }
            },
            "type": "bar"
           }
          ],
          "barpolar": [
           {
            "marker": {
             "line": {
              "color": "#E5ECF6",
              "width": 0.5
             },
             "pattern": {
              "fillmode": "overlay",
              "size": 10,
              "solidity": 0.2
             }
            },
            "type": "barpolar"
           }
          ],
          "carpet": [
           {
            "aaxis": {
             "endlinecolor": "#2a3f5f",
             "gridcolor": "white",
             "linecolor": "white",
             "minorgridcolor": "white",
             "startlinecolor": "#2a3f5f"
            },
            "baxis": {
             "endlinecolor": "#2a3f5f",
             "gridcolor": "white",
             "linecolor": "white",
             "minorgridcolor": "white",
             "startlinecolor": "#2a3f5f"
            },
            "type": "carpet"
           }
          ],
          "choropleth": [
           {
            "colorbar": {
             "outlinewidth": 0,
             "ticks": ""
            },
            "type": "choropleth"
           }
          ],
          "contour": [
           {
            "colorbar": {
             "outlinewidth": 0,
             "ticks": ""
            },
            "colorscale": [
             [
              0,
              "#0d0887"
             ],
             [
              0.1111111111111111,
              "#46039f"
             ],
             [
              0.2222222222222222,
              "#7201a8"
             ],
             [
              0.3333333333333333,
              "#9c179e"
             ],
             [
              0.4444444444444444,
              "#bd3786"
             ],
             [
              0.5555555555555556,
              "#d8576b"
             ],
             [
              0.6666666666666666,
              "#ed7953"
             ],
             [
              0.7777777777777778,
              "#fb9f3a"
             ],
             [
              0.8888888888888888,
              "#fdca26"
             ],
             [
              1,
              "#f0f921"
             ]
            ],
            "type": "contour"
           }
          ],
          "contourcarpet": [
           {
            "colorbar": {
             "outlinewidth": 0,
             "ticks": ""
            },
            "type": "contourcarpet"
           }
          ],
          "heatmap": [
           {
            "colorbar": {
             "outlinewidth": 0,
             "ticks": ""
            },
            "colorscale": [
             [
              0,
              "#0d0887"
             ],
             [
              0.1111111111111111,
              "#46039f"
             ],
             [
              0.2222222222222222,
              "#7201a8"
             ],
             [
              0.3333333333333333,
              "#9c179e"
             ],
             [
              0.4444444444444444,
              "#bd3786"
             ],
             [
              0.5555555555555556,
              "#d8576b"
             ],
             [
              0.6666666666666666,
              "#ed7953"
             ],
             [
              0.7777777777777778,
              "#fb9f3a"
             ],
             [
              0.8888888888888888,
              "#fdca26"
             ],
             [
              1,
              "#f0f921"
             ]
            ],
            "type": "heatmap"
           }
          ],
          "histogram": [
           {
            "marker": {
             "pattern": {
              "fillmode": "overlay",
              "size": 10,
              "solidity": 0.2
             }
            },
            "type": "histogram"
           }
          ],
          "histogram2d": [
           {
            "colorbar": {
             "outlinewidth": 0,
             "ticks": ""
            },
            "colorscale": [
             [
              0,
              "#0d0887"
             ],
             [
              0.1111111111111111,
              "#46039f"
             ],
             [
              0.2222222222222222,
              "#7201a8"
             ],
             [
              0.3333333333333333,
              "#9c179e"
             ],
             [
              0.4444444444444444,
              "#bd3786"
             ],
             [
              0.5555555555555556,
              "#d8576b"
             ],
             [
              0.6666666666666666,
              "#ed7953"
             ],
             [
              0.7777777777777778,
              "#fb9f3a"
             ],
             [
              0.8888888888888888,
              "#fdca26"
             ],
             [
              1,
              "#f0f921"
             ]
            ],
            "type": "histogram2d"
           }
          ],
          "histogram2dcontour": [
           {
            "colorbar": {
             "outlinewidth": 0,
             "ticks": ""
            },
            "colorscale": [
             [
              0,
              "#0d0887"
             ],
             [
              0.1111111111111111,
              "#46039f"
             ],
             [
              0.2222222222222222,
              "#7201a8"
             ],
             [
              0.3333333333333333,
              "#9c179e"
             ],
             [
              0.4444444444444444,
              "#bd3786"
             ],
             [
              0.5555555555555556,
              "#d8576b"
             ],
             [
              0.6666666666666666,
              "#ed7953"
             ],
             [
              0.7777777777777778,
              "#fb9f3a"
             ],
             [
              0.8888888888888888,
              "#fdca26"
             ],
             [
              1,
              "#f0f921"
             ]
            ],
            "type": "histogram2dcontour"
           }
          ],
          "mesh3d": [
           {
            "colorbar": {
             "outlinewidth": 0,
             "ticks": ""
            },
            "type": "mesh3d"
           }
          ],
          "parcoords": [
           {
            "line": {
             "colorbar": {
              "outlinewidth": 0,
              "ticks": ""
             }
            },
            "type": "parcoords"
           }
          ],
          "pie": [
           {
            "automargin": true,
            "type": "pie"
           }
          ],
          "scatter": [
           {
            "fillpattern": {
             "fillmode": "overlay",
             "size": 10,
             "solidity": 0.2
            },
            "type": "scatter"
           }
          ],
          "scatter3d": [
           {
            "line": {
             "colorbar": {
              "outlinewidth": 0,
              "ticks": ""
             }
            },
            "marker": {
             "colorbar": {
              "outlinewidth": 0,
              "ticks": ""
             }
            },
            "type": "scatter3d"
           }
          ],
          "scattercarpet": [
           {
            "marker": {
             "colorbar": {
              "outlinewidth": 0,
              "ticks": ""
             }
            },
            "type": "scattercarpet"
           }
          ],
          "scattergeo": [
           {
            "marker": {
             "colorbar": {
              "outlinewidth": 0,
              "ticks": ""
             }
            },
            "type": "scattergeo"
           }
          ],
          "scattergl": [
           {
            "marker": {
             "colorbar": {
              "outlinewidth": 0,
              "ticks": ""
             }
            },
            "type": "scattergl"
           }
          ],
          "scattermap": [
           {
            "marker": {
             "colorbar": {
              "outlinewidth": 0,
              "ticks": ""
             }
            },
            "type": "scattermap"
           }
          ],
          "scattermapbox": [
           {
            "marker": {
             "colorbar": {
              "outlinewidth": 0,
              "ticks": ""
             }
            },
            "type": "scattermapbox"
           }
          ],
          "scatterpolar": [
           {
            "marker": {
             "colorbar": {
              "outlinewidth": 0,
              "ticks": ""
             }
            },
            "type": "scatterpolar"
           }
          ],
          "scatterpolargl": [
           {
            "marker": {
             "colorbar": {
              "outlinewidth": 0,
              "ticks": ""
             }
            },
            "type": "scatterpolargl"
           }
          ],
          "scatterternary": [
           {
            "marker": {
             "colorbar": {
              "outlinewidth": 0,
              "ticks": ""
             }
            },
            "type": "scatterternary"
           }
          ],
          "surface": [
           {
            "colorbar": {
             "outlinewidth": 0,
             "ticks": ""
            },
            "colorscale": [
             [
              0,
              "#0d0887"
             ],
             [
              0.1111111111111111,
              "#46039f"
             ],
             [
              0.2222222222222222,
              "#7201a8"
             ],
             [
              0.3333333333333333,
              "#9c179e"
             ],
             [
              0.4444444444444444,
              "#bd3786"
             ],
             [
              0.5555555555555556,
              "#d8576b"
             ],
             [
              0.6666666666666666,
              "#ed7953"
             ],
             [
              0.7777777777777778,
              "#fb9f3a"
             ],
             [
              0.8888888888888888,
              "#fdca26"
             ],
             [
              1,
              "#f0f921"
             ]
            ],
            "type": "surface"
           }
          ],
          "table": [
           {
            "cells": {
             "fill": {
              "color": "#EBF0F8"
             },
             "line": {
              "color": "white"
             }
            },
            "header": {
             "fill": {
              "color": "#C8D4E3"
             },
             "line": {
              "color": "white"
             }
            },
            "type": "table"
           }
          ]
         },
         "layout": {
          "annotationdefaults": {
           "arrowcolor": "#2a3f5f",
           "arrowhead": 0,
           "arrowwidth": 1
          },
          "autotypenumbers": "strict",
          "coloraxis": {
           "colorbar": {
            "outlinewidth": 0,
            "ticks": ""
           }
          },
          "colorscale": {
           "diverging": [
            [
             0,
             "#8e0152"
            ],
            [
             0.1,
             "#c51b7d"
            ],
            [
             0.2,
             "#de77ae"
            ],
            [
             0.3,
             "#f1b6da"
            ],
            [
             0.4,
             "#fde0ef"
            ],
            [
             0.5,
             "#f7f7f7"
            ],
            [
             0.6,
             "#e6f5d0"
            ],
            [
             0.7,
             "#b8e186"
            ],
            [
             0.8,
             "#7fbc41"
            ],
            [
             0.9,
             "#4d9221"
            ],
            [
             1,
             "#276419"
            ]
           ],
           "sequential": [
            [
             0,
             "#0d0887"
            ],
            [
             0.1111111111111111,
             "#46039f"
            ],
            [
             0.2222222222222222,
             "#7201a8"
            ],
            [
             0.3333333333333333,
             "#9c179e"
            ],
            [
             0.4444444444444444,
             "#bd3786"
            ],
            [
             0.5555555555555556,
             "#d8576b"
            ],
            [
             0.6666666666666666,
             "#ed7953"
            ],
            [
             0.7777777777777778,
             "#fb9f3a"
            ],
            [
             0.8888888888888888,
             "#fdca26"
            ],
            [
             1,
             "#f0f921"
            ]
           ],
           "sequentialminus": [
            [
             0,
             "#0d0887"
            ],
            [
             0.1111111111111111,
             "#46039f"
            ],
            [
             0.2222222222222222,
             "#7201a8"
            ],
            [
             0.3333333333333333,
             "#9c179e"
            ],
            [
             0.4444444444444444,
             "#bd3786"
            ],
            [
             0.5555555555555556,
             "#d8576b"
            ],
            [
             0.6666666666666666,
             "#ed7953"
            ],
            [
             0.7777777777777778,
             "#fb9f3a"
            ],
            [
             0.8888888888888888,
             "#fdca26"
            ],
            [
             1,
             "#f0f921"
            ]
           ]
          },
          "colorway": [
           "#636efa",
           "#EF553B",
           "#00cc96",
           "#ab63fa",
           "#FFA15A",
           "#19d3f3",
           "#FF6692",
           "#B6E880",
           "#FF97FF",
           "#FECB52"
          ],
          "font": {
           "color": "#2a3f5f"
          },
          "geo": {
           "bgcolor": "white",
           "lakecolor": "white",
           "landcolor": "#E5ECF6",
           "showlakes": true,
           "showland": true,
           "subunitcolor": "white"
          },
          "hoverlabel": {
           "align": "left"
          },
          "hovermode": "closest",
          "mapbox": {
           "style": "light"
          },
          "paper_bgcolor": "white",
          "plot_bgcolor": "#E5ECF6",
          "polar": {
           "angularaxis": {
            "gridcolor": "white",
            "linecolor": "white",
            "ticks": ""
           },
           "bgcolor": "#E5ECF6",
           "radialaxis": {
            "gridcolor": "white",
            "linecolor": "white",
            "ticks": ""
           }
          },
          "scene": {
           "xaxis": {
            "backgroundcolor": "#E5ECF6",
            "gridcolor": "white",
            "gridwidth": 2,
            "linecolor": "white",
            "showbackground": true,
            "ticks": "",
            "zerolinecolor": "white"
           },
           "yaxis": {
            "backgroundcolor": "#E5ECF6",
            "gridcolor": "white",
            "gridwidth": 2,
            "linecolor": "white",
            "showbackground": true,
            "ticks": "",
            "zerolinecolor": "white"
           },
           "zaxis": {
            "backgroundcolor": "#E5ECF6",
            "gridcolor": "white",
            "gridwidth": 2,
            "linecolor": "white",
            "showbackground": true,
            "ticks": "",
            "zerolinecolor": "white"
           }
          },
          "shapedefaults": {
           "line": {
            "color": "#2a3f5f"
           }
          },
          "ternary": {
           "aaxis": {
            "gridcolor": "white",
            "linecolor": "white",
            "ticks": ""
           },
           "baxis": {
            "gridcolor": "white",
            "linecolor": "white",
            "ticks": ""
           },
           "bgcolor": "#E5ECF6",
           "caxis": {
            "gridcolor": "white",
            "linecolor": "white",
            "ticks": ""
           }
          },
          "title": {
           "x": 0.05
          },
          "xaxis": {
           "automargin": true,
           "gridcolor": "white",
           "linecolor": "white",
           "ticks": "",
           "title": {
            "standoff": 15
           },
           "zerolinecolor": "white",
           "zerolinewidth": 2
          },
          "yaxis": {
           "automargin": true,
           "gridcolor": "white",
           "linecolor": "white",
           "ticks": "",
           "title": {
            "standoff": 15
           },
           "zerolinecolor": "white",
           "zerolinewidth": 2
          }
         }
        },
        "title": {
         "text": "Total Sales by Category"
        },
        "xaxis": {
         "anchor": "y",
         "domain": [
          0,
          1
         ],
         "title": {
          "text": "Product Category"
         }
        },
        "yaxis": {
         "anchor": "x",
         "domain": [
          0,
          1
         ],
         "title": {
          "text": "Total Sales ($)"
         }
        }
       }
      }
     },
     "metadata": {},
     "output_type": "display_data"
    }
   ],
   "source": [
    "# Plot the results\n",
    "fig: go.Figure = px.bar(\n",
    "    category_sales,\n",
    "    x=\"category\",\n",
    "    y=\"Total Sales\",\n",
    "    title=\"Total Sales by Category\",\n",
    "    text=\"Transaction Count\",\n",
    "    labels={\"Total Sales\": \"Total Sales ($)\", \"category\": \"Product Category\"},\n",
    ")\n",
    "fig.show()"
   ]
  },
  {
   "cell_type": "markdown",
   "id": "a40327b8",
   "metadata": {},
   "source": [
    "### 3. Joining"
   ]
  },
  {
   "cell_type": "code",
   "execution_count": null,
   "id": "0d748cb6",
   "metadata": {},
   "outputs": [
    {
     "name": "stdout",
     "output_type": "stream",
     "text": [
      "Sales with Product Information: 1000\n"
     ]
    },
    {
     "data": {
      "text/html": [
       "<div><style>\n",
       ".dataframe > thead > tr,\n",
       ".dataframe > tbody > tr {\n",
       "  text-align: right;\n",
       "  white-space: pre-wrap;\n",
       "}\n",
       "</style>\n",
       "<small>shape: (10, 8)</small><table border=\"1\" class=\"dataframe\"><thead><tr><th>date</th><th>customer_id</th><th>product_id</th><th>category</th><th>sales_amount</th><th>quantity</th><th>product_name</th><th>price</th></tr><tr><td>datetime[ns]</td><td>i64</td><td>i64</td><td>str</td><td>f64</td><td>i64</td><td>str</td><td>f64</td></tr></thead><tbody><tr><td>2023-01-01 00:00:00</td><td>52</td><td>34</td><td>&quot;Books&quot;</td><td>319.23</td><td>2</td><td>&quot;Product 34&quot;</td><td>301.18</td></tr><tr><td>2023-01-02 00:00:00</td><td>93</td><td>45</td><td>&quot;Food&quot;</td><td>646.25</td><td>6</td><td>&quot;Product 45&quot;</td><td>376.07</td></tr><tr><td>2023-01-03 00:00:00</td><td>15</td><td>6</td><td>&quot;Food&quot;</td><td>203.88</td><td>2</td><td>&quot;Product 6&quot;</td><td>211.48</td></tr><tr><td>2023-01-04 00:00:00</td><td>72</td><td>37</td><td>&quot;Books&quot;</td><td>897.99</td><td>3</td><td>&quot;Product 37&quot;</td><td>291.93</td></tr><tr><td>2023-01-05 00:00:00</td><td>61</td><td>33</td><td>&quot;Books&quot;</td><td>524.99</td><td>4</td><td>&quot;Product 33&quot;</td><td>341.48</td></tr><tr><td>2023-01-06 00:00:00</td><td>21</td><td>22</td><td>&quot;Clothing&quot;</td><td>453.13</td><td>5</td><td>&quot;Product 22&quot;</td><td>154.09</td></tr><tr><td>2023-01-07 00:00:00</td><td>83</td><td>21</td><td>&quot;Clothing&quot;</td><td>562.24</td><td>9</td><td>&quot;Product 21&quot;</td><td>496.06</td></tr><tr><td>2023-01-08 00:00:00</td><td>87</td><td>6</td><td>&quot;Food&quot;</td><td>174.37</td><td>4</td><td>&quot;Product 6&quot;</td><td>211.48</td></tr><tr><td>2023-01-09 00:00:00</td><td>75</td><td>6</td><td>&quot;Electronics&quot;</td><td>617.34</td><td>9</td><td>&quot;Product 6&quot;</td><td>211.48</td></tr><tr><td>2023-01-10 00:00:00</td><td>75</td><td>48</td><td>&quot;Books&quot;</td><td>369.47</td><td>3</td><td>&quot;Product 48&quot;</td><td>74.18</td></tr></tbody></table></div>"
      ],
      "text/plain": [
       "shape: (10, 8)\n",
       "┌─────────────┬────────────┬────────────┬────────────┬────────────┬──────────┬────────────┬────────┐\n",
       "│ date        ┆ customer_i ┆ product_id ┆ category   ┆ sales_amou ┆ quantity ┆ product_na ┆ price  │\n",
       "│ ---         ┆ d          ┆ ---        ┆ ---        ┆ nt         ┆ ---      ┆ me         ┆ ---    │\n",
       "│ datetime[ns ┆ ---        ┆ i64        ┆ str        ┆ ---        ┆ i64      ┆ ---        ┆ f64    │\n",
       "│ ]           ┆ i64        ┆            ┆            ┆ f64        ┆          ┆ str        ┆        │\n",
       "╞═════════════╪════════════╪════════════╪════════════╪════════════╪══════════╪════════════╪════════╡\n",
       "│ 2023-01-01  ┆ 52         ┆ 34         ┆ Books      ┆ 319.23     ┆ 2        ┆ Product 34 ┆ 301.18 │\n",
       "│ 00:00:00    ┆            ┆            ┆            ┆            ┆          ┆            ┆        │\n",
       "│ 2023-01-02  ┆ 93         ┆ 45         ┆ Food       ┆ 646.25     ┆ 6        ┆ Product 45 ┆ 376.07 │\n",
       "│ 00:00:00    ┆            ┆            ┆            ┆            ┆          ┆            ┆        │\n",
       "│ 2023-01-03  ┆ 15         ┆ 6          ┆ Food       ┆ 203.88     ┆ 2        ┆ Product 6  ┆ 211.48 │\n",
       "│ 00:00:00    ┆            ┆            ┆            ┆            ┆          ┆            ┆        │\n",
       "│ 2023-01-04  ┆ 72         ┆ 37         ┆ Books      ┆ 897.99     ┆ 3        ┆ Product 37 ┆ 291.93 │\n",
       "│ 00:00:00    ┆            ┆            ┆            ┆            ┆          ┆            ┆        │\n",
       "│ 2023-01-05  ┆ 61         ┆ 33         ┆ Books      ┆ 524.99     ┆ 4        ┆ Product 33 ┆ 341.48 │\n",
       "│ 00:00:00    ┆            ┆            ┆            ┆            ┆          ┆            ┆        │\n",
       "│ 2023-01-06  ┆ 21         ┆ 22         ┆ Clothing   ┆ 453.13     ┆ 5        ┆ Product 22 ┆ 154.09 │\n",
       "│ 00:00:00    ┆            ┆            ┆            ┆            ┆          ┆            ┆        │\n",
       "│ 2023-01-07  ┆ 83         ┆ 21         ┆ Clothing   ┆ 562.24     ┆ 9        ┆ Product 21 ┆ 496.06 │\n",
       "│ 00:00:00    ┆            ┆            ┆            ┆            ┆          ┆            ┆        │\n",
       "│ 2023-01-08  ┆ 87         ┆ 6          ┆ Food       ┆ 174.37     ┆ 4        ┆ Product 6  ┆ 211.48 │\n",
       "│ 00:00:00    ┆            ┆            ┆            ┆            ┆          ┆            ┆        │\n",
       "│ 2023-01-09  ┆ 75         ┆ 6          ┆ Electronic ┆ 617.34     ┆ 9        ┆ Product 6  ┆ 211.48 │\n",
       "│ 00:00:00    ┆            ┆            ┆ s          ┆            ┆          ┆            ┆        │\n",
       "│ 2023-01-10  ┆ 75         ┆ 48         ┆ Books      ┆ 369.47     ┆ 3        ┆ Product 48 ┆ 74.18  │\n",
       "│ 00:00:00    ┆            ┆            ┆            ┆            ┆          ┆            ┆        │\n",
       "└─────────────┴────────────┴────────────┴────────────┴────────────┴──────────┴────────────┴────────┘"
      ]
     },
     "metadata": {},
     "output_type": "display_data"
    }
   ],
   "source": [
    "# Join sales with product data\n",
    "sales_with_product = df_sales_pl.join(\n",
    "    df_product_pl.select([\"product_id\", \"product_name\", \"price\"]),\n",
    "    on=\"product_id\",\n",
    "    how=\"left\",\n",
    ")\n",
    "print(f\"Sales with Product Information: {len(sales_with_product)}\")\n",
    "display(sales_with_product.head(10))"
   ]
  },
  {
   "cell_type": "code",
   "execution_count": null,
   "id": "f6982330",
   "metadata": {},
   "outputs": [
    {
     "name": "stdout",
     "output_type": "stream",
     "text": [
      "Complete Sales Data with Customer Information: 1000\n"
     ]
    },
    {
     "data": {
      "text/html": [
       "<div><style>\n",
       ".dataframe > thead > tr,\n",
       ".dataframe > tbody > tr {\n",
       "  text-align: right;\n",
       "  white-space: pre-wrap;\n",
       "}\n",
       "</style>\n",
       "<small>shape: (10, 11)</small><table border=\"1\" class=\"dataframe\"><thead><tr><th>date</th><th>customer_id</th><th>product_id</th><th>category</th><th>sales_amount</th><th>quantity</th><th>product_name</th><th>price</th><th>customer_name</th><th>city</th><th>state</th></tr><tr><td>datetime[ns]</td><td>i64</td><td>i64</td><td>str</td><td>f64</td><td>i64</td><td>str</td><td>f64</td><td>str</td><td>str</td><td>str</td></tr></thead><tbody><tr><td>2023-01-01 00:00:00</td><td>52</td><td>34</td><td>&quot;Books&quot;</td><td>319.23</td><td>2</td><td>&quot;Product 34&quot;</td><td>301.18</td><td>&quot;Customer 52&quot;</td><td>&quot;Houston&quot;</td><td>&quot;CA&quot;</td></tr><tr><td>2023-01-02 00:00:00</td><td>93</td><td>45</td><td>&quot;Food&quot;</td><td>646.25</td><td>6</td><td>&quot;Product 45&quot;</td><td>376.07</td><td>&quot;Customer 93&quot;</td><td>&quot;New York&quot;</td><td>&quot;CA&quot;</td></tr><tr><td>2023-01-03 00:00:00</td><td>15</td><td>6</td><td>&quot;Food&quot;</td><td>203.88</td><td>2</td><td>&quot;Product 6&quot;</td><td>211.48</td><td>&quot;Customer 15&quot;</td><td>&quot;Chicago&quot;</td><td>&quot;IL&quot;</td></tr><tr><td>2023-01-04 00:00:00</td><td>72</td><td>37</td><td>&quot;Books&quot;</td><td>897.99</td><td>3</td><td>&quot;Product 37&quot;</td><td>291.93</td><td>&quot;Customer 72&quot;</td><td>&quot;New York&quot;</td><td>&quot;CA&quot;</td></tr><tr><td>2023-01-05 00:00:00</td><td>61</td><td>33</td><td>&quot;Books&quot;</td><td>524.99</td><td>4</td><td>&quot;Product 33&quot;</td><td>341.48</td><td>&quot;Customer 61&quot;</td><td>&quot;Houston&quot;</td><td>&quot;AZ&quot;</td></tr><tr><td>2023-01-06 00:00:00</td><td>21</td><td>22</td><td>&quot;Clothing&quot;</td><td>453.13</td><td>5</td><td>&quot;Product 22&quot;</td><td>154.09</td><td>&quot;Customer 21&quot;</td><td>&quot;Phoenix&quot;</td><td>&quot;NY&quot;</td></tr><tr><td>2023-01-07 00:00:00</td><td>83</td><td>21</td><td>&quot;Clothing&quot;</td><td>562.24</td><td>9</td><td>&quot;Product 21&quot;</td><td>496.06</td><td>&quot;Customer 83&quot;</td><td>&quot;New York&quot;</td><td>&quot;CA&quot;</td></tr><tr><td>2023-01-08 00:00:00</td><td>87</td><td>6</td><td>&quot;Food&quot;</td><td>174.37</td><td>4</td><td>&quot;Product 6&quot;</td><td>211.48</td><td>&quot;Customer 87&quot;</td><td>&quot;Houston&quot;</td><td>&quot;AZ&quot;</td></tr><tr><td>2023-01-09 00:00:00</td><td>75</td><td>6</td><td>&quot;Electronics&quot;</td><td>617.34</td><td>9</td><td>&quot;Product 6&quot;</td><td>211.48</td><td>&quot;Customer 75&quot;</td><td>&quot;Houston&quot;</td><td>&quot;TX&quot;</td></tr><tr><td>2023-01-10 00:00:00</td><td>75</td><td>48</td><td>&quot;Books&quot;</td><td>369.47</td><td>3</td><td>&quot;Product 48&quot;</td><td>74.18</td><td>&quot;Customer 75&quot;</td><td>&quot;Houston&quot;</td><td>&quot;TX&quot;</td></tr></tbody></table></div>"
      ],
      "text/plain": [
       "shape: (10, 11)\n",
       "┌─────────────┬─────────────┬────────────┬────────────┬───┬────────┬────────────┬──────────┬───────┐\n",
       "│ date        ┆ customer_id ┆ product_id ┆ category   ┆ … ┆ price  ┆ customer_n ┆ city     ┆ state │\n",
       "│ ---         ┆ ---         ┆ ---        ┆ ---        ┆   ┆ ---    ┆ ame        ┆ ---      ┆ ---   │\n",
       "│ datetime[ns ┆ i64         ┆ i64        ┆ str        ┆   ┆ f64    ┆ ---        ┆ str      ┆ str   │\n",
       "│ ]           ┆             ┆            ┆            ┆   ┆        ┆ str        ┆          ┆       │\n",
       "╞═════════════╪═════════════╪════════════╪════════════╪═══╪════════╪════════════╪══════════╪═══════╡\n",
       "│ 2023-01-01  ┆ 52          ┆ 34         ┆ Books      ┆ … ┆ 301.18 ┆ Customer   ┆ Houston  ┆ CA    │\n",
       "│ 00:00:00    ┆             ┆            ┆            ┆   ┆        ┆ 52         ┆          ┆       │\n",
       "│ 2023-01-02  ┆ 93          ┆ 45         ┆ Food       ┆ … ┆ 376.07 ┆ Customer   ┆ New York ┆ CA    │\n",
       "│ 00:00:00    ┆             ┆            ┆            ┆   ┆        ┆ 93         ┆          ┆       │\n",
       "│ 2023-01-03  ┆ 15          ┆ 6          ┆ Food       ┆ … ┆ 211.48 ┆ Customer   ┆ Chicago  ┆ IL    │\n",
       "│ 00:00:00    ┆             ┆            ┆            ┆   ┆        ┆ 15         ┆          ┆       │\n",
       "│ 2023-01-04  ┆ 72          ┆ 37         ┆ Books      ┆ … ┆ 291.93 ┆ Customer   ┆ New York ┆ CA    │\n",
       "│ 00:00:00    ┆             ┆            ┆            ┆   ┆        ┆ 72         ┆          ┆       │\n",
       "│ 2023-01-05  ┆ 61          ┆ 33         ┆ Books      ┆ … ┆ 341.48 ┆ Customer   ┆ Houston  ┆ AZ    │\n",
       "│ 00:00:00    ┆             ┆            ┆            ┆   ┆        ┆ 61         ┆          ┆       │\n",
       "│ 2023-01-06  ┆ 21          ┆ 22         ┆ Clothing   ┆ … ┆ 154.09 ┆ Customer   ┆ Phoenix  ┆ NY    │\n",
       "│ 00:00:00    ┆             ┆            ┆            ┆   ┆        ┆ 21         ┆          ┆       │\n",
       "│ 2023-01-07  ┆ 83          ┆ 21         ┆ Clothing   ┆ … ┆ 496.06 ┆ Customer   ┆ New York ┆ CA    │\n",
       "│ 00:00:00    ┆             ┆            ┆            ┆   ┆        ┆ 83         ┆          ┆       │\n",
       "│ 2023-01-08  ┆ 87          ┆ 6          ┆ Food       ┆ … ┆ 211.48 ┆ Customer   ┆ Houston  ┆ AZ    │\n",
       "│ 00:00:00    ┆             ┆            ┆            ┆   ┆        ┆ 87         ┆          ┆       │\n",
       "│ 2023-01-09  ┆ 75          ┆ 6          ┆ Electronic ┆ … ┆ 211.48 ┆ Customer   ┆ Houston  ┆ TX    │\n",
       "│ 00:00:00    ┆             ┆            ┆ s          ┆   ┆        ┆ 75         ┆          ┆       │\n",
       "│ 2023-01-10  ┆ 75          ┆ 48         ┆ Books      ┆ … ┆ 74.18  ┆ Customer   ┆ Houston  ┆ TX    │\n",
       "│ 00:00:00    ┆             ┆            ┆            ┆   ┆        ┆ 75         ┆          ┆       │\n",
       "└─────────────┴─────────────┴────────────┴────────────┴───┴────────┴────────────┴──────────┴───────┘"
      ]
     },
     "metadata": {},
     "output_type": "display_data"
    }
   ],
   "source": [
    "# Join with customer information to get a complete view\n",
    "complete_sales = sales_with_product.join(\n",
    "    df_customer_pl.select([\"customer_id\", \"customer_name\", \"city\", \"state\"]),\n",
    "    on=\"customer_id\",\n",
    "    how=\"left\",\n",
    ")\n",
    "print(f\"Complete Sales Data with Customer Information: {len(complete_sales)}\")\n",
    "display(complete_sales.head(10))"
   ]
  },
  {
   "cell_type": "code",
   "execution_count": null,
   "id": "15e69a8b",
   "metadata": {},
   "outputs": [
    {
     "name": "stdout",
     "output_type": "stream",
     "text": [
      "Complete Sales Data with Calculated Revenue and Price Difference: 1000\n"
     ]
    },
    {
     "data": {
      "text/html": [
       "<div><style>\n",
       ".dataframe > thead > tr,\n",
       ".dataframe > tbody > tr {\n",
       "  text-align: right;\n",
       "  white-space: pre-wrap;\n",
       "}\n",
       "</style>\n",
       "<small>shape: (10, 5)</small><table border=\"1\" class=\"dataframe\"><thead><tr><th>sales_amount</th><th>price</th><th>quantity</th><th>calculated_revenue</th><th>price_difference</th></tr><tr><td>f64</td><td>f64</td><td>i64</td><td>f64</td><td>f64</td></tr></thead><tbody><tr><td>319.23</td><td>301.18</td><td>2</td><td>602.36</td><td>-283.13</td></tr><tr><td>646.25</td><td>376.07</td><td>6</td><td>2256.42</td><td>-1610.17</td></tr><tr><td>203.88</td><td>211.48</td><td>2</td><td>422.96</td><td>-219.08</td></tr><tr><td>897.99</td><td>291.93</td><td>3</td><td>875.79</td><td>22.2</td></tr><tr><td>524.99</td><td>341.48</td><td>4</td><td>1365.92</td><td>-840.93</td></tr><tr><td>453.13</td><td>154.09</td><td>5</td><td>770.45</td><td>-317.32</td></tr><tr><td>562.24</td><td>496.06</td><td>9</td><td>4464.54</td><td>-3902.3</td></tr><tr><td>174.37</td><td>211.48</td><td>4</td><td>845.92</td><td>-671.55</td></tr><tr><td>617.34</td><td>211.48</td><td>9</td><td>1903.32</td><td>-1285.98</td></tr><tr><td>369.47</td><td>74.18</td><td>3</td><td>222.54</td><td>146.93</td></tr></tbody></table></div>"
      ],
      "text/plain": [
       "shape: (10, 5)\n",
       "┌──────────────┬────────┬──────────┬────────────────────┬──────────────────┐\n",
       "│ sales_amount ┆ price  ┆ quantity ┆ calculated_revenue ┆ price_difference │\n",
       "│ ---          ┆ ---    ┆ ---      ┆ ---                ┆ ---              │\n",
       "│ f64          ┆ f64    ┆ i64      ┆ f64                ┆ f64              │\n",
       "╞══════════════╪════════╪══════════╪════════════════════╪══════════════════╡\n",
       "│ 319.23       ┆ 301.18 ┆ 2        ┆ 602.36             ┆ -283.13          │\n",
       "│ 646.25       ┆ 376.07 ┆ 6        ┆ 2256.42            ┆ -1610.17         │\n",
       "│ 203.88       ┆ 211.48 ┆ 2        ┆ 422.96             ┆ -219.08          │\n",
       "│ 897.99       ┆ 291.93 ┆ 3        ┆ 875.79             ┆ 22.2             │\n",
       "│ 524.99       ┆ 341.48 ┆ 4        ┆ 1365.92            ┆ -840.93          │\n",
       "│ 453.13       ┆ 154.09 ┆ 5        ┆ 770.45             ┆ -317.32          │\n",
       "│ 562.24       ┆ 496.06 ┆ 9        ┆ 4464.54            ┆ -3902.3          │\n",
       "│ 174.37       ┆ 211.48 ┆ 4        ┆ 845.92             ┆ -671.55          │\n",
       "│ 617.34       ┆ 211.48 ┆ 9        ┆ 1903.32            ┆ -1285.98         │\n",
       "│ 369.47       ┆ 74.18  ┆ 3        ┆ 222.54             ┆ 146.93           │\n",
       "└──────────────┴────────┴──────────┴────────────────────┴──────────────────┘"
      ]
     },
     "metadata": {},
     "output_type": "display_data"
    }
   ],
   "source": [
    "# Calculate revenue (price * quantity) and compare with sales amount\n",
    "complete_sales = complete_sales.with_columns(\n",
    "    (pl.col(\"price\") * pl.col(\"quantity\")).alias(\"calculated_revenue\"),\n",
    "    (pl.col(\"sales_amount\") - (pl.col(\"price\") * pl.col(\"quantity\"))).alias(\"price_difference\"),\n",
    ")\n",
    "print(f\"Complete Sales Data with Calculated Revenue and Price Difference: {len(complete_sales)}\")\n",
    "display(complete_sales.select([\"sales_amount\", \"price\", \"quantity\", \"calculated_revenue\", \"price_difference\"]).head(10))"
   ]
  },
  {
   "cell_type": "markdown",
   "id": "9850ee88",
   "metadata": {},
   "source": [
    "### 4. Window Functions"
   ]
  },
  {
   "cell_type": "code",
   "execution_count": null,
   "id": "de70b671",
   "metadata": {},
   "outputs": [],
   "source": [
    "# Convert date column to date type if not already\n",
    "df_sales_pl = df_sales_pl.with_columns(pl.col(\"date\").cast(pl.Date))"
   ]
  },
  {
   "cell_type": "code",
   "execution_count": null,
   "id": "986c3610",
   "metadata": {},
   "outputs": [
    {
     "name": "stdout",
     "output_type": "stream",
     "text": [
      "Daily Sales Summary: 1000\n"
     ]
    },
    {
     "data": {
      "text/html": [
       "<div><style>\n",
       ".dataframe > thead > tr,\n",
       ".dataframe > tbody > tr {\n",
       "  text-align: right;\n",
       "  white-space: pre-wrap;\n",
       "}\n",
       "</style>\n",
       "<small>shape: (10, 2)</small><table border=\"1\" class=\"dataframe\"><thead><tr><th>date</th><th>total_sales</th></tr><tr><td>date</td><td>f64</td></tr></thead><tbody><tr><td>2023-01-01</td><td>319.23</td></tr><tr><td>2023-01-02</td><td>646.25</td></tr><tr><td>2023-01-03</td><td>203.88</td></tr><tr><td>2023-01-04</td><td>897.99</td></tr><tr><td>2023-01-05</td><td>524.99</td></tr><tr><td>2023-01-06</td><td>453.13</td></tr><tr><td>2023-01-07</td><td>562.24</td></tr><tr><td>2023-01-08</td><td>174.37</td></tr><tr><td>2023-01-09</td><td>617.34</td></tr><tr><td>2023-01-10</td><td>369.47</td></tr></tbody></table></div>"
      ],
      "text/plain": [
       "shape: (10, 2)\n",
       "┌────────────┬─────────────┐\n",
       "│ date       ┆ total_sales │\n",
       "│ ---        ┆ ---         │\n",
       "│ date       ┆ f64         │\n",
       "╞════════════╪═════════════╡\n",
       "│ 2023-01-01 ┆ 319.23      │\n",
       "│ 2023-01-02 ┆ 646.25      │\n",
       "│ 2023-01-03 ┆ 203.88      │\n",
       "│ 2023-01-04 ┆ 897.99      │\n",
       "│ 2023-01-05 ┆ 524.99      │\n",
       "│ 2023-01-06 ┆ 453.13      │\n",
       "│ 2023-01-07 ┆ 562.24      │\n",
       "│ 2023-01-08 ┆ 174.37      │\n",
       "│ 2023-01-09 ┆ 617.34      │\n",
       "│ 2023-01-10 ┆ 369.47      │\n",
       "└────────────┴─────────────┘"
      ]
     },
     "metadata": {},
     "output_type": "display_data"
    }
   ],
   "source": [
    "daily_sales = (\n",
    "    df_sales_pl.group_by(\"date\")\n",
    "    .agg(\n",
    "        pl.col(\"sales_amount\").sum().alias(\"total_sales\"),\n",
    "    )\n",
    "    .sort(\"date\")\n",
    ")\n",
    "print(f\"Daily Sales Summary: {len(daily_sales)}\")\n",
    "display(daily_sales.head(10))"
   ]
  },
  {
   "cell_type": "code",
   "execution_count": null,
   "id": "7f1f6a7f",
   "metadata": {},
   "outputs": [
    {
     "name": "stdout",
     "output_type": "stream",
     "text": [
      "Daily Sales with Lead and Lag: 1000\n"
     ]
    },
    {
     "data": {
      "text/html": [
       "<div><style>\n",
       ".dataframe > thead > tr,\n",
       ".dataframe > tbody > tr {\n",
       "  text-align: right;\n",
       "  white-space: pre-wrap;\n",
       "}\n",
       "</style>\n",
       "<small>shape: (10, 4)</small><table border=\"1\" class=\"dataframe\"><thead><tr><th>date</th><th>total_sales</th><th>previous_day_sales</th><th>next_day_sales</th></tr><tr><td>date</td><td>f64</td><td>f64</td><td>f64</td></tr></thead><tbody><tr><td>2023-01-01</td><td>319.23</td><td>null</td><td>646.25</td></tr><tr><td>2023-01-02</td><td>646.25</td><td>319.23</td><td>203.88</td></tr><tr><td>2023-01-03</td><td>203.88</td><td>646.25</td><td>897.99</td></tr><tr><td>2023-01-04</td><td>897.99</td><td>203.88</td><td>524.99</td></tr><tr><td>2023-01-05</td><td>524.99</td><td>897.99</td><td>453.13</td></tr><tr><td>2023-01-06</td><td>453.13</td><td>524.99</td><td>562.24</td></tr><tr><td>2023-01-07</td><td>562.24</td><td>453.13</td><td>174.37</td></tr><tr><td>2023-01-08</td><td>174.37</td><td>562.24</td><td>617.34</td></tr><tr><td>2023-01-09</td><td>617.34</td><td>174.37</td><td>369.47</td></tr><tr><td>2023-01-10</td><td>369.47</td><td>617.34</td><td>898.21</td></tr></tbody></table></div>"
      ],
      "text/plain": [
       "shape: (10, 4)\n",
       "┌────────────┬─────────────┬────────────────────┬────────────────┐\n",
       "│ date       ┆ total_sales ┆ previous_day_sales ┆ next_day_sales │\n",
       "│ ---        ┆ ---         ┆ ---                ┆ ---            │\n",
       "│ date       ┆ f64         ┆ f64                ┆ f64            │\n",
       "╞════════════╪═════════════╪════════════════════╪════════════════╡\n",
       "│ 2023-01-01 ┆ 319.23      ┆ null               ┆ 646.25         │\n",
       "│ 2023-01-02 ┆ 646.25      ┆ 319.23             ┆ 203.88         │\n",
       "│ 2023-01-03 ┆ 203.88      ┆ 646.25             ┆ 897.99         │\n",
       "│ 2023-01-04 ┆ 897.99      ┆ 203.88             ┆ 524.99         │\n",
       "│ 2023-01-05 ┆ 524.99      ┆ 897.99             ┆ 453.13         │\n",
       "│ 2023-01-06 ┆ 453.13      ┆ 524.99             ┆ 562.24         │\n",
       "│ 2023-01-07 ┆ 562.24      ┆ 453.13             ┆ 174.37         │\n",
       "│ 2023-01-08 ┆ 174.37      ┆ 562.24             ┆ 617.34         │\n",
       "│ 2023-01-09 ┆ 617.34      ┆ 174.37             ┆ 369.47         │\n",
       "│ 2023-01-10 ┆ 369.47      ┆ 617.34             ┆ 898.21         │\n",
       "└────────────┴─────────────┴────────────────────┴────────────────┘"
      ]
     },
     "metadata": {},
     "output_type": "display_data"
    }
   ],
   "source": [
    "# Calculate lead and lag\n",
    "daily_sales = daily_sales.with_columns(\n",
    "    pl.col(\"total_sales\").shift(1).alias(\"previous_day_sales\"),\n",
    "    pl.col(\"total_sales\").shift(-1).alias(\"next_day_sales\"),\n",
    ")\n",
    "print(f\"Daily Sales with Lead and Lag: {len(daily_sales)}\")\n",
    "display(daily_sales.head(10))"
   ]
  },
  {
   "cell_type": "code",
   "execution_count": null,
   "id": "24db9b86",
   "metadata": {},
   "outputs": [
    {
     "name": "stdout",
     "output_type": "stream",
     "text": [
      "Daily Sales with Day-over-Day Change: 1000\n"
     ]
    },
    {
     "data": {
      "text/html": [
       "<div><style>\n",
       ".dataframe > thead > tr,\n",
       ".dataframe > tbody > tr {\n",
       "  text-align: right;\n",
       "  white-space: pre-wrap;\n",
       "}\n",
       "</style>\n",
       "<small>shape: (10, 6)</small><table border=\"1\" class=\"dataframe\"><thead><tr><th>date</th><th>total_sales</th><th>previous_day_sales</th><th>next_day_sales</th><th>day_over_day_change</th><th>pct_change</th></tr><tr><td>date</td><td>f64</td><td>f64</td><td>f64</td><td>f64</td><td>f64</td></tr></thead><tbody><tr><td>2023-01-01</td><td>319.23</td><td>null</td><td>646.25</td><td>null</td><td>null</td></tr><tr><td>2023-01-02</td><td>646.25</td><td>319.23</td><td>203.88</td><td>327.02</td><td>102.440247</td></tr><tr><td>2023-01-03</td><td>203.88</td><td>646.25</td><td>897.99</td><td>-442.37</td><td>-68.451838</td></tr><tr><td>2023-01-04</td><td>897.99</td><td>203.88</td><td>524.99</td><td>694.11</td><td>340.450265</td></tr><tr><td>2023-01-05</td><td>524.99</td><td>897.99</td><td>453.13</td><td>-373.0</td><td>-41.537211</td></tr><tr><td>2023-01-06</td><td>453.13</td><td>524.99</td><td>562.24</td><td>-71.86</td><td>-13.68788</td></tr><tr><td>2023-01-07</td><td>562.24</td><td>453.13</td><td>174.37</td><td>109.11</td><td>24.079183</td></tr><tr><td>2023-01-08</td><td>174.37</td><td>562.24</td><td>617.34</td><td>-387.87</td><td>-68.986554</td></tr><tr><td>2023-01-09</td><td>617.34</td><td>174.37</td><td>369.47</td><td>442.97</td><td>254.040259</td></tr><tr><td>2023-01-10</td><td>369.47</td><td>617.34</td><td>898.21</td><td>-247.87</td><td>-40.151294</td></tr></tbody></table></div>"
      ],
      "text/plain": [
       "shape: (10, 6)\n",
       "┌────────────┬─────────────┬────────────────────┬────────────────┬────────────────────┬────────────┐\n",
       "│ date       ┆ total_sales ┆ previous_day_sales ┆ next_day_sales ┆ day_over_day_chang ┆ pct_change │\n",
       "│ ---        ┆ ---         ┆ ---                ┆ ---            ┆ e                  ┆ ---        │\n",
       "│ date       ┆ f64         ┆ f64                ┆ f64            ┆ ---                ┆ f64        │\n",
       "│            ┆             ┆                    ┆                ┆ f64                ┆            │\n",
       "╞════════════╪═════════════╪════════════════════╪════════════════╪════════════════════╪════════════╡\n",
       "│ 2023-01-01 ┆ 319.23      ┆ null               ┆ 646.25         ┆ null               ┆ null       │\n",
       "│ 2023-01-02 ┆ 646.25      ┆ 319.23             ┆ 203.88         ┆ 327.02             ┆ 102.440247 │\n",
       "│ 2023-01-03 ┆ 203.88      ┆ 646.25             ┆ 897.99         ┆ -442.37            ┆ -68.451838 │\n",
       "│ 2023-01-04 ┆ 897.99      ┆ 203.88             ┆ 524.99         ┆ 694.11             ┆ 340.450265 │\n",
       "│ 2023-01-05 ┆ 524.99      ┆ 897.99             ┆ 453.13         ┆ -373.0             ┆ -41.537211 │\n",
       "│ 2023-01-06 ┆ 453.13      ┆ 524.99             ┆ 562.24         ┆ -71.86             ┆ -13.68788  │\n",
       "│ 2023-01-07 ┆ 562.24      ┆ 453.13             ┆ 174.37         ┆ 109.11             ┆ 24.079183  │\n",
       "│ 2023-01-08 ┆ 174.37      ┆ 562.24             ┆ 617.34         ┆ -387.87            ┆ -68.986554 │\n",
       "│ 2023-01-09 ┆ 617.34      ┆ 174.37             ┆ 369.47         ┆ 442.97             ┆ 254.040259 │\n",
       "│ 2023-01-10 ┆ 369.47      ┆ 617.34             ┆ 898.21         ┆ -247.87            ┆ -40.151294 │\n",
       "└────────────┴─────────────┴────────────────────┴────────────────┴────────────────────┴────────────┘"
      ]
     },
     "metadata": {},
     "output_type": "display_data"
    }
   ],
   "source": [
    "# Calculate day-over-day change\n",
    "daily_sales = daily_sales.with_columns(\n",
    "    (pl.col(\"total_sales\") - pl.col(\"previous_day_sales\")).alias(\"day_over_day_change\"),\n",
    "    (pl.col(\"total_sales\") / pl.col(\"previous_day_sales\") - 1).alias(\"pct_change\") * 100,\n",
    ")\n",
    "print(f\"Daily Sales with Day-over-Day Change: {len(daily_sales)}\")\n",
    "display(daily_sales.head(10))"
   ]
  },
  {
   "cell_type": "code",
   "execution_count": null,
   "id": "7a295819",
   "metadata": {},
   "outputs": [
    {
     "name": "stdout",
     "output_type": "stream",
     "text": [
      "Daily Sales with 7-Day Moving Average: 1000\n"
     ]
    },
    {
     "name": "stderr",
     "output_type": "stream",
     "text": [
      "/tmp/ipykernel_2306/441954548.py:3: DeprecationWarning:\n",
      "\n",
      "the argument `min_periods` for `Expr.rolling_mean` is deprecated. It was renamed to `min_samples` in version 1.21.0.\n",
      "\n"
     ]
    },
    {
     "data": {
      "text/html": [
       "<div><style>\n",
       ".dataframe > thead > tr,\n",
       ".dataframe > tbody > tr {\n",
       "  text-align: right;\n",
       "  white-space: pre-wrap;\n",
       "}\n",
       "</style>\n",
       "<small>shape: (10, 7)</small><table border=\"1\" class=\"dataframe\"><thead><tr><th>date</th><th>total_sales</th><th>previous_day_sales</th><th>next_day_sales</th><th>day_over_day_change</th><th>pct_change</th><th>7d_moving_avg</th></tr><tr><td>date</td><td>f64</td><td>f64</td><td>f64</td><td>f64</td><td>f64</td><td>f64</td></tr></thead><tbody><tr><td>2023-01-01</td><td>319.23</td><td>null</td><td>646.25</td><td>null</td><td>null</td><td>319.23</td></tr><tr><td>2023-01-02</td><td>646.25</td><td>319.23</td><td>203.88</td><td>327.02</td><td>102.440247</td><td>482.74</td></tr><tr><td>2023-01-03</td><td>203.88</td><td>646.25</td><td>897.99</td><td>-442.37</td><td>-68.451838</td><td>389.786667</td></tr><tr><td>2023-01-04</td><td>897.99</td><td>203.88</td><td>524.99</td><td>694.11</td><td>340.450265</td><td>516.8375</td></tr><tr><td>2023-01-05</td><td>524.99</td><td>897.99</td><td>453.13</td><td>-373.0</td><td>-41.537211</td><td>518.468</td></tr><tr><td>2023-01-06</td><td>453.13</td><td>524.99</td><td>562.24</td><td>-71.86</td><td>-13.68788</td><td>507.578333</td></tr><tr><td>2023-01-07</td><td>562.24</td><td>453.13</td><td>174.37</td><td>109.11</td><td>24.079183</td><td>515.387143</td></tr><tr><td>2023-01-08</td><td>174.37</td><td>562.24</td><td>617.34</td><td>-387.87</td><td>-68.986554</td><td>494.692857</td></tr><tr><td>2023-01-09</td><td>617.34</td><td>174.37</td><td>369.47</td><td>442.97</td><td>254.040259</td><td>490.562857</td></tr><tr><td>2023-01-10</td><td>369.47</td><td>617.34</td><td>898.21</td><td>-247.87</td><td>-40.151294</td><td>514.218571</td></tr></tbody></table></div>"
      ],
      "text/plain": [
       "shape: (10, 7)\n",
       "┌────────────┬─────────────┬──────────────┬──────────────┬──────────────┬────────────┬─────────────┐\n",
       "│ date       ┆ total_sales ┆ previous_day ┆ next_day_sal ┆ day_over_day ┆ pct_change ┆ 7d_moving_a │\n",
       "│ ---        ┆ ---         ┆ _sales       ┆ es           ┆ _change      ┆ ---        ┆ vg          │\n",
       "│ date       ┆ f64         ┆ ---          ┆ ---          ┆ ---          ┆ f64        ┆ ---         │\n",
       "│            ┆             ┆ f64          ┆ f64          ┆ f64          ┆            ┆ f64         │\n",
       "╞════════════╪═════════════╪══════════════╪══════════════╪══════════════╪════════════╪═════════════╡\n",
       "│ 2023-01-01 ┆ 319.23      ┆ null         ┆ 646.25       ┆ null         ┆ null       ┆ 319.23      │\n",
       "│ 2023-01-02 ┆ 646.25      ┆ 319.23       ┆ 203.88       ┆ 327.02       ┆ 102.440247 ┆ 482.74      │\n",
       "│ 2023-01-03 ┆ 203.88      ┆ 646.25       ┆ 897.99       ┆ -442.37      ┆ -68.451838 ┆ 389.786667  │\n",
       "│ 2023-01-04 ┆ 897.99      ┆ 203.88       ┆ 524.99       ┆ 694.11       ┆ 340.450265 ┆ 516.8375    │\n",
       "│ 2023-01-05 ┆ 524.99      ┆ 897.99       ┆ 453.13       ┆ -373.0       ┆ -41.537211 ┆ 518.468     │\n",
       "│ 2023-01-06 ┆ 453.13      ┆ 524.99       ┆ 562.24       ┆ -71.86       ┆ -13.68788  ┆ 507.578333  │\n",
       "│ 2023-01-07 ┆ 562.24      ┆ 453.13       ┆ 174.37       ┆ 109.11       ┆ 24.079183  ┆ 515.387143  │\n",
       "│ 2023-01-08 ┆ 174.37      ┆ 562.24       ┆ 617.34       ┆ -387.87      ┆ -68.986554 ┆ 494.692857  │\n",
       "│ 2023-01-09 ┆ 617.34      ┆ 174.37       ┆ 369.47       ┆ 442.97       ┆ 254.040259 ┆ 490.562857  │\n",
       "│ 2023-01-10 ┆ 369.47      ┆ 617.34       ┆ 898.21       ┆ -247.87      ┆ -40.151294 ┆ 514.218571  │\n",
       "└────────────┴─────────────┴──────────────┴──────────────┴──────────────┴────────────┴─────────────┘"
      ]
     },
     "metadata": {},
     "output_type": "display_data"
    }
   ],
   "source": [
    "# Calculate 7-day moving average\n",
    "daily_sales = daily_sales.with_columns(\n",
    "    pl.col(\"total_sales\").rolling_mean(window_size=7, min_periods=1).alias(\"7d_moving_avg\"),\n",
    ")\n",
    "print(f\"Daily Sales with 7-Day Moving Average: {len(daily_sales)}\")\n",
    "display(daily_sales.head(10))"
   ]
  },
  {
   "cell_type": "code",
   "execution_count": null,
   "id": "dd145d25",
   "metadata": {},
   "outputs": [
    {
     "data": {
      "application/vnd.plotly.v1+json": {
       "config": {
        "plotlyServerURL": "https://plot.ly"
       },
       "data": [
        {
         "mode": "lines",
         "name": "Daily Sales",
         "type": "scatter",
         "x": [
          "2023-01-01",
          "2023-01-02",
          "2023-01-03",
          "2023-01-04",
          "2023-01-05",
          "2023-01-06",
          "2023-01-07",
          "2023-01-08",
          "2023-01-09",
          "2023-01-10",
          "2023-01-11",
          "2023-01-12",
          "2023-01-13",
          "2023-01-14",
          "2023-01-15",
          "2023-01-16",
          "2023-01-17",
          "2023-01-18",
          "2023-01-19",
          "2023-01-20",
          "2023-01-21",
          "2023-01-22",
          "2023-01-23",
          "2023-01-24",
          "2023-01-25",
          "2023-01-26",
          "2023-01-27",
          "2023-01-28",
          "2023-01-29",
          "2023-01-30",
          "2023-01-31",
          "2023-02-01",
          "2023-02-02",
          "2023-02-03",
          "2023-02-04",
          "2023-02-05",
          "2023-02-06",
          "2023-02-07",
          "2023-02-08",
          "2023-02-09",
          "2023-02-10",
          "2023-02-11",
          "2023-02-12",
          "2023-02-13",
          "2023-02-14",
          "2023-02-15",
          "2023-02-16",
          "2023-02-17",
          "2023-02-18",
          "2023-02-19",
          "2023-02-20",
          "2023-02-21",
          "2023-02-22",
          "2023-02-23",
          "2023-02-24",
          "2023-02-25",
          "2023-02-26",
          "2023-02-27",
          "2023-02-28",
          "2023-03-01",
          "2023-03-02",
          "2023-03-03",
          "2023-03-04",
          "2023-03-05",
          "2023-03-06",
          "2023-03-07",
          "2023-03-08",
          "2023-03-09",
          "2023-03-10",
          "2023-03-11",
          "2023-03-12",
          "2023-03-13",
          "2023-03-14",
          "2023-03-15",
          "2023-03-16",
          "2023-03-17",
          "2023-03-18",
          "2023-03-19",
          "2023-03-20",
          "2023-03-21",
          "2023-03-22",
          "2023-03-23",
          "2023-03-24",
          "2023-03-25",
          "2023-03-26",
          "2023-03-27",
          "2023-03-28",
          "2023-03-29",
          "2023-03-30",
          "2023-03-31",
          "2023-04-01",
          "2023-04-02",
          "2023-04-03",
          "2023-04-04",
          "2023-04-05",
          "2023-04-06",
          "2023-04-07",
          "2023-04-08",
          "2023-04-09",
          "2023-04-10",
          "2023-04-11",
          "2023-04-12",
          "2023-04-13",
          "2023-04-14",
          "2023-04-15",
          "2023-04-16",
          "2023-04-17",
          "2023-04-18",
          "2023-04-19",
          "2023-04-20",
          "2023-04-21",
          "2023-04-22",
          "2023-04-23",
          "2023-04-24",
          "2023-04-25",
          "2023-04-26",
          "2023-04-27",
          "2023-04-28",
          "2023-04-29",
          "2023-04-30",
          "2023-05-01",
          "2023-05-02",
          "2023-05-03",
          "2023-05-04",
          "2023-05-05",
          "2023-05-06",
          "2023-05-07",
          "2023-05-08",
          "2023-05-09",
          "2023-05-10",
          "2023-05-11",
          "2023-05-12",
          "2023-05-13",
          "2023-05-14",
          "2023-05-15",
          "2023-05-16",
          "2023-05-17",
          "2023-05-18",
          "2023-05-19",
          "2023-05-20",
          "2023-05-21",
          "2023-05-22",
          "2023-05-23",
          "2023-05-24",
          "2023-05-25",
          "2023-05-26",
          "2023-05-27",
          "2023-05-28",
          "2023-05-29",
          "2023-05-30",
          "2023-05-31",
          "2023-06-01",
          "2023-06-02",
          "2023-06-03",
          "2023-06-04",
          "2023-06-05",
          "2023-06-06",
          "2023-06-07",
          "2023-06-08",
          "2023-06-09",
          "2023-06-10",
          "2023-06-11",
          "2023-06-12",
          "2023-06-13",
          "2023-06-14",
          "2023-06-15",
          "2023-06-16",
          "2023-06-17",
          "2023-06-18",
          "2023-06-19",
          "2023-06-20",
          "2023-06-21",
          "2023-06-22",
          "2023-06-23",
          "2023-06-24",
          "2023-06-25",
          "2023-06-26",
          "2023-06-27",
          "2023-06-28",
          "2023-06-29",
          "2023-06-30",
          "2023-07-01",
          "2023-07-02",
          "2023-07-03",
          "2023-07-04",
          "2023-07-05",
          "2023-07-06",
          "2023-07-07",
          "2023-07-08",
          "2023-07-09",
          "2023-07-10",
          "2023-07-11",
          "2023-07-12",
          "2023-07-13",
          "2023-07-14",
          "2023-07-15",
          "2023-07-16",
          "2023-07-17",
          "2023-07-18",
          "2023-07-19",
          "2023-07-20",
          "2023-07-21",
          "2023-07-22",
          "2023-07-23",
          "2023-07-24",
          "2023-07-25",
          "2023-07-26",
          "2023-07-27",
          "2023-07-28",
          "2023-07-29",
          "2023-07-30",
          "2023-07-31",
          "2023-08-01",
          "2023-08-02",
          "2023-08-03",
          "2023-08-04",
          "2023-08-05",
          "2023-08-06",
          "2023-08-07",
          "2023-08-08",
          "2023-08-09",
          "2023-08-10",
          "2023-08-11",
          "2023-08-12",
          "2023-08-13",
          "2023-08-14",
          "2023-08-15",
          "2023-08-16",
          "2023-08-17",
          "2023-08-18",
          "2023-08-19",
          "2023-08-20",
          "2023-08-21",
          "2023-08-22",
          "2023-08-23",
          "2023-08-24",
          "2023-08-25",
          "2023-08-26",
          "2023-08-27",
          "2023-08-28",
          "2023-08-29",
          "2023-08-30",
          "2023-08-31",
          "2023-09-01",
          "2023-09-02",
          "2023-09-03",
          "2023-09-04",
          "2023-09-05",
          "2023-09-06",
          "2023-09-07",
          "2023-09-08",
          "2023-09-09",
          "2023-09-10",
          "2023-09-11",
          "2023-09-12",
          "2023-09-13",
          "2023-09-14",
          "2023-09-15",
          "2023-09-16",
          "2023-09-17",
          "2023-09-18",
          "2023-09-19",
          "2023-09-20",
          "2023-09-21",
          "2023-09-22",
          "2023-09-23",
          "2023-09-24",
          "2023-09-25",
          "2023-09-26",
          "2023-09-27",
          "2023-09-28",
          "2023-09-29",
          "2023-09-30",
          "2023-10-01",
          "2023-10-02",
          "2023-10-03",
          "2023-10-04",
          "2023-10-05",
          "2023-10-06",
          "2023-10-07",
          "2023-10-08",
          "2023-10-09",
          "2023-10-10",
          "2023-10-11",
          "2023-10-12",
          "2023-10-13",
          "2023-10-14",
          "2023-10-15",
          "2023-10-16",
          "2023-10-17",
          "2023-10-18",
          "2023-10-19",
          "2023-10-20",
          "2023-10-21",
          "2023-10-22",
          "2023-10-23",
          "2023-10-24",
          "2023-10-25",
          "2023-10-26",
          "2023-10-27",
          "2023-10-28",
          "2023-10-29",
          "2023-10-30",
          "2023-10-31",
          "2023-11-01",
          "2023-11-02",
          "2023-11-03",
          "2023-11-04",
          "2023-11-05",
          "2023-11-06",
          "2023-11-07",
          "2023-11-08",
          "2023-11-09",
          "2023-11-10",
          "2023-11-11",
          "2023-11-12",
          "2023-11-13",
          "2023-11-14",
          "2023-11-15",
          "2023-11-16",
          "2023-11-17",
          "2023-11-18",
          "2023-11-19",
          "2023-11-20",
          "2023-11-21",
          "2023-11-22",
          "2023-11-23",
          "2023-11-24",
          "2023-11-25",
          "2023-11-26",
          "2023-11-27",
          "2023-11-28",
          "2023-11-29",
          "2023-11-30",
          "2023-12-01",
          "2023-12-02",
          "2023-12-03",
          "2023-12-04",
          "2023-12-05",
          "2023-12-06",
          "2023-12-07",
          "2023-12-08",
          "2023-12-09",
          "2023-12-10",
          "2023-12-11",
          "2023-12-12",
          "2023-12-13",
          "2023-12-14",
          "2023-12-15",
          "2023-12-16",
          "2023-12-17",
          "2023-12-18",
          "2023-12-19",
          "2023-12-20",
          "2023-12-21",
          "2023-12-22",
          "2023-12-23",
          "2023-12-24",
          "2023-12-25",
          "2023-12-26",
          "2023-12-27",
          "2023-12-28",
          "2023-12-29",
          "2023-12-30",
          "2023-12-31",
          "2024-01-01",
          "2024-01-02",
          "2024-01-03",
          "2024-01-04",
          "2024-01-05",
          "2024-01-06",
          "2024-01-07",
          "2024-01-08",
          "2024-01-09",
          "2024-01-10",
          "2024-01-11",
          "2024-01-12",
          "2024-01-13",
          "2024-01-14",
          "2024-01-15",
          "2024-01-16",
          "2024-01-17",
          "2024-01-18",
          "2024-01-19",
          "2024-01-20",
          "2024-01-21",
          "2024-01-22",
          "2024-01-23",
          "2024-01-24",
          "2024-01-25",
          "2024-01-26",
          "2024-01-27",
          "2024-01-28",
          "2024-01-29",
          "2024-01-30",
          "2024-01-31",
          "2024-02-01",
          "2024-02-02",
          "2024-02-03",
          "2024-02-04",
          "2024-02-05",
          "2024-02-06",
          "2024-02-07",
          "2024-02-08",
          "2024-02-09",
          "2024-02-10",
          "2024-02-11",
          "2024-02-12",
          "2024-02-13",
          "2024-02-14",
          "2024-02-15",
          "2024-02-16",
          "2024-02-17",
          "2024-02-18",
          "2024-02-19",
          "2024-02-20",
          "2024-02-21",
          "2024-02-22",
          "2024-02-23",
          "2024-02-24",
          "2024-02-25",
          "2024-02-26",
          "2024-02-27",
          "2024-02-28",
          "2024-02-29",
          "2024-03-01",
          "2024-03-02",
          "2024-03-03",
          "2024-03-04",
          "2024-03-05",
          "2024-03-06",
          "2024-03-07",
          "2024-03-08",
          "2024-03-09",
          "2024-03-10",
          "2024-03-11",
          "2024-03-12",
          "2024-03-13",
          "2024-03-14",
          "2024-03-15",
          "2024-03-16",
          "2024-03-17",
          "2024-03-18",
          "2024-03-19",
          "2024-03-20",
          "2024-03-21",
          "2024-03-22",
          "2024-03-23",
          "2024-03-24",
          "2024-03-25",
          "2024-03-26",
          "2024-03-27",
          "2024-03-28",
          "2024-03-29",
          "2024-03-30",
          "2024-03-31",
          "2024-04-01",
          "2024-04-02",
          "2024-04-03",
          "2024-04-04",
          "2024-04-05",
          "2024-04-06",
          "2024-04-07",
          "2024-04-08",
          "2024-04-09",
          "2024-04-10",
          "2024-04-11",
          "2024-04-12",
          "2024-04-13",
          "2024-04-14",
          "2024-04-15",
          "2024-04-16",
          "2024-04-17",
          "2024-04-18",
          "2024-04-19",
          "2024-04-20",
          "2024-04-21",
          "2024-04-22",
          "2024-04-23",
          "2024-04-24",
          "2024-04-25",
          "2024-04-26",
          "2024-04-27",
          "2024-04-28",
          "2024-04-29",
          "2024-04-30",
          "2024-05-01",
          "2024-05-02",
          "2024-05-03",
          "2024-05-04",
          "2024-05-05",
          "2024-05-06",
          "2024-05-07",
          "2024-05-08",
          "2024-05-09",
          "2024-05-10",
          "2024-05-11",
          "2024-05-12",
          "2024-05-13",
          "2024-05-14",
          "2024-05-15",
          "2024-05-16",
          "2024-05-17",
          "2024-05-18",
          "2024-05-19",
          "2024-05-20",
          "2024-05-21",
          "2024-05-22",
          "2024-05-23",
          "2024-05-24",
          "2024-05-25",
          "2024-05-26",
          "2024-05-27",
          "2024-05-28",
          "2024-05-29",
          "2024-05-30",
          "2024-05-31",
          "2024-06-01",
          "2024-06-02",
          "2024-06-03",
          "2024-06-04",
          "2024-06-05",
          "2024-06-06",
          "2024-06-07",
          "2024-06-08",
          "2024-06-09",
          "2024-06-10",
          "2024-06-11",
          "2024-06-12",
          "2024-06-13",
          "2024-06-14",
          "2024-06-15",
          "2024-06-16",
          "2024-06-17",
          "2024-06-18",
          "2024-06-19",
          "2024-06-20",
          "2024-06-21",
          "2024-06-22",
          "2024-06-23",
          "2024-06-24",
          "2024-06-25",
          "2024-06-26",
          "2024-06-27",
          "2024-06-28",
          "2024-06-29",
          "2024-06-30",
          "2024-07-01",
          "2024-07-02",
          "2024-07-03",
          "2024-07-04",
          "2024-07-05",
          "2024-07-06",
          "2024-07-07",
          "2024-07-08",
          "2024-07-09",
          "2024-07-10",
          "2024-07-11",
          "2024-07-12",
          "2024-07-13",
          "2024-07-14",
          "2024-07-15",
          "2024-07-16",
          "2024-07-17",
          "2024-07-18",
          "2024-07-19",
          "2024-07-20",
          "2024-07-21",
          "2024-07-22",
          "2024-07-23",
          "2024-07-24",
          "2024-07-25",
          "2024-07-26",
          "2024-07-27",
          "2024-07-28",
          "2024-07-29",
          "2024-07-30",
          "2024-07-31",
          "2024-08-01",
          "2024-08-02",
          "2024-08-03",
          "2024-08-04",
          "2024-08-05",
          "2024-08-06",
          "2024-08-07",
          "2024-08-08",
          "2024-08-09",
          "2024-08-10",
          "2024-08-11",
          "2024-08-12",
          "2024-08-13",
          "2024-08-14",
          "2024-08-15",
          "2024-08-16",
          "2024-08-17",
          "2024-08-18",
          "2024-08-19",
          "2024-08-20",
          "2024-08-21",
          "2024-08-22",
          "2024-08-23",
          "2024-08-24",
          "2024-08-25",
          "2024-08-26",
          "2024-08-27",
          "2024-08-28",
          "2024-08-29",
          "2024-08-30",
          "2024-08-31",
          "2024-09-01",
          "2024-09-02",
          "2024-09-03",
          "2024-09-04",
          "2024-09-05",
          "2024-09-06",
          "2024-09-07",
          "2024-09-08",
          "2024-09-09",
          "2024-09-10",
          "2024-09-11",
          "2024-09-12",
          "2024-09-13",
          "2024-09-14",
          "2024-09-15",
          "2024-09-16",
          "2024-09-17",
          "2024-09-18",
          "2024-09-19",
          "2024-09-20",
          "2024-09-21",
          "2024-09-22",
          "2024-09-23",
          "2024-09-24",
          "2024-09-25",
          "2024-09-26",
          "2024-09-27",
          "2024-09-28",
          "2024-09-29",
          "2024-09-30",
          "2024-10-01",
          "2024-10-02",
          "2024-10-03",
          "2024-10-04",
          "2024-10-05",
          "2024-10-06",
          "2024-10-07",
          "2024-10-08",
          "2024-10-09",
          "2024-10-10",
          "2024-10-11",
          "2024-10-12",
          "2024-10-13",
          "2024-10-14",
          "2024-10-15",
          "2024-10-16",
          "2024-10-17",
          "2024-10-18",
          "2024-10-19",
          "2024-10-20",
          "2024-10-21",
          "2024-10-22",
          "2024-10-23",
          "2024-10-24",
          "2024-10-25",
          "2024-10-26",
          "2024-10-27",
          "2024-10-28",
          "2024-10-29",
          "2024-10-30",
          "2024-10-31",
          "2024-11-01",
          "2024-11-02",
          "2024-11-03",
          "2024-11-04",
          "2024-11-05",
          "2024-11-06",
          "2024-11-07",
          "2024-11-08",
          "2024-11-09",
          "2024-11-10",
          "2024-11-11",
          "2024-11-12",
          "2024-11-13",
          "2024-11-14",
          "2024-11-15",
          "2024-11-16",
          "2024-11-17",
          "2024-11-18",
          "2024-11-19",
          "2024-11-20",
          "2024-11-21",
          "2024-11-22",
          "2024-11-23",
          "2024-11-24",
          "2024-11-25",
          "2024-11-26",
          "2024-11-27",
          "2024-11-28",
          "2024-11-29",
          "2024-11-30",
          "2024-12-01",
          "2024-12-02",
          "2024-12-03",
          "2024-12-04",
          "2024-12-05",
          "2024-12-06",
          "2024-12-07",
          "2024-12-08",
          "2024-12-09",
          "2024-12-10",
          "2024-12-11",
          "2024-12-12",
          "2024-12-13",
          "2024-12-14",
          "2024-12-15",
          "2024-12-16",
          "2024-12-17",
          "2024-12-18",
          "2024-12-19",
          "2024-12-20",
          "2024-12-21",
          "2024-12-22",
          "2024-12-23",
          "2024-12-24",
          "2024-12-25",
          "2024-12-26",
          "2024-12-27",
          "2024-12-28",
          "2024-12-29",
          "2024-12-30",
          "2024-12-31",
          "2025-01-01",
          "2025-01-02",
          "2025-01-03",
          "2025-01-04",
          "2025-01-05",
          "2025-01-06",
          "2025-01-07",
          "2025-01-08",
          "2025-01-09",
          "2025-01-10",
          "2025-01-11",
          "2025-01-12",
          "2025-01-13",
          "2025-01-14",
          "2025-01-15",
          "2025-01-16",
          "2025-01-17",
          "2025-01-18",
          "2025-01-19",
          "2025-01-20",
          "2025-01-21",
          "2025-01-22",
          "2025-01-23",
          "2025-01-24",
          "2025-01-25",
          "2025-01-26",
          "2025-01-27",
          "2025-01-28",
          "2025-01-29",
          "2025-01-30",
          "2025-01-31",
          "2025-02-01",
          "2025-02-02",
          "2025-02-03",
          "2025-02-04",
          "2025-02-05",
          "2025-02-06",
          "2025-02-07",
          "2025-02-08",
          "2025-02-09",
          "2025-02-10",
          "2025-02-11",
          "2025-02-12",
          "2025-02-13",
          "2025-02-14",
          "2025-02-15",
          "2025-02-16",
          "2025-02-17",
          "2025-02-18",
          "2025-02-19",
          "2025-02-20",
          "2025-02-21",
          "2025-02-22",
          "2025-02-23",
          "2025-02-24",
          "2025-02-25",
          "2025-02-26",
          "2025-02-27",
          "2025-02-28",
          "2025-03-01",
          "2025-03-02",
          "2025-03-03",
          "2025-03-04",
          "2025-03-05",
          "2025-03-06",
          "2025-03-07",
          "2025-03-08",
          "2025-03-09",
          "2025-03-10",
          "2025-03-11",
          "2025-03-12",
          "2025-03-13",
          "2025-03-14",
          "2025-03-15",
          "2025-03-16",
          "2025-03-17",
          "2025-03-18",
          "2025-03-19",
          "2025-03-20",
          "2025-03-21",
          "2025-03-22",
          "2025-03-23",
          "2025-03-24",
          "2025-03-25",
          "2025-03-26",
          "2025-03-27",
          "2025-03-28",
          "2025-03-29",
          "2025-03-30",
          "2025-03-31",
          "2025-04-01",
          "2025-04-02",
          "2025-04-03",
          "2025-04-04",
          "2025-04-05",
          "2025-04-06",
          "2025-04-07",
          "2025-04-08",
          "2025-04-09",
          "2025-04-10",
          "2025-04-11",
          "2025-04-12",
          "2025-04-13",
          "2025-04-14",
          "2025-04-15",
          "2025-04-16",
          "2025-04-17",
          "2025-04-18",
          "2025-04-19",
          "2025-04-20",
          "2025-04-21",
          "2025-04-22",
          "2025-04-23",
          "2025-04-24",
          "2025-04-25",
          "2025-04-26",
          "2025-04-27",
          "2025-04-28",
          "2025-04-29",
          "2025-04-30",
          "2025-05-01",
          "2025-05-02",
          "2025-05-03",
          "2025-05-04",
          "2025-05-05",
          "2025-05-06",
          "2025-05-07",
          "2025-05-08",
          "2025-05-09",
          "2025-05-10",
          "2025-05-11",
          "2025-05-12",
          "2025-05-13",
          "2025-05-14",
          "2025-05-15",
          "2025-05-16",
          "2025-05-17",
          "2025-05-18",
          "2025-05-19",
          "2025-05-20",
          "2025-05-21",
          "2025-05-22",
          "2025-05-23",
          "2025-05-24",
          "2025-05-25",
          "2025-05-26",
          "2025-05-27",
          "2025-05-28",
          "2025-05-29",
          "2025-05-30",
          "2025-05-31",
          "2025-06-01",
          "2025-06-02",
          "2025-06-03",
          "2025-06-04",
          "2025-06-05",
          "2025-06-06",
          "2025-06-07",
          "2025-06-08",
          "2025-06-09",
          "2025-06-10",
          "2025-06-11",
          "2025-06-12",
          "2025-06-13",
          "2025-06-14",
          "2025-06-15",
          "2025-06-16",
          "2025-06-17",
          "2025-06-18",
          "2025-06-19",
          "2025-06-20",
          "2025-06-21",
          "2025-06-22",
          "2025-06-23",
          "2025-06-24",
          "2025-06-25",
          "2025-06-26",
          "2025-06-27",
          "2025-06-28",
          "2025-06-29",
          "2025-06-30",
          "2025-07-01",
          "2025-07-02",
          "2025-07-03",
          "2025-07-04",
          "2025-07-05",
          "2025-07-06",
          "2025-07-07",
          "2025-07-08",
          "2025-07-09",
          "2025-07-10",
          "2025-07-11",
          "2025-07-12",
          "2025-07-13",
          "2025-07-14",
          "2025-07-15",
          "2025-07-16",
          "2025-07-17",
          "2025-07-18",
          "2025-07-19",
          "2025-07-20",
          "2025-07-21",
          "2025-07-22",
          "2025-07-23",
          "2025-07-24",
          "2025-07-25",
          "2025-07-26",
          "2025-07-27",
          "2025-07-28",
          "2025-07-29",
          "2025-07-30",
          "2025-07-31",
          "2025-08-01",
          "2025-08-02",
          "2025-08-03",
          "2025-08-04",
          "2025-08-05",
          "2025-08-06",
          "2025-08-07",
          "2025-08-08",
          "2025-08-09",
          "2025-08-10",
          "2025-08-11",
          "2025-08-12",
          "2025-08-13",
          "2025-08-14",
          "2025-08-15",
          "2025-08-16",
          "2025-08-17",
          "2025-08-18",
          "2025-08-19",
          "2025-08-20",
          "2025-08-21",
          "2025-08-22",
          "2025-08-23",
          "2025-08-24",
          "2025-08-25",
          "2025-08-26",
          "2025-08-27",
          "2025-08-28",
          "2025-08-29",
          "2025-08-30",
          "2025-08-31",
          "2025-09-01",
          "2025-09-02",
          "2025-09-03",
          "2025-09-04",
          "2025-09-05",
          "2025-09-06",
          "2025-09-07",
          "2025-09-08",
          "2025-09-09",
          "2025-09-10",
          "2025-09-11",
          "2025-09-12",
          "2025-09-13",
          "2025-09-14",
          "2025-09-15",
          "2025-09-16",
          "2025-09-17",
          "2025-09-18",
          "2025-09-19",
          "2025-09-20",
          "2025-09-21",
          "2025-09-22",
          "2025-09-23",
          "2025-09-24",
          "2025-09-25",
          "2025-09-26"
         ],
         "y": [
          319.23,
          646.25,
          203.88,
          897.99,
          524.99,
          453.13,
          562.24,
          174.37,
          617.34,
          369.47,
          898.21,
          177.17,
          511.98,
          602.13,
          43.05,
          370.06,
          735.31,
          822.17,
          320.03,
          800.61,
          968.08,
          858.31,
          126.47,
          742.33,
          326.47,
          988.53,
          490.51,
          131.21,
          727.93,
          329.78,
          997.11,
          979.98,
          659.57,
          138.53,
          689.99,
          102.1,
          39.07,
          824.73,
          217.66,
          385.24,
          973.72,
          343.47,
          303.52,
          919.03,
          119.64,
          761.99,
          988.18,
          902.28,
          655.15,
          320.92,
          261.78,
          821.06,
          881.02,
          530.18,
          251.9,
          121.81,
          96.31,
          721.89,
          425.92,
          906.31,
          742.27,
          199.35,
          617.64,
          441.15,
          581.48,
          740.69,
          808.13,
          845.3,
          261.44,
          40.8,
          741.9,
          115.28,
          321.77,
          13.78,
          684.85,
          175.46,
          658.73,
          991.83,
          81.94,
          86.31,
          346.98,
          867.72,
          223.37,
          366.77,
          77.82,
          765.52,
          414.22,
          761.66,
          904.57,
          240.44,
          809.32,
          68.5,
          899.86,
          654.26,
          875.48,
          10.19,
          177.39,
          395.86,
          385.71,
          234.46,
          387.8,
          137.56,
          418.63,
          804.33,
          484.28,
          27.82,
          427.23,
          36.9,
          966.58,
          136.18,
          710.61,
          973.05,
          827.78,
          702.32,
          841.07,
          981.98,
          625.13,
          563.59,
          631.96,
          537.35,
          638.74,
          455.34,
          226.26,
          129.04,
          77.66,
          270.68,
          55.66,
          571.5,
          290.99,
          826.29,
          83.5,
          234.09,
          732.94,
          602.82,
          73.85,
          878.47,
          878.49,
          337.1,
          347,
          989.14,
          629.91,
          536,
          839.77,
          292.44,
          434.89,
          275.1,
          791.27,
          577.62,
          662.24,
          259.78,
          228.02,
          493.49,
          740.19,
          529.99,
          42.32,
          869.87,
          74.04,
          956.27,
          34.89,
          697.51,
          91.38,
          911.57,
          469.79,
          146.15,
          347.41,
          173.18,
          178.88,
          948.63,
          450.79,
          790.91,
          643.21,
          679.66,
          140.38,
          241.84,
          788.88,
          971.06,
          270.05,
          278.85,
          478.17,
          984,
          276.27,
          412.9,
          892.57,
          12.89,
          49.37,
          608.03,
          908.31,
          246.47,
          474.95,
          455.96,
          478.24,
          626.29,
          475.05,
          452.99,
          479.55,
          594.96,
          541.64,
          855.59,
          59,
          834.98,
          845.49,
          292.06,
          468.22,
          444.15,
          226.32,
          402.83,
          53.94,
          285.04,
          818.52,
          291.72,
          820.02,
          536.28,
          881.06,
          579.03,
          39.37,
          678.67,
          54.41,
          456.09,
          930.13,
          173.55,
          395.97,
          732.56,
          883.44,
          674.23,
          265.59,
          677.86,
          303.76,
          721.24,
          954.49,
          724.18,
          864.25,
          12.08,
          720.4,
          831.29,
          50.15,
          872.88,
          264.13,
          668.64,
          802.35,
          666.04,
          101.36,
          600.36,
          554.09,
          901.32,
          410.2,
          327.87,
          752.35,
          418.55,
          649.64,
          649.99,
          889.16,
          602.71,
          507.13,
          147.48,
          124.58,
          162.78,
          180.13,
          641.5,
          743.57,
          534.69,
          830.73,
          991.35,
          821.81,
          697.93,
          537.17,
          454.36,
          93.55,
          405.38,
          911.03,
          809.94,
          223.89,
          471.94,
          818.56,
          76.71,
          393.52,
          853.32,
          409.86,
          86.84,
          547.11,
          863.13,
          594.38,
          234.02,
          390.4,
          455.62,
          583.47,
          761.76,
          107.88,
          890.76,
          22.19,
          376.35,
          37.15,
          399.04,
          530.55,
          516.56,
          173.97,
          649.28,
          54.33,
          764.29,
          947.18,
          346.37,
          522.07,
          385.12,
          16.64,
          392.02,
          793.8,
          600.03,
          110.25,
          848.67,
          535.77,
          843.31,
          584.42,
          564.09,
          114.21,
          175.69,
          972.31,
          236.2,
          977.68,
          536.59,
          144.43,
          108.31,
          216.78,
          926.38,
          420.01,
          401.48,
          320.07,
          155.59,
          492.97,
          138.75,
          837.13,
          376.69,
          381.06,
          479.27,
          449.69,
          994.91,
          549.93,
          97.32,
          610.81,
          160.07,
          40.63,
          971.03,
          775.8,
          980.31,
          483.1,
          536.93,
          176.65,
          254.44,
          840.16,
          362.62,
          828.55,
          711.92,
          185.4,
          512.37,
          680.61,
          242.69,
          832.38,
          549.38,
          173.59,
          587.15,
          999.72,
          159.02,
          818.59,
          215.24,
          784.56,
          737.23,
          307.48,
          332.56,
          794.6,
          466.83,
          733.51,
          156.5,
          854.03,
          713.78,
          907.87,
          141.05,
          597.08,
          603.13,
          359.93,
          463.88,
          47.6,
          748.4,
          553.83,
          67.16,
          683.95,
          472.11,
          44.12,
          969.91,
          949.62,
          517.77,
          102.74,
          757.08,
          497.01,
          309.42,
          496.5,
          527.22,
          567.08,
          446.81,
          609.7,
          919.55,
          368.65,
          728.46,
          895.51,
          461.42,
          449.02,
          606.1,
          595.49,
          808.52,
          481.72,
          996.16,
          68.88,
          13.14,
          643.8,
          305.45,
          247.98,
          318.78,
          263.49,
          40.48,
          971.82,
          228.54,
          736.69,
          764.97,
          929.96,
          40.24,
          873.33,
          531.95,
          636.22,
          648.03,
          821.6,
          340.07,
          735.72,
          533.29,
          795.46,
          990.64,
          208.64,
          994.7,
          98.91,
          12.29,
          53.72,
          348.36,
          636.58,
          78.34,
          15.61,
          937.72,
          823.71,
          811.09,
          885.58,
          703.03,
          113.36,
          405.11,
          725.92,
          287.53,
          690.53,
          34.25,
          313.08,
          553.64,
          635.77,
          581.27,
          700.78,
          16.03,
          109.93,
          870.25,
          684.93,
          121.8,
          843.65,
          249.81,
          483.48,
          153.74,
          713.01,
          670.19,
          219,
          864.77,
          407.29,
          299.59,
          160.81,
          273.51,
          31.81,
          587.42,
          843.81,
          553.49,
          227.08,
          43.33,
          222.48,
          421.96,
          762.02,
          195.96,
          722.59,
          868.26,
          459.41,
          823.22,
          559.11,
          640.72,
          531.02,
          468.54,
          242.31,
          310.16,
          297.07,
          567.66,
          128.75,
          917.62,
          723.45,
          407.43,
          167.04,
          883.17,
          825.54,
          724.5,
          278.83,
          408.42,
          111.72,
          197.15,
          785.19,
          717.89,
          597.55,
          896.77,
          587.43,
          472.3,
          346.97,
          941.04,
          91.89,
          931.58,
          828.45,
          138.63,
          569.33,
          867.88,
          576.09,
          908.13,
          943.55,
          428.16,
          383.54,
          936.96,
          678.39,
          124.86,
          51.87,
          568.98,
          930.87,
          845.81,
          679.09,
          147.72,
          261.69,
          876.76,
          190.98,
          285.66,
          138.3,
          679.35,
          944.54,
          276.28,
          480.65,
          638,
          999.47,
          113.76,
          503.59,
          391.27,
          867.16,
          481.21,
          119.87,
          638.08,
          773.07,
          12.85,
          860.37,
          194.16,
          556.55,
          421.64,
          722.46,
          377.45,
          871.07,
          733.19,
          651.24,
          798.28,
          756.48,
          45.58,
          400.79,
          931.5,
          134.47,
          739.73,
          974.85,
          61.68,
          685.37,
          473.47,
          583.38,
          94.49,
          52.58,
          670.2,
          825.08,
          784.2,
          548.37,
          108.87,
          691.16,
          249.47,
          911.96,
          839.88,
          712.29,
          949.36,
          41.11,
          738.84,
          336.94,
          907.01,
          274.01,
          727.61,
          878.87,
          51.24,
          403.67,
          764.69,
          460.37,
          274.58,
          227.61,
          140.2,
          858.56,
          579.6,
          85.62,
          388.75,
          374.06,
          189.92,
          441.15,
          338.78,
          348.39,
          741.64,
          231.03,
          645.44,
          574.94,
          572.41,
          666.38,
          552.9,
          880.46,
          678.82,
          551.49,
          831.47,
          610.09,
          298.23,
          215.02,
          160.8,
          900.46,
          713.03,
          938,
          607.26,
          478.67,
          69.12,
          674.93,
          586.39,
          990.31,
          246.77,
          535.43,
          654.45,
          648.15,
          565.68,
          779.16,
          212.93,
          728.37,
          623.54,
          897.11,
          848.72,
          322,
          283.47,
          981.84,
          531.99,
          907.36,
          172.24,
          646.39,
          811.76,
          947.92,
          343.97,
          727.73,
          543.42,
          70.02,
          693.1,
          693.2,
          931.3,
          502.34,
          237.95,
          54.12,
          421.49,
          308.9,
          763.48,
          360.73,
          949.58,
          962.69,
          624.7,
          929.37,
          763.25,
          551.39,
          188.5,
          464.01,
          565.27,
          865.32,
          486.52,
          898.7,
          677.61,
          145.63,
          995.03,
          531.96,
          397.94,
          662.52,
          117.8,
          640.17,
          503.25,
          412.61,
          953.49,
          527.31,
          226.93,
          464.37,
          920.19,
          184.33,
          221.82,
          22.9,
          24.05,
          831.1,
          734.8,
          361.49,
          701.33,
          401.25,
          953.37,
          967.38,
          398.87,
          855.68,
          775.36,
          316.9,
          239.72,
          463.65,
          783.54,
          960.57,
          765.94,
          856.65,
          607.03,
          837.05,
          786.58,
          383.22,
          556.47,
          806.71,
          55.6,
          810,
          186.11,
          519.54,
          810.19,
          261.28,
          253.35,
          408.74,
          895.7,
          10.44,
          902.37,
          162.27,
          990.19,
          955.3,
          499.73,
          517.59,
          486.73,
          639.09,
          99.81,
          42.29,
          67.13,
          449.92,
          282.79,
          625.82,
          992.52,
          392.46,
          578.1,
          421.45,
          848.8,
          903.21,
          878.58,
          974.63,
          37.24,
          841.42,
          754.25,
          236.41,
          956.76,
          156.7,
          682.75,
          232.64,
          437.07,
          721.97,
          567.69,
          433.23,
          333.08,
          841.26,
          152.38,
          435.8,
          904.72,
          847.39,
          406.93,
          765.48,
          824.93,
          890,
          549.06,
          212.42,
          262.76,
          302.74,
          597.86,
          42.48,
          639.68,
          370.71,
          302.29,
          880.7,
          465.4,
          104.1,
          828.48,
          57.16,
          729.48,
          776.17,
          359.08,
          826.54,
          520.5,
          468.66,
          54.95,
          297.13,
          931.7,
          397.91,
          551.23,
          536.7,
          594.53,
          70.72,
          368.55,
          725.9,
          208.55,
          211.54,
          19.99,
          443.11,
          883.91,
          61.38,
          199.21,
          316.98,
          734.41,
          644.23,
          421.78,
          761.48,
          613.53,
          897.08,
          819.85,
          260.29,
          278.72,
          134.1,
          343.6,
          999.55,
          411.69,
          228.28,
          764.86,
          547.05,
          158.11,
          386.88,
          420.33,
          756.29,
          30.46,
          276.33,
          522.42,
          276.16,
          632.15,
          487.05,
          368.09,
          949.72,
          635.84,
          138.64,
          564.49,
          782.92,
          711.4,
          180.37,
          972.7,
          454.33,
          167.43,
          188.39,
          107.25,
          805.48,
          130.81,
          133.87,
          851.97,
          351.16,
          40.55,
          61.38,
          150.75,
          221.26,
          668.49,
          165.75,
          127.69,
          767.07,
          674.34,
          440.97,
          553.82,
          318.86,
          487.68,
          511.61,
          393.36,
          907.51,
          25.9,
          784.35,
          133.14,
          799.57,
          619.75,
          844.85,
          106.54,
          563.39,
          506.08,
          709.13,
          538.95,
          545.33,
          435.3,
          315.75,
          487.44,
          127.31,
          961.9,
          717.27,
          952.94,
          234.46,
          880.55,
          810.7,
          680.38,
          628.78,
          323.38,
          818.25,
          506.5,
          80.18,
          319.73,
          935.94,
          852.17,
          982.09,
          631.71,
          255.03,
          171.19,
          195.05,
          29.6,
          396.78,
          199.51,
          417.54,
          935.64,
          436.23,
          879.2,
          609.45,
          254.66,
          362.3,
          93.08,
          340.13,
          680.77,
          81.39,
          213.35,
          387.63,
          982.23,
          787.01,
          736.15,
          125.03,
          783.19,
          787.42,
          605.09,
          990.46,
          332,
          941.86,
          915.58,
          21.37,
          455.62,
          977.33,
          112.09,
          552.31,
          979.17,
          559.94,
          197.92,
          586.36,
          212.4,
          524.51,
          83.3,
          609.43,
          521.62,
          742.76,
          634.39,
          554.11,
          692.88,
          152.5,
          599.41,
          180.39,
          926.27,
          77.65,
          436.07,
          698.84,
          463.44,
          101.17,
          557.85,
          645.22,
          706.75,
          379.53,
          568.02,
          456.18,
          675.34,
          587.72,
          530.5,
          257.03,
          12,
          182.34,
          125.9,
          454.59,
          616.14,
          220.95,
          939.67,
          16.62,
          774.58,
          628.95,
          379.82,
          59.98,
          631.21,
          391.76,
          936.9,
          546.57,
          940.25,
          228.28,
          728.47,
          621.08,
          742.01,
          222.52,
          668.34
         ]
        },
        {
         "line": {
          "width": 3
         },
         "mode": "lines",
         "name": "7-Day Moving Average",
         "type": "scatter",
         "x": [
          "2023-01-01",
          "2023-01-02",
          "2023-01-03",
          "2023-01-04",
          "2023-01-05",
          "2023-01-06",
          "2023-01-07",
          "2023-01-08",
          "2023-01-09",
          "2023-01-10",
          "2023-01-11",
          "2023-01-12",
          "2023-01-13",
          "2023-01-14",
          "2023-01-15",
          "2023-01-16",
          "2023-01-17",
          "2023-01-18",
          "2023-01-19",
          "2023-01-20",
          "2023-01-21",
          "2023-01-22",
          "2023-01-23",
          "2023-01-24",
          "2023-01-25",
          "2023-01-26",
          "2023-01-27",
          "2023-01-28",
          "2023-01-29",
          "2023-01-30",
          "2023-01-31",
          "2023-02-01",
          "2023-02-02",
          "2023-02-03",
          "2023-02-04",
          "2023-02-05",
          "2023-02-06",
          "2023-02-07",
          "2023-02-08",
          "2023-02-09",
          "2023-02-10",
          "2023-02-11",
          "2023-02-12",
          "2023-02-13",
          "2023-02-14",
          "2023-02-15",
          "2023-02-16",
          "2023-02-17",
          "2023-02-18",
          "2023-02-19",
          "2023-02-20",
          "2023-02-21",
          "2023-02-22",
          "2023-02-23",
          "2023-02-24",
          "2023-02-25",
          "2023-02-26",
          "2023-02-27",
          "2023-02-28",
          "2023-03-01",
          "2023-03-02",
          "2023-03-03",
          "2023-03-04",
          "2023-03-05",
          "2023-03-06",
          "2023-03-07",
          "2023-03-08",
          "2023-03-09",
          "2023-03-10",
          "2023-03-11",
          "2023-03-12",
          "2023-03-13",
          "2023-03-14",
          "2023-03-15",
          "2023-03-16",
          "2023-03-17",
          "2023-03-18",
          "2023-03-19",
          "2023-03-20",
          "2023-03-21",
          "2023-03-22",
          "2023-03-23",
          "2023-03-24",
          "2023-03-25",
          "2023-03-26",
          "2023-03-27",
          "2023-03-28",
          "2023-03-29",
          "2023-03-30",
          "2023-03-31",
          "2023-04-01",
          "2023-04-02",
          "2023-04-03",
          "2023-04-04",
          "2023-04-05",
          "2023-04-06",
          "2023-04-07",
          "2023-04-08",
          "2023-04-09",
          "2023-04-10",
          "2023-04-11",
          "2023-04-12",
          "2023-04-13",
          "2023-04-14",
          "2023-04-15",
          "2023-04-16",
          "2023-04-17",
          "2023-04-18",
          "2023-04-19",
          "2023-04-20",
          "2023-04-21",
          "2023-04-22",
          "2023-04-23",
          "2023-04-24",
          "2023-04-25",
          "2023-04-26",
          "2023-04-27",
          "2023-04-28",
          "2023-04-29",
          "2023-04-30",
          "2023-05-01",
          "2023-05-02",
          "2023-05-03",
          "2023-05-04",
          "2023-05-05",
          "2023-05-06",
          "2023-05-07",
          "2023-05-08",
          "2023-05-09",
          "2023-05-10",
          "2023-05-11",
          "2023-05-12",
          "2023-05-13",
          "2023-05-14",
          "2023-05-15",
          "2023-05-16",
          "2023-05-17",
          "2023-05-18",
          "2023-05-19",
          "2023-05-20",
          "2023-05-21",
          "2023-05-22",
          "2023-05-23",
          "2023-05-24",
          "2023-05-25",
          "2023-05-26",
          "2023-05-27",
          "2023-05-28",
          "2023-05-29",
          "2023-05-30",
          "2023-05-31",
          "2023-06-01",
          "2023-06-02",
          "2023-06-03",
          "2023-06-04",
          "2023-06-05",
          "2023-06-06",
          "2023-06-07",
          "2023-06-08",
          "2023-06-09",
          "2023-06-10",
          "2023-06-11",
          "2023-06-12",
          "2023-06-13",
          "2023-06-14",
          "2023-06-15",
          "2023-06-16",
          "2023-06-17",
          "2023-06-18",
          "2023-06-19",
          "2023-06-20",
          "2023-06-21",
          "2023-06-22",
          "2023-06-23",
          "2023-06-24",
          "2023-06-25",
          "2023-06-26",
          "2023-06-27",
          "2023-06-28",
          "2023-06-29",
          "2023-06-30",
          "2023-07-01",
          "2023-07-02",
          "2023-07-03",
          "2023-07-04",
          "2023-07-05",
          "2023-07-06",
          "2023-07-07",
          "2023-07-08",
          "2023-07-09",
          "2023-07-10",
          "2023-07-11",
          "2023-07-12",
          "2023-07-13",
          "2023-07-14",
          "2023-07-15",
          "2023-07-16",
          "2023-07-17",
          "2023-07-18",
          "2023-07-19",
          "2023-07-20",
          "2023-07-21",
          "2023-07-22",
          "2023-07-23",
          "2023-07-24",
          "2023-07-25",
          "2023-07-26",
          "2023-07-27",
          "2023-07-28",
          "2023-07-29",
          "2023-07-30",
          "2023-07-31",
          "2023-08-01",
          "2023-08-02",
          "2023-08-03",
          "2023-08-04",
          "2023-08-05",
          "2023-08-06",
          "2023-08-07",
          "2023-08-08",
          "2023-08-09",
          "2023-08-10",
          "2023-08-11",
          "2023-08-12",
          "2023-08-13",
          "2023-08-14",
          "2023-08-15",
          "2023-08-16",
          "2023-08-17",
          "2023-08-18",
          "2023-08-19",
          "2023-08-20",
          "2023-08-21",
          "2023-08-22",
          "2023-08-23",
          "2023-08-24",
          "2023-08-25",
          "2023-08-26",
          "2023-08-27",
          "2023-08-28",
          "2023-08-29",
          "2023-08-30",
          "2023-08-31",
          "2023-09-01",
          "2023-09-02",
          "2023-09-03",
          "2023-09-04",
          "2023-09-05",
          "2023-09-06",
          "2023-09-07",
          "2023-09-08",
          "2023-09-09",
          "2023-09-10",
          "2023-09-11",
          "2023-09-12",
          "2023-09-13",
          "2023-09-14",
          "2023-09-15",
          "2023-09-16",
          "2023-09-17",
          "2023-09-18",
          "2023-09-19",
          "2023-09-20",
          "2023-09-21",
          "2023-09-22",
          "2023-09-23",
          "2023-09-24",
          "2023-09-25",
          "2023-09-26",
          "2023-09-27",
          "2023-09-28",
          "2023-09-29",
          "2023-09-30",
          "2023-10-01",
          "2023-10-02",
          "2023-10-03",
          "2023-10-04",
          "2023-10-05",
          "2023-10-06",
          "2023-10-07",
          "2023-10-08",
          "2023-10-09",
          "2023-10-10",
          "2023-10-11",
          "2023-10-12",
          "2023-10-13",
          "2023-10-14",
          "2023-10-15",
          "2023-10-16",
          "2023-10-17",
          "2023-10-18",
          "2023-10-19",
          "2023-10-20",
          "2023-10-21",
          "2023-10-22",
          "2023-10-23",
          "2023-10-24",
          "2023-10-25",
          "2023-10-26",
          "2023-10-27",
          "2023-10-28",
          "2023-10-29",
          "2023-10-30",
          "2023-10-31",
          "2023-11-01",
          "2023-11-02",
          "2023-11-03",
          "2023-11-04",
          "2023-11-05",
          "2023-11-06",
          "2023-11-07",
          "2023-11-08",
          "2023-11-09",
          "2023-11-10",
          "2023-11-11",
          "2023-11-12",
          "2023-11-13",
          "2023-11-14",
          "2023-11-15",
          "2023-11-16",
          "2023-11-17",
          "2023-11-18",
          "2023-11-19",
          "2023-11-20",
          "2023-11-21",
          "2023-11-22",
          "2023-11-23",
          "2023-11-24",
          "2023-11-25",
          "2023-11-26",
          "2023-11-27",
          "2023-11-28",
          "2023-11-29",
          "2023-11-30",
          "2023-12-01",
          "2023-12-02",
          "2023-12-03",
          "2023-12-04",
          "2023-12-05",
          "2023-12-06",
          "2023-12-07",
          "2023-12-08",
          "2023-12-09",
          "2023-12-10",
          "2023-12-11",
          "2023-12-12",
          "2023-12-13",
          "2023-12-14",
          "2023-12-15",
          "2023-12-16",
          "2023-12-17",
          "2023-12-18",
          "2023-12-19",
          "2023-12-20",
          "2023-12-21",
          "2023-12-22",
          "2023-12-23",
          "2023-12-24",
          "2023-12-25",
          "2023-12-26",
          "2023-12-27",
          "2023-12-28",
          "2023-12-29",
          "2023-12-30",
          "2023-12-31",
          "2024-01-01",
          "2024-01-02",
          "2024-01-03",
          "2024-01-04",
          "2024-01-05",
          "2024-01-06",
          "2024-01-07",
          "2024-01-08",
          "2024-01-09",
          "2024-01-10",
          "2024-01-11",
          "2024-01-12",
          "2024-01-13",
          "2024-01-14",
          "2024-01-15",
          "2024-01-16",
          "2024-01-17",
          "2024-01-18",
          "2024-01-19",
          "2024-01-20",
          "2024-01-21",
          "2024-01-22",
          "2024-01-23",
          "2024-01-24",
          "2024-01-25",
          "2024-01-26",
          "2024-01-27",
          "2024-01-28",
          "2024-01-29",
          "2024-01-30",
          "2024-01-31",
          "2024-02-01",
          "2024-02-02",
          "2024-02-03",
          "2024-02-04",
          "2024-02-05",
          "2024-02-06",
          "2024-02-07",
          "2024-02-08",
          "2024-02-09",
          "2024-02-10",
          "2024-02-11",
          "2024-02-12",
          "2024-02-13",
          "2024-02-14",
          "2024-02-15",
          "2024-02-16",
          "2024-02-17",
          "2024-02-18",
          "2024-02-19",
          "2024-02-20",
          "2024-02-21",
          "2024-02-22",
          "2024-02-23",
          "2024-02-24",
          "2024-02-25",
          "2024-02-26",
          "2024-02-27",
          "2024-02-28",
          "2024-02-29",
          "2024-03-01",
          "2024-03-02",
          "2024-03-03",
          "2024-03-04",
          "2024-03-05",
          "2024-03-06",
          "2024-03-07",
          "2024-03-08",
          "2024-03-09",
          "2024-03-10",
          "2024-03-11",
          "2024-03-12",
          "2024-03-13",
          "2024-03-14",
          "2024-03-15",
          "2024-03-16",
          "2024-03-17",
          "2024-03-18",
          "2024-03-19",
          "2024-03-20",
          "2024-03-21",
          "2024-03-22",
          "2024-03-23",
          "2024-03-24",
          "2024-03-25",
          "2024-03-26",
          "2024-03-27",
          "2024-03-28",
          "2024-03-29",
          "2024-03-30",
          "2024-03-31",
          "2024-04-01",
          "2024-04-02",
          "2024-04-03",
          "2024-04-04",
          "2024-04-05",
          "2024-04-06",
          "2024-04-07",
          "2024-04-08",
          "2024-04-09",
          "2024-04-10",
          "2024-04-11",
          "2024-04-12",
          "2024-04-13",
          "2024-04-14",
          "2024-04-15",
          "2024-04-16",
          "2024-04-17",
          "2024-04-18",
          "2024-04-19",
          "2024-04-20",
          "2024-04-21",
          "2024-04-22",
          "2024-04-23",
          "2024-04-24",
          "2024-04-25",
          "2024-04-26",
          "2024-04-27",
          "2024-04-28",
          "2024-04-29",
          "2024-04-30",
          "2024-05-01",
          "2024-05-02",
          "2024-05-03",
          "2024-05-04",
          "2024-05-05",
          "2024-05-06",
          "2024-05-07",
          "2024-05-08",
          "2024-05-09",
          "2024-05-10",
          "2024-05-11",
          "2024-05-12",
          "2024-05-13",
          "2024-05-14",
          "2024-05-15",
          "2024-05-16",
          "2024-05-17",
          "2024-05-18",
          "2024-05-19",
          "2024-05-20",
          "2024-05-21",
          "2024-05-22",
          "2024-05-23",
          "2024-05-24",
          "2024-05-25",
          "2024-05-26",
          "2024-05-27",
          "2024-05-28",
          "2024-05-29",
          "2024-05-30",
          "2024-05-31",
          "2024-06-01",
          "2024-06-02",
          "2024-06-03",
          "2024-06-04",
          "2024-06-05",
          "2024-06-06",
          "2024-06-07",
          "2024-06-08",
          "2024-06-09",
          "2024-06-10",
          "2024-06-11",
          "2024-06-12",
          "2024-06-13",
          "2024-06-14",
          "2024-06-15",
          "2024-06-16",
          "2024-06-17",
          "2024-06-18",
          "2024-06-19",
          "2024-06-20",
          "2024-06-21",
          "2024-06-22",
          "2024-06-23",
          "2024-06-24",
          "2024-06-25",
          "2024-06-26",
          "2024-06-27",
          "2024-06-28",
          "2024-06-29",
          "2024-06-30",
          "2024-07-01",
          "2024-07-02",
          "2024-07-03",
          "2024-07-04",
          "2024-07-05",
          "2024-07-06",
          "2024-07-07",
          "2024-07-08",
          "2024-07-09",
          "2024-07-10",
          "2024-07-11",
          "2024-07-12",
          "2024-07-13",
          "2024-07-14",
          "2024-07-15",
          "2024-07-16",
          "2024-07-17",
          "2024-07-18",
          "2024-07-19",
          "2024-07-20",
          "2024-07-21",
          "2024-07-22",
          "2024-07-23",
          "2024-07-24",
          "2024-07-25",
          "2024-07-26",
          "2024-07-27",
          "2024-07-28",
          "2024-07-29",
          "2024-07-30",
          "2024-07-31",
          "2024-08-01",
          "2024-08-02",
          "2024-08-03",
          "2024-08-04",
          "2024-08-05",
          "2024-08-06",
          "2024-08-07",
          "2024-08-08",
          "2024-08-09",
          "2024-08-10",
          "2024-08-11",
          "2024-08-12",
          "2024-08-13",
          "2024-08-14",
          "2024-08-15",
          "2024-08-16",
          "2024-08-17",
          "2024-08-18",
          "2024-08-19",
          "2024-08-20",
          "2024-08-21",
          "2024-08-22",
          "2024-08-23",
          "2024-08-24",
          "2024-08-25",
          "2024-08-26",
          "2024-08-27",
          "2024-08-28",
          "2024-08-29",
          "2024-08-30",
          "2024-08-31",
          "2024-09-01",
          "2024-09-02",
          "2024-09-03",
          "2024-09-04",
          "2024-09-05",
          "2024-09-06",
          "2024-09-07",
          "2024-09-08",
          "2024-09-09",
          "2024-09-10",
          "2024-09-11",
          "2024-09-12",
          "2024-09-13",
          "2024-09-14",
          "2024-09-15",
          "2024-09-16",
          "2024-09-17",
          "2024-09-18",
          "2024-09-19",
          "2024-09-20",
          "2024-09-21",
          "2024-09-22",
          "2024-09-23",
          "2024-09-24",
          "2024-09-25",
          "2024-09-26",
          "2024-09-27",
          "2024-09-28",
          "2024-09-29",
          "2024-09-30",
          "2024-10-01",
          "2024-10-02",
          "2024-10-03",
          "2024-10-04",
          "2024-10-05",
          "2024-10-06",
          "2024-10-07",
          "2024-10-08",
          "2024-10-09",
          "2024-10-10",
          "2024-10-11",
          "2024-10-12",
          "2024-10-13",
          "2024-10-14",
          "2024-10-15",
          "2024-10-16",
          "2024-10-17",
          "2024-10-18",
          "2024-10-19",
          "2024-10-20",
          "2024-10-21",
          "2024-10-22",
          "2024-10-23",
          "2024-10-24",
          "2024-10-25",
          "2024-10-26",
          "2024-10-27",
          "2024-10-28",
          "2024-10-29",
          "2024-10-30",
          "2024-10-31",
          "2024-11-01",
          "2024-11-02",
          "2024-11-03",
          "2024-11-04",
          "2024-11-05",
          "2024-11-06",
          "2024-11-07",
          "2024-11-08",
          "2024-11-09",
          "2024-11-10",
          "2024-11-11",
          "2024-11-12",
          "2024-11-13",
          "2024-11-14",
          "2024-11-15",
          "2024-11-16",
          "2024-11-17",
          "2024-11-18",
          "2024-11-19",
          "2024-11-20",
          "2024-11-21",
          "2024-11-22",
          "2024-11-23",
          "2024-11-24",
          "2024-11-25",
          "2024-11-26",
          "2024-11-27",
          "2024-11-28",
          "2024-11-29",
          "2024-11-30",
          "2024-12-01",
          "2024-12-02",
          "2024-12-03",
          "2024-12-04",
          "2024-12-05",
          "2024-12-06",
          "2024-12-07",
          "2024-12-08",
          "2024-12-09",
          "2024-12-10",
          "2024-12-11",
          "2024-12-12",
          "2024-12-13",
          "2024-12-14",
          "2024-12-15",
          "2024-12-16",
          "2024-12-17",
          "2024-12-18",
          "2024-12-19",
          "2024-12-20",
          "2024-12-21",
          "2024-12-22",
          "2024-12-23",
          "2024-12-24",
          "2024-12-25",
          "2024-12-26",
          "2024-12-27",
          "2024-12-28",
          "2024-12-29",
          "2024-12-30",
          "2024-12-31",
          "2025-01-01",
          "2025-01-02",
          "2025-01-03",
          "2025-01-04",
          "2025-01-05",
          "2025-01-06",
          "2025-01-07",
          "2025-01-08",
          "2025-01-09",
          "2025-01-10",
          "2025-01-11",
          "2025-01-12",
          "2025-01-13",
          "2025-01-14",
          "2025-01-15",
          "2025-01-16",
          "2025-01-17",
          "2025-01-18",
          "2025-01-19",
          "2025-01-20",
          "2025-01-21",
          "2025-01-22",
          "2025-01-23",
          "2025-01-24",
          "2025-01-25",
          "2025-01-26",
          "2025-01-27",
          "2025-01-28",
          "2025-01-29",
          "2025-01-30",
          "2025-01-31",
          "2025-02-01",
          "2025-02-02",
          "2025-02-03",
          "2025-02-04",
          "2025-02-05",
          "2025-02-06",
          "2025-02-07",
          "2025-02-08",
          "2025-02-09",
          "2025-02-10",
          "2025-02-11",
          "2025-02-12",
          "2025-02-13",
          "2025-02-14",
          "2025-02-15",
          "2025-02-16",
          "2025-02-17",
          "2025-02-18",
          "2025-02-19",
          "2025-02-20",
          "2025-02-21",
          "2025-02-22",
          "2025-02-23",
          "2025-02-24",
          "2025-02-25",
          "2025-02-26",
          "2025-02-27",
          "2025-02-28",
          "2025-03-01",
          "2025-03-02",
          "2025-03-03",
          "2025-03-04",
          "2025-03-05",
          "2025-03-06",
          "2025-03-07",
          "2025-03-08",
          "2025-03-09",
          "2025-03-10",
          "2025-03-11",
          "2025-03-12",
          "2025-03-13",
          "2025-03-14",
          "2025-03-15",
          "2025-03-16",
          "2025-03-17",
          "2025-03-18",
          "2025-03-19",
          "2025-03-20",
          "2025-03-21",
          "2025-03-22",
          "2025-03-23",
          "2025-03-24",
          "2025-03-25",
          "2025-03-26",
          "2025-03-27",
          "2025-03-28",
          "2025-03-29",
          "2025-03-30",
          "2025-03-31",
          "2025-04-01",
          "2025-04-02",
          "2025-04-03",
          "2025-04-04",
          "2025-04-05",
          "2025-04-06",
          "2025-04-07",
          "2025-04-08",
          "2025-04-09",
          "2025-04-10",
          "2025-04-11",
          "2025-04-12",
          "2025-04-13",
          "2025-04-14",
          "2025-04-15",
          "2025-04-16",
          "2025-04-17",
          "2025-04-18",
          "2025-04-19",
          "2025-04-20",
          "2025-04-21",
          "2025-04-22",
          "2025-04-23",
          "2025-04-24",
          "2025-04-25",
          "2025-04-26",
          "2025-04-27",
          "2025-04-28",
          "2025-04-29",
          "2025-04-30",
          "2025-05-01",
          "2025-05-02",
          "2025-05-03",
          "2025-05-04",
          "2025-05-05",
          "2025-05-06",
          "2025-05-07",
          "2025-05-08",
          "2025-05-09",
          "2025-05-10",
          "2025-05-11",
          "2025-05-12",
          "2025-05-13",
          "2025-05-14",
          "2025-05-15",
          "2025-05-16",
          "2025-05-17",
          "2025-05-18",
          "2025-05-19",
          "2025-05-20",
          "2025-05-21",
          "2025-05-22",
          "2025-05-23",
          "2025-05-24",
          "2025-05-25",
          "2025-05-26",
          "2025-05-27",
          "2025-05-28",
          "2025-05-29",
          "2025-05-30",
          "2025-05-31",
          "2025-06-01",
          "2025-06-02",
          "2025-06-03",
          "2025-06-04",
          "2025-06-05",
          "2025-06-06",
          "2025-06-07",
          "2025-06-08",
          "2025-06-09",
          "2025-06-10",
          "2025-06-11",
          "2025-06-12",
          "2025-06-13",
          "2025-06-14",
          "2025-06-15",
          "2025-06-16",
          "2025-06-17",
          "2025-06-18",
          "2025-06-19",
          "2025-06-20",
          "2025-06-21",
          "2025-06-22",
          "2025-06-23",
          "2025-06-24",
          "2025-06-25",
          "2025-06-26",
          "2025-06-27",
          "2025-06-28",
          "2025-06-29",
          "2025-06-30",
          "2025-07-01",
          "2025-07-02",
          "2025-07-03",
          "2025-07-04",
          "2025-07-05",
          "2025-07-06",
          "2025-07-07",
          "2025-07-08",
          "2025-07-09",
          "2025-07-10",
          "2025-07-11",
          "2025-07-12",
          "2025-07-13",
          "2025-07-14",
          "2025-07-15",
          "2025-07-16",
          "2025-07-17",
          "2025-07-18",
          "2025-07-19",
          "2025-07-20",
          "2025-07-21",
          "2025-07-22",
          "2025-07-23",
          "2025-07-24",
          "2025-07-25",
          "2025-07-26",
          "2025-07-27",
          "2025-07-28",
          "2025-07-29",
          "2025-07-30",
          "2025-07-31",
          "2025-08-01",
          "2025-08-02",
          "2025-08-03",
          "2025-08-04",
          "2025-08-05",
          "2025-08-06",
          "2025-08-07",
          "2025-08-08",
          "2025-08-09",
          "2025-08-10",
          "2025-08-11",
          "2025-08-12",
          "2025-08-13",
          "2025-08-14",
          "2025-08-15",
          "2025-08-16",
          "2025-08-17",
          "2025-08-18",
          "2025-08-19",
          "2025-08-20",
          "2025-08-21",
          "2025-08-22",
          "2025-08-23",
          "2025-08-24",
          "2025-08-25",
          "2025-08-26",
          "2025-08-27",
          "2025-08-28",
          "2025-08-29",
          "2025-08-30",
          "2025-08-31",
          "2025-09-01",
          "2025-09-02",
          "2025-09-03",
          "2025-09-04",
          "2025-09-05",
          "2025-09-06",
          "2025-09-07",
          "2025-09-08",
          "2025-09-09",
          "2025-09-10",
          "2025-09-11",
          "2025-09-12",
          "2025-09-13",
          "2025-09-14",
          "2025-09-15",
          "2025-09-16",
          "2025-09-17",
          "2025-09-18",
          "2025-09-19",
          "2025-09-20",
          "2025-09-21",
          "2025-09-22",
          "2025-09-23",
          "2025-09-24",
          "2025-09-25",
          "2025-09-26"
         ],
         "y": [
          319.23,
          482.74,
          389.7866666666667,
          516.8375,
          518.4680000000001,
          507.5783333333334,
          515.3871428571429,
          494.6928571428571,
          490.5628571428571,
          514.2185714285714,
          514.25,
          464.5614285714286,
          472.96857142857147,
          478.6671428571429,
          459.90714285714284,
          424.5814285714286,
          476.8442857142857,
          465.9814285714286,
          486.38999999999993,
          527.6228571428571,
          579.9014285714286,
          696.3671428571428,
          661.5685714285713,
          662.5714285714286,
          591.7571428571429,
          687.2571428571429,
          642.9571428571428,
          523.4042857142857,
          504.7785714285714,
          533.8228571428571,
          570.22,
          663.5785714285714,
          616.5842857142858,
          566.3014285714286,
          646.1271428571428,
          556.7228571428572,
          515.1928571428572,
          490.56714285714287,
          381.6642857142857,
          342.47428571428566,
          461.7871428571429,
          412.28428571428566,
          441.0585714285714,
          566.7671428571429,
          466.03999999999996,
          543.8014285714286,
          629.9357142857143,
          619.7299999999999,
          664.2557142857142,
          666.7414285714285,
          572.8485714285714,
          673.0514285714286,
          690.0557142857142,
          624.6271428571428,
          531.7157142857143,
          455.52428571428567,
          423.4371428571429,
          489.1671428571429,
          432.7185714285714,
          436.33142857142855,
          466.63,
          459.1228571428572,
          529.9557142857143,
          579.2185714285714,
          559.16,
          604.1271428571428,
          590.1014285714285,
          604.8199999999999,
          613.6899999999999,
          531.2842857142857,
          574.2485714285714,
          507.6485714285714,
          447.80285714285714,
          334.32428571428574,
          311.4028571428571,
          299.12,
          387.3957142857143,
          423.09999999999997,
          418.33714285714285,
          384.7,
          432.3,
          458.42428571428576,
          465.2685714285714,
          423.56,
          292.9871428571428,
          390.64142857142855,
          437.4857142857143,
          496.7257142857143,
          501.98999999999995,
          504.42857142857144,
          567.65,
          566.3185714285714,
          585.51,
          619.8014285714286,
          636.0614285714286,
          508.29285714285714,
          499.2857142857143,
          440.21999999999997,
          485.5357142857143,
          390.4785714285714,
          352.41285714285715,
          246.99571428571426,
          305.3442857142857,
          394.90714285714284,
          407.5385714285714,
          356.4114285714286,
          383.94999999999993,
          333.82142857142856,
          452.2528571428571,
          411.9028571428571,
          398.5142857142857,
          468.3385714285714,
          582.6185714285714,
          621.9171428571428,
          736.7985714285714,
          738.9985714285714,
          808.8485714285714,
          787.8457142857143,
          739.1185714285714,
          697.6285714285714,
          688.5457142857142,
          633.4414285714286,
          525.4814285714285,
          454.6114285714285,
          385.1928571428571,
          333.58142857142855,
          264.7685714285714,
          255.16285714285712,
          231.68428571428566,
          317.4028571428571,
          310.8971428571428,
          333.24428571428564,
          399.28142857142853,
          477.44714285714286,
          406.3542857142857,
          490.28000000000003,
          497.7371428571428,
          533.9657142857143,
          550.0957142857143,
          586.6957142857143,
          590.5657142857143,
          656.5871428571428,
          651.0585714285714,
          567.3371428571428,
          581.3071428571428,
          571.0357142857142,
          542.7685714285714,
          535.2985714285713,
          553.3328571428572,
          470.47714285714284,
          461.27428571428567,
          469.64571428571423,
          536.0871428571428,
          498.76142857142855,
          422.28999999999996,
          451.95142857142855,
          425.4171428571429,
          529.4528571428572,
          463.9385714285714,
          457.84142857142854,
          395.18285714285713,
          519.3614285714285,
          462.20714285714286,
          472.50857142857143,
          385.5285714285714,
          405.28428571428566,
          331.1942857142857,
          453.6585714285714,
          387.8328571428571,
          433.70714285714286,
          504.7157142857142,
          552.18,
          547.4942857142856,
          556.4885714285714,
          533.6671428571428,
          607.9914285714285,
          533.582857142857,
          481.53142857142853,
          452.7471428571428,
          573.2642857142856,
          578.1828571428571,
          524.4714285714285,
          513.2585714285714,
          476.52142857142854,
          443.7385714285714,
          462.28999999999996,
          451.47714285714284,
          447.2199999999999,
          456.08428571428567,
          393.7114285714285,
          460.18999999999994,
          542.6071428571428,
          523.6099999999999,
          458.5642857142857,
          491.8614285714285,
          509.0057142857143,
          521.2457142857143,
          575.1528571428571,
          494.1114285714285,
          545.53,
          601.6014285714285,
          574.8171428571428,
          556.7114285714285,
          542.7842857142857,
          452.8885714285714,
          502.0071428571428,
          390.42999999999995,
          310.36571428571426,
          385.5742857142856,
          360.35999999999996,
          414.05571428571426,
          458.33571428571423,
          526.6542857142857,
          601.6671428571428,
          566.5714285714286,
          546.592857142857,
          512.6914285714286,
          460.7014285714285,
          516.9657142857142,
          415.89285714285705,
          389.7414285714285,
          488.76857142857136,
          518.0214285714285,
          606.5671428571428,
          579.3528571428571,
          543.3142857142857,
          561.9157142857142,
          608.382857142857,
          640.0871428571428,
          617.3357142857142,
          644.4814285714285,
          608.2657142857142,
          614.342857142857,
          689.7042857142857,
          593.8342857142856,
          582.1757142857142,
          516.4542857142857,
          488.50999999999993,
          601.4057142857142,
          593.64,
          489.3642857142856,
          567.9657142857142,
          522.4242857142856,
          613.4514285714286,
          576.5314285714286,
          508.7485714285714,
          521.0785714285714,
          566.3914285714285,
          573.4314285714285,
          587.1314285714286,
          585.3942857142856,
          612.8957142857142,
          638.5042857142856,
          552.0942857142857,
          510.09857142857135,
          440.5471428571428,
          373.42428571428565,
          338.04428571428565,
          358.1671428571428,
          362.10428571428565,
          459.7114285714285,
          583.5357142857142,
          677.6828571428571,
          751.6542857142857,
          736.7499999999999,
          695.4342857142856,
          632.4142857142857,
          571.6499999999999,
          560.1757142857142,
          558.4799999999999,
          490.7599999999999,
          481.44142857142845,
          533.4699999999999,
          531.0642857142856,
          529.3699999999999,
          521.1257142857141,
          463.9714285714285,
          444.392857142857,
          455.13142857142844,
          461.4985714285713,
          535.4514285714284,
          512.6657142857142,
          446.5342857142856,
          453.07142857142844,
          524.0185714285714,
          554.6828571428571,
          446.7899999999999,
          489.1299999999998,
          458.8685714285713,
          456.86142857142846,
          397.07999999999987,
          370.73285714285703,
          337.702857142857,
          396.0857142857141,
          293.6871428571427,
          383.27142857142843,
          337.2685714285713,
          441.1457142857142,
          519.4514285714284,
          493.1399999999999,
          493.9271428571427,
          524.0914285714284,
          433.7142857142856,
          481.9557142857142,
          486.1714285714284,
          436.5785714285713,
          402.8471428571428,
          449.5042857142856,
          471.0257142857141,
          589.1214285714284,
          616.6071428571428,
          583.7914285714285,
          514.3885714285713,
          523.7371428571427,
          541.3999999999999,
          498.6042857142856,
          517.7999999999998,
          510.96714285714273,
          451.0157142857142,
          450.172857142857,
          456.04285714285703,
          449.4814285714284,
          475.7399999999999,
          393.4257142857142,
          362.4942857142856,
          364.08857142857136,
          419.0399999999999,
          407.892857142857,
          395.142857142857,
          388.9542857142856,
          386.0371428571428,
          408.77999999999986,
          450.79428571428565,
          522.4999999999999,
          581.2399999999999,
          475.552857142857,
          508.99857142857127,
          477.4285714285713,
          414.7657142857142,
          489.24285714285696,
          457.94142857142845,
          519.4242857142856,
          574.5357142857141,
          563.9814285714284,
          566.3499999999998,
          596.8942857142856,
          578.1985714285713,
          519.172857142857,
          497.49285714285696,
          530.1814285714285,
          479.96285714285705,
          527.922857142857,
          588.8042857142856,
          503.4514285714285,
          570.5599999999998,
          530.6785714285713,
          453.7742857142856,
          511.1671428571427,
          580.7885714285713,
          506.2757142857142,
          588.5471428571427,
          500.38428571428557,
          533.9814285714284,
          614.5014285714285,
          574.5485714285713,
          479.2399999999999,
          570.0371428571427,
          519.7857142857141,
          593.8242857142856,
          504.10142857142847,
          520.7871428571427,
          578.8299999999998,
          661.0171428571427,
          567.652857142857,
          586.2599999999999,
          567.6342857142856,
          596.6957142857142,
          540.9599999999998,
          445.7914285714284,
          423.0099999999998,
          481.9785714285713,
          406.2757142857141,
          417.82142857142844,
          433.8471428571427,
          373.88142857142844,
          505.6399999999999,
          534.3857142857141,
          529.2342857142855,
          534.3171428571427,
          544.7642857142856,
          548.3214285714284,
          586.2214285714284,
          518.5914285714284,
          458.24857142857127,
          465.29285714285703,
          514.4457142857142,
          493.39142857142843,
          553.7542857142855,
          562.2157142857142,
          595.352857142857,
          647.9657142857142,
          632.8714285714285,
          633.1871428571428,
          632.672857142857,
          586.3785714285713,
          649.2171428571427,
          613.9685714285713,
          628.3471428571428,
          572.2699999999999,
          510.0014285714284,
          515.3871428571427,
          473.952857142857,
          393.8757142857141,
          370.59857142857123,
          265.93142857142846,
          261.8742857142856,
          398.8285714285713,
          339.50571428571413,
          401.11142857142846,
          474.96714285714273,
          562.2785714285714,
          530.3857142857142,
          649.3642857142856,
          586.5257142857142,
          644.7657142857142,
          632.0999999999998,
          640.1899999999998,
          555.9199999999998,
          655.2742857142856,
          606.6971428571427,
          644.3414285714285,
          694.972857142857,
          632.202857142857,
          656.9314285714285,
          622.4799999999998,
          519.132857142857,
          450.622857142857,
          386.75142857142845,
          336.17142857142846,
          317.55714285714276,
          177.68714285714276,
          297.5171428571428,
          413.43428571428564,
          521.6299999999999,
          598.3757142857141,
          607.8685714285713,
          612.8714285714285,
          668.5142857142856,
          638.2571428571428,
          561.6599999999999,
          544.4371428571427,
          422.8185714285713,
          367.11142857142846,
          430.0085714285713,
          462.9599999999999,
          442.29571428571415,
          501.3314285714285,
          404.9742857142856,
          415.78571428571416,
          495.38142857142844,
          514.1371428571427,
          440.71285714285705,
          478.19571428571413,
          413.77142857142843,
          480.54999999999984,
          486.80857142857127,
          464.34571428571417,
          462.2399999999999,
          476.1257142857142,
          479.142857142857,
          501.63999999999993,
          475.3699999999999,
          476.37999999999994,
          413.5942857142856,
          322.39714285714274,
          375.0285714285713,
          372.03428571428555,
          392.9199999999999,
          382.5614285714285,
          365.77857142857135,
          358.48857142857133,
          414.2242857142856,
          439.1671428571427,
          346.61714285714277,
          370.7742857142856,
          462.3714285714285,
          521.8114285714285,
          607.6314285714285,
          627.2242857142857,
          609.8957142857142,
          657.7614285714284,
          621.4685714285713,
          532.0471428571428,
          510.7257142857142,
          435.5614285714285,
          436.78285714285704,
          363.6442857142856,
          418.872857142857,
          455.28857142857134,
          478.87714285714276,
          458.43142857142846,
          542.1599999999999,
          578.9999999999999,
          664.1071428571428,
          572.8514285714284,
          527.8471428571427,
          485.602857142857,
          489.90428571428555,
          475.9071428571428,
          460.52857142857135,
          442.392857142857,
          530.6699999999998,
          556.242857142857,
          607.7542857142855,
          629.1571428571427,
          651.4214285714285,
          561.992857142857,
          609.7114285714285,
          599.9514285714284,
          535.8371428571428,
          549.6985714285713,
          624.1142857142856,
          571.9785714285714,
          688.5842857142856,
          690.2942857142856,
          633.1099999999999,
          668.0971428571428,
          720.6157142857143,
          693.5457142857142,
          629.0842857142856,
          506.7614285714285,
          453.25142857142845,
          525.0671428571428,
          591.1057142857143,
          554.2671428571427,
          478.45714285714274,
          498.00428571428563,
          615.8457142857142,
          561.8457142857142,
          469.6728571428571,
          368.5999999999999,
          368.6371428571428,
          482.46857142857135,
          484.5528571428571,
          427.96571428571417,
          491.8257142857142,
          593.7985714285713,
          590.2928571428571,
          565.1842857142857,
          486.14571428571423,
          570.5571428571428,
          570.6371428571427,
          496.61857142857133,
          444.9914285714285,
          539.1785714285713,
          469.0728571428571,
          536.0871428571428,
          439.9442857142857,
          450.70714285714286,
          493.8171428571428,
          505.8714285714285,
          449.35428571428565,
          571.9571428571428,
          553.7885714285713,
          619.0857142857142,
          653.6185714285714,
          701.4528571428572,
          604.7557142857142,
          608.09,
          616.722857142857,
          531.1914285714286,
          543.8328571428572,
          569.0571428571428,
          469.8,
          561.1985714285714,
          571.5814285714285,
          521.85,
          516.1385714285714,
          417.97428571428566,
          374.4528571428571,
          483.50999999999993,
          497.6285714285714,
          508.32857142857137,
          440.5414285714286,
          525.78,
          553.9071428571428,
          588.4442857142857,
          590.5585714285714,
          580.2857142857142,
          637.5699999999999,
          627.89,
          634.7014285714286,
          647.1971428571429,
          646.4899999999999,
          565.6514285714285,
          567.8399999999999,
          557.77,
          559.2171428571429,
          511.3357142857143,
          572.4428571428572,
          508.63714285714286,
          508.7185714285714,
          437.28999999999996,
          331.76571428571424,
          447.09714285714284,
          472.22999999999996,
          375.21999999999997,
          364.98857142857145,
          379.19999999999993,
          373.8157142857143,
          416.8085714285714,
          342.55428571428575,
          309.5242857142857,
          403.2414285714285,
          380.71,
          419.4785714285714,
          474.4814285714286,
          493.23285714285714,
          540.0328571428571,
          569.2485714285714,
          589.08,
          653.0500000000001,
          639.6285714285714,
          676.2757142857143,
          681.6585714285715,
          629.0657142857143,
          580.797142857143,
          477.98857142857145,
          509.65142857142865,
          532.7285714285715,
          547.9471428571429,
          547.5428571428572,
          573.32,
          552.4771428571429,
          625.9242857142857,
          581.0571428571428,
          620.6685714285715,
          521.9214285714286,
          511.65999999999997,
          536.7714285714285,
          619.49,
          603.8828571428572,
          631.4214285714286,
          520.3671428571428,
          589.1671428571428,
          601.7542857142856,
          636.42,
          665.0728571428572,
          630.2614285714286,
          559.4485714285714,
          669.2928571428572,
          641.2385714285714,
          681.7842857142857,
          578.2314285714285,
          549.3271428571428,
          619.2928571428572,
          714.2142857142857,
          623.09,
          651.0528571428571,
          599.0614285714286,
          584.4585714285714,
          591.1314285714286,
          574.1942857142857,
          571.8199999999999,
          594.4442857142857,
          524.4757142857143,
          454.57571428571424,
          504.7857142857143,
          449.9,
          459.94,
          378.42999999999995,
          442.32142857142856,
          545.8557142857143,
          627.3671428571428,
          699.9214285714286,
          764.8285714285714,
          734.53,
          709.9257142857142,
          640.5585714285714,
          583.7842857142857,
          618.1585714285713,
          554.8942857142857,
          574.2442857142858,
          592.2757142857143,
          586.1514285714285,
          662.0114285714286,
          657.2528571428572,
          590.4842857142858,
          615.6271428571428,
          504.07,
          498.72142857142853,
          549.81,
          466.60714285714283,
          526.8257142857143,
          545.3071428571428,
          483.0799999999999,
          532.5899999999999,
          572.592857142857,
          527.0328571428571,
          499.7771428571428,
          366.8357142857143,
          294.9414285714285,
          381.25142857142856,
          419.8842857142857,
          340.07,
          413.9271428571428,
          439.55999999999995,
          572.4842857142856,
          707.2457142857141,
          645.4985714285714,
          662.7671428571429,
          721.8914285714285,
          666.972857142857,
          643.8971428571429,
          573.9371428571428,
          547.6742857142857,
          627.9171428571428,
          615.0971428571429,
          626.7099999999999,
          668.1571428571427,
          753.4899999999999,
          799.6228571428571,
          742.4342857142857,
          684.7057142857142,
          690.53,
          576.0942857142857,
          605.09,
          512.0985714285714,
          473.94999999999993,
          534.9457142857143,
          492.7757142857143,
          413.72428571428566,
          464.17285714285714,
          476.4157142857143,
          451.32,
          506.00999999999993,
          413.45,
          517.58,
          617.8585714285715,
          630.8571428571429,
          576.8414285714285,
          644.8828571428572,
          607.2714285714285,
          598.3485714285714,
          462.9342857142857,
          336.05285714285714,
          328.9371428571429,
          295.3942857142857,
          315.2642857142857,
          365.7542857142857,
          407.56142857142856,
          484.10571428571427,
          534.7228571428572,
          591.7057142857142,
          680.3371428571428,
          716.4457142857143,
          713.89,
          663.1442857142857,
          700.7614285714286,
          748.3042857142857,
          660.8199999999999,
          668.47,
          565.3442857142857,
          523.6471428571429,
          551.5614285714286,
          493.79714285714283,
          489.18571428571425,
          536.5114285714286,
          461.72142857142853,
          486.9185714285714,
          509.56285714285707,
          498.09714285714284,
          497.9157142857143,
          524.0228571428571,
          563.9799999999999,
          560.2228571428572,
          621.9942857142858,
          619.6614285714286,
          725.0357142857143,
          741.2157142857143,
          642.3157142857143,
          558.7971428571428,
          543.9128571428571,
          519.9671428571428,
          408.1885714285714,
          372.4285714285714,
          346.94999999999993,
          359.78857142857134,
          448.0657142857143,
          471.30285714285714,
          400.76571428571424,
          513.0514285714286,
          429.83428571428567,
          481.0871428571428,
          548.7842857142857,
          474.26714285714286,
          525.8585714285714,
          585.3442857142857,
          533.9414285714286,
          533.6257142857143,
          471.8614285714285,
          494.08,
          499.6271428571428,
          460.29714285714283,
          462.6114285714285,
          480.5928571428571,
          482.8457142857143,
          493.0485714285714,
          463.6485714285714,
          436.59714285714284,
          388.07,
          314.2542857142857,
          292.6228571428571,
          408.7928571428571,
          364.91142857142853,
          289.66999999999996,
          305.15999999999997,
          379.85571428571427,
          469.0328571428571,
          465.9857142857142,
          448.49571428571426,
          527.3742857142857,
          627.0699999999999,
          698.9085714285713,
          631.1771428571428,
          578.9614285714285,
          537.8642857142856,
          478.1671428571429,
          533.3128571428571,
          463.97142857142853,
          379.4614285714286,
          451.5428571428571,
          489.87571428571425,
          493.30571428571426,
          499.4885714285714,
          416.74285714285713,
          465.97142857142853,
          437.7114285714285,
          367.9214285714285,
          364.4028571428571,
          381.2671428571428,
          416.3057142857142,
          425.8371428571428,
          370.38,
          501.7028571428571,
          553.0614285714286,
          498.2357142857142,
          539.4257142857142,
          560.9642857142857,
          593.0142857142856,
          566.1971428571428,
          569.4799999999999,
          543.55,
          547.6628571428571,
          493.93428571428564,
          397.40999999999997,
          410.84999999999997,
          403.77,
          283.93714285714276,
          340.74285714285713,
          366.9899999999999,
          345.86999999999995,
          339.3171428571428,
          245.78428571428566,
          258.70571428571424,
          335.0799999999999,
          237.04857142857136,
          205.12428571428563,
          308.91285714285704,
          396.47857142857134,
          437.9385714285714,
          485.4471428571428,
          435.49999999999994,
          481.48999999999995,
          536.3357142857142,
          482.94857142857137,
          516.2585714285714,
          456.9628571428571,
          489.89571428571423,
          463.3642857142856,
          507.91999999999996,
          523.3685714285714,
          587.8671428571428,
          473.44285714285706,
          550.2271428571428,
          510.47428571428566,
          592.7585714285714,
          555.5271428571428,
          544.8957142857142,
          486.3885714285713,
          516.2757142857142,
          505.4257142857142,
          451.31571428571425,
          487.4257142857142,
          512.8999999999999,
          571.1299999999999,
          542.4385714285713,
          623.1242857142855,
          669.3042857142856,
          748.3142857142856,
          700.7257142857142,
          644.4557142857142,
          625.2142857142856,
          664.0771428571427,
          549.7385714285713,
          479.5999999999999,
          516.1085714285713,
          548.0214285714285,
          642.1228571428571,
          615.4742857142857,
          579.55,
          592.5514285714286,
          574.7399999999999,
          445.26285714285706,
          380.20714285714274,
          268.4099999999999,
          237.81428571428563,
          335.04428571428565,
          372.9071428571428,
          470.642857142857,
          553.4785714285714,
          533.1757142857142,
          556.4314285714285,
          510.0799999999999,
          425.00714285714275,
          459.94142857142845,
          345.96857142857135,
          289.382857142857,
          308.3785714285713,
          396.9399999999999,
          496.07285714285706,
          552.6471428571427,
          473.25571428571413,
          573.512857142857,
          655.522857142857,
          686.5885714285713,
          687.7642857142856,
          622.762857142857,
          652.1499999999999,
          765.0857142857142,
          656.2542857142855,
          608.8542857142857,
          662.0314285714285,
          536.55,
          568.0228571428571,
          573.352857142857,
          522.5471428571427,
          547.7685714285714,
          566.4457142857142,
          457.1699999999999,
          516.0871428571428,
          449.08571428571423,
          396.2657142857142,
          390.7914285714284,
          468.6257142857142,
          475.4871428571427,
          524.302857142857,
          548.3557142857142,
          558.2414285714284,
          556.8099999999998,
          508.062857142857,
          534.2785714285714,
          454.7442857142856,
          437.88142857142844,
          438.73285714285703,
          483.15285714285704,
          411.9757142857142,
          465.89857142857136,
          425.7485714285714,
          515.62,
          507.5428571428571,
          488.85428571428565,
          487.81714285714276,
          569.8414285714285,
          574.1085714285714,
          557.7199999999999,
          493.47428571428566,
          440.9699999999999,
          385.8728571428571,
          338.68999999999994,
          307.15428571428566,
          311.21428571428567,
          266.9928571428571,
          364.51285714285706,
          365.1728571428571,
          449.77857142857135,
          521.6428571428571,
          510.9614285714285,
          431.50999999999993,
          490.11857142857133,
          411.8457142857142,
          543.3142857142857,
          510.7414285714285,
          555.2128571428572,
          533.5642857142856,
          629.0628571428571,
          627.6157142857143,
          677.6514285714285,
          575.5971428571428,
          592.9928571428571
         ]
        }
       ],
       "layout": {
        "template": {
         "data": {
          "bar": [
           {
            "error_x": {
             "color": "#2a3f5f"
            },
            "error_y": {
             "color": "#2a3f5f"
            },
            "marker": {
             "line": {
              "color": "#E5ECF6",
              "width": 0.5
             },
             "pattern": {
              "fillmode": "overlay",
              "size": 10,
              "solidity": 0.2
             }
            },
            "type": "bar"
           }
          ],
          "barpolar": [
           {
            "marker": {
             "line": {
              "color": "#E5ECF6",
              "width": 0.5
             },
             "pattern": {
              "fillmode": "overlay",
              "size": 10,
              "solidity": 0.2
             }
            },
            "type": "barpolar"
           }
          ],
          "carpet": [
           {
            "aaxis": {
             "endlinecolor": "#2a3f5f",
             "gridcolor": "white",
             "linecolor": "white",
             "minorgridcolor": "white",
             "startlinecolor": "#2a3f5f"
            },
            "baxis": {
             "endlinecolor": "#2a3f5f",
             "gridcolor": "white",
             "linecolor": "white",
             "minorgridcolor": "white",
             "startlinecolor": "#2a3f5f"
            },
            "type": "carpet"
           }
          ],
          "choropleth": [
           {
            "colorbar": {
             "outlinewidth": 0,
             "ticks": ""
            },
            "type": "choropleth"
           }
          ],
          "contour": [
           {
            "colorbar": {
             "outlinewidth": 0,
             "ticks": ""
            },
            "colorscale": [
             [
              0,
              "#0d0887"
             ],
             [
              0.1111111111111111,
              "#46039f"
             ],
             [
              0.2222222222222222,
              "#7201a8"
             ],
             [
              0.3333333333333333,
              "#9c179e"
             ],
             [
              0.4444444444444444,
              "#bd3786"
             ],
             [
              0.5555555555555556,
              "#d8576b"
             ],
             [
              0.6666666666666666,
              "#ed7953"
             ],
             [
              0.7777777777777778,
              "#fb9f3a"
             ],
             [
              0.8888888888888888,
              "#fdca26"
             ],
             [
              1,
              "#f0f921"
             ]
            ],
            "type": "contour"
           }
          ],
          "contourcarpet": [
           {
            "colorbar": {
             "outlinewidth": 0,
             "ticks": ""
            },
            "type": "contourcarpet"
           }
          ],
          "heatmap": [
           {
            "colorbar": {
             "outlinewidth": 0,
             "ticks": ""
            },
            "colorscale": [
             [
              0,
              "#0d0887"
             ],
             [
              0.1111111111111111,
              "#46039f"
             ],
             [
              0.2222222222222222,
              "#7201a8"
             ],
             [
              0.3333333333333333,
              "#9c179e"
             ],
             [
              0.4444444444444444,
              "#bd3786"
             ],
             [
              0.5555555555555556,
              "#d8576b"
             ],
             [
              0.6666666666666666,
              "#ed7953"
             ],
             [
              0.7777777777777778,
              "#fb9f3a"
             ],
             [
              0.8888888888888888,
              "#fdca26"
             ],
             [
              1,
              "#f0f921"
             ]
            ],
            "type": "heatmap"
           }
          ],
          "histogram": [
           {
            "marker": {
             "pattern": {
              "fillmode": "overlay",
              "size": 10,
              "solidity": 0.2
             }
            },
            "type": "histogram"
           }
          ],
          "histogram2d": [
           {
            "colorbar": {
             "outlinewidth": 0,
             "ticks": ""
            },
            "colorscale": [
             [
              0,
              "#0d0887"
             ],
             [
              0.1111111111111111,
              "#46039f"
             ],
             [
              0.2222222222222222,
              "#7201a8"
             ],
             [
              0.3333333333333333,
              "#9c179e"
             ],
             [
              0.4444444444444444,
              "#bd3786"
             ],
             [
              0.5555555555555556,
              "#d8576b"
             ],
             [
              0.6666666666666666,
              "#ed7953"
             ],
             [
              0.7777777777777778,
              "#fb9f3a"
             ],
             [
              0.8888888888888888,
              "#fdca26"
             ],
             [
              1,
              "#f0f921"
             ]
            ],
            "type": "histogram2d"
           }
          ],
          "histogram2dcontour": [
           {
            "colorbar": {
             "outlinewidth": 0,
             "ticks": ""
            },
            "colorscale": [
             [
              0,
              "#0d0887"
             ],
             [
              0.1111111111111111,
              "#46039f"
             ],
             [
              0.2222222222222222,
              "#7201a8"
             ],
             [
              0.3333333333333333,
              "#9c179e"
             ],
             [
              0.4444444444444444,
              "#bd3786"
             ],
             [
              0.5555555555555556,
              "#d8576b"
             ],
             [
              0.6666666666666666,
              "#ed7953"
             ],
             [
              0.7777777777777778,
              "#fb9f3a"
             ],
             [
              0.8888888888888888,
              "#fdca26"
             ],
             [
              1,
              "#f0f921"
             ]
            ],
            "type": "histogram2dcontour"
           }
          ],
          "mesh3d": [
           {
            "colorbar": {
             "outlinewidth": 0,
             "ticks": ""
            },
            "type": "mesh3d"
           }
          ],
          "parcoords": [
           {
            "line": {
             "colorbar": {
              "outlinewidth": 0,
              "ticks": ""
             }
            },
            "type": "parcoords"
           }
          ],
          "pie": [
           {
            "automargin": true,
            "type": "pie"
           }
          ],
          "scatter": [
           {
            "fillpattern": {
             "fillmode": "overlay",
             "size": 10,
             "solidity": 0.2
            },
            "type": "scatter"
           }
          ],
          "scatter3d": [
           {
            "line": {
             "colorbar": {
              "outlinewidth": 0,
              "ticks": ""
             }
            },
            "marker": {
             "colorbar": {
              "outlinewidth": 0,
              "ticks": ""
             }
            },
            "type": "scatter3d"
           }
          ],
          "scattercarpet": [
           {
            "marker": {
             "colorbar": {
              "outlinewidth": 0,
              "ticks": ""
             }
            },
            "type": "scattercarpet"
           }
          ],
          "scattergeo": [
           {
            "marker": {
             "colorbar": {
              "outlinewidth": 0,
              "ticks": ""
             }
            },
            "type": "scattergeo"
           }
          ],
          "scattergl": [
           {
            "marker": {
             "colorbar": {
              "outlinewidth": 0,
              "ticks": ""
             }
            },
            "type": "scattergl"
           }
          ],
          "scattermap": [
           {
            "marker": {
             "colorbar": {
              "outlinewidth": 0,
              "ticks": ""
             }
            },
            "type": "scattermap"
           }
          ],
          "scattermapbox": [
           {
            "marker": {
             "colorbar": {
              "outlinewidth": 0,
              "ticks": ""
             }
            },
            "type": "scattermapbox"
           }
          ],
          "scatterpolar": [
           {
            "marker": {
             "colorbar": {
              "outlinewidth": 0,
              "ticks": ""
             }
            },
            "type": "scatterpolar"
           }
          ],
          "scatterpolargl": [
           {
            "marker": {
             "colorbar": {
              "outlinewidth": 0,
              "ticks": ""
             }
            },
            "type": "scatterpolargl"
           }
          ],
          "scatterternary": [
           {
            "marker": {
             "colorbar": {
              "outlinewidth": 0,
              "ticks": ""
             }
            },
            "type": "scatterternary"
           }
          ],
          "surface": [
           {
            "colorbar": {
             "outlinewidth": 0,
             "ticks": ""
            },
            "colorscale": [
             [
              0,
              "#0d0887"
             ],
             [
              0.1111111111111111,
              "#46039f"
             ],
             [
              0.2222222222222222,
              "#7201a8"
             ],
             [
              0.3333333333333333,
              "#9c179e"
             ],
             [
              0.4444444444444444,
              "#bd3786"
             ],
             [
              0.5555555555555556,
              "#d8576b"
             ],
             [
              0.6666666666666666,
              "#ed7953"
             ],
             [
              0.7777777777777778,
              "#fb9f3a"
             ],
             [
              0.8888888888888888,
              "#fdca26"
             ],
             [
              1,
              "#f0f921"
             ]
            ],
            "type": "surface"
           }
          ],
          "table": [
           {
            "cells": {
             "fill": {
              "color": "#EBF0F8"
             },
             "line": {
              "color": "white"
             }
            },
            "header": {
             "fill": {
              "color": "#C8D4E3"
             },
             "line": {
              "color": "white"
             }
            },
            "type": "table"
           }
          ]
         },
         "layout": {
          "annotationdefaults": {
           "arrowcolor": "#2a3f5f",
           "arrowhead": 0,
           "arrowwidth": 1
          },
          "autotypenumbers": "strict",
          "coloraxis": {
           "colorbar": {
            "outlinewidth": 0,
            "ticks": ""
           }
          },
          "colorscale": {
           "diverging": [
            [
             0,
             "#8e0152"
            ],
            [
             0.1,
             "#c51b7d"
            ],
            [
             0.2,
             "#de77ae"
            ],
            [
             0.3,
             "#f1b6da"
            ],
            [
             0.4,
             "#fde0ef"
            ],
            [
             0.5,
             "#f7f7f7"
            ],
            [
             0.6,
             "#e6f5d0"
            ],
            [
             0.7,
             "#b8e186"
            ],
            [
             0.8,
             "#7fbc41"
            ],
            [
             0.9,
             "#4d9221"
            ],
            [
             1,
             "#276419"
            ]
           ],
           "sequential": [
            [
             0,
             "#0d0887"
            ],
            [
             0.1111111111111111,
             "#46039f"
            ],
            [
             0.2222222222222222,
             "#7201a8"
            ],
            [
             0.3333333333333333,
             "#9c179e"
            ],
            [
             0.4444444444444444,
             "#bd3786"
            ],
            [
             0.5555555555555556,
             "#d8576b"
            ],
            [
             0.6666666666666666,
             "#ed7953"
            ],
            [
             0.7777777777777778,
             "#fb9f3a"
            ],
            [
             0.8888888888888888,
             "#fdca26"
            ],
            [
             1,
             "#f0f921"
            ]
           ],
           "sequentialminus": [
            [
             0,
             "#0d0887"
            ],
            [
             0.1111111111111111,
             "#46039f"
            ],
            [
             0.2222222222222222,
             "#7201a8"
            ],
            [
             0.3333333333333333,
             "#9c179e"
            ],
            [
             0.4444444444444444,
             "#bd3786"
            ],
            [
             0.5555555555555556,
             "#d8576b"
            ],
            [
             0.6666666666666666,
             "#ed7953"
            ],
            [
             0.7777777777777778,
             "#fb9f3a"
            ],
            [
             0.8888888888888888,
             "#fdca26"
            ],
            [
             1,
             "#f0f921"
            ]
           ]
          },
          "colorway": [
           "#636efa",
           "#EF553B",
           "#00cc96",
           "#ab63fa",
           "#FFA15A",
           "#19d3f3",
           "#FF6692",
           "#B6E880",
           "#FF97FF",
           "#FECB52"
          ],
          "font": {
           "color": "#2a3f5f"
          },
          "geo": {
           "bgcolor": "white",
           "lakecolor": "white",
           "landcolor": "#E5ECF6",
           "showlakes": true,
           "showland": true,
           "subunitcolor": "white"
          },
          "hoverlabel": {
           "align": "left"
          },
          "hovermode": "closest",
          "mapbox": {
           "style": "light"
          },
          "paper_bgcolor": "white",
          "plot_bgcolor": "#E5ECF6",
          "polar": {
           "angularaxis": {
            "gridcolor": "white",
            "linecolor": "white",
            "ticks": ""
           },
           "bgcolor": "#E5ECF6",
           "radialaxis": {
            "gridcolor": "white",
            "linecolor": "white",
            "ticks": ""
           }
          },
          "scene": {
           "xaxis": {
            "backgroundcolor": "#E5ECF6",
            "gridcolor": "white",
            "gridwidth": 2,
            "linecolor": "white",
            "showbackground": true,
            "ticks": "",
            "zerolinecolor": "white"
           },
           "yaxis": {
            "backgroundcolor": "#E5ECF6",
            "gridcolor": "white",
            "gridwidth": 2,
            "linecolor": "white",
            "showbackground": true,
            "ticks": "",
            "zerolinecolor": "white"
           },
           "zaxis": {
            "backgroundcolor": "#E5ECF6",
            "gridcolor": "white",
            "gridwidth": 2,
            "linecolor": "white",
            "showbackground": true,
            "ticks": "",
            "zerolinecolor": "white"
           }
          },
          "shapedefaults": {
           "line": {
            "color": "#2a3f5f"
           }
          },
          "ternary": {
           "aaxis": {
            "gridcolor": "white",
            "linecolor": "white",
            "ticks": ""
           },
           "baxis": {
            "gridcolor": "white",
            "linecolor": "white",
            "ticks": ""
           },
           "bgcolor": "#E5ECF6",
           "caxis": {
            "gridcolor": "white",
            "linecolor": "white",
            "ticks": ""
           }
          },
          "title": {
           "x": 0.05
          },
          "xaxis": {
           "automargin": true,
           "gridcolor": "white",
           "linecolor": "white",
           "ticks": "",
           "title": {
            "standoff": 15
           },
           "zerolinecolor": "white",
           "zerolinewidth": 2
          },
          "yaxis": {
           "automargin": true,
           "gridcolor": "white",
           "linecolor": "white",
           "ticks": "",
           "title": {
            "standoff": 15
           },
           "zerolinecolor": "white",
           "zerolinewidth": 2
          }
         }
        },
        "title": {
         "text": "Daily Sales with 7-Day Moving Average"
        },
        "xaxis": {
         "title": {
          "text": "Date"
         }
        },
        "yaxis": {
         "title": {
          "text": "Sales Amount ($)"
         }
        }
       }
      }
     },
     "metadata": {},
     "output_type": "display_data"
    }
   ],
   "source": [
    "# Plot time series with rolling average\n",
    "fig = (\n",
    "    go.Figure()\n",
    "    .add_trace(\n",
    "        go.Scatter(\n",
    "            x=daily_sales[\"date\"].to_list(),\n",
    "            y=daily_sales[\"total_sales\"].to_list(),\n",
    "            mode=\"lines\",\n",
    "            name=\"Daily Sales\",\n",
    "        )\n",
    "    )\n",
    "    .add_trace(\n",
    "        go.Scatter(\n",
    "            x=daily_sales[\"date\"].to_list(),\n",
    "            y=daily_sales[\"7d_moving_avg\"].to_list(),\n",
    "            mode=\"lines\",\n",
    "            name=\"7-Day Moving Average\",\n",
    "            line=dict(width=3),\n",
    "        )\n",
    "    )\n",
    "    .update_layout(\n",
    "        title=\"Daily Sales with 7-Day Moving Average\",\n",
    "        xaxis_title=\"Date\",\n",
    "        yaxis_title=\"Sales Amount ($)\",\n",
    "    )\n",
    ")\n",
    "fig.show()"
   ]
  },
  {
   "cell_type": "markdown",
   "id": "387fd7d9",
   "metadata": {},
   "source": [
    "### 5. Ranking and Partitioning"
   ]
  },
  {
   "cell_type": "code",
   "execution_count": null,
   "id": "82cf4c14",
   "metadata": {},
   "outputs": [
    {
     "name": "stdout",
     "output_type": "stream",
     "text": [
      "Customer Spending Summary: 99\n"
     ]
    },
    {
     "data": {
      "text/html": [
       "<div><style>\n",
       ".dataframe > thead > tr,\n",
       ".dataframe > tbody > tr {\n",
       "  text-align: right;\n",
       "  white-space: pre-wrap;\n",
       "}\n",
       "</style>\n",
       "<small>shape: (10, 3)</small><table border=\"1\" class=\"dataframe\"><thead><tr><th>customer_id</th><th>total_spending</th><th>rank</th></tr><tr><td>i64</td><td>f64</td><td>u32</td></tr></thead><tbody><tr><td>90</td><td>12814.41</td><td>1</td></tr><tr><td>92</td><td>10499.18</td><td>2</td></tr><tr><td>58</td><td>9985.15</td><td>3</td></tr><tr><td>33</td><td>9135.3</td><td>4</td></tr><tr><td>93</td><td>8387.14</td><td>5</td></tr><tr><td>63</td><td>8304.06</td><td>6</td></tr><tr><td>39</td><td>8121.66</td><td>7</td></tr><tr><td>99</td><td>8026.09</td><td>8</td></tr><tr><td>62</td><td>7813.42</td><td>9</td></tr><tr><td>17</td><td>7778.62</td><td>10</td></tr></tbody></table></div>"
      ],
      "text/plain": [
       "shape: (10, 3)\n",
       "┌─────────────┬────────────────┬──────┐\n",
       "│ customer_id ┆ total_spending ┆ rank │\n",
       "│ ---         ┆ ---            ┆ ---  │\n",
       "│ i64         ┆ f64            ┆ u32  │\n",
       "╞═════════════╪════════════════╪══════╡\n",
       "│ 90          ┆ 12814.41       ┆ 1    │\n",
       "│ 92          ┆ 10499.18       ┆ 2    │\n",
       "│ 58          ┆ 9985.15        ┆ 3    │\n",
       "│ 33          ┆ 9135.3         ┆ 4    │\n",
       "│ 93          ┆ 8387.14        ┆ 5    │\n",
       "│ 63          ┆ 8304.06        ┆ 6    │\n",
       "│ 39          ┆ 8121.66        ┆ 7    │\n",
       "│ 99          ┆ 8026.09        ┆ 8    │\n",
       "│ 62          ┆ 7813.42        ┆ 9    │\n",
       "│ 17          ┆ 7778.62        ┆ 10   │\n",
       "└─────────────┴────────────────┴──────┘"
      ]
     },
     "metadata": {},
     "output_type": "display_data"
    }
   ],
   "source": [
    "# Rank customers by total spending\n",
    "customer_spending = (\n",
    "    df_sales_pl.group_by(\"customer_id\")\n",
    "    .agg(pl.col(\"sales_amount\").sum().alias(\"total_spending\"))\n",
    "    .with_columns(pl.col(\"total_spending\").rank(method=\"dense\", descending=True).alias(\"rank\"))\n",
    "    .sort(\"rank\")\n",
    ")\n",
    "print(f\"Customer Spending Summary: {len(customer_spending)}\")\n",
    "display(customer_spending.head(10))"
   ]
  },
  {
   "cell_type": "code",
   "execution_count": null,
   "id": "fdc1e7cb",
   "metadata": {},
   "outputs": [
    {
     "name": "stdout",
     "output_type": "stream",
     "text": [
      "Product Popularity Summary: 49\n"
     ]
    },
    {
     "data": {
      "text/html": [
       "<div><style>\n",
       ".dataframe > thead > tr,\n",
       ".dataframe > tbody > tr {\n",
       "  text-align: right;\n",
       "  white-space: pre-wrap;\n",
       "}\n",
       "</style>\n",
       "<small>shape: (10, 3)</small><table border=\"1\" class=\"dataframe\"><thead><tr><th>product_id</th><th>total_quantity</th><th>rank</th></tr><tr><td>i64</td><td>i64</td><td>u32</td></tr></thead><tbody><tr><td>40</td><td>165</td><td>1</td></tr><tr><td>29</td><td>154</td><td>2</td></tr><tr><td>17</td><td>143</td><td>3</td></tr><tr><td>33</td><td>136</td><td>4</td></tr><tr><td>44</td><td>128</td><td>5</td></tr><tr><td>25</td><td>124</td><td>6</td></tr><tr><td>30</td><td>122</td><td>7</td></tr><tr><td>11</td><td>121</td><td>8</td></tr><tr><td>37</td><td>120</td><td>9</td></tr><tr><td>26</td><td>120</td><td>9</td></tr></tbody></table></div>"
      ],
      "text/plain": [
       "shape: (10, 3)\n",
       "┌────────────┬────────────────┬──────┐\n",
       "│ product_id ┆ total_quantity ┆ rank │\n",
       "│ ---        ┆ ---            ┆ ---  │\n",
       "│ i64        ┆ i64            ┆ u32  │\n",
       "╞════════════╪════════════════╪══════╡\n",
       "│ 40         ┆ 165            ┆ 1    │\n",
       "│ 29         ┆ 154            ┆ 2    │\n",
       "│ 17         ┆ 143            ┆ 3    │\n",
       "│ 33         ┆ 136            ┆ 4    │\n",
       "│ 44         ┆ 128            ┆ 5    │\n",
       "│ 25         ┆ 124            ┆ 6    │\n",
       "│ 30         ┆ 122            ┆ 7    │\n",
       "│ 11         ┆ 121            ┆ 8    │\n",
       "│ 37         ┆ 120            ┆ 9    │\n",
       "│ 26         ┆ 120            ┆ 9    │\n",
       "└────────────┴────────────────┴──────┘"
      ]
     },
     "metadata": {},
     "output_type": "display_data"
    }
   ],
   "source": [
    "# Rank products by quantity sold\n",
    "product_popularity = (\n",
    "    df_sales_pl.group_by(\"product_id\")\n",
    "    .agg(pl.col(\"quantity\").sum().alias(\"total_quantity\"))\n",
    "    .with_columns(pl.col(\"total_quantity\").rank(method=\"dense\", descending=True).alias(\"rank\"))\n",
    "    .sort(\"rank\")\n",
    ")\n",
    "print(f\"Product Popularity Summary: {len(product_popularity)}\")\n",
    "display(product_popularity.head(10))"
   ]
  },
  {
   "cell_type": "markdown",
   "id": "6efcd7ee",
   "metadata": {},
   "source": [
    "## Conclusion"
   ]
  },
  {
   "cell_type": "code",
   "execution_count": null,
   "id": "206b8b1e",
   "metadata": {},
   "outputs": [],
   "source": []
  }
 ],
 "metadata": {
  "jupytext": {
   "cell_metadata_filter": "-all",
   "main_language": "python",
   "notebook_metadata_filter": "-all"
  },
  "kernelspec": {
   "display_name": ".venv",
   "language": "python",
   "name": "python3"
  },
  "language_info": {
   "codemirror_mode": {
    "name": "ipython",
    "version": 3
   },
   "file_extension": ".py",
   "mimetype": "text/x-python",
   "name": "python",
   "nbconvert_exporter": "python",
   "pygments_lexer": "ipython3",
   "version": "3.13.2"
  }
 },
 "nbformat": 4,
 "nbformat_minor": 5
}
