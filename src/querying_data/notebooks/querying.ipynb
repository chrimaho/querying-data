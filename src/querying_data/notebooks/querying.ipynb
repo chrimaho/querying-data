{
 "cells": [
  {
   "cell_type": "markdown",
   "id": "89a07ef6",
   "metadata": {},
   "source": [
    "# Querying Data Blog Article"
   ]
  },
  {
   "cell_type": "markdown",
   "id": "c15c0d37",
   "metadata": {},
   "source": [
    "### Querying Data: A Comprehensive Guide with Pandas, SQL, PySpark, and Polars"
   ]
  },
  {
   "cell_type": "markdown",
   "id": "6b55a334",
   "metadata": {},
   "source": [
    "Working as a Data Scientist or Data Engineer often involves querying data from various sources. There are many tools and libraries available to perform these tasks, each with its own strengths and weaknesses. Also, there are many different ways to achieve similar results, depending on the tool or library used. It's important to be familiar with these different methods to choose the best one for your specific use case."
   ]
  },
  {
   "cell_type": "markdown",
   "id": "5f06c6a8",
   "metadata": {},
   "source": [
    "This article provides a comprehensive guide on how to query data using different tools and libraries, including Pandas, SQL, PySpark, and Polars. Each section will cover the setup, data creation, and various querying techniques such as filtering, grouping, joining, window functions, ranking, and sorting. The output will be identical across all tools, but the transformations will be implemented using the specific syntax and features of each library. Therefore allowing you to compare the different approaches and understand the nuances of each method."
   ]
  },
  {
   "cell_type": "markdown",
   "id": "8ce7b86d",
   "metadata": {},
   "source": [
    "## Setup"
   ]
  },
  {
   "cell_type": "markdown",
   "id": "214280f8",
   "metadata": {},
   "source": [
    "Before we start querying data, we need to set up our environment. This includes importing the necessary libraries, creating sample data, and defining constants that will be used throughout the article. The following sections will guide you through this setup process. The code for this article is also available on GitHub: [querying-data](...)."
   ]
  },
  {
   "cell_type": "markdown",
   "id": "f72239dc",
   "metadata": {},
   "source": [
    "### Imports"
   ]
  },
  {
   "cell_type": "code",
   "execution_count": null,
   "id": "4565663e",
   "metadata": {},
   "outputs": [],
   "source": [
    "# Python StdLib Imports\n",
    "import sqlite3\n",
    "\n",
    "# Python Third Party Imports\n",
    "import numpy as np\n",
    "import pandas as pd\n",
    "import polars as pl\n",
    "from plotly import express as px, graph_objects as go\n",
    "from plotly.subplots import make_subplots\n",
    "from pyspark.sql import SparkSession, functions as F"
   ]
  },
  {
   "cell_type": "markdown",
   "id": "d33e1b82",
   "metadata": {},
   "source": [
    "### Constants"
   ]
  },
  {
   "cell_type": "code",
   "execution_count": null,
   "id": "6ed37f6b",
   "metadata": {},
   "outputs": [],
   "source": [
    "# Set seed for reproducibility\n",
    "np.random.seed(42)"
   ]
  },
  {
   "cell_type": "markdown",
   "id": "b1cd1cc7",
   "metadata": {},
   "source": [
    "### Data"
   ]
  },
  {
   "cell_type": "code",
   "execution_count": null,
   "id": "98391eac",
   "metadata": {},
   "outputs": [],
   "source": [
    "# Generate sample data\n",
    "n_records = 1000"
   ]
  },
  {
   "cell_type": "code",
   "execution_count": null,
   "id": "8dbe8bd6",
   "metadata": {},
   "outputs": [],
   "source": [
    "# Create sales fact table\n",
    "sales_data: dict[str, str] = {\n",
    "    \"date\": pd.date_range(start=\"2023-01-01\", periods=n_records, freq=\"D\"),\n",
    "    \"customer_id\": np.random.randint(1, 100, n_records),\n",
    "    \"product_id\": np.random.randint(1, 50, n_records),\n",
    "    \"category\": np.random.choice([\"Electronics\", \"Clothing\", \"Food\", \"Books\", \"Home\"], n_records),\n",
    "    \"sales_amount\": np.random.uniform(10, 1000, n_records).round(2),\n",
    "    \"quantity\": np.random.randint(1, 10, n_records),\n",
    "}"
   ]
  },
  {
   "cell_type": "code",
   "execution_count": null,
   "id": "1fb26282",
   "metadata": {},
   "outputs": [],
   "source": [
    "# Create product dimension table\n",
    "product_data: dict[str, str] = {\n",
    "    \"product_id\": np.arange(1, 51),\n",
    "    \"product_name\": [f\"Product {i}\" for i in range(1, 51)],\n",
    "    \"price\": np.random.uniform(10, 500, 50).round(2),\n",
    "    \"category\": np.random.choice([\"Electronics\", \"Clothing\", \"Food\", \"Books\", \"Home\"], 50),\n",
    "    \"supplier_id\": np.random.randint(1, 10, 50),\n",
    "}"
   ]
  },
  {
   "cell_type": "code",
   "execution_count": null,
   "id": "7129a42d",
   "metadata": {},
   "outputs": [],
   "source": [
    "# Create customer dimension table\n",
    "customer_data: dict[str, str] = {\n",
    "    \"customer_id\": np.arange(1, 101),\n",
    "    \"customer_name\": [f\"Customer {i}\" for i in range(1, 101)],\n",
    "    \"city\": np.random.choice([\"New York\", \"Los Angeles\", \"Chicago\", \"Houston\", \"Phoenix\"], 100),\n",
    "    \"state\": np.random.choice([\"NY\", \"CA\", \"IL\", \"TX\", \"AZ\"], 100),\n",
    "    \"segment\": np.random.choice([\"Consumer\", \"Corporate\", \"Home Office\"], 100),\n",
    "}"
   ]
  },
  {
   "cell_type": "markdown",
   "id": "320b206d",
   "metadata": {},
   "source": [
    "## Pandas"
   ]
  },
  {
   "cell_type": "markdown",
   "id": "e6f05807",
   "metadata": {},
   "source": [
    "### Create"
   ]
  },
  {
   "cell_type": "code",
   "execution_count": null,
   "id": "07880aae",
   "metadata": {},
   "outputs": [],
   "source": [
    "df_sales_pd = pd.DataFrame(sales_data)\n",
    "df_product_pd = pd.DataFrame(product_data)\n",
    "df_customer_pd = pd.DataFrame(customer_data)"
   ]
  },
  {
   "cell_type": "code",
   "execution_count": null,
   "id": "c8367095",
   "metadata": {},
   "outputs": [
    {
     "name": "stdout",
     "output_type": "stream",
     "text": [
      "Pandas DataFrame:\n"
     ]
    },
    {
     "data": {
      "text/html": [
       "<div>\n",
       "<style scoped>\n",
       "    .dataframe tbody tr th:only-of-type {\n",
       "        vertical-align: middle;\n",
       "    }\n",
       "\n",
       "    .dataframe tbody tr th {\n",
       "        vertical-align: top;\n",
       "    }\n",
       "\n",
       "    .dataframe thead th {\n",
       "        text-align: right;\n",
       "    }\n",
       "</style>\n",
       "<table border=\"1\" class=\"dataframe\">\n",
       "  <thead>\n",
       "    <tr style=\"text-align: right;\">\n",
       "      <th></th>\n",
       "      <th>date</th>\n",
       "      <th>customer_id</th>\n",
       "      <th>product_id</th>\n",
       "      <th>category</th>\n",
       "      <th>sales_amount</th>\n",
       "      <th>quantity</th>\n",
       "    </tr>\n",
       "  </thead>\n",
       "  <tbody>\n",
       "    <tr>\n",
       "      <th>0</th>\n",
       "      <td>2023-01-01</td>\n",
       "      <td>52</td>\n",
       "      <td>34</td>\n",
       "      <td>Books</td>\n",
       "      <td>319.23</td>\n",
       "      <td>2</td>\n",
       "    </tr>\n",
       "    <tr>\n",
       "      <th>1</th>\n",
       "      <td>2023-01-02</td>\n",
       "      <td>93</td>\n",
       "      <td>45</td>\n",
       "      <td>Food</td>\n",
       "      <td>646.25</td>\n",
       "      <td>6</td>\n",
       "    </tr>\n",
       "    <tr>\n",
       "      <th>2</th>\n",
       "      <td>2023-01-03</td>\n",
       "      <td>15</td>\n",
       "      <td>6</td>\n",
       "      <td>Food</td>\n",
       "      <td>203.88</td>\n",
       "      <td>2</td>\n",
       "    </tr>\n",
       "    <tr>\n",
       "      <th>3</th>\n",
       "      <td>2023-01-04</td>\n",
       "      <td>72</td>\n",
       "      <td>37</td>\n",
       "      <td>Books</td>\n",
       "      <td>897.99</td>\n",
       "      <td>3</td>\n",
       "    </tr>\n",
       "    <tr>\n",
       "      <th>4</th>\n",
       "      <td>2023-01-05</td>\n",
       "      <td>61</td>\n",
       "      <td>33</td>\n",
       "      <td>Books</td>\n",
       "      <td>524.99</td>\n",
       "      <td>4</td>\n",
       "    </tr>\n",
       "    <tr>\n",
       "      <th>5</th>\n",
       "      <td>2023-01-06</td>\n",
       "      <td>21</td>\n",
       "      <td>22</td>\n",
       "      <td>Clothing</td>\n",
       "      <td>453.13</td>\n",
       "      <td>5</td>\n",
       "    </tr>\n",
       "    <tr>\n",
       "      <th>6</th>\n",
       "      <td>2023-01-07</td>\n",
       "      <td>83</td>\n",
       "      <td>21</td>\n",
       "      <td>Clothing</td>\n",
       "      <td>562.24</td>\n",
       "      <td>9</td>\n",
       "    </tr>\n",
       "    <tr>\n",
       "      <th>7</th>\n",
       "      <td>2023-01-08</td>\n",
       "      <td>87</td>\n",
       "      <td>6</td>\n",
       "      <td>Food</td>\n",
       "      <td>174.37</td>\n",
       "      <td>4</td>\n",
       "    </tr>\n",
       "    <tr>\n",
       "      <th>8</th>\n",
       "      <td>2023-01-09</td>\n",
       "      <td>75</td>\n",
       "      <td>6</td>\n",
       "      <td>Electronics</td>\n",
       "      <td>617.34</td>\n",
       "      <td>9</td>\n",
       "    </tr>\n",
       "    <tr>\n",
       "      <th>9</th>\n",
       "      <td>2023-01-10</td>\n",
       "      <td>75</td>\n",
       "      <td>48</td>\n",
       "      <td>Books</td>\n",
       "      <td>369.47</td>\n",
       "      <td>3</td>\n",
       "    </tr>\n",
       "  </tbody>\n",
       "</table>\n",
       "</div>"
      ],
      "text/plain": [
       "        date  customer_id  product_id     category  sales_amount  quantity\n",
       "0 2023-01-01           52          34        Books        319.23         2\n",
       "1 2023-01-02           93          45         Food        646.25         6\n",
       "2 2023-01-03           15           6         Food        203.88         2\n",
       "3 2023-01-04           72          37        Books        897.99         3\n",
       "4 2023-01-05           61          33        Books        524.99         4\n",
       "5 2023-01-06           21          22     Clothing        453.13         5\n",
       "6 2023-01-07           83          21     Clothing        562.24         9\n",
       "7 2023-01-08           87           6         Food        174.37         4\n",
       "8 2023-01-09           75           6  Electronics        617.34         9\n",
       "9 2023-01-10           75          48        Books        369.47         3"
      ]
     },
     "metadata": {},
     "output_type": "display_data"
    },
    {
     "data": {
      "text/html": [
       "<div>\n",
       "<style scoped>\n",
       "    .dataframe tbody tr th:only-of-type {\n",
       "        vertical-align: middle;\n",
       "    }\n",
       "\n",
       "    .dataframe tbody tr th {\n",
       "        vertical-align: top;\n",
       "    }\n",
       "\n",
       "    .dataframe thead th {\n",
       "        text-align: right;\n",
       "    }\n",
       "</style>\n",
       "<table border=\"1\" class=\"dataframe\">\n",
       "  <thead>\n",
       "    <tr style=\"text-align: right;\">\n",
       "      <th></th>\n",
       "      <th>product_id</th>\n",
       "      <th>product_name</th>\n",
       "      <th>price</th>\n",
       "      <th>category</th>\n",
       "      <th>supplier_id</th>\n",
       "    </tr>\n",
       "  </thead>\n",
       "  <tbody>\n",
       "    <tr>\n",
       "      <th>0</th>\n",
       "      <td>1</td>\n",
       "      <td>Product 1</td>\n",
       "      <td>160.86</td>\n",
       "      <td>Food</td>\n",
       "      <td>6</td>\n",
       "    </tr>\n",
       "    <tr>\n",
       "      <th>1</th>\n",
       "      <td>2</td>\n",
       "      <td>Product 2</td>\n",
       "      <td>243.83</td>\n",
       "      <td>Electronics</td>\n",
       "      <td>1</td>\n",
       "    </tr>\n",
       "    <tr>\n",
       "      <th>2</th>\n",
       "      <td>3</td>\n",
       "      <td>Product 3</td>\n",
       "      <td>398.60</td>\n",
       "      <td>Clothing</td>\n",
       "      <td>5</td>\n",
       "    </tr>\n",
       "    <tr>\n",
       "      <th>3</th>\n",
       "      <td>4</td>\n",
       "      <td>Product 4</td>\n",
       "      <td>490.81</td>\n",
       "      <td>Clothing</td>\n",
       "      <td>7</td>\n",
       "    </tr>\n",
       "    <tr>\n",
       "      <th>4</th>\n",
       "      <td>5</td>\n",
       "      <td>Product 5</td>\n",
       "      <td>466.92</td>\n",
       "      <td>Books</td>\n",
       "      <td>1</td>\n",
       "    </tr>\n",
       "    <tr>\n",
       "      <th>5</th>\n",
       "      <td>6</td>\n",
       "      <td>Product 6</td>\n",
       "      <td>467.59</td>\n",
       "      <td>Home</td>\n",
       "      <td>2</td>\n",
       "    </tr>\n",
       "    <tr>\n",
       "      <th>6</th>\n",
       "      <td>7</td>\n",
       "      <td>Product 7</td>\n",
       "      <td>207.09</td>\n",
       "      <td>Clothing</td>\n",
       "      <td>7</td>\n",
       "    </tr>\n",
       "    <tr>\n",
       "      <th>7</th>\n",
       "      <td>8</td>\n",
       "      <td>Product 8</td>\n",
       "      <td>239.71</td>\n",
       "      <td>Electronics</td>\n",
       "      <td>6</td>\n",
       "    </tr>\n",
       "    <tr>\n",
       "      <th>8</th>\n",
       "      <td>9</td>\n",
       "      <td>Product 9</td>\n",
       "      <td>355.76</td>\n",
       "      <td>Electronics</td>\n",
       "      <td>3</td>\n",
       "    </tr>\n",
       "    <tr>\n",
       "      <th>9</th>\n",
       "      <td>10</td>\n",
       "      <td>Product 10</td>\n",
       "      <td>461.87</td>\n",
       "      <td>Home</td>\n",
       "      <td>2</td>\n",
       "    </tr>\n",
       "  </tbody>\n",
       "</table>\n",
       "</div>"
      ],
      "text/plain": [
       "   product_id product_name   price     category  supplier_id\n",
       "0           1    Product 1  160.86         Food            6\n",
       "1           2    Product 2  243.83  Electronics            1\n",
       "2           3    Product 3  398.60     Clothing            5\n",
       "3           4    Product 4  490.81     Clothing            7\n",
       "4           5    Product 5  466.92        Books            1\n",
       "5           6    Product 6  467.59         Home            2\n",
       "6           7    Product 7  207.09     Clothing            7\n",
       "7           8    Product 8  239.71  Electronics            6\n",
       "8           9    Product 9  355.76  Electronics            3\n",
       "9          10   Product 10  461.87         Home            2"
      ]
     },
     "metadata": {},
     "output_type": "display_data"
    },
    {
     "data": {
      "text/html": [
       "<div>\n",
       "<style scoped>\n",
       "    .dataframe tbody tr th:only-of-type {\n",
       "        vertical-align: middle;\n",
       "    }\n",
       "\n",
       "    .dataframe tbody tr th {\n",
       "        vertical-align: top;\n",
       "    }\n",
       "\n",
       "    .dataframe thead th {\n",
       "        text-align: right;\n",
       "    }\n",
       "</style>\n",
       "<table border=\"1\" class=\"dataframe\">\n",
       "  <thead>\n",
       "    <tr style=\"text-align: right;\">\n",
       "      <th></th>\n",
       "      <th>customer_id</th>\n",
       "      <th>customer_name</th>\n",
       "      <th>city</th>\n",
       "      <th>state</th>\n",
       "      <th>segment</th>\n",
       "    </tr>\n",
       "  </thead>\n",
       "  <tbody>\n",
       "    <tr>\n",
       "      <th>0</th>\n",
       "      <td>1</td>\n",
       "      <td>Customer 1</td>\n",
       "      <td>Los Angeles</td>\n",
       "      <td>AZ</td>\n",
       "      <td>Corporate</td>\n",
       "    </tr>\n",
       "    <tr>\n",
       "      <th>1</th>\n",
       "      <td>2</td>\n",
       "      <td>Customer 2</td>\n",
       "      <td>Phoenix</td>\n",
       "      <td>CA</td>\n",
       "      <td>Consumer</td>\n",
       "    </tr>\n",
       "    <tr>\n",
       "      <th>2</th>\n",
       "      <td>3</td>\n",
       "      <td>Customer 3</td>\n",
       "      <td>Chicago</td>\n",
       "      <td>TX</td>\n",
       "      <td>Consumer</td>\n",
       "    </tr>\n",
       "    <tr>\n",
       "      <th>3</th>\n",
       "      <td>4</td>\n",
       "      <td>Customer 4</td>\n",
       "      <td>Los Angeles</td>\n",
       "      <td>IL</td>\n",
       "      <td>Consumer</td>\n",
       "    </tr>\n",
       "    <tr>\n",
       "      <th>4</th>\n",
       "      <td>5</td>\n",
       "      <td>Customer 5</td>\n",
       "      <td>Houston</td>\n",
       "      <td>IL</td>\n",
       "      <td>Consumer</td>\n",
       "    </tr>\n",
       "    <tr>\n",
       "      <th>5</th>\n",
       "      <td>6</td>\n",
       "      <td>Customer 6</td>\n",
       "      <td>Houston</td>\n",
       "      <td>CA</td>\n",
       "      <td>Corporate</td>\n",
       "    </tr>\n",
       "    <tr>\n",
       "      <th>6</th>\n",
       "      <td>7</td>\n",
       "      <td>Customer 7</td>\n",
       "      <td>Los Angeles</td>\n",
       "      <td>AZ</td>\n",
       "      <td>Corporate</td>\n",
       "    </tr>\n",
       "    <tr>\n",
       "      <th>7</th>\n",
       "      <td>8</td>\n",
       "      <td>Customer 8</td>\n",
       "      <td>New York</td>\n",
       "      <td>CA</td>\n",
       "      <td>Home Office</td>\n",
       "    </tr>\n",
       "    <tr>\n",
       "      <th>8</th>\n",
       "      <td>9</td>\n",
       "      <td>Customer 9</td>\n",
       "      <td>Los Angeles</td>\n",
       "      <td>AZ</td>\n",
       "      <td>Consumer</td>\n",
       "    </tr>\n",
       "    <tr>\n",
       "      <th>9</th>\n",
       "      <td>10</td>\n",
       "      <td>Customer 10</td>\n",
       "      <td>Los Angeles</td>\n",
       "      <td>TX</td>\n",
       "      <td>Corporate</td>\n",
       "    </tr>\n",
       "  </tbody>\n",
       "</table>\n",
       "</div>"
      ],
      "text/plain": [
       "   customer_id customer_name         city state      segment\n",
       "0            1    Customer 1  Los Angeles    AZ    Corporate\n",
       "1            2    Customer 2      Phoenix    CA     Consumer\n",
       "2            3    Customer 3      Chicago    TX     Consumer\n",
       "3            4    Customer 4  Los Angeles    IL     Consumer\n",
       "4            5    Customer 5      Houston    IL     Consumer\n",
       "5            6    Customer 6      Houston    CA    Corporate\n",
       "6            7    Customer 7  Los Angeles    AZ    Corporate\n",
       "7            8    Customer 8     New York    CA  Home Office\n",
       "8            9    Customer 9  Los Angeles    AZ     Consumer\n",
       "9           10   Customer 10  Los Angeles    TX    Corporate"
      ]
     },
     "metadata": {},
     "output_type": "display_data"
    }
   ],
   "source": [
    "print(\"Pandas DataFrame:\")\n",
    "display(df_sales_pd.head(10))\n",
    "display(df_product_pd.head(10))\n",
    "display(df_customer_pd.head(10))"
   ]
  },
  {
   "cell_type": "markdown",
   "id": "0025c9d6",
   "metadata": {},
   "source": [
    "### 1. Filtering and Selecting"
   ]
  },
  {
   "cell_type": "code",
   "execution_count": null,
   "id": "d81b21a1",
   "metadata": {},
   "outputs": [
    {
     "name": "stdout",
     "output_type": "stream",
     "text": [
      "Number of Electronics Sales: 188\n"
     ]
    },
    {
     "data": {
      "text/html": [
       "<div>\n",
       "<style scoped>\n",
       "    .dataframe tbody tr th:only-of-type {\n",
       "        vertical-align: middle;\n",
       "    }\n",
       "\n",
       "    .dataframe tbody tr th {\n",
       "        vertical-align: top;\n",
       "    }\n",
       "\n",
       "    .dataframe thead th {\n",
       "        text-align: right;\n",
       "    }\n",
       "</style>\n",
       "<table border=\"1\" class=\"dataframe\">\n",
       "  <thead>\n",
       "    <tr style=\"text-align: right;\">\n",
       "      <th></th>\n",
       "      <th>date</th>\n",
       "      <th>customer_id</th>\n",
       "      <th>product_id</th>\n",
       "      <th>category</th>\n",
       "      <th>sales_amount</th>\n",
       "      <th>quantity</th>\n",
       "    </tr>\n",
       "  </thead>\n",
       "  <tbody>\n",
       "    <tr>\n",
       "      <th>8</th>\n",
       "      <td>2023-01-09</td>\n",
       "      <td>75</td>\n",
       "      <td>6</td>\n",
       "      <td>Electronics</td>\n",
       "      <td>617.34</td>\n",
       "      <td>9</td>\n",
       "    </tr>\n",
       "    <tr>\n",
       "      <th>16</th>\n",
       "      <td>2023-01-17</td>\n",
       "      <td>88</td>\n",
       "      <td>9</td>\n",
       "      <td>Electronics</td>\n",
       "      <td>735.31</td>\n",
       "      <td>8</td>\n",
       "    </tr>\n",
       "    <tr>\n",
       "      <th>31</th>\n",
       "      <td>2023-02-01</td>\n",
       "      <td>42</td>\n",
       "      <td>6</td>\n",
       "      <td>Electronics</td>\n",
       "      <td>979.98</td>\n",
       "      <td>7</td>\n",
       "    </tr>\n",
       "    <tr>\n",
       "      <th>40</th>\n",
       "      <td>2023-02-10</td>\n",
       "      <td>51</td>\n",
       "      <td>45</td>\n",
       "      <td>Electronics</td>\n",
       "      <td>973.72</td>\n",
       "      <td>7</td>\n",
       "    </tr>\n",
       "    <tr>\n",
       "      <th>42</th>\n",
       "      <td>2023-02-12</td>\n",
       "      <td>64</td>\n",
       "      <td>5</td>\n",
       "      <td>Electronics</td>\n",
       "      <td>303.52</td>\n",
       "      <td>8</td>\n",
       "    </tr>\n",
       "  </tbody>\n",
       "</table>\n",
       "</div>"
      ],
      "text/plain": [
       "         date  customer_id  product_id     category  sales_amount  quantity\n",
       "8  2023-01-09           75           6  Electronics        617.34         9\n",
       "16 2023-01-17           88           9  Electronics        735.31         8\n",
       "31 2023-02-01           42           6  Electronics        979.98         7\n",
       "40 2023-02-10           51          45  Electronics        973.72         7\n",
       "42 2023-02-12           64           5  Electronics        303.52         8"
      ]
     },
     "metadata": {},
     "output_type": "display_data"
    }
   ],
   "source": [
    "# Filter sales data for specific category\n",
    "electronics_sales: pd.DataFrame = df_sales_pd[df_sales_pd[\"category\"] == \"Electronics\"]\n",
    "print(f\"Number of Electronics Sales: {len(electronics_sales)}\")\n",
    "display(electronics_sales.head())"
   ]
  },
  {
   "cell_type": "code",
   "execution_count": null,
   "id": "478f9620",
   "metadata": {},
   "outputs": [
    {
     "name": "stdout",
     "output_type": "stream",
     "text": [
      "Number of high-value Sales: 525\n"
     ]
    },
    {
     "data": {
      "text/html": [
       "<div>\n",
       "<style scoped>\n",
       "    .dataframe tbody tr th:only-of-type {\n",
       "        vertical-align: middle;\n",
       "    }\n",
       "\n",
       "    .dataframe tbody tr th {\n",
       "        vertical-align: top;\n",
       "    }\n",
       "\n",
       "    .dataframe thead th {\n",
       "        text-align: right;\n",
       "    }\n",
       "</style>\n",
       "<table border=\"1\" class=\"dataframe\">\n",
       "  <thead>\n",
       "    <tr style=\"text-align: right;\">\n",
       "      <th></th>\n",
       "      <th>date</th>\n",
       "      <th>customer_id</th>\n",
       "      <th>product_id</th>\n",
       "      <th>category</th>\n",
       "      <th>sales_amount</th>\n",
       "      <th>quantity</th>\n",
       "    </tr>\n",
       "  </thead>\n",
       "  <tbody>\n",
       "    <tr>\n",
       "      <th>1</th>\n",
       "      <td>2023-01-02</td>\n",
       "      <td>93</td>\n",
       "      <td>45</td>\n",
       "      <td>Food</td>\n",
       "      <td>646.25</td>\n",
       "      <td>6</td>\n",
       "    </tr>\n",
       "    <tr>\n",
       "      <th>3</th>\n",
       "      <td>2023-01-04</td>\n",
       "      <td>72</td>\n",
       "      <td>37</td>\n",
       "      <td>Books</td>\n",
       "      <td>897.99</td>\n",
       "      <td>3</td>\n",
       "    </tr>\n",
       "    <tr>\n",
       "      <th>4</th>\n",
       "      <td>2023-01-05</td>\n",
       "      <td>61</td>\n",
       "      <td>33</td>\n",
       "      <td>Books</td>\n",
       "      <td>524.99</td>\n",
       "      <td>4</td>\n",
       "    </tr>\n",
       "    <tr>\n",
       "      <th>6</th>\n",
       "      <td>2023-01-07</td>\n",
       "      <td>83</td>\n",
       "      <td>21</td>\n",
       "      <td>Clothing</td>\n",
       "      <td>562.24</td>\n",
       "      <td>9</td>\n",
       "    </tr>\n",
       "    <tr>\n",
       "      <th>8</th>\n",
       "      <td>2023-01-09</td>\n",
       "      <td>75</td>\n",
       "      <td>6</td>\n",
       "      <td>Electronics</td>\n",
       "      <td>617.34</td>\n",
       "      <td>9</td>\n",
       "    </tr>\n",
       "  </tbody>\n",
       "</table>\n",
       "</div>"
      ],
      "text/plain": [
       "        date  customer_id  product_id     category  sales_amount  quantity\n",
       "1 2023-01-02           93          45         Food        646.25         6\n",
       "3 2023-01-04           72          37        Books        897.99         3\n",
       "4 2023-01-05           61          33        Books        524.99         4\n",
       "6 2023-01-07           83          21     Clothing        562.24         9\n",
       "8 2023-01-09           75           6  Electronics        617.34         9"
      ]
     },
     "metadata": {},
     "output_type": "display_data"
    }
   ],
   "source": [
    "# Filter for high value transactions (over $500)\n",
    "high_value_sales: pd.DataFrame = df_sales_pd[df_sales_pd[\"sales_amount\"] > 500]\n",
    "print(f\"Number of high-value Sales: {len(high_value_sales)}\")\n",
    "display(high_value_sales.head())"
   ]
  },
  {
   "cell_type": "code",
   "execution_count": null,
   "id": "d9baaff4",
   "metadata": {},
   "outputs": [
    {
     "data": {
      "text/html": [
       "<div>\n",
       "<style scoped>\n",
       "    .dataframe tbody tr th:only-of-type {\n",
       "        vertical-align: middle;\n",
       "    }\n",
       "\n",
       "    .dataframe tbody tr th {\n",
       "        vertical-align: top;\n",
       "    }\n",
       "\n",
       "    .dataframe thead th {\n",
       "        text-align: right;\n",
       "    }\n",
       "</style>\n",
       "<table border=\"1\" class=\"dataframe\">\n",
       "  <thead>\n",
       "    <tr style=\"text-align: right;\">\n",
       "      <th></th>\n",
       "      <th>date</th>\n",
       "      <th>category</th>\n",
       "      <th>sales_amount</th>\n",
       "    </tr>\n",
       "  </thead>\n",
       "  <tbody>\n",
       "    <tr>\n",
       "      <th>0</th>\n",
       "      <td>2023-01-01</td>\n",
       "      <td>Books</td>\n",
       "      <td>319.23</td>\n",
       "    </tr>\n",
       "    <tr>\n",
       "      <th>1</th>\n",
       "      <td>2023-01-02</td>\n",
       "      <td>Food</td>\n",
       "      <td>646.25</td>\n",
       "    </tr>\n",
       "    <tr>\n",
       "      <th>2</th>\n",
       "      <td>2023-01-03</td>\n",
       "      <td>Food</td>\n",
       "      <td>203.88</td>\n",
       "    </tr>\n",
       "    <tr>\n",
       "      <th>3</th>\n",
       "      <td>2023-01-04</td>\n",
       "      <td>Books</td>\n",
       "      <td>897.99</td>\n",
       "    </tr>\n",
       "    <tr>\n",
       "      <th>4</th>\n",
       "      <td>2023-01-05</td>\n",
       "      <td>Books</td>\n",
       "      <td>524.99</td>\n",
       "    </tr>\n",
       "  </tbody>\n",
       "</table>\n",
       "</div>"
      ],
      "text/plain": [
       "        date category  sales_amount\n",
       "0 2023-01-01    Books        319.23\n",
       "1 2023-01-02     Food        646.25\n",
       "2 2023-01-03     Food        203.88\n",
       "3 2023-01-04    Books        897.99\n",
       "4 2023-01-05    Books        524.99"
      ]
     },
     "metadata": {},
     "output_type": "display_data"
    }
   ],
   "source": [
    "# Select specific columns\n",
    "sales_summary: pd.DataFrame = df_sales_pd[[\"date\", \"category\", \"sales_amount\"]]\n",
    "display(sales_summary.head())"
   ]
  },
  {
   "cell_type": "markdown",
   "id": "0321c9c4",
   "metadata": {},
   "source": [
    "### 2. Grouping and Aggregation"
   ]
  },
  {
   "cell_type": "code",
   "execution_count": null,
   "id": "e623f3f5",
   "metadata": {},
   "outputs": [
    {
     "data": {
      "text/html": [
       "<div>\n",
       "<style scoped>\n",
       "    .dataframe tbody tr th:only-of-type {\n",
       "        vertical-align: middle;\n",
       "    }\n",
       "\n",
       "    .dataframe tbody tr th {\n",
       "        vertical-align: top;\n",
       "    }\n",
       "\n",
       "    .dataframe thead th {\n",
       "        text-align: right;\n",
       "    }\n",
       "</style>\n",
       "<table border=\"1\" class=\"dataframe\">\n",
       "  <thead>\n",
       "    <tr style=\"text-align: right;\">\n",
       "      <th></th>\n",
       "      <th>sales_amount</th>\n",
       "      <th>quantity</th>\n",
       "    </tr>\n",
       "  </thead>\n",
       "  <tbody>\n",
       "    <tr>\n",
       "      <th>sum</th>\n",
       "      <td>512657.67000</td>\n",
       "      <td>5035.000</td>\n",
       "    </tr>\n",
       "    <tr>\n",
       "      <th>mean</th>\n",
       "      <td>512.65767</td>\n",
       "      <td>5.035</td>\n",
       "    </tr>\n",
       "    <tr>\n",
       "      <th>min</th>\n",
       "      <td>10.19000</td>\n",
       "      <td>1.000</td>\n",
       "    </tr>\n",
       "    <tr>\n",
       "      <th>max</th>\n",
       "      <td>999.72000</td>\n",
       "      <td>9.000</td>\n",
       "    </tr>\n",
       "    <tr>\n",
       "      <th>count</th>\n",
       "      <td>1000.00000</td>\n",
       "      <td>NaN</td>\n",
       "    </tr>\n",
       "  </tbody>\n",
       "</table>\n",
       "</div>"
      ],
      "text/plain": [
       "       sales_amount  quantity\n",
       "sum    512657.67000  5035.000\n",
       "mean      512.65767     5.035\n",
       "min        10.19000     1.000\n",
       "max       999.72000     9.000\n",
       "count    1000.00000       NaN"
      ]
     },
     "metadata": {},
     "output_type": "display_data"
    }
   ],
   "source": [
    "# Basic aggregation\n",
    "sales_stats: pd.DataFrame = df_sales_pd.agg(\n",
    "    {\n",
    "        \"sales_amount\": [\"sum\", \"mean\", \"min\", \"max\", \"count\"],\n",
    "        \"quantity\": [\"sum\", \"mean\", \"min\", \"max\"],\n",
    "    }\n",
    ")\n",
    "display(sales_stats)"
   ]
  },
  {
   "cell_type": "code",
   "execution_count": null,
   "id": "42aa112c",
   "metadata": {},
   "outputs": [
    {
     "data": {
      "text/html": [
       "<div>\n",
       "<style scoped>\n",
       "    .dataframe tbody tr th:only-of-type {\n",
       "        vertical-align: middle;\n",
       "    }\n",
       "\n",
       "    .dataframe tbody tr th {\n",
       "        vertical-align: top;\n",
       "    }\n",
       "\n",
       "    .dataframe thead tr th {\n",
       "        text-align: left;\n",
       "    }\n",
       "\n",
       "    .dataframe thead tr:last-of-type th {\n",
       "        text-align: right;\n",
       "    }\n",
       "</style>\n",
       "<table border=\"1\" class=\"dataframe\">\n",
       "  <thead>\n",
       "    <tr>\n",
       "      <th></th>\n",
       "      <th colspan=\"3\" halign=\"left\">sales_amount</th>\n",
       "      <th>quantity</th>\n",
       "    </tr>\n",
       "    <tr>\n",
       "      <th></th>\n",
       "      <th>sum</th>\n",
       "      <th>mean</th>\n",
       "      <th>count</th>\n",
       "      <th>sum</th>\n",
       "    </tr>\n",
       "    <tr>\n",
       "      <th>category</th>\n",
       "      <th></th>\n",
       "      <th></th>\n",
       "      <th></th>\n",
       "      <th></th>\n",
       "    </tr>\n",
       "  </thead>\n",
       "  <tbody>\n",
       "    <tr>\n",
       "      <th>Books</th>\n",
       "      <td>112424.59</td>\n",
       "      <td>504.146143</td>\n",
       "      <td>223</td>\n",
       "      <td>1157</td>\n",
       "    </tr>\n",
       "    <tr>\n",
       "      <th>Clothing</th>\n",
       "      <td>112682.26</td>\n",
       "      <td>536.582190</td>\n",
       "      <td>210</td>\n",
       "      <td>992</td>\n",
       "    </tr>\n",
       "    <tr>\n",
       "      <th>Electronics</th>\n",
       "      <td>90232.28</td>\n",
       "      <td>479.958936</td>\n",
       "      <td>188</td>\n",
       "      <td>946</td>\n",
       "    </tr>\n",
       "    <tr>\n",
       "      <th>Food</th>\n",
       "      <td>85217.49</td>\n",
       "      <td>504.245503</td>\n",
       "      <td>169</td>\n",
       "      <td>847</td>\n",
       "    </tr>\n",
       "    <tr>\n",
       "      <th>Home</th>\n",
       "      <td>112101.05</td>\n",
       "      <td>533.814524</td>\n",
       "      <td>210</td>\n",
       "      <td>1093</td>\n",
       "    </tr>\n",
       "  </tbody>\n",
       "</table>\n",
       "</div>"
      ],
      "text/plain": [
       "            sales_amount                   quantity\n",
       "                     sum        mean count      sum\n",
       "category                                           \n",
       "Books          112424.59  504.146143   223     1157\n",
       "Clothing       112682.26  536.582190   210      992\n",
       "Electronics     90232.28  479.958936   188      946\n",
       "Food            85217.49  504.245503   169      847\n",
       "Home           112101.05  533.814524   210     1093"
      ]
     },
     "metadata": {},
     "output_type": "display_data"
    }
   ],
   "source": [
    "# Group by category and aggregate\n",
    "category_sales: pd.DataFrame = df_sales_pd.groupby(\"category\").agg(\n",
    "    {\n",
    "        \"sales_amount\": [\"sum\", \"mean\", \"count\"],\n",
    "        \"quantity\": \"sum\",\n",
    "    }\n",
    ")\n",
    "display(category_sales)"
   ]
  },
  {
   "cell_type": "code",
   "execution_count": null,
   "id": "32094a84",
   "metadata": {},
   "outputs": [
    {
     "name": "stdout",
     "output_type": "stream",
     "text": [
      "Category Sales Summary:\n"
     ]
    },
    {
     "data": {
      "text/html": [
       "<div>\n",
       "<style scoped>\n",
       "    .dataframe tbody tr th:only-of-type {\n",
       "        vertical-align: middle;\n",
       "    }\n",
       "\n",
       "    .dataframe tbody tr th {\n",
       "        vertical-align: top;\n",
       "    }\n",
       "\n",
       "    .dataframe thead th {\n",
       "        text-align: right;\n",
       "    }\n",
       "</style>\n",
       "<table border=\"1\" class=\"dataframe\">\n",
       "  <thead>\n",
       "    <tr style=\"text-align: right;\">\n",
       "      <th></th>\n",
       "      <th>total_sales</th>\n",
       "      <th>average_sales</th>\n",
       "      <th>transaction_count</th>\n",
       "      <th>total_quantity</th>\n",
       "    </tr>\n",
       "    <tr>\n",
       "      <th>category</th>\n",
       "      <th></th>\n",
       "      <th></th>\n",
       "      <th></th>\n",
       "      <th></th>\n",
       "    </tr>\n",
       "  </thead>\n",
       "  <tbody>\n",
       "    <tr>\n",
       "      <th>Books</th>\n",
       "      <td>112424.59</td>\n",
       "      <td>504.146143</td>\n",
       "      <td>223</td>\n",
       "      <td>1157</td>\n",
       "    </tr>\n",
       "    <tr>\n",
       "      <th>Clothing</th>\n",
       "      <td>112682.26</td>\n",
       "      <td>536.582190</td>\n",
       "      <td>210</td>\n",
       "      <td>992</td>\n",
       "    </tr>\n",
       "    <tr>\n",
       "      <th>Electronics</th>\n",
       "      <td>90232.28</td>\n",
       "      <td>479.958936</td>\n",
       "      <td>188</td>\n",
       "      <td>946</td>\n",
       "    </tr>\n",
       "    <tr>\n",
       "      <th>Food</th>\n",
       "      <td>85217.49</td>\n",
       "      <td>504.245503</td>\n",
       "      <td>169</td>\n",
       "      <td>847</td>\n",
       "    </tr>\n",
       "    <tr>\n",
       "      <th>Home</th>\n",
       "      <td>112101.05</td>\n",
       "      <td>533.814524</td>\n",
       "      <td>210</td>\n",
       "      <td>1093</td>\n",
       "    </tr>\n",
       "  </tbody>\n",
       "</table>\n",
       "</div>"
      ],
      "text/plain": [
       "             total_sales  average_sales  transaction_count  total_quantity\n",
       "category                                                                  \n",
       "Books          112424.59     504.146143                223            1157\n",
       "Clothing       112682.26     536.582190                210             992\n",
       "Electronics     90232.28     479.958936                188             946\n",
       "Food            85217.49     504.245503                169             847\n",
       "Home           112101.05     533.814524                210            1093"
      ]
     },
     "metadata": {},
     "output_type": "display_data"
    }
   ],
   "source": [
    "# Rename columns for clarity\n",
    "category_sales_columns = [\n",
    "    \"total_sales\",\n",
    "    \"average_sales\",\n",
    "    \"transaction_count\",\n",
    "    \"total_quantity\",\n",
    "]\n",
    "print(\"Category Sales Summary:\")\n",
    "display(category_sales[category_sales_columns])"
   ]
  },
  {
   "cell_type": "code",
   "execution_count": 36,
   "id": "e04a8998",
   "metadata": {},
   "outputs": [
    {
     "data": {
      "application/vnd.plotly.v1+json": {
       "config": {
        "plotlyServerURL": "https://plot.ly"
       },
       "data": [
        {
         "hovertemplate": "Product Category=%{x}<br>Total Sales ($)=%{y}<br>transaction_count=%{text}<extra></extra>",
         "legendgroup": "",
         "marker": {
          "color": "#636efa",
          "pattern": {
           "shape": ""
          }
         },
         "name": "",
         "orientation": "v",
         "showlegend": false,
         "text": {
          "bdata": "AAAAAADga0AAAAAAAEBqQAAAAAAAgGdAAAAAAAAgZUAAAAAAAEBqQA==",
          "dtype": "f8"
         },
         "textposition": "auto",
         "type": "bar",
         "x": [
          "Books",
          "Clothing",
          "Electronics",
          "Food",
          "Home"
         ],
         "xaxis": "x",
         "y": {
          "bdata": "CtejcIly+0CPwvUopIL7QK5H4XqEB/ZAcT0K1xfO9EDNzMzMUF77QA==",
          "dtype": "f8"
         },
         "yaxis": "y"
        }
       ],
       "layout": {
        "barmode": "relative",
        "legend": {
         "tracegroupgap": 0
        },
        "template": {
         "data": {
          "bar": [
           {
            "error_x": {
             "color": "#2a3f5f"
            },
            "error_y": {
             "color": "#2a3f5f"
            },
            "marker": {
             "line": {
              "color": "#E5ECF6",
              "width": 0.5
             },
             "pattern": {
              "fillmode": "overlay",
              "size": 10,
              "solidity": 0.2
             }
            },
            "type": "bar"
           }
          ],
          "barpolar": [
           {
            "marker": {
             "line": {
              "color": "#E5ECF6",
              "width": 0.5
             },
             "pattern": {
              "fillmode": "overlay",
              "size": 10,
              "solidity": 0.2
             }
            },
            "type": "barpolar"
           }
          ],
          "carpet": [
           {
            "aaxis": {
             "endlinecolor": "#2a3f5f",
             "gridcolor": "white",
             "linecolor": "white",
             "minorgridcolor": "white",
             "startlinecolor": "#2a3f5f"
            },
            "baxis": {
             "endlinecolor": "#2a3f5f",
             "gridcolor": "white",
             "linecolor": "white",
             "minorgridcolor": "white",
             "startlinecolor": "#2a3f5f"
            },
            "type": "carpet"
           }
          ],
          "choropleth": [
           {
            "colorbar": {
             "outlinewidth": 0,
             "ticks": ""
            },
            "type": "choropleth"
           }
          ],
          "contour": [
           {
            "colorbar": {
             "outlinewidth": 0,
             "ticks": ""
            },
            "colorscale": [
             [
              0,
              "#0d0887"
             ],
             [
              0.1111111111111111,
              "#46039f"
             ],
             [
              0.2222222222222222,
              "#7201a8"
             ],
             [
              0.3333333333333333,
              "#9c179e"
             ],
             [
              0.4444444444444444,
              "#bd3786"
             ],
             [
              0.5555555555555556,
              "#d8576b"
             ],
             [
              0.6666666666666666,
              "#ed7953"
             ],
             [
              0.7777777777777778,
              "#fb9f3a"
             ],
             [
              0.8888888888888888,
              "#fdca26"
             ],
             [
              1,
              "#f0f921"
             ]
            ],
            "type": "contour"
           }
          ],
          "contourcarpet": [
           {
            "colorbar": {
             "outlinewidth": 0,
             "ticks": ""
            },
            "type": "contourcarpet"
           }
          ],
          "heatmap": [
           {
            "colorbar": {
             "outlinewidth": 0,
             "ticks": ""
            },
            "colorscale": [
             [
              0,
              "#0d0887"
             ],
             [
              0.1111111111111111,
              "#46039f"
             ],
             [
              0.2222222222222222,
              "#7201a8"
             ],
             [
              0.3333333333333333,
              "#9c179e"
             ],
             [
              0.4444444444444444,
              "#bd3786"
             ],
             [
              0.5555555555555556,
              "#d8576b"
             ],
             [
              0.6666666666666666,
              "#ed7953"
             ],
             [
              0.7777777777777778,
              "#fb9f3a"
             ],
             [
              0.8888888888888888,
              "#fdca26"
             ],
             [
              1,
              "#f0f921"
             ]
            ],
            "type": "heatmap"
           }
          ],
          "histogram": [
           {
            "marker": {
             "pattern": {
              "fillmode": "overlay",
              "size": 10,
              "solidity": 0.2
             }
            },
            "type": "histogram"
           }
          ],
          "histogram2d": [
           {
            "colorbar": {
             "outlinewidth": 0,
             "ticks": ""
            },
            "colorscale": [
             [
              0,
              "#0d0887"
             ],
             [
              0.1111111111111111,
              "#46039f"
             ],
             [
              0.2222222222222222,
              "#7201a8"
             ],
             [
              0.3333333333333333,
              "#9c179e"
             ],
             [
              0.4444444444444444,
              "#bd3786"
             ],
             [
              0.5555555555555556,
              "#d8576b"
             ],
             [
              0.6666666666666666,
              "#ed7953"
             ],
             [
              0.7777777777777778,
              "#fb9f3a"
             ],
             [
              0.8888888888888888,
              "#fdca26"
             ],
             [
              1,
              "#f0f921"
             ]
            ],
            "type": "histogram2d"
           }
          ],
          "histogram2dcontour": [
           {
            "colorbar": {
             "outlinewidth": 0,
             "ticks": ""
            },
            "colorscale": [
             [
              0,
              "#0d0887"
             ],
             [
              0.1111111111111111,
              "#46039f"
             ],
             [
              0.2222222222222222,
              "#7201a8"
             ],
             [
              0.3333333333333333,
              "#9c179e"
             ],
             [
              0.4444444444444444,
              "#bd3786"
             ],
             [
              0.5555555555555556,
              "#d8576b"
             ],
             [
              0.6666666666666666,
              "#ed7953"
             ],
             [
              0.7777777777777778,
              "#fb9f3a"
             ],
             [
              0.8888888888888888,
              "#fdca26"
             ],
             [
              1,
              "#f0f921"
             ]
            ],
            "type": "histogram2dcontour"
           }
          ],
          "mesh3d": [
           {
            "colorbar": {
             "outlinewidth": 0,
             "ticks": ""
            },
            "type": "mesh3d"
           }
          ],
          "parcoords": [
           {
            "line": {
             "colorbar": {
              "outlinewidth": 0,
              "ticks": ""
             }
            },
            "type": "parcoords"
           }
          ],
          "pie": [
           {
            "automargin": true,
            "type": "pie"
           }
          ],
          "scatter": [
           {
            "fillpattern": {
             "fillmode": "overlay",
             "size": 10,
             "solidity": 0.2
            },
            "type": "scatter"
           }
          ],
          "scatter3d": [
           {
            "line": {
             "colorbar": {
              "outlinewidth": 0,
              "ticks": ""
             }
            },
            "marker": {
             "colorbar": {
              "outlinewidth": 0,
              "ticks": ""
             }
            },
            "type": "scatter3d"
           }
          ],
          "scattercarpet": [
           {
            "marker": {
             "colorbar": {
              "outlinewidth": 0,
              "ticks": ""
             }
            },
            "type": "scattercarpet"
           }
          ],
          "scattergeo": [
           {
            "marker": {
             "colorbar": {
              "outlinewidth": 0,
              "ticks": ""
             }
            },
            "type": "scattergeo"
           }
          ],
          "scattergl": [
           {
            "marker": {
             "colorbar": {
              "outlinewidth": 0,
              "ticks": ""
             }
            },
            "type": "scattergl"
           }
          ],
          "scattermap": [
           {
            "marker": {
             "colorbar": {
              "outlinewidth": 0,
              "ticks": ""
             }
            },
            "type": "scattermap"
           }
          ],
          "scattermapbox": [
           {
            "marker": {
             "colorbar": {
              "outlinewidth": 0,
              "ticks": ""
             }
            },
            "type": "scattermapbox"
           }
          ],
          "scatterpolar": [
           {
            "marker": {
             "colorbar": {
              "outlinewidth": 0,
              "ticks": ""
             }
            },
            "type": "scatterpolar"
           }
          ],
          "scatterpolargl": [
           {
            "marker": {
             "colorbar": {
              "outlinewidth": 0,
              "ticks": ""
             }
            },
            "type": "scatterpolargl"
           }
          ],
          "scatterternary": [
           {
            "marker": {
             "colorbar": {
              "outlinewidth": 0,
              "ticks": ""
             }
            },
            "type": "scatterternary"
           }
          ],
          "surface": [
           {
            "colorbar": {
             "outlinewidth": 0,
             "ticks": ""
            },
            "colorscale": [
             [
              0,
              "#0d0887"
             ],
             [
              0.1111111111111111,
              "#46039f"
             ],
             [
              0.2222222222222222,
              "#7201a8"
             ],
             [
              0.3333333333333333,
              "#9c179e"
             ],
             [
              0.4444444444444444,
              "#bd3786"
             ],
             [
              0.5555555555555556,
              "#d8576b"
             ],
             [
              0.6666666666666666,
              "#ed7953"
             ],
             [
              0.7777777777777778,
              "#fb9f3a"
             ],
             [
              0.8888888888888888,
              "#fdca26"
             ],
             [
              1,
              "#f0f921"
             ]
            ],
            "type": "surface"
           }
          ],
          "table": [
           {
            "cells": {
             "fill": {
              "color": "#EBF0F8"
             },
             "line": {
              "color": "white"
             }
            },
            "header": {
             "fill": {
              "color": "#C8D4E3"
             },
             "line": {
              "color": "white"
             }
            },
            "type": "table"
           }
          ]
         },
         "layout": {
          "annotationdefaults": {
           "arrowcolor": "#2a3f5f",
           "arrowhead": 0,
           "arrowwidth": 1
          },
          "autotypenumbers": "strict",
          "coloraxis": {
           "colorbar": {
            "outlinewidth": 0,
            "ticks": ""
           }
          },
          "colorscale": {
           "diverging": [
            [
             0,
             "#8e0152"
            ],
            [
             0.1,
             "#c51b7d"
            ],
            [
             0.2,
             "#de77ae"
            ],
            [
             0.3,
             "#f1b6da"
            ],
            [
             0.4,
             "#fde0ef"
            ],
            [
             0.5,
             "#f7f7f7"
            ],
            [
             0.6,
             "#e6f5d0"
            ],
            [
             0.7,
             "#b8e186"
            ],
            [
             0.8,
             "#7fbc41"
            ],
            [
             0.9,
             "#4d9221"
            ],
            [
             1,
             "#276419"
            ]
           ],
           "sequential": [
            [
             0,
             "#0d0887"
            ],
            [
             0.1111111111111111,
             "#46039f"
            ],
            [
             0.2222222222222222,
             "#7201a8"
            ],
            [
             0.3333333333333333,
             "#9c179e"
            ],
            [
             0.4444444444444444,
             "#bd3786"
            ],
            [
             0.5555555555555556,
             "#d8576b"
            ],
            [
             0.6666666666666666,
             "#ed7953"
            ],
            [
             0.7777777777777778,
             "#fb9f3a"
            ],
            [
             0.8888888888888888,
             "#fdca26"
            ],
            [
             1,
             "#f0f921"
            ]
           ],
           "sequentialminus": [
            [
             0,
             "#0d0887"
            ],
            [
             0.1111111111111111,
             "#46039f"
            ],
            [
             0.2222222222222222,
             "#7201a8"
            ],
            [
             0.3333333333333333,
             "#9c179e"
            ],
            [
             0.4444444444444444,
             "#bd3786"
            ],
            [
             0.5555555555555556,
             "#d8576b"
            ],
            [
             0.6666666666666666,
             "#ed7953"
            ],
            [
             0.7777777777777778,
             "#fb9f3a"
            ],
            [
             0.8888888888888888,
             "#fdca26"
            ],
            [
             1,
             "#f0f921"
            ]
           ]
          },
          "colorway": [
           "#636efa",
           "#EF553B",
           "#00cc96",
           "#ab63fa",
           "#FFA15A",
           "#19d3f3",
           "#FF6692",
           "#B6E880",
           "#FF97FF",
           "#FECB52"
          ],
          "font": {
           "color": "#2a3f5f"
          },
          "geo": {
           "bgcolor": "white",
           "lakecolor": "white",
           "landcolor": "#E5ECF6",
           "showlakes": true,
           "showland": true,
           "subunitcolor": "white"
          },
          "hoverlabel": {
           "align": "left"
          },
          "hovermode": "closest",
          "mapbox": {
           "style": "light"
          },
          "paper_bgcolor": "white",
          "plot_bgcolor": "#E5ECF6",
          "polar": {
           "angularaxis": {
            "gridcolor": "white",
            "linecolor": "white",
            "ticks": ""
           },
           "bgcolor": "#E5ECF6",
           "radialaxis": {
            "gridcolor": "white",
            "linecolor": "white",
            "ticks": ""
           }
          },
          "scene": {
           "xaxis": {
            "backgroundcolor": "#E5ECF6",
            "gridcolor": "white",
            "gridwidth": 2,
            "linecolor": "white",
            "showbackground": true,
            "ticks": "",
            "zerolinecolor": "white"
           },
           "yaxis": {
            "backgroundcolor": "#E5ECF6",
            "gridcolor": "white",
            "gridwidth": 2,
            "linecolor": "white",
            "showbackground": true,
            "ticks": "",
            "zerolinecolor": "white"
           },
           "zaxis": {
            "backgroundcolor": "#E5ECF6",
            "gridcolor": "white",
            "gridwidth": 2,
            "linecolor": "white",
            "showbackground": true,
            "ticks": "",
            "zerolinecolor": "white"
           }
          },
          "shapedefaults": {
           "line": {
            "color": "#2a3f5f"
           }
          },
          "ternary": {
           "aaxis": {
            "gridcolor": "white",
            "linecolor": "white",
            "ticks": ""
           },
           "baxis": {
            "gridcolor": "white",
            "linecolor": "white",
            "ticks": ""
           },
           "bgcolor": "#E5ECF6",
           "caxis": {
            "gridcolor": "white",
            "linecolor": "white",
            "ticks": ""
           }
          },
          "title": {
           "x": 0.05
          },
          "xaxis": {
           "automargin": true,
           "gridcolor": "white",
           "linecolor": "white",
           "ticks": "",
           "title": {
            "standoff": 15
           },
           "zerolinecolor": "white",
           "zerolinewidth": 2
          },
          "yaxis": {
           "automargin": true,
           "gridcolor": "white",
           "linecolor": "white",
           "ticks": "",
           "title": {
            "standoff": 15
           },
           "zerolinecolor": "white",
           "zerolinewidth": 2
          }
         }
        },
        "title": {
         "text": "Total Sales by Category"
        },
        "xaxis": {
         "anchor": "y",
         "domain": [
          0,
          1
         ],
         "title": {
          "text": "Product Category"
         }
        },
        "yaxis": {
         "anchor": "x",
         "domain": [
          0,
          1
         ],
         "title": {
          "text": "Total Sales ($)"
         }
        }
       }
      }
     },
     "metadata": {},
     "output_type": "display_data"
    }
   ],
   "source": [
    "# Plot the results\n",
    "fig: go.Figure = px.bar(\n",
    "    category_sales.reset_index(),\n",
    "    x=\"category\",\n",
    "    y=\"total_sales\",\n",
    "    title=\"Total Sales by Category\",\n",
    "    text=\"transaction_count\",\n",
    "    labels={\"total_sales\": \"Total Sales ($)\", \"category\": \"Product Category\"},\n",
    ")\n",
    "fig.show()"
   ]
  },
  {
   "cell_type": "markdown",
   "id": "74348eaa",
   "metadata": {},
   "source": [
    "### 3. Joining"
   ]
  },
  {
   "cell_type": "code",
   "execution_count": null,
   "id": "405ca0f7",
   "metadata": {},
   "outputs": [],
   "source": [
    "# Join sales with product data\n",
    "sales_with_product: pd.DataFrame = pd.merge(\n",
    "    df_product_pd,\n",
    "    df_product_id[[\"product_id\", \"product_name\", \"price\"]],\n",
    "    on=\"product_id\",\n",
    "    how=\"left\",\n",
    ")\n",
    "display(sales_with_product.head())"
   ]
  },
  {
   "cell_type": "code",
   "execution_count": null,
   "id": "62b8f8b4",
   "metadata": {},
   "outputs": [],
   "source": [
    "# Join with customer information to get a complete view\n",
    "complete_sales: pd.DataFrame = pd.merge(\n",
    "    sales_with_product,\n",
    "    df_customer_pd[[\"customer_id\", \"customer_name\", \"city\", \"state\"]],\n",
    "    on=\"customer_id\",\n",
    "    how=\"left\",\n",
    ")\n",
    "display(complete_sales.head())"
   ]
  },
  {
   "cell_type": "code",
   "execution_count": null,
   "id": "14a7e93f",
   "metadata": {},
   "outputs": [],
   "source": [
    "# Calculate revenue (price * quantity) and compare with sales amount\n",
    "complete_sales[\"calculated_revenue\"] = complete_sales[\"price\"] * complete_sales[\"quantity\"]\n",
    "complete_sales[\"price_difference\"] = complete_sales[\"sales_amount\"] - complete_sales[\"calculated_revenue\"]\n",
    "display(complete_sales[[\"sales_amount\", \"price\", \"quantity\", \"calculated_revenue\", \"price_difference\"]].head())"
   ]
  },
  {
   "cell_type": "markdown",
   "id": "e2f1abfd",
   "metadata": {},
   "source": [
    "### 4. Window Functions"
   ]
  },
  {
   "cell_type": "code",
   "execution_count": null,
   "id": "95064521",
   "metadata": {},
   "outputs": [],
   "source": [
    "# Time-based window function\n",
    "df_sales_pd[\"date\"] = pd.to_datetime(df_sales_pd[\"date\"])  # Ensure date type\n",
    "daily_sales: pd.DataFrame = df_sales_pd.groupby(df_sales_pd[\"date\"].dt.date).sum().reset_index()\n",
    "daily_sales = daily_sales.sort_values(\"date\")"
   ]
  },
  {
   "cell_type": "code",
   "execution_count": null,
   "id": "2c446e8a",
   "metadata": {},
   "outputs": [],
   "source": [
    "# Calculate rolling averages (7-day moving average)\n",
    "daily_sales[\"7d_moving_avg\"] = daily_sales[\"sales_amount\"].rolling(window=7, min_periods=1).mean()"
   ]
  },
  {
   "cell_type": "code",
   "execution_count": null,
   "id": "8b9b8e89",
   "metadata": {},
   "outputs": [],
   "source": [
    "# Calculate lag and lead\n",
    "daily_sales[\"previous_day_sales\"] = daily_sales[\"sales_amount\"].shift(1)\n",
    "daily_sales[\"next_day_sales\"] = daily_sales[\"sales_amount\"].shift(-1)"
   ]
  },
  {
   "cell_type": "code",
   "execution_count": null,
   "id": "c2bfe7b5",
   "metadata": {},
   "outputs": [],
   "source": [
    "# Calculate day-over-day change\n",
    "daily_sales[\"day_over_day_change\"] = daily_sales[\"sales_amount\"].pct_change() - daily_sales[\"previous_day_sales\"]\n",
    "daily_sales[\"pct_change\"] = daily_sales[\"sales_amount\"].pct_change() * 100\n",
    "display(daily_sales.head())"
   ]
  },
  {
   "cell_type": "code",
   "execution_count": null,
   "id": "4ca7398c",
   "metadata": {},
   "outputs": [],
   "source": [
    "# Plot time series with rolling average\n",
    "fig = go.Figure()\n",
    "fig.add_trace(\n",
    "    go.Scatter(\n",
    "        x=daily_sales[\"date\"],\n",
    "        y=daily_sales[\"sales_amount\"],\n",
    "        mode=\"lines\",\n",
    "        name=\"Daily Sales\",\n",
    "    )\n",
    ")\n",
    "fig.add_trace(\n",
    "    go.Scatter(\n",
    "        x=daily_sales[\"date\"],\n",
    "        y=daily_sales[\"7d_moving_avg\"],\n",
    "        mode=\"lines\",\n",
    "        name=\"7-Day Moving Average\",\n",
    "    ),\n",
    "    line=dict(width=3),\n",
    ")\n",
    "fig.update_layout(\n",
    "    title=\"Daily Sales with 7-Day Moving Average\",\n",
    "    xaxis_title=\"Date\",\n",
    "    yaxis_title=\"Sales Amount ($)\",\n",
    ")\n",
    "fig.show()"
   ]
  },
  {
   "cell_type": "markdown",
   "id": "9efabf43",
   "metadata": {},
   "source": [
    "### 5. Ranking and Partitioning"
   ]
  },
  {
   "cell_type": "code",
   "execution_count": null,
   "id": "9b838153",
   "metadata": {},
   "outputs": [],
   "source": [
    "# Rank customers by total spending\n",
    "customer_spending: pd.DataFrame = df_sales_pd.groupby(\"customer_id\")[\"sales_amount\"].sum().reset_index()\n",
    "customer_spending[\"rank\"] = customer_spending[\"sales_amount\"].rank(method=\"dense\", ascending=False)\n",
    "customer_spending = customer_spending.sort_values(\"rank\")"
   ]
  },
  {
   "cell_type": "code",
   "execution_count": null,
   "id": "e5f09ff4",
   "metadata": {},
   "outputs": [],
   "source": [
    "# Add customer details\n",
    "top_customers: pd.DataFrame = pd.merge(\n",
    "    customer_spending,\n",
    "    df_customer_pd[[\"customer_id\", \"customer_name\", \"segment\", \"city\"]],\n",
    "    on=\"customer_id\",\n",
    "    how=\"left\",\n",
    ")\n",
    "display(top_customers.head(10))"
   ]
  },
  {
   "cell_type": "code",
   "execution_count": null,
   "id": "1d2a11ac",
   "metadata": {},
   "outputs": [],
   "source": [
    "# Rank products by quantity sold\n",
    "product_popularity: pd.DataFrame = df_sales_pd.groupby(\"product_id\")[\"quantity\"].sum().reset_index()\n",
    "product_popularity[\"rank\"] = product_quantity[\"quantity\"].rank(method=\"dense\", ascending=False)\n",
    "product_popularity = product_quantity.sort_values(\"rank\")"
   ]
  },
  {
   "cell_type": "code",
   "execution_count": null,
   "id": "7abeecb5",
   "metadata": {},
   "outputs": [],
   "source": [
    "# Add product details\n",
    "top_products: pd.DataFrame = pd.merge(\n",
    "    product_popularity,\n",
    "    df_product_pd[[\"product_id\", \"product_name\", \"category\"]],\n",
    "    on=\"product_id\",\n",
    "    how=\"left\",\n",
    ")\n",
    "display(top_products.head(10))"
   ]
  },
  {
   "cell_type": "markdown",
   "id": "6146b733",
   "metadata": {},
   "source": [
    "## SQL"
   ]
  },
  {
   "cell_type": "markdown",
   "id": "9511db27",
   "metadata": {},
   "source": [
    "### Create"
   ]
  },
  {
   "cell_type": "code",
   "execution_count": null,
   "id": "9e4665a9",
   "metadata": {},
   "outputs": [],
   "source": [
    "# Creates SQLite database and tables\n",
    "conn: sqlite.Connection = sqlite3.connect(\":memory:\")\n",
    "\n",
    "df_sales_pd.to_sql(\"sales\", conn, index=False, if_exists=\"replace\")\n",
    "df_product_pd.to_sql(\"product\", conn, index=False, if_exists=\"replace\")\n",
    "df_customer_pd.to_sql(\"customer\", conn, index=False, if_exists=\"replace\")"
   ]
  },
  {
   "cell_type": "code",
   "execution_count": null,
   "id": "14612a89",
   "metadata": {},
   "outputs": [],
   "source": [
    "# Verify SQL Connection\n",
    "print(\"SQL Data:\")\n",
    "display(pd.read_sql(\"SELECT * FROM sales LIMIT 5\", conn))\n",
    "display(pd.read_sql(\"SELECT * FROM product LIMIT 5\", conn))\n",
    "display(pd.read_sql(\"SELECT * FROM customer LIMIT 5\", conn))"
   ]
  },
  {
   "cell_type": "markdown",
   "id": "2652bd6e",
   "metadata": {},
   "source": [
    "### 1. Filtering and Selecting"
   ]
  },
  {
   "cell_type": "code",
   "execution_count": null,
   "id": "1fb8c371",
   "metadata": {},
   "outputs": [],
   "source": [
    "# Filter sales for a specific category\n",
    "electronics_sales_sql = \"\"\"\n",
    "    SELECT *\n",
    "    FROM sales\n",
    "    WHERE category = 'Electronics'\n",
    "\"\"\"\n",
    "electronics_sales: pd.DataFrame = pd.read_sql(electronics_sales_sql, conn)\n",
    "print(f\"Number of Electronics Sales: {len(electronics_sales)}\")\n",
    "display(pd.read_sql(electronics_sales_sql + \"LIMIT 5\", conn))"
   ]
  },
  {
   "cell_type": "code",
   "execution_count": null,
   "id": "96435d73",
   "metadata": {},
   "outputs": [],
   "source": [
    "# Filter for high value transactions (over $500)\n",
    "high_value_sales_sql = \"\"\"\n",
    "    SELECT *\n",
    "    FROM sales\n",
    "    WHERE sales_amount > 500\n",
    "\"\"\"\n",
    "high_value_sales: pd.DataFrame = pd.read_sql(high_value_sales_sql, conn)\n",
    "print(f\"Number of high-value Sales: {len(high_value_sales)}\")\n",
    "display(pd.read_sql(high_value_sales_sql + \"LIMIT 5\", conn))"
   ]
  },
  {
   "cell_type": "code",
   "execution_count": null,
   "id": "1aca4944",
   "metadata": {},
   "outputs": [],
   "source": [
    "# Select specific columns\n",
    "sales_summary_sql = \"\"\"\n",
    "    SELECT date, category, sales_amount\n",
    "    FROM sales\n",
    "\"\"\"\n",
    "sales_summary: pd.DataFrame = pd.read_sql(sales_summary_sql, conn)\n",
    "print(\"Selected columns in Sales:\")\n",
    "display(pd.read_sql(sales_summary_sql + \"LIMIT 5\", conn))"
   ]
  },
  {
   "cell_type": "markdown",
   "id": "7e35b9aa",
   "metadata": {},
   "source": [
    "### 2. Grouping and Aggregation"
   ]
  },
  {
   "cell_type": "code",
   "execution_count": null,
   "id": "654b2718",
   "metadata": {},
   "outputs": [],
   "source": [
    "# Basic aggregation\n",
    "sales_stats_sql = \"\"\"\n",
    "    SELECT\n",
    "        SUM(sales_amount) AS sales_sum,\n",
    "        AVG(sales_amount) AS sales_mean,\n",
    "        MIN(sales_amount) AS sales_min,\n",
    "        MAX(sales_amount) AS sales_max,\n",
    "        COUNT(*) AS sales_count,\n",
    "        SUM(quantity) AS quantity_sum,\n",
    "        AVG(quantity) AS quantity_mean,\n",
    "        MIN(quantity) AS quantity_min,\n",
    "        MAX(quantity) AS quantity_max\n",
    "    FROM sales\n",
    "\"\"\"\n",
    "print(f\"Sales Statistics: {len(pd.read_sql(sales_stats_sql, conn))}\")\n",
    "display(pd.read_sql(sales_stats_sql, conn))"
   ]
  },
  {
   "cell_type": "code",
   "execution_count": null,
   "id": "7bafd789",
   "metadata": {},
   "outputs": [],
   "source": [
    "# Group by category and aggregate\n",
    "category_sales_sql = \"\"\"\n",
    "    SELECT\n",
    "        category,\n",
    "        SUM(sales_amount) AS total_sales,\n",
    "        AVG(sales_amount) AS average_sales,\n",
    "        COUNT(*) AS transaction_count,\n",
    "        SUM(quantity) AS total_quantity\n",
    "    FROM sales\n",
    "    GROUP BY category\n",
    "\"\"\"\n",
    "print(f\"Category Sales Summary: {len(pd.read_sql(category_sales_sql, conn))}\")\n",
    "display(pd.read_sql(category_sales_sql + \"LIMIT 5\", conn))"
   ]
  },
  {
   "cell_type": "code",
   "execution_count": null,
   "id": "452bb0a1",
   "metadata": {},
   "outputs": [],
   "source": [
    "# Plot the results\n",
    "fig: go.Figure = px.bar(\n",
    "    pd.read_sql(category_sales_sql, conn),\n",
    "    x=\"category\",\n",
    "    y=\"total_sales\",\n",
    "    title=\"Total Sales by Category\",\n",
    "    text=\"transaction_count\",\n",
    "    labels={\"total_sales\": \"Total Sales ($)\", \"category\": \"Product Category\"},\n",
    ")\n",
    "fig.show()"
   ]
  },
  {
   "cell_type": "markdown",
   "id": "7512e10c",
   "metadata": {},
   "source": [
    "### 3. Joining"
   ]
  },
  {
   "cell_type": "code",
   "execution_count": null,
   "id": "fcfc4d4c",
   "metadata": {},
   "outputs": [],
   "source": [
    "# Join sales with product data\n",
    "sales_with_product_sql = \"\"\"\n",
    "    SELECT s.*, p.product_name, p.price\n",
    "    FROM sales s\n",
    "    LEFT JOIN product p ON s.product_id = p.product_id\n",
    "\"\"\"\n",
    "print(f\"Sales with Product Data: {len(pd.read_sql(sales_with_product_sql, conn))}\")\n",
    "display(pd.read_sql(sales_with_product_sql + \"LIMIT 5\", conn))"
   ]
  },
  {
   "cell_type": "code",
   "execution_count": null,
   "id": "a2e1fdc2",
   "metadata": {},
   "outputs": [],
   "source": [
    "# Join with customer information to get a complete view\n",
    "complete_sales_sql = \"\"\"\n",
    "    SELECT\n",
    "        s.*,\n",
    "        p.product_name,\n",
    "        p.price,\n",
    "        c.customer_name,\n",
    "        c.city,\n",
    "        c.state\n",
    "    FROM sales s\n",
    "    LEFT JOIN product p ON s.product_id = p.product_id\n",
    "    LEFT JOIN customer c ON s.customer_id = c.customer_id\n",
    "\"\"\"\n",
    "print(f\"Complete Sales Data: {len(pd.read_sql(complete_sales_sql, conn))}\")\n",
    "display(pd.read_sql(complete_sales_sql + \"LIMIT 5\", conn))"
   ]
  },
  {
   "cell_type": "code",
   "execution_count": null,
   "id": "80c9658c",
   "metadata": {},
   "outputs": [],
   "source": [
    "# Calculate revenue and price difference\n",
    "revenue_comparison_sql = \"\"\"\n",
    "    SELECT\n",
    "        s.sales_amount,\n",
    "        p.price,\n",
    "        s.quantity,\n",
    "        (p.price * s.quantity) AS calculated_revenue,\n",
    "        (s.sales_amount - (p.price * s.quantity)) AS price_difference\n",
    "    FROM sales s\n",
    "    LEFT JOIN product p ON s.product_id = p.product_id\n",
    "\"\"\"\n",
    "print(f\"Revenue Comparison: {len(pd.read_sql(revenue_comparison_sql, conn))}\")\n",
    "display(pd.read_sql(revenue_comparison_sql + \"LIMIT 5\", conn))"
   ]
  },
  {
   "cell_type": "markdown",
   "id": "bd2b4f4a",
   "metadata": {},
   "source": [
    "### 4. Window Functions"
   ]
  },
  {
   "cell_type": "code",
   "execution_count": null,
   "id": "56c389e9",
   "metadata": {},
   "outputs": [],
   "source": [
    "# Time-based window function\n",
    "daily_sales_sql = \"\"\"\n",
    "    SELECT\n",
    "        date,\n",
    "        SUM(sales_amount) AS total_sales\n",
    "    FROM sales\n",
    "    GROUP BY date\n",
    "    ORDER BY date\n",
    "\"\"\"\n",
    "print(f\"Daily Sales Data: {len(pd.read_sql(daily_sales_sql, conn))}\")\n",
    "daily_sales: pd.DataFrame = pd.read_sql(daily_sales_sql + \"LIMIT 5\", conn)"
   ]
  },
  {
   "cell_type": "code",
   "execution_count": null,
   "id": "a8c24ea5",
   "metadata": {},
   "outputs": [],
   "source": [
    "# Window functions for lead and lag\n",
    "window_sql = \"\"\"\n",
    "    SELECT\n",
    "        date AS sale_date,\n",
    "        SUM(sales_amount) AS sales_amount,\n",
    "        SUM(sales_amount) OVER (ORDER BY date ROWS BETWEEN 6 PRECEDING AND CURRENT ROW) AS rolling_7d_avg,\n",
    "        LAG(SUM(sales_amount)) OVER (ORDER BY date) AS previous_day_sales,\n",
    "        LEAD(SUM(sales_amount)) OVER (ORDER BY date) AS next_day_sales,\n",
    "        SUM(sales_amount) - LAG(SUM(sales_amount)) OVER (ORDER BY date) AS day_over_day_change,\n",
    "    FROM sales\n",
    "    GROUP BY date\n",
    "    ORDER BY date\n",
    "\"\"\"\n",
    "window_df: pd.DataFrame = pd.read_sql(window_sql, conn)\n",
    "print(f\"Window Functions: {len(window_df)}\")\n",
    "display(pd.read_sql(window_sql + \"LIMIT 5\", conn))"
   ]
  },
  {
   "cell_type": "code",
   "execution_count": null,
   "id": "861b404f",
   "metadata": {},
   "outputs": [],
   "source": [
    "# Plot time series with rolling average\n",
    "fig = go.Figure()\n",
    "fig.add_trace(\n",
    "    go.Scatter(\n",
    "        x=window_df[\"sale_date\"],\n",
    "        y=window_df[\"7d_moving_avg\"],\n",
    "        mode=\"lines\",\n",
    "        name=\"7-Day Moving Average\",\n",
    "        line=dict(width=3),\n",
    "    )\n",
    ")\n",
    "fig.update_layout(\n",
    "    title=\"Daily Sales with 7-Day Moving Average\",\n",
    "    xaxis_title=\"Date\",\n",
    "    yaxis_title=\"Sales Amount ($)\",\n",
    ")\n",
    "fig.show()"
   ]
  },
  {
   "cell_type": "markdown",
   "id": "db9af4df",
   "metadata": {},
   "source": [
    "### 5. Ranking and Partitioning"
   ]
  },
  {
   "cell_type": "code",
   "execution_count": null,
   "id": "687ff124",
   "metadata": {},
   "outputs": [],
   "source": [
    "# Rank customers by total spending\n",
    "customer_spending_sql = \"\"\"\n",
    "    SELECT\n",
    "        c.customer_id,\n",
    "        c.customer_name,\n",
    "        c.segment,\n",
    "        c.city,\n",
    "        SUM(s.sales_amount) AS total_spending,\n",
    "        RANK() OVER (ORDER BY SUM(s.sales_amount) DESC) AS rank\n",
    "    FROM sales s\n",
    "    JOIN customer c ON s.customer_id = c.customer_id\n",
    "    GROUP BY c.customer_id, c.customer_name, c.segment, c.city\n",
    "    ORDER BY rank\n",
    "\"\"\"\n",
    "print(f\"Customer Spending: {len(pd.read_sql(customer_spending_sql, conn))}\")\n",
    "display(pd.read_sql(customer_spending_sql + \"LIMIT 10\", conn))"
   ]
  },
  {
   "cell_type": "code",
   "execution_count": null,
   "id": "817cd6fe",
   "metadata": {},
   "outputs": [],
   "source": [
    "# Rank products by quantity sold\n",
    "product_popularity_sql = \"\"\"\n",
    "    SELECT\n",
    "        p.product_id,\n",
    "        p.product_name,\n",
    "        p.category,\n",
    "        SUM(s.quantity) AS total_quantity,\n",
    "        RANK() OVER (ORDER BY SUM(s.quantity) DESC) AS rank\n",
    "    FROM sales s\n",
    "    JOIN product p ON s.product_id = p.product_id\n",
    "    GROUP BY p.product_id, p.product_name, p.category\n",
    "    ORDER BY rank\n",
    "\"\"\"\n",
    "print(f\"Product Popularity: {len(pd.read_sql(product_popularity_sql, conn))}\")\n",
    "display(pd.read_sql(product_popularity_sql + \"LIMIT 10\", conn))"
   ]
  },
  {
   "cell_type": "markdown",
   "id": "ed1c158c",
   "metadata": {},
   "source": [
    "## PySpark\n",
    "\n",
    "```py\n",
    "\n",
    "```"
   ]
  },
  {
   "cell_type": "markdown",
   "id": "e6449a90",
   "metadata": {},
   "source": [
    "### Create\n",
    "\n",
    "```py\n",
    "\n",
    "```"
   ]
  },
  {
   "cell_type": "markdown",
   "id": "72b12d08",
   "metadata": {},
   "source": [
    "### 1. Filtering and Selecting\n",
    "\n",
    "```py\n",
    "\n",
    "```"
   ]
  },
  {
   "cell_type": "markdown",
   "id": "923c28b3",
   "metadata": {},
   "source": [
    "### 2. Grouping and Aggregation\n",
    "\n",
    "```py\n",
    "\n",
    "```"
   ]
  },
  {
   "cell_type": "markdown",
   "id": "fdea88b5",
   "metadata": {},
   "source": [
    "### 3. Joining\n",
    "\n",
    "```py\n",
    "\n",
    "```"
   ]
  },
  {
   "cell_type": "markdown",
   "id": "1f99a2ad",
   "metadata": {},
   "source": [
    "### 4. Window Functions\n",
    "\n",
    "```py\n",
    "\n",
    "```"
   ]
  },
  {
   "cell_type": "markdown",
   "id": "42153efd",
   "metadata": {},
   "source": [
    "### 5. Ranking and Partitioning\n",
    "\n",
    "```py\n",
    "\n",
    "```"
   ]
  },
  {
   "cell_type": "markdown",
   "id": "d1a66d1a",
   "metadata": {},
   "source": [
    "### 6. Sorting\n",
    "\n",
    "```py\n",
    "\n",
    "```"
   ]
  },
  {
   "cell_type": "markdown",
   "id": "1b964254",
   "metadata": {},
   "source": [
    "## Polars\n",
    "\n",
    "```py\n",
    "\n",
    "```"
   ]
  },
  {
   "cell_type": "markdown",
   "id": "f919d7a5",
   "metadata": {},
   "source": [
    "### Create\n",
    "\n",
    "```py\n",
    "\n",
    "```"
   ]
  },
  {
   "cell_type": "markdown",
   "id": "55064d8b",
   "metadata": {},
   "source": [
    "### 1. Filtering and Selecting\n",
    "\n",
    "```py\n",
    "\n",
    "```"
   ]
  },
  {
   "cell_type": "markdown",
   "id": "04a7c2a0",
   "metadata": {},
   "source": [
    "### 2. Grouping and Aggregation\n",
    "\n",
    "```py\n",
    "\n",
    "```"
   ]
  },
  {
   "cell_type": "markdown",
   "id": "a40327b8",
   "metadata": {},
   "source": [
    "### 3. Joining\n",
    "\n",
    "```py\n",
    "\n",
    "```"
   ]
  },
  {
   "cell_type": "markdown",
   "id": "9850ee88",
   "metadata": {},
   "source": [
    "### 4. Window Functions\n",
    "\n",
    "```py\n",
    "\n",
    "```"
   ]
  },
  {
   "cell_type": "markdown",
   "id": "387fd7d9",
   "metadata": {},
   "source": [
    "### 5. Ranking and Partitioning\n",
    "\n",
    "```py\n",
    "\n",
    "```"
   ]
  },
  {
   "cell_type": "markdown",
   "id": "27c991d5",
   "metadata": {},
   "source": [
    "### 6. Sorting\n",
    "\n",
    "```py\n",
    "\n",
    "```\n",
    "\n",
    "## Conclusion"
   ]
  }
 ],
 "metadata": {
  "jupytext": {
   "cell_metadata_filter": "-all",
   "main_language": "python",
   "notebook_metadata_filter": "-all"
  },
  "kernelspec": {
   "display_name": ".venv",
   "language": "python",
   "name": "python3"
  },
  "language_info": {
   "codemirror_mode": {
    "name": "ipython",
    "version": 3
   },
   "file_extension": ".py",
   "mimetype": "text/x-python",
   "name": "python",
   "nbconvert_exporter": "python",
   "pygments_lexer": "ipython3",
   "version": "3.13.2"
  }
 },
 "nbformat": 4,
 "nbformat_minor": 5
}
